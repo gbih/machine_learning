{
 "cells": [
  {
   "cell_type": "markdown",
   "metadata": {
    "id": "g_zqUnIDIWeU"
   },
   "source": [
    "<a id='top'></a>\n",
    "<a name=\"top\"></a><!--Need for Colab-->\n",
    "# Chapter 16 – Natural Language Processing with RNNs and Attention"
   ]
  },
  {
   "cell_type": "markdown",
   "metadata": {
    "id": "ZnxRAanxIWeY"
   },
   "source": [
    "<table align=\"left\">\n",
    "  <td>\n",
    "    <a href=\"https://colab.research.google.com/github/gbih/ml-notes/blob/main/book_hands_on/16_nlp_with_rnns_and_attention.ipynb\" target=\"_parent\"><img src=\"https://colab.research.google.com/assets/colab-badge.svg\" alt=\"Open In Colab\"/></a>\n",
    "  </td>\n",
    "</table>"
   ]
  },
  {
   "cell_type": "markdown",
   "metadata": {
    "id": "AsXt32s-IWea"
   },
   "source": [
    "1. [Setup](#setup)\n",
    "2. [Generating Shakespearean Text Using a Character RNN](#2.0)\n",
    "    * 2.1 [Char-RNN: Splitting a sequence into batches of shuffled windows](#2.1)\n",
    "    * 2.1 [Creating the Training Dataset](#2.1)\n",
    "    * 2.2 [Loading the Data and Preparing the Dataset](#2.2)\n",
    "    * 2.3 [How to Split a Sequential Dataset](#2.3)\n",
    "    * 2.4 [Chopping the Sequential Dataset into Multiple Windows](#2.4)\n",
    "    * 2.5 [Building and Training the Char-RNN Model](#2.5)\n",
    "    * 2.6 [Using the Char-RNN Model](#2.6)\n",
    "    * 2.7 [Generating Fake Shakespearean Text](#2.7)\n",
    "    * 2.8 [Stateful RNN](#2.8)\n",
    "3. [Sentiment Analysis](#3.0)\n",
    "    * 3.1 [Masking](#3.1)\n",
    "    * 3.2 [Reusing Pretrained Embeddings](#3.2)\n",
    "4. [An Encoder-Decoder Network for Neural Machine Translation](#4.0)\n",
    "    * 4.1 [Bidirectional RNNs](#4.1)\n",
    "    * 4.2 [Beam Search](#4.2)\n",
    "5. [Attention Mechanisms](#5.0)\n",
    "    * 5.1 [Visual Attention](#5.1)\n",
    "    * 5.2 [Attention is All You Need: The TransformerArchitecture](#5.2)\n",
    "        - 5.2.1 [Positional Embeddings](#5.2.1)\n",
    "        - 5.2.2 [Multi-Head Attention](#5.2.2)\n",
    "        - 5.2.3 [Multi-Head Attention Layer](#5.2.3)\n",
    "        - 5.2.4 [Keras MultiHeadAttention Layer](#5.2.4)\n",
    "6. [Recent Innovations in Language Models](#6.0)\n"
   ]
  },
  {
   "cell_type": "markdown",
   "metadata": {
    "id": "U8kopqxMIWeb"
   },
   "source": [
    "---\n",
    "<a id='setup'></a>\n",
    "<a name=\"setup\"></a>\n",
    "# 1. Setup\n",
    "<a href=\"#top\">[back to top]</a>"
   ]
  },
  {
   "cell_type": "code",
   "execution_count": 1,
   "metadata": {
    "colab": {
     "base_uri": "https://localhost:8080/"
    },
    "id": "mAblD9e3HlDV",
    "outputId": "b18bdd1e-7748-4f43-d4ae-50c41b373667"
   },
   "outputs": [
    {
     "name": "stdout",
     "output_type": "stream",
     "text": [
      "Error: No module named 'tensorflow_addons'\n",
      "Installing tensorflow_addons now..\n",
      "\u001b[K     |████████████████████████████████| 1.1 MB 29.6 MB/s \n",
      "\u001b[?25h"
     ]
    }
   ],
   "source": [
    "try:\n",
    "    import tensorflow_addons as tfa\n",
    "except Exception as e:\n",
    "    print(f\"Error: {e}\")\n",
    "    print(\"Installing tensorflow_addons now..\")\n",
    "    !pip install tensorflow_addons -q\n",
    "    import tensorflow_addons as tfa"
   ]
  },
  {
   "cell_type": "code",
   "execution_count": 2,
   "metadata": {
    "colab": {
     "base_uri": "https://localhost:8080/"
    },
    "id": "R-UARxpqIWee",
    "outputId": "9647e32e-96d4-4750-bb9d-1845d43c7093"
   },
   "outputs": [
    {
     "name": "stdout",
     "output_type": "stream",
     "text": [
      "Loaded libraries.\n"
     ]
    }
   ],
   "source": [
    "import sklearn\n",
    "import tensorflow as tf\n",
    "from tensorflow import keras\n",
    "import numpy as np\n",
    "import os\n",
    "import pprint\n",
    "import matplotlib as mpl\n",
    "import matplotlib.pyplot as plt\n",
    "\n",
    "# global seed\n",
    "tf.random.set_seed(42)\n",
    "pp = pprint.PrettyPrinter(indent=4)\n",
    "\n",
    "print(\"Loaded libraries.\")\n",
    "\n",
    "def HR():\n",
    "    print(\"-\"*40)"
   ]
  },
  {
   "cell_type": "markdown",
   "metadata": {
    "id": "iTjKuawdIWef"
   },
   "source": [
    "---\n",
    "<a id='2.0'></a>\n",
    "<a name=\"2.0\"></a>\n",
    "# 2. Generating Shakespearean Text Using a Character RNN\n",
    "<a href=\"#top\">[back to top]</a>"
   ]
  },
  {
   "cell_type": "markdown",
   "metadata": {
    "id": "eCF-0ZYbIWeg"
   },
   "source": [
    "<a id='2.1'></a>\n",
    "<a name=\"2.1\"></a>\n",
    "## 2.1 Char-RNN: Splitting a sequence into batches of shuffled windows\n",
    "<a href=\"#top\">[back to top]</a>"
   ]
  },
  {
   "cell_type": "markdown",
   "metadata": {
    "id": "wTtbdDhYIWeh"
   },
   "source": [
    "For example, let's split the sequence 0 to 14 into windows of length 5, each shifted by 2 (e.g.,`[0, 1, 2, 3, 4]`, `[2, 3, 4, 5, 6]`, etc.), then shuffle them, and split them into inputs (the first 4 steps) and targets (the last 4 steps) (e.g., `[2, 3, 4, 5, 6]` would be split into `[[2, 3, 4, 5], [3, 4, 5, 6]]`), then create batches of 3 such input/target pairs:"
   ]
  },
  {
   "cell_type": "code",
   "execution_count": 3,
   "metadata": {
    "colab": {
     "base_uri": "https://localhost:8080/"
    },
    "id": "6BL5pbn_IWei",
    "outputId": "f9a594eb-43bd-43c6-ee67-14d8cb037895",
    "scrolled": true
   },
   "outputs": [
    {
     "name": "stdout",
     "output_type": "stream",
     "text": [
      "____________________ Batch 0 \n",
      "X_batch\n",
      "[[6 7 8 9]\n",
      " [2 3 4 5]\n",
      " [4 5 6 7]]\n",
      "===== \n",
      "Y_batch\n",
      "[[ 7  8  9 10]\n",
      " [ 3  4  5  6]\n",
      " [ 5  6  7  8]]\n",
      "____________________ Batch 1 \n",
      "X_batch\n",
      "[[ 0  1  2  3]\n",
      " [ 8  9 10 11]\n",
      " [10 11 12 13]]\n",
      "===== \n",
      "Y_batch\n",
      "[[ 1  2  3  4]\n",
      " [ 9 10 11 12]\n",
      " [11 12 13 14]]\n"
     ]
    }
   ],
   "source": [
    "def listing2_1():\n",
    "    np.random.seed(42)\n",
    "    tf.random.set_seed(42)\n",
    "\n",
    "    n_steps = 5\n",
    "    dataset = tf.data.Dataset.from_tensor_slices(tf.range(15))\n",
    "    dataset = dataset.window(n_steps, shift=2, drop_remainder=True)\n",
    "    dataset = dataset.flat_map(lambda window: window.batch(n_steps))\n",
    "    dataset = dataset.shuffle(10).map(lambda window: (window[:-1], window[1:]))\n",
    "    dataset = dataset.batch(3).prefetch(1)\n",
    "\n",
    "    for index, (X_batch, Y_batch) in enumerate(dataset):\n",
    "        print(\"_\" * 20, \"Batch\", index, \"\\nX_batch\")\n",
    "        print(X_batch.numpy())\n",
    "        print(\"=\" * 5, \"\\nY_batch\")\n",
    "        print(Y_batch.numpy())\n",
    "        \n",
    "listing2_1()"
   ]
  },
  {
   "cell_type": "markdown",
   "metadata": {
    "id": "us90IQyfIWej"
   },
   "source": [
    "<a id='2.2'></a>\n",
    "<a name=\"2.2\"></a>\n",
    "## 2.2 Loading the Data and Preparing the Dataset\n",
    "<a href=\"#top\">[back to top]</a>"
   ]
  },
  {
   "cell_type": "code",
   "execution_count": 4,
   "metadata": {
    "id": "Q4zzCGXmX5aU"
   },
   "outputs": [],
   "source": [
    "from dataclasses import dataclass, field\n",
    "import numpy as np\n",
    "\n",
    "@dataclass(frozen=False)\n",
    "class DataShakespeare:\n",
    "    encoded: np.ndarray = np.array([])\n",
    "    dataset_size: int = 0\n",
    "    dataset: tf.Variable = tf.Variable(0)\n",
    "    max_id: int = 0\n",
    "    tokenizer: tf.keras.layers.TextVectorization = 0\n",
    "    model: tf.Variable = tf.Variable(0)\n",
    "    train_size: int = 0\n",
    "    window_length: int = 0\n",
    "    n_steps: int = 0"
   ]
  },
  {
   "cell_type": "code",
   "execution_count": 5,
   "metadata": {
    "colab": {
     "base_uri": "https://localhost:8080/"
    },
    "id": "vFpaQmuYIWek",
    "outputId": "2542bc74-ede0-42fa-b392-0a77fed6db95"
   },
   "outputs": [
    {
     "name": "stdout",
     "output_type": "stream",
     "text": [
      "Downloading data from https://raw.githubusercontent.com/karpathy/char-rnn/master/data/tinyshakespeare/input.txt\n",
      "1122304/1115394 [==============================] - 0s 0us/step\n",
      "1130496/1115394 [==============================] - 0s 0us/step\n",
      "filepath: chp16_assets/datasets/shakespeare.txt\n",
      "----------------------------------------\n",
      "First Citizen:\n",
      "Before we proceed any further, hear me speak.\n",
      "\n",
      "All:\n",
      "Speak, speak.\n",
      "\n",
      "First Citizen:\n",
      "You are all resolved rather to die than to famish?\n",
      "\n",
      "----------------------------------------\n",
      "\n",
      " !$&',-.3:;?abcdefghijklmnopqrstuvwxyz\n",
      "----------------------------------------\n",
      "tokenizer: <class 'keras_preprocessing.text.Tokenizer'>\n",
      "----------------------------------------\n",
      "----------------------------------------\n",
      "[[20, 6, 9, 8, 3]]\n",
      "----------------------------------------\n",
      "['f i r s t']\n",
      "----------------------------------------\n",
      "max_id: 39\n",
      "dataset_size: 1115394\n",
      "<keras_preprocessing.text.Tokenizer object at 0x7fdc80722a90>\n"
     ]
    }
   ],
   "source": [
    "def listing2_2():\n",
    "    \n",
    "    dir_rawdata = 'chp16_assets'\n",
    "    tf.io.gfile.makedirs(dir_rawdata)\n",
    "\n",
    "    shakespeare_url = \"https://raw.githubusercontent.com/karpathy/char-rnn/master/data/tinyshakespeare/input.txt\"\n",
    "    filepath = keras.utils.get_file(\n",
    "        \"shakespeare.txt\", \n",
    "        shakespeare_url,\n",
    "        cache_dir=dir_rawdata\n",
    "    )\n",
    "    \n",
    "    with open(filepath) as f:\n",
    "        shakespeare_text = f.read()\n",
    "        \n",
    "    print(f\"filepath: {filepath}\")\n",
    "    HR()\n",
    "    print(shakespeare_text[:148])\n",
    "    HR()\n",
    "    \n",
    "    print(\"\".join(sorted(set(shakespeare_text.lower()))))\n",
    "    HR()\n",
    "    \n",
    "    # Text tokenization utility class.\n",
    "    # https://www.tensorflow.org/api_docs/python/tf/keras/preprocessing/text/Tokenizer\n",
    "    tokenizer = keras.preprocessing.text.Tokenizer(char_level=True)\n",
    "    \n",
    "    # Updates internal vocabulary based on a list of texts.\n",
    "    # Required before using texts_to_sequences or texts_to_matrix.\n",
    "    tokenizer.fit_on_texts(shakespeare_text)\n",
    "    print(f\"tokenizer: {type(tokenizer)}\")\n",
    "    HR()\n",
    "\n",
    "    # print(\"DIR OF TOKENIZER\")\n",
    "    # print(dir(tokenizer))\n",
    "    # 'char_level', 'document_count', 'filters', 'fit_on_sequences', 'fit_on_texts', 'get_config', \n",
    "    # 'index_docs', 'index_word', 'lower', 'num_words', 'oov_token', 'sequences_to_matrix', \n",
    "    # sequences_to_texts', 'sequences_to_texts_generator', 'split', 'texts_to_matrix', 'texts_to_sequences', \n",
    "    # 'texts_to_sequences_generator', 'to_json', 'word_counts', 'word_docs', 'word_index']\n",
    "    HR()\n",
    "\n",
    "    # Transforms each text in texts to a sequence of integers.\n",
    "    print(tokenizer.texts_to_sequences([\"First\"]))\n",
    "    HR()\n",
    "    \n",
    "    # Transforms each sequence into a list of text.\n",
    "    print(tokenizer.sequences_to_texts([[20, 6, 9, 8, 3]]))\n",
    "    HR()\n",
    "    \n",
    "    max_id = len(tokenizer.word_index) # number of distinct characters\n",
    "    print(f\"max_id: {max_id}\")\n",
    "    \n",
    "    dataset_size = tokenizer.document_count # total number of characters\n",
    "    print(f\"dataset_size: {dataset_size}\")\n",
    "\n",
    "    [encoded] = np.array(tokenizer.texts_to_sequences([shakespeare_text])) - 1\n",
    "\n",
    "    return DataShakespeare(\n",
    "        encoded=encoded,\n",
    "        dataset_size=dataset_size,\n",
    "        max_id=max_id,\n",
    "        tokenizer=tokenizer,\n",
    "    )\n",
    "    \n",
    "data_sh = listing2_2()\n",
    "\n",
    "print(data_sh.tokenizer)"
   ]
  },
  {
   "cell_type": "markdown",
   "metadata": {
    "id": "C5lDDw-3IWel"
   },
   "source": [
    "<a id='2.3'></a>\n",
    "<a name=\"2.3\"></a>\n",
    "## 2.3 How to Split a Sequential Dataset\n",
    "<a href=\"#top\">[back to top]</a>"
   ]
  },
  {
   "cell_type": "code",
   "execution_count": 6,
   "metadata": {
    "colab": {
     "base_uri": "https://localhost:8080/"
    },
    "id": "d2VR3IJwIWem",
    "outputId": "126d1119-43c7-438d-f713-2446ceef9bdb"
   },
   "outputs": [
    {
     "name": "stdout",
     "output_type": "stream",
     "text": [
      "<class 'int'>\n",
      "<TensorSliceDataset element_spec=TensorSpec(shape=(), dtype=tf.int64, name=None)>\n",
      "1003854\n"
     ]
    }
   ],
   "source": [
    "def listing2_3(data):\n",
    "    train_size = data.dataset_size * 90 // 100\n",
    "    print(type(train_size))\n",
    "    dataset = tf.data.Dataset.from_tensor_slices(data.encoded[:train_size])    \n",
    "    return dataset, train_size\n",
    "\n",
    "data_sh.dataset, data_sh.train_size = listing2_3(data_sh)\n",
    "\n",
    "print(data_sh.dataset)\n",
    "print(data_sh.train_size)"
   ]
  },
  {
   "cell_type": "markdown",
   "metadata": {
    "id": "80z4hCAtIWem"
   },
   "source": [
    "<a id='2.4'></a>\n",
    "<a name=\"2.4\"></a>\n",
    "## 2.4 Chopping the Sequential Dataset into Multiple Windows\n",
    "<a href=\"#top\">[back to top]</a>"
   ]
  },
  {
   "cell_type": "code",
   "execution_count": 7,
   "metadata": {
    "colab": {
     "base_uri": "https://localhost:8080/"
    },
    "id": "pxj518nrIWem",
    "outputId": "7242c986-7247-4000-ef87-c837111c9814"
   },
   "outputs": [
    {
     "name": "stdout",
     "output_type": "stream",
     "text": [
      "window_length: 101\n",
      "(32, 100, 39) (32, 100)\n"
     ]
    }
   ],
   "source": [
    "def listing2_4(data):\n",
    "    \n",
    "    n_steps = 100\n",
    "    window_length = n_steps + 1 # target = input shifted 1 character ahead\n",
    "    print(f\"window_length: {window_length}\")\n",
    "    \n",
    "    dataset = data.dataset.window(window_length, shift=1, drop_remainder=True)\n",
    "\n",
    "    ###\n",
    "    dataset = dataset.flat_map(lambda window: window.batch(window_length))\n",
    "\n",
    "    ###\n",
    "    np.random.seed(42)\n",
    "    tf.random.set_seed(42)\n",
    "\n",
    "    ###\n",
    "    batch_size = 32\n",
    "    dataset = dataset.shuffle(10000).batch(batch_size)\n",
    "    dataset = dataset.map(lambda windows: (windows[:, :-1], windows[:, 1:]))\n",
    "\n",
    "    ###\n",
    "    dataset = dataset.map(\n",
    "        lambda X_batch, Y_batch: (tf.one_hot(X_batch, depth=data.max_id), Y_batch))\n",
    "\n",
    "    ###\n",
    "    dataset = dataset.prefetch(1)\n",
    "    \n",
    "    ###\n",
    "    \n",
    "    for X_batch, Y_batch in dataset.take(1):\n",
    "        print(X_batch.shape, Y_batch.shape)\n",
    "\n",
    "    return dataset, window_length, n_steps\n",
    "        \n",
    "data_sh.dataset, data_sh.window_length, data_sh.n_steps = listing2_4(data_sh)"
   ]
  },
  {
   "cell_type": "markdown",
   "metadata": {
    "id": "o4ay4ncyIWen"
   },
   "source": [
    "<a id='2.5'></a>\n",
    "<a name=\"2.5\"></a>\n",
    "## 2.5 Building and Training the Char-RNN Model\n",
    "<a href=\"#top\">[back to top]</a>"
   ]
  },
  {
   "cell_type": "markdown",
   "metadata": {
    "id": "BIvhiyitIWen"
   },
   "source": [
    "**Warning**: the following code may take up to 24 hours to run, depending on your hardware. If you use a GPU, it may take just 1 or 2 hours, or less.\n",
    "\n",
    "**Note**: the `GRU` class will only use the GPU (if you have one) when using the default values for the following arguments: `activation`, `recurrent_activation`, `recurrent_dropout`, `unroll`, `use_bias` and `reset_after`. This is why I commented out `recurrent_dropout=0.2` (compared to the book)."
   ]
  },
  {
   "cell_type": "code",
   "execution_count": 8,
   "metadata": {
    "colab": {
     "base_uri": "https://localhost:8080/"
    },
    "id": "V-xTdSGAIWeo",
    "outputId": "6f1237c7-9b53-4a1b-b319-d5b2f7ec191a"
   },
   "outputs": [
    {
     "name": "stdout",
     "output_type": "stream",
     "text": [
      "31368/31368 [==============================] - 439s 13ms/step - loss: 1.6214\n",
      "<keras.engine.sequential.Sequential object at 0x7fdc80719150>\n"
     ]
    }
   ],
   "source": [
    "def listing2_5(data):\n",
    "\n",
    "    model = keras.models.Sequential([\n",
    "        keras.layers.GRU(\n",
    "            128, \n",
    "            return_sequences=True, \n",
    "            input_shape=[None, data.max_id],\n",
    "            #dropout=0.2, recurrent_dropout=0.2),\n",
    "            dropout=0.2\n",
    "        ),\n",
    "        keras.layers.GRU(\n",
    "            128, \n",
    "            return_sequences=True,\n",
    "            #dropout=0.2, recurrent_dropout=0.2),\n",
    "            dropout=0.2\n",
    "        ),\n",
    "        keras.layers.TimeDistributed(\n",
    "            keras.layers.Dense(data.max_id, activation=\"softmax\")\n",
    "        )\n",
    "    ])\n",
    "\n",
    "    model.compile(\n",
    "        loss=\"sparse_categorical_crossentropy\", \n",
    "        optimizer=\"adam\"\n",
    "    )\n",
    "\n",
    "    history = model.fit(\n",
    "        data.dataset, \n",
    "        epochs=1 # 10\n",
    "    )\n",
    "    \n",
    "    print(model)\n",
    "    \n",
    "    return model\n",
    "\n",
    "data_sh.model = listing2_5(data_sh)"
   ]
  },
  {
   "cell_type": "code",
   "execution_count": 9,
   "metadata": {
    "colab": {
     "base_uri": "https://localhost:8080/"
    },
    "id": "WfiqqMX5yOAC",
    "outputId": "7d31269b-507c-45a6-d545-628ae328808e"
   },
   "outputs": [
    {
     "data": {
      "text/plain": [
       "keras.engine.sequential.Sequential"
      ]
     },
     "execution_count": 9,
     "metadata": {},
     "output_type": "execute_result"
    }
   ],
   "source": [
    "type(data_sh.model)"
   ]
  },
  {
   "cell_type": "code",
   "execution_count": 10,
   "metadata": {
    "id": "EJCctfh5zRGE"
   },
   "outputs": [],
   "source": [
    "tf.io.gfile.makedirs('./chp16_model')"
   ]
  },
  {
   "cell_type": "code",
   "execution_count": 11,
   "metadata": {
    "colab": {
     "base_uri": "https://localhost:8080/"
    },
    "id": "i8Ovvaiyz0gs",
    "outputId": "33b4c1ef-10ec-4db5-85f0-c7009a5e4d6e"
   },
   "outputs": [
    {
     "name": "stderr",
     "output_type": "stream",
     "text": [
      "WARNING:absl:Found untraced functions such as gru_cell_layer_call_fn, gru_cell_layer_call_and_return_conditional_losses, gru_cell_1_layer_call_fn, gru_cell_1_layer_call_and_return_conditional_losses while saving (showing 4 of 4). These functions will not be directly callable after loading.\n"
     ]
    },
    {
     "name": "stdout",
     "output_type": "stream",
     "text": [
      "INFO:tensorflow:Assets written to: ./chp16_model/char-rnn-model/assets\n"
     ]
    },
    {
     "name": "stderr",
     "output_type": "stream",
     "text": [
      "INFO:tensorflow:Assets written to: ./chp16_model/char-rnn-model/assets\n",
      "WARNING:absl:<keras.layers.recurrent.GRUCell object at 0x7fdc80745e10> has the same name 'GRUCell' as a built-in Keras object. Consider renaming <class 'keras.layers.recurrent.GRUCell'> to avoid naming conflicts when loading with `tf.keras.models.load_model`. If renaming is not possible, pass the object in the `custom_objects` parameter of the load function.\n",
      "WARNING:absl:<keras.layers.recurrent.GRUCell object at 0x7fdc806ff690> has the same name 'GRUCell' as a built-in Keras object. Consider renaming <class 'keras.layers.recurrent.GRUCell'> to avoid naming conflicts when loading with `tf.keras.models.load_model`. If renaming is not possible, pass the object in the `custom_objects` parameter of the load function.\n"
     ]
    }
   ],
   "source": [
    "data_sh.model.save('./chp16_model/char-rnn-model')"
   ]
  },
  {
   "cell_type": "code",
   "execution_count": 12,
   "metadata": {
    "colab": {
     "base_uri": "https://localhost:8080/",
     "height": 36
    },
    "id": "BeAcQQZA4QEG",
    "outputId": "3c5a1afa-7548-49a1-b04d-a25c22854455"
   },
   "outputs": [
    {
     "data": {
      "application/vnd.google.colaboratory.intrinsic+json": {
       "type": "string"
      },
      "text/plain": [
       "'/content/chp16_model_compressed.zip'"
      ]
     },
     "execution_count": 12,
     "metadata": {},
     "output_type": "execute_result"
    }
   ],
   "source": [
    "import shutil \n",
    "\n",
    "shutil.make_archive(\n",
    "    './chp16_model_compressed', \n",
    "    format='zip', \n",
    "    root_dir='chp16_model'\n",
    ")"
   ]
  },
  {
   "cell_type": "markdown",
   "metadata": {
    "id": "DH6-6u9pIWeo"
   },
   "source": [
    "<a id='2.6'></a>\n",
    "<a name=\"2.6\"></a>\n",
    "## 2.6 Using the Char-RNN Model\n",
    "<a href=\"#top\">[back to top]</a>"
   ]
  },
  {
   "cell_type": "code",
   "execution_count": 13,
   "metadata": {
    "id": "r0r6Qni6fWDi"
   },
   "outputs": [],
   "source": [
    "def preprocess(texts, data):\n",
    "    X = np.array(data.tokenizer.texts_to_sequences(texts)) - 1\n",
    "    return tf.one_hot(X, data.max_id)"
   ]
  },
  {
   "cell_type": "code",
   "execution_count": 14,
   "metadata": {
    "colab": {
     "base_uri": "https://localhost:8080/"
    },
    "id": "PbmAObCDIWeo",
    "outputId": "337549af-984f-480b-e774-7e08d9578970"
   },
   "outputs": [
    {
     "name": "stdout",
     "output_type": "stream",
     "text": [
      "Y_pred: [[ 1 13  0  2  0  1  0 15  3 13]]\n",
      "u\n"
     ]
    }
   ],
   "source": [
    "def listing2_6(data):\n",
    "    # Warning: the predict_classes() method is deprecated. \n",
    "    # Instead, we must use np.argmax(model(X_new), axis=-1).\n",
    "\n",
    "    X_new = preprocess([\"How are yo\"], data)\n",
    "    Y_pred = np.argmax(data.model(X_new), axis=-1)\n",
    "    print(f\"Y_pred: {Y_pred}\")\n",
    "    \n",
    "    result = data.tokenizer.sequences_to_texts(Y_pred + 1)[0][-1] # 1st sentence, last char\n",
    "    \n",
    "    print(result)\n",
    "    \n",
    "listing2_6(data_sh)"
   ]
  },
  {
   "cell_type": "markdown",
   "metadata": {
    "id": "0Ddc0ieUIWep"
   },
   "source": [
    "<a id='2.7'></a>\n",
    "<a name=\"2.7\"></a>\n",
    "## 2.7 Generating Fake Shakespearean Text\n",
    "<a href=\"#top\">[back to top]</a>"
   ]
  },
  {
   "cell_type": "code",
   "execution_count": 15,
   "metadata": {
    "id": "RSXJXqccerGA"
   },
   "outputs": [],
   "source": [
    "def next_char(text, temperature=1):\n",
    "    X_new = preprocess([text], data_sh)\n",
    "    y_proba = data_sh.model(X_new)[0, -1:, :]\n",
    "    rescaled_logits = tf.math.log(y_proba) / temperature\n",
    "    char_id = tf.random.categorical(rescaled_logits, num_samples=1) + 1\n",
    "    return data_sh.tokenizer.sequences_to_texts(char_id.numpy())[0]\n",
    "\n",
    "def complete_text(text, n_chars=50, temperature=1):\n",
    "    for _ in range(n_chars):\n",
    "        text += next_char(text, temperature)\n",
    "    return text"
   ]
  },
  {
   "cell_type": "code",
   "execution_count": 16,
   "metadata": {
    "colab": {
     "base_uri": "https://localhost:8080/"
    },
    "id": "b81wnslAIWep",
    "outputId": "83910ca5-6914-4103-b90f-41eef2acd430"
   },
   "outputs": [
    {
     "name": "stdout",
     "output_type": "stream",
     "text": [
      "the words and words and well\n",
      "and so well be to have\n",
      "ty more\n",
      "do iar enerobat what rast your honour, by p\n",
      "tendome\n",
      "than?wit? maze: yelr'vilg deain oul.-\n",
      "aneuq\n"
     ]
    }
   ],
   "source": [
    "def listing2_7(data):\n",
    "    \n",
    "    tf.random.set_seed(42)\n",
    "    tf.random.categorical([[np.log(0.5), np.log(0.4), np.log(0.1)]], num_samples=40).numpy()    \n",
    "    tf.random.set_seed(42)\n",
    "\n",
    "    next_char(\"How are yo\", temperature=1)\n",
    "    \n",
    "    print(complete_text(\"t\", temperature=0.2))\n",
    "    print(complete_text(\"t\", temperature=1))\n",
    "    print(complete_text(\"t\", temperature=2))\n",
    "    \n",
    "listing2_7(data_sh)"
   ]
  },
  {
   "cell_type": "markdown",
   "metadata": {
    "id": "scPXtLkEIWep"
   },
   "source": [
    "<a id='2.8'></a>\n",
    "<a name=\"2.8\"></a>\n",
    "## 2.8 Stateful RNN\n",
    "<a href=\"#top\">[back to top]</a>"
   ]
  },
  {
   "cell_type": "code",
   "execution_count": 17,
   "metadata": {
    "colab": {
     "base_uri": "https://localhost:8080/"
    },
    "id": "9XxCrRqbIWeq",
    "outputId": "89720019-1eb9-4155-e2c0-4ed0b3e5e127"
   },
   "outputs": [
    {
     "name": "stdout",
     "output_type": "stream",
     "text": [
      "Epoch 1/50\n",
      "313/313 [==============================] - 6s 14ms/step - loss: 2.6211\n",
      "Epoch 2/50\n",
      "313/313 [==============================] - 4s 13ms/step - loss: 2.2422\n",
      "Epoch 3/50\n",
      "313/313 [==============================] - 4s 13ms/step - loss: 2.1109\n",
      "Epoch 4/50\n",
      "313/313 [==============================] - 4s 13ms/step - loss: 2.0358\n",
      "Epoch 5/50\n",
      "313/313 [==============================] - 4s 13ms/step - loss: 1.9854\n",
      "Epoch 6/50\n",
      "313/313 [==============================] - 4s 14ms/step - loss: 1.9480\n",
      "Epoch 7/50\n",
      "313/313 [==============================] - 5s 16ms/step - loss: 1.9206\n",
      "Epoch 8/50\n",
      "313/313 [==============================] - 4s 13ms/step - loss: 1.8991\n",
      "Epoch 9/50\n",
      "313/313 [==============================] - 4s 13ms/step - loss: 1.8817\n",
      "Epoch 10/50\n",
      "313/313 [==============================] - 4s 13ms/step - loss: 1.8661\n",
      "Epoch 11/50\n",
      "313/313 [==============================] - 4s 13ms/step - loss: 1.8533\n",
      "Epoch 12/50\n",
      "313/313 [==============================] - 4s 13ms/step - loss: 1.8419\n",
      "Epoch 13/50\n",
      "313/313 [==============================] - 4s 13ms/step - loss: 1.8338\n",
      "Epoch 14/50\n",
      "313/313 [==============================] - 4s 13ms/step - loss: 1.8235\n",
      "Epoch 15/50\n",
      "313/313 [==============================] - 4s 13ms/step - loss: 1.8160\n",
      "Epoch 16/50\n",
      "313/313 [==============================] - 4s 13ms/step - loss: 1.8100\n",
      "Epoch 17/50\n",
      "313/313 [==============================] - 4s 13ms/step - loss: 1.8012\n",
      "Epoch 18/50\n",
      "313/313 [==============================] - 4s 13ms/step - loss: 1.7960\n",
      "Epoch 19/50\n",
      "313/313 [==============================] - 4s 13ms/step - loss: 1.7923\n",
      "Epoch 20/50\n",
      "313/313 [==============================] - 4s 13ms/step - loss: 1.7885\n",
      "Epoch 21/50\n",
      "313/313 [==============================] - 4s 13ms/step - loss: 1.7840\n",
      "Epoch 22/50\n",
      "313/313 [==============================] - 4s 13ms/step - loss: 1.7787\n",
      "Epoch 23/50\n",
      "313/313 [==============================] - 4s 13ms/step - loss: 1.7739\n",
      "Epoch 24/50\n",
      "313/313 [==============================] - 4s 13ms/step - loss: 1.7714\n",
      "Epoch 25/50\n",
      "313/313 [==============================] - 5s 16ms/step - loss: 1.7683\n",
      "Epoch 26/50\n",
      "313/313 [==============================] - 4s 14ms/step - loss: 1.7639\n",
      "Epoch 27/50\n",
      "313/313 [==============================] - 4s 13ms/step - loss: 1.7626\n",
      "Epoch 28/50\n",
      "313/313 [==============================] - 4s 13ms/step - loss: 1.7589\n",
      "Epoch 29/50\n",
      "313/313 [==============================] - 4s 13ms/step - loss: 1.7567\n",
      "Epoch 30/50\n",
      "313/313 [==============================] - 4s 13ms/step - loss: 1.7535\n",
      "Epoch 31/50\n",
      "313/313 [==============================] - 4s 13ms/step - loss: 1.7490\n",
      "Epoch 32/50\n",
      "313/313 [==============================] - 4s 13ms/step - loss: 1.7480\n",
      "Epoch 33/50\n",
      "313/313 [==============================] - 4s 13ms/step - loss: 1.7451\n",
      "Epoch 34/50\n",
      "313/313 [==============================] - 4s 14ms/step - loss: 1.7456\n",
      "Epoch 35/50\n",
      "313/313 [==============================] - 4s 14ms/step - loss: 1.7407\n",
      "Epoch 36/50\n",
      "313/313 [==============================] - 4s 13ms/step - loss: 1.7402\n",
      "Epoch 37/50\n",
      "313/313 [==============================] - 4s 13ms/step - loss: 1.7354\n",
      "Epoch 38/50\n",
      "313/313 [==============================] - 4s 13ms/step - loss: 1.7376\n",
      "Epoch 39/50\n",
      "313/313 [==============================] - 4s 14ms/step - loss: 1.7342\n",
      "Epoch 40/50\n",
      "313/313 [==============================] - 4s 13ms/step - loss: 1.7310\n",
      "Epoch 41/50\n",
      "313/313 [==============================] - 4s 14ms/step - loss: 1.7307\n",
      "Epoch 42/50\n",
      "313/313 [==============================] - 5s 14ms/step - loss: 1.7302\n",
      "Epoch 43/50\n",
      "313/313 [==============================] - 5s 16ms/step - loss: 1.7282\n",
      "Epoch 44/50\n",
      "313/313 [==============================] - 4s 14ms/step - loss: 1.7274\n",
      "Epoch 45/50\n",
      "313/313 [==============================] - 4s 14ms/step - loss: 1.7254\n",
      "Epoch 46/50\n",
      "313/313 [==============================] - 4s 14ms/step - loss: 1.7209\n",
      "Epoch 47/50\n",
      "313/313 [==============================] - 4s 14ms/step - loss: 1.7232\n",
      "Epoch 48/50\n",
      "313/313 [==============================] - 4s 14ms/step - loss: 1.7200\n",
      "Epoch 49/50\n",
      "313/313 [==============================] - 4s 14ms/step - loss: 1.7222\n",
      "Epoch 50/50\n",
      "313/313 [==============================] - 4s 14ms/step - loss: 1.7188\n"
     ]
    }
   ],
   "source": [
    "def listing2_8(data):\n",
    "\n",
    "    tf.random.set_seed(42)\n",
    "\n",
    "    dataset = tf.data.Dataset.from_tensor_slices(data.encoded[:data.train_size])\n",
    "    dataset = dataset.window(data.window_length, shift=data.n_steps, drop_remainder=True)\n",
    "    dataset = dataset.flat_map(lambda window: window.batch(data.window_length))\n",
    "    dataset = dataset.batch(1)\n",
    "    dataset = dataset.map(lambda windows: (windows[:, :-1], windows[:, 1:]))\n",
    "    dataset = dataset.map(\n",
    "        lambda X_batch, Y_batch: (tf.one_hot(X_batch, depth=data.max_id), Y_batch))\n",
    "    dataset = dataset.prefetch(1)\n",
    "\n",
    "    batch_size = 32\n",
    "    encoded_parts = np.array_split(data.encoded[:data.train_size], batch_size)\n",
    "    datasets = []\n",
    "    for encoded_part in encoded_parts:\n",
    "        dataset = tf.data.Dataset.from_tensor_slices(encoded_part)\n",
    "        dataset = dataset.window(data.window_length, shift=data.n_steps, drop_remainder=True)\n",
    "        dataset = dataset.flat_map(lambda window: window.batch(data.window_length))\n",
    "        datasets.append(dataset)\n",
    "    \n",
    "    dataset = tf.data.Dataset.zip(tuple(datasets)).map(lambda *windows: tf.stack(windows))\n",
    "    dataset = dataset.map(lambda windows: (windows[:, :-1], windows[:, 1:]))\n",
    "    dataset = dataset.map(\n",
    "        lambda X_batch, Y_batch: (tf.one_hot(X_batch, depth=data.max_id), Y_batch))\n",
    "    dataset = dataset.prefetch(1)\n",
    "\n",
    "    # Note: once again, I commented out recurrent_dropout=0.2 (compared to the book) so you can get GPU acceleration (if you have one).\n",
    "    model = keras.models.Sequential([\n",
    "        keras.layers.GRU(128, return_sequences=True, stateful=True,\n",
    "                        #dropout=0.2, recurrent_dropout=0.2,\n",
    "                        dropout=0.2,\n",
    "                        batch_input_shape=[batch_size, None, data.max_id]),\n",
    "        keras.layers.GRU(128, return_sequences=True, stateful=True,\n",
    "                        #dropout=0.2, recurrent_dropout=0.2),\n",
    "                        dropout=0.2),\n",
    "        keras.layers.TimeDistributed(keras.layers.Dense(data.max_id, activation=\"softmax\"))\n",
    "    ])\n",
    "\n",
    "    class ResetStatesCallback(keras.callbacks.Callback):\n",
    "        def on_epoch_begin(self, epoch, logs):\n",
    "            self.model.reset_states()\n",
    "\n",
    "\n",
    "    model.compile(loss=\"sparse_categorical_crossentropy\", optimizer=\"adam\")\n",
    "    history = model.fit(\n",
    "        dataset, \n",
    "        epochs=50,\n",
    "        callbacks=[ResetStatesCallback()]\n",
    "    )\n",
    "\n",
    "    return model\n",
    "\n",
    "stateful_rnn_model = listing2_8(data_sh)"
   ]
  },
  {
   "cell_type": "code",
   "execution_count": 18,
   "metadata": {
    "colab": {
     "base_uri": "https://localhost:8080/"
    },
    "id": "9p5SSWsWIWet",
    "outputId": "5b3660d7-00d2-47d7-ae4f-cba643b2593b"
   },
   "outputs": [
    {
     "name": "stdout",
     "output_type": "stream",
     "text": [
      "thing id,\n",
      "she muse as is these love in good on that\n"
     ]
    }
   ],
   "source": [
    "def listing2_8b(data, stateful_rnn_model):\n",
    "\n",
    "    # To use the model with different batch sizes, we need to create a stateless copy. \n",
    "    # We can get rid of dropout since it is only used during training:\n",
    "    stateless_model = keras.models.Sequential([\n",
    "        keras.layers.GRU(128, return_sequences=True, input_shape=[None, data.max_id]),\n",
    "        keras.layers.GRU(128, return_sequences=True),\n",
    "        keras.layers.TimeDistributed(keras.layers.Dense(\n",
    "            data.max_id,\n",
    "            activation=\"softmax\")\n",
    "        )\n",
    "    ])\n",
    "\n",
    "    # To set the weights, we first need to build the model (so the weights get created):\n",
    "    stateless_model.build(tf.TensorShape([None, None, data.max_id]))\n",
    "    stateless_model.set_weights(stateful_rnn_model.get_weights())\n",
    "    model = stateless_model\n",
    "\n",
    "    tf.random.set_seed(42)\n",
    "\n",
    "    print(complete_text(\"t\"))\n",
    "\n",
    "listing2_8b(data_sh, stateful_rnn_model)"
   ]
  },
  {
   "cell_type": "markdown",
   "metadata": {
    "id": "fZ-A2MutIWev"
   },
   "source": [
    "---\n",
    "<a id='3.0'></a>\n",
    "<a name=\"3.0\"></a>\n",
    "# 3. Sentiment Analysis\n",
    "<a href=\"#top\">[back to top]</a>"
   ]
  },
  {
   "cell_type": "code",
   "execution_count": 20,
   "metadata": {
    "colab": {
     "base_uri": "https://localhost:8080/",
     "height": 1000,
     "referenced_widgets": [
      "47be2e0b707a4be9b8cb132c9e879129",
      "988fe9b7099e4a5b9abd41eeb685210d",
      "b14588ef814f4953bbd5687fe60632df",
      "5b8f1783aadd4962a1fa6c2fb1fe7755",
      "706d9db53d524551819541ce63bff785",
      "e881ecfd13504dce995e45ccdbd697a6",
      "591a9a6f26614bb1bd63275188381877",
      "def35d75127b4e74a5a8641c83370e25",
      "92891b450fff4ce2859d78b7fdbe43bd",
      "956ef3035f8d4570a02e26db18af148a",
      "53ea43738994471fa1c931eb3555cb37",
      "c9b156de94924545869ce7d5019d42dc",
      "77e9b3fa337b47a99aa289acee19ce7f",
      "3bbf2de2109d4aefa937143115244fa8",
      "8081313330524a98976b20dad4f0cc46",
      "e9e5a7cec96d4b878f54d99003bccdca",
      "755638a63383499aae84f0fb9e51b502",
      "ef233921e4d343d2b4d089d94713c227",
      "3790eb67ec3f44e98b7d29f95141c605",
      "84d0efede37141baa6b0081e0b5d16ed",
      "942a132dbf404d4f93b1ecc8eaf41b37",
      "ce2729b4de1a427c87426c26af94fbdf",
      "4d34fee6e85b4970bc54d02622e753d5",
      "52241c48bd024b54ac476522e7d2e7c9",
      "1926643618404e259dedb2eba8c95d92",
      "ff6f5fb4d83c402fa270411dc87baa93",
      "6daefb43cfef471b89f44c2379d98c29",
      "bb0e779838a044e6a4cb9fe3d974f3d2",
      "f2241d18763e4127bb51942fbce4918e",
      "c1fb99e288924aa0bb596c824e01982d",
      "4ef68542abf9425b95fe1e64af15d426",
      "03cc12b305cc4f029060ddad09430490",
      "cb43d6dc1e1347f782887aa0284c2bfc",
      "c7b4a0efb54f4e68a613e4e31cd2fb85",
      "a14390c418ec441c84cebe0ccd38dc14",
      "674879832dc84d178a676a5d0b4c26aa",
      "7415f1f5305c44bc991063bb34b718a1",
      "8cf2ee4f427d440598607198b894232d",
      "dc848ef805a74c39b30db8f5038dd625",
      "e2ca39d9f872406390df8afc793cb7b7",
      "94775340b89a41ccb15ded8b0b506443",
      "f03c8e29d19549b7ba984c93e6bff0c1",
      "8b45ff42e7a44932b5ac08c83c7ece03",
      "ad100e1277ec41649a2616b3537c26d4",
      "8f75dbe2642d4eadb08052cc99854f03",
      "725672e7e32e4a8287e30762f3104698",
      "2317dce1746d48e89a25c33fc124a94e",
      "dda87f1b78bc441980af9230e8cd8304",
      "2a8cbeb2a4bf44ceb55d19640f5c6933",
      "e2fe4329be55452885b8f3e0e8c56f8d",
      "f261349c7dae4cfda62217b5c34f7cad",
      "c967cf9986e8418ab44f30d5db6ab997",
      "0c6162b5d81e4b4f8b195f9fb7e3b195",
      "220cfdf789df4cd2967fdad979641608",
      "20d73fbeedd24b92bad40a11940d8b31",
      "c27496985a7d4991a8f3552703b00dbf",
      "81b7a6bb16f645999f952b2343d282ec",
      "3c9c6dc757344293a15e5cb41e8a3cd4",
      "19312191b61b4b03afb39b2ae72b8933",
      "7f95390087304b9ea7a7ad0b3aba5527",
      "a2f55f12dc29498ab81d99a25e81f540",
      "2b7a69d38d934e6c821cfad880f096f9",
      "4c73261b31e5495bb904c6c290d67d4a",
      "5064a99219df4bf9b7d0cb61bb96b64c",
      "b389fc00d429416ea9a69cc9fbc9bcc2",
      "e3dac0bc5ecc427ba4bb21eec668a9de",
      "7fe994279653490a868cde237cc89581",
      "b237588bc0874b368bda4986483cb5c9",
      "1c31109957ef438dbd60243f3f4b53b6",
      "239a68a2f11a424f87d68c37d0660c4d",
      "052e7ebec8d54cda9ecac67c58a1e0c3",
      "8deebb2632fd4f4984a036a89e113fef",
      "8e7bd2aca6fa4fe39dd53d8671b7dd07",
      "54b932562b4a4ce8b4ca253d1736f98f",
      "133d2c5b2b8340bb810f30e16b742680",
      "ce49fbacb79548a692b5e0b0da6cb8a4",
      "240c6d032c994cd08851a67dbf307044",
      "f5eb5487e2e64edd893a2b183af74d20",
      "f98372fc4edb420396d235a9dab8ea72",
      "9c652235a1ab4a6e9d42e6201b8a6735",
      "03ec7f6ae0e4402699228a7b26c109d1",
      "9d3ebb76b14041b3966ee4d413f24d09",
      "3c2c0c99caa647d297b9d5836dc26783",
      "3be9a0be10ae46f2aac2dab245f8bfb0",
      "4e0d0bd3f3d243b08cad2d0f3356d5bf",
      "815a0e7934de4201b5b30f6ef5ca12d2",
      "f644530ee1184272a0de04da01a0324a",
      "cd70ffc369b5468597cd8318e9b94fff"
     ]
    },
    "id": "_hHjNOjoIWev",
    "outputId": "3afbb97d-f2cc-441a-fca6-1b823ed0a9e6"
   },
   "outputs": [
    {
     "name": "stdout",
     "output_type": "stream",
     "text": [
      "X_train [1, 14, 22, 16, 43, 530, 973, 1622, 1385, 65]\n",
      "----------------------------------------\n",
      "join: <sos> this film was just brilliant casting location scenery story\n",
      "----------------------------------------\n",
      "\u001b[1mDownloading and preparing dataset imdb_reviews/plain_text/1.0.0 (download: 80.23 MiB, generated: Unknown size, total: 80.23 MiB) to /root/tensorflow_datasets/imdb_reviews/plain_text/1.0.0...\u001b[0m\n"
     ]
    },
    {
     "data": {
      "application/vnd.jupyter.widget-view+json": {
       "model_id": "47be2e0b707a4be9b8cb132c9e879129",
       "version_major": 2,
       "version_minor": 0
      },
      "text/plain": [
       "Dl Completed...: 0 url [00:00, ? url/s]"
      ]
     },
     "metadata": {},
     "output_type": "display_data"
    },
    {
     "data": {
      "application/vnd.jupyter.widget-view+json": {
       "model_id": "c9b156de94924545869ce7d5019d42dc",
       "version_major": 2,
       "version_minor": 0
      },
      "text/plain": [
       "Dl Size...: 0 MiB [00:00, ? MiB/s]"
      ]
     },
     "metadata": {},
     "output_type": "display_data"
    },
    {
     "name": "stdout",
     "output_type": "stream",
     "text": [
      "\n",
      "\n"
     ]
    },
    {
     "data": {
      "application/vnd.jupyter.widget-view+json": {
       "model_id": "4d34fee6e85b4970bc54d02622e753d5",
       "version_major": 2,
       "version_minor": 0
      },
      "text/plain": [
       "0 examples [00:00, ? examples/s]"
      ]
     },
     "metadata": {},
     "output_type": "display_data"
    },
    {
     "name": "stdout",
     "output_type": "stream",
     "text": [
      "Shuffling and writing examples to /root/tensorflow_datasets/imdb_reviews/plain_text/1.0.0.incomplete4QN4J7/imdb_reviews-train.tfrecord\n"
     ]
    },
    {
     "data": {
      "application/vnd.jupyter.widget-view+json": {
       "model_id": "c7b4a0efb54f4e68a613e4e31cd2fb85",
       "version_major": 2,
       "version_minor": 0
      },
      "text/plain": [
       "  0%|          | 0/25000 [00:00<?, ? examples/s]"
      ]
     },
     "metadata": {},
     "output_type": "display_data"
    },
    {
     "data": {
      "application/vnd.jupyter.widget-view+json": {
       "model_id": "8f75dbe2642d4eadb08052cc99854f03",
       "version_major": 2,
       "version_minor": 0
      },
      "text/plain": [
       "0 examples [00:00, ? examples/s]"
      ]
     },
     "metadata": {},
     "output_type": "display_data"
    },
    {
     "name": "stdout",
     "output_type": "stream",
     "text": [
      "Shuffling and writing examples to /root/tensorflow_datasets/imdb_reviews/plain_text/1.0.0.incomplete4QN4J7/imdb_reviews-test.tfrecord\n"
     ]
    },
    {
     "data": {
      "application/vnd.jupyter.widget-view+json": {
       "model_id": "c27496985a7d4991a8f3552703b00dbf",
       "version_major": 2,
       "version_minor": 0
      },
      "text/plain": [
       "  0%|          | 0/25000 [00:00<?, ? examples/s]"
      ]
     },
     "metadata": {},
     "output_type": "display_data"
    },
    {
     "data": {
      "application/vnd.jupyter.widget-view+json": {
       "model_id": "7fe994279653490a868cde237cc89581",
       "version_major": 2,
       "version_minor": 0
      },
      "text/plain": [
       "0 examples [00:00, ? examples/s]"
      ]
     },
     "metadata": {},
     "output_type": "display_data"
    },
    {
     "name": "stdout",
     "output_type": "stream",
     "text": [
      "Shuffling and writing examples to /root/tensorflow_datasets/imdb_reviews/plain_text/1.0.0.incomplete4QN4J7/imdb_reviews-unsupervised.tfrecord\n"
     ]
    },
    {
     "data": {
      "application/vnd.jupyter.widget-view+json": {
       "model_id": "f5eb5487e2e64edd893a2b183af74d20",
       "version_major": 2,
       "version_minor": 0
      },
      "text/plain": [
       "  0%|          | 0/50000 [00:00<?, ? examples/s]"
      ]
     },
     "metadata": {},
     "output_type": "display_data"
    },
    {
     "name": "stderr",
     "output_type": "stream",
     "text": [
      "WARNING:absl:Dataset is using deprecated text encoder API which will be removed soon. Please use the plain_text version of the dataset and migrate to `tensorflow_text`.\n"
     ]
    },
    {
     "name": "stdout",
     "output_type": "stream",
     "text": [
      "\u001b[1mDataset imdb_reviews downloaded and prepared to /root/tensorflow_datasets/imdb_reviews/plain_text/1.0.0. Subsequent calls will reuse this data.\u001b[0m\n",
      "dataset.keys: <built-in method keys of dict object at 0x7fdba83b5820>\n",
      "----------------------------------------\n",
      "train_size: 25000, test_size: 25000\n",
      "----------------------------------------\n",
      "Review: This was an absolutely terrible movie. Don't be lured in by Christopher Walken or Michael Ironside. Both are great actors, but this must simply be their worst role in history. Even their great acting  ...\n",
      "Label: 0 = Negative\n",
      "\n",
      "Review: I have been known to fall asleep during films, but this is usually due to a combination of things including, really tired, being warm and comfortable on the sette and having just eaten a lot. However  ...\n",
      "Label: 0 = Negative\n",
      "\n",
      "vocabulary.most_common(): [(b'<pad>', 214309), (b'the', 61137), (b'a', 38564)]\n",
      "----------------------------------------\n",
      "len(vocabulary): 53893\n",
      "----------------------------------------\n",
      "22\n",
      "12\n",
      "11\n",
      "10000\n",
      "----------------------------------------\n",
      "table.lookup:\n",
      "tf.Tensor([[   22    12    11 10053]], shape=(1, 4), dtype=int64)\n",
      "----------------------------------------\n",
      "tf.Tensor(\n",
      "[[  22   11   28 ...    0    0    0]\n",
      " [   6   21   70 ...    0    0    0]\n",
      " [4099 6881    1 ...    0    0    0]\n",
      " ...\n",
      " [  22   12  118 ...  331 1047    0]\n",
      " [1757 4101  451 ...    0    0    0]\n",
      " [3365 4392    6 ...    0    0    0]], shape=(32, 60), dtype=int64)\n",
      "tf.Tensor([0 0 0 1 1 1 0 0 0 0 0 1 1 0 1 0 1 1 1 0 1 1 1 1 1 0 0 0 1 0 0 0], shape=(32,), dtype=int64)\n",
      "----------------------------------------\n",
      "DataSA(train_set=<PrefetchDataset element_spec=(TensorSpec(shape=(None, None), dtype=tf.int64, name=None), TensorSpec(shape=(None,), dtype=tf.int64, name=None))>, vocab_size=10000, num_oov_buckets=1000)\n"
     ]
    }
   ],
   "source": [
    "from dataclasses import dataclass, field\n",
    "import numpy as np\n",
    "\n",
    "@dataclass(frozen=False)\n",
    "class DataSA:\n",
    "    train_set: tf.Variable = 0\n",
    "    vocab_size: int = 0 \n",
    "    num_oov_buckets: int = 0 \n",
    "\n",
    "#####\n",
    "\n",
    "def data_sa_generate():\n",
    "    tf.random.set_seed(42)\n",
    "\n",
    "   # You can load the IMDB dataset easily:\n",
    "    (X_train, y_train), (X_test, y_test) = keras.datasets.imdb.load_data()\n",
    "    \n",
    "    print(f\"X_train {X_train[0][:10]}\")\n",
    "    HR()\n",
    "\n",
    "    word_index = keras.datasets.imdb.get_word_index()\n",
    "    id_to_word = {id_ + 3: word for word, id_ in word_index.items()}\n",
    "    for id_, token in enumerate((\"<pad>\", \"<sos>\", \"<unk>\")):\n",
    "        id_to_word[id_] = token\n",
    "    test = \" \".join([id_to_word[id_] for id_ in X_train[0][:10]])\n",
    "\n",
    "    print(f\"join: {test}\")\n",
    "    HR()\n",
    "\n",
    "    import tensorflow_datasets as tfds\n",
    "    datasets, info = tfds.load(\"imdb_reviews\", as_supervised=True, with_info=True)\n",
    "\n",
    "\n",
    "    print(f\"dataset.keys: {datasets.keys}\")\n",
    "    HR()\n",
    "\n",
    "    train_size = info.splits[\"train\"].num_examples\n",
    "    test_size = info.splits[\"test\"].num_examples\n",
    "\n",
    "    print(f\"train_size: {train_size}, test_size: {test_size}\")\n",
    "    HR()\n",
    "\n",
    "    for X_batch, y_batch in datasets[\"train\"].batch(2).take(1):\n",
    "        for review, label in zip(X_batch.numpy(), y_batch.numpy()):\n",
    "            print(\"Review:\", review.decode(\"utf-8\")[:200], \"...\")\n",
    "            print(\"Label:\", label, \"= Positive\" if label else \"= Negative\")\n",
    "            print()\n",
    "\n",
    "    def preprocess(X_batch, y_batch):\n",
    "        X_batch = tf.strings.substr(X_batch, 0, 300)\n",
    "        X_batch = tf.strings.regex_replace(X_batch, rb\"<br\\s*/?>\", b\" \")\n",
    "        X_batch = tf.strings.regex_replace(X_batch, b\"[^a-zA-Z']\", b\" \")\n",
    "        X_batch = tf.strings.split(X_batch)\n",
    "        return X_batch.to_tensor(default_value=b\"<pad>\"), y_batch\n",
    "\n",
    "    preprocess(X_batch, y_batch)\n",
    "\n",
    "    ###\n",
    "\n",
    "    from collections import Counter\n",
    "\n",
    "    vocabulary = Counter()\n",
    "    for X_batch, y_batch in datasets[\"train\"].batch(32).map(preprocess):\n",
    "        for review in X_batch:\n",
    "            vocabulary.update(list(review.numpy()))\n",
    "\n",
    "    print(f\"vocabulary.most_common(): {vocabulary.most_common()[:3]}\")\n",
    "    HR()\n",
    "\n",
    "    print(f\"len(vocabulary): {len(vocabulary)}\")  \n",
    "    HR()\n",
    "\n",
    "    vocab_size = 10000\n",
    "    truncated_vocabulary = [\n",
    "        word for word, count in vocabulary.most_common()[:vocab_size]]\n",
    "\n",
    "    word_to_id = {word: index for index, word in enumerate(truncated_vocabulary)}\n",
    "    for word in b\"This movie was faaaaaantastic\".split():\n",
    "        print(word_to_id.get(word) or vocab_size)\n",
    "    HR()\n",
    "\n",
    "    ###\n",
    "\n",
    "    words = tf.constant(truncated_vocabulary)\n",
    "    word_ids = tf.range(len(truncated_vocabulary), dtype=tf.int64)\n",
    "    vocab_init = tf.lookup.KeyValueTensorInitializer(words, word_ids)\n",
    "    num_oov_buckets = 1000\n",
    "    table = tf.lookup.StaticVocabularyTable(vocab_init, num_oov_buckets)\n",
    "\n",
    "    ###\n",
    "\n",
    "    print(\"table.lookup:\")\n",
    "    print(table.lookup(tf.constant([b\"This movie was faaaaaantastic\".split()])))\n",
    "    HR()\n",
    "\n",
    "    ###\n",
    "\n",
    "    def encode_words(X_batch, y_batch):\n",
    "        return table.lookup(X_batch), y_batch\n",
    "\n",
    "    train_set = datasets[\"train\"].batch(32).map(preprocess)\n",
    "    train_set = train_set.map(encode_words).prefetch(1)\n",
    "\n",
    "    ###\n",
    "\n",
    "    for X_batch, y_batch in train_set.take(1):\n",
    "        print(X_batch)\n",
    "        print(y_batch)\n",
    "\n",
    "    HR()\n",
    "\n",
    "    return DataSA(\n",
    "        train_set = train_set,\n",
    "        vocab_size = vocab_size,\n",
    "        num_oov_buckets = num_oov_buckets,\n",
    "    )\n",
    "    \n",
    "data_sa = data_sa_generate()\n",
    "\n",
    "print(data_sa)"
   ]
  },
  {
   "cell_type": "code",
   "execution_count": 21,
   "metadata": {
    "colab": {
     "base_uri": "https://localhost:8080/"
    },
    "id": "Hp1h3VPl97PS",
    "outputId": "4e73d042-71bf-40ef-ba0c-824638d51722"
   },
   "outputs": [
    {
     "name": "stdout",
     "output_type": "stream",
     "text": [
      "Epoch 1/5\n",
      "782/782 [==============================] - 22s 19ms/step - loss: 0.5305 - accuracy: 0.7281\n",
      "Epoch 2/5\n",
      "782/782 [==============================] - 15s 20ms/step - loss: 0.3459 - accuracy: 0.8549\n",
      "Epoch 3/5\n",
      "782/782 [==============================] - 14s 18ms/step - loss: 0.1934 - accuracy: 0.9313\n",
      "Epoch 4/5\n",
      "782/782 [==============================] - 14s 18ms/step - loss: 0.1361 - accuracy: 0.9503\n",
      "Epoch 5/5\n",
      "782/782 [==============================] - 14s 18ms/step - loss: 0.1032 - accuracy: 0.9634\n"
     ]
    }
   ],
   "source": [
    "def listing3_0(data):\n",
    "\n",
    "    embed_size = 128\n",
    "    \n",
    "    model = keras.models.Sequential([\n",
    "        keras.layers.Embedding(\n",
    "            data.vocab_size + data.num_oov_buckets, \n",
    "            embed_size,\n",
    "            mask_zero=True, # not shown in the book\n",
    "            input_shape=[None]\n",
    "        ),\n",
    "        keras.layers.GRU(128, return_sequences=True),\n",
    "        keras.layers.GRU(128),\n",
    "        keras.layers.Dense(1, activation=\"sigmoid\")\n",
    "    ])\n",
    "\n",
    "    model.compile(\n",
    "        loss=\"binary_crossentropy\", \n",
    "        optimizer=\"adam\", \n",
    "        metrics=[\"accuracy\"]\n",
    "    )\n",
    "\n",
    "    history = model.fit(\n",
    "        data.train_set, \n",
    "        epochs=5\n",
    "    )\n",
    "\n",
    "listing3_0(data_sa)"
   ]
  },
  {
   "cell_type": "markdown",
   "metadata": {
    "id": "1jxTbevSsMsP"
   },
   "source": [
    "<a id='3.1'></a>\n",
    "<a name=\"3.1\"></a>\n",
    "## 3.1 Masking\n",
    "<a href=\"#top\">[back to top]</a>"
   ]
  },
  {
   "cell_type": "code",
   "execution_count": 22,
   "metadata": {
    "colab": {
     "base_uri": "https://localhost:8080/"
    },
    "id": "IffSWDevsa7s",
    "outputId": "f2052c83-090a-45ed-c425-54e9ee3d478e"
   },
   "outputs": [
    {
     "name": "stdout",
     "output_type": "stream",
     "text": [
      "Using manual masking:\n",
      "Epoch 1/5\n",
      "782/782 [==============================] - 22s 19ms/step - loss: 0.5426 - accuracy: 0.7156\n",
      "Epoch 2/5\n",
      "782/782 [==============================] - 15s 20ms/step - loss: 0.3469 - accuracy: 0.8571\n",
      "Epoch 3/5\n",
      "782/782 [==============================] - 15s 19ms/step - loss: 0.1757 - accuracy: 0.9390\n",
      "Epoch 4/5\n",
      "782/782 [==============================] - 15s 19ms/step - loss: 0.1314 - accuracy: 0.9521\n",
      "Epoch 5/5\n",
      "782/782 [==============================] - 15s 19ms/step - loss: 0.1108 - accuracy: 0.9585\n"
     ]
    }
   ],
   "source": [
    "def listing3_1(data):\n",
    "\n",
    "    print(\"Using manual masking:\")\n",
    "\n",
    "    K = keras.backend\n",
    "    embed_size = 128\n",
    "\n",
    "    inputs = keras.layers.Input(shape=[None])\n",
    "    mask = keras.layers.Lambda(lambda inputs: K.not_equal(inputs, 0))(inputs)\n",
    "    z = keras.layers.Embedding(data.vocab_size + data.num_oov_buckets, embed_size)(inputs)\n",
    "    z = keras.layers.GRU(128, return_sequences=True)(z, mask=mask)\n",
    "    z = keras.layers.GRU(128)(z, mask=mask)\n",
    "    outputs = keras.layers.Dense(1, activation=\"sigmoid\")(z)\n",
    "    \n",
    "    model = keras.models.Model(\n",
    "        inputs=[inputs], \n",
    "        outputs=[outputs]\n",
    "    )\n",
    "    \n",
    "    model.compile(\n",
    "        loss=\"binary_crossentropy\", \n",
    "        optimizer=\"adam\", \n",
    "        metrics=[\"accuracy\"]\n",
    "    )\n",
    "    \n",
    "    history = model.fit(\n",
    "        data.train_set, \n",
    "        epochs=5\n",
    "    )\n",
    "\n",
    "listing3_1(data_sa)"
   ]
  },
  {
   "cell_type": "markdown",
   "metadata": {
    "id": "tbfeJfusIWe3"
   },
   "source": [
    "<a id='3.2'></a>\n",
    "<a name=\"3.2\"></a>\n",
    "## 3.2 Reusing Pretrained Embeddings\n",
    "<a href=\"#top\">[back to top]</a>"
   ]
  },
  {
   "cell_type": "code",
   "execution_count": 23,
   "metadata": {
    "colab": {
     "base_uri": "https://localhost:8080/"
    },
    "id": "3WvWx4vQIWe3",
    "outputId": "98b52d8c-afef-4c2d-f4b0-511c9d7b2ab1"
   },
   "outputs": [
    {
     "name": "stdout",
     "output_type": "stream",
     "text": [
      "./my_tfhub_cache/82c4aaf4250ffb09088bd48368ee7fd00e5464fe.descriptor.txt\n",
      "./my_tfhub_cache/82c4aaf4250ffb09088bd48368ee7fd00e5464fe/saved_model.pb\n",
      "./my_tfhub_cache/82c4aaf4250ffb09088bd48368ee7fd00e5464fe/variables/variables.index\n",
      "./my_tfhub_cache/82c4aaf4250ffb09088bd48368ee7fd00e5464fe/variables/variables.data-00000-of-00001\n",
      "./my_tfhub_cache/82c4aaf4250ffb09088bd48368ee7fd00e5464fe/assets/tokens.txt\n",
      "----------------------------------------\n",
      "Epoch 1/5\n",
      "782/782 [==============================] - 5s 6ms/step - loss: 0.5461 - accuracy: 0.7267\n",
      "Epoch 2/5\n",
      "782/782 [==============================] - 6s 7ms/step - loss: 0.5130 - accuracy: 0.7495\n",
      "Epoch 3/5\n",
      "782/782 [==============================] - 5s 6ms/step - loss: 0.5081 - accuracy: 0.7532\n",
      "Epoch 4/5\n",
      "782/782 [==============================] - 5s 6ms/step - loss: 0.5047 - accuracy: 0.7540\n",
      "Epoch 5/5\n",
      "782/782 [==============================] - 5s 6ms/step - loss: 0.5018 - accuracy: 0.7566\n"
     ]
    }
   ],
   "source": [
    "def listing3_2():\n",
    "\n",
    "    tf.random.set_seed(42)\n",
    "\n",
    "    TFHUB_CACHE_DIR = os.path.join(os.curdir, \"my_tfhub_cache\")\n",
    "    os.environ[\"TFHUB_CACHE_DIR\"] = TFHUB_CACHE_DIR\n",
    "\n",
    "    import tensorflow_hub as hub\n",
    "\n",
    "    model = keras.Sequential([\n",
    "        hub.KerasLayer(\n",
    "            \"https://tfhub.dev/google/tf2-preview/nnlm-en-dim50/1\",\n",
    "            dtype=tf.string, \n",
    "            input_shape=[], \n",
    "            output_shape=[50]\n",
    "        ),\n",
    "        keras.layers.Dense(128, activation=\"relu\"),\n",
    "        keras.layers.Dense(1, activation=\"sigmoid\")\n",
    "    ])\n",
    "    model.compile(\n",
    "        loss=\"binary_crossentropy\", \n",
    "        optimizer=\"adam\",\n",
    "        metrics=[\"accuracy\"]\n",
    "    )\n",
    "\n",
    "    ###\n",
    "\n",
    "    for dirpath, dirnames, filenames in os.walk(TFHUB_CACHE_DIR):\n",
    "        for filename in filenames:\n",
    "            print(os.path.join(dirpath, filename))\n",
    "\n",
    "    HR()\n",
    "\n",
    "    ###\n",
    "\n",
    "    import tensorflow_datasets as tfds\n",
    "\n",
    "    datasets, info = tfds.load(\"imdb_reviews\", as_supervised=True, with_info=True)\n",
    "    train_size = info.splits[\"train\"].num_examples\n",
    "    batch_size = 32\n",
    "    train_set = datasets[\"train\"].batch(batch_size).prefetch(1)\n",
    "\n",
    "    # Using the pretrained model we downloaded above\n",
    "    history = model.fit(train_set, epochs=5)\n",
    "\n",
    "listing3_2()"
   ]
  },
  {
   "cell_type": "markdown",
   "metadata": {
    "id": "AgGPspBjFwtL"
   },
   "source": [
    "---\n",
    "<a id='4.0'></a>\n",
    "<a name=\"4.0\"></a>\n",
    "# 4. An Encoder-Decoder Network for Neural Machine Translation\n",
    "\n",
    "<a href=\"#top\">[back to top]</a>"
   ]
  },
  {
   "cell_type": "code",
   "execution_count": 24,
   "metadata": {
    "colab": {
     "base_uri": "https://localhost:8080/"
    },
    "id": "XzdDmNkqIWe4",
    "outputId": "e165c1f4-2ec9-4ac2-c175-4ed438b56b37"
   },
   "outputs": [
    {
     "name": "stdout",
     "output_type": "stream",
     "text": [
      "Epoch 1/2\n",
      "32/32 [==============================] - 4s 42ms/step - loss: 4.6052\n",
      "Epoch 2/2\n",
      "32/32 [==============================] - 1s 43ms/step - loss: 4.6037\n",
      "Model: \"model_1\"\n",
      "__________________________________________________________________________________________________\n",
      " Layer (type)                   Output Shape         Param #     Connected to                     \n",
      "==================================================================================================\n",
      " input_3 (InputLayer)           [(None, None)]       0           []                               \n",
      "                                                                                                  \n",
      " input_2 (InputLayer)           [(None, None)]       0           []                               \n",
      "                                                                                                  \n",
      " embedding_2 (Embedding)        (None, None, 10)     1000        ['input_2[0][0]',                \n",
      "                                                                  'input_3[0][0]']                \n",
      "                                                                                                  \n",
      " lstm (LSTM)                    [(None, 512),        1071104     ['embedding_2[0][0]']            \n",
      "                                 (None, 512),                                                     \n",
      "                                 (None, 512)]                                                     \n",
      "                                                                                                  \n",
      " input_4 (InputLayer)           [(None,)]            0           []                               \n",
      "                                                                                                  \n",
      " basic_decoder (BasicDecoder)   (BasicDecoderOutput  1122404     ['embedding_2[1][0]',            \n",
      "                                (rnn_output=(None,                'lstm[0][1]',                   \n",
      "                                None, 100),                       'lstm[0][2]',                   \n",
      "                                 sample_id=(None, N               'input_4[0][0]']                \n",
      "                                one)),                                                            \n",
      "                                 [(None, 512),                                                    \n",
      "                                 (None, 512)],                                                    \n",
      "                                 (None,))                                                         \n",
      "                                                                                                  \n",
      " tf.nn.softmax (TFOpLambda)     (None, None, 100)    0           ['basic_decoder[0][0]']          \n",
      "                                                                                                  \n",
      "==================================================================================================\n",
      "Total params: 2,194,508\n",
      "Trainable params: 2,194,508\n",
      "Non-trainable params: 0\n",
      "__________________________________________________________________________________________________\n",
      "None\n"
     ]
    }
   ],
   "source": [
    "def listing4_0():\n",
    "    tf.random.set_seed(42)\n",
    "    vocab_size = 100\n",
    "    embed_size = 10\n",
    "\n",
    "    ###\n",
    "\n",
    "    import tensorflow_addons as tfa\n",
    "\n",
    "    encoder_inputs = keras.layers.Input(shape=[None], dtype=np.int32)\n",
    "    decoder_inputs = keras.layers.Input(shape=[None], dtype=np.int32)\n",
    "    sequence_lengths = keras.layers.Input(shape=[], dtype=np.int32)\n",
    "\n",
    "    embeddings = keras.layers.Embedding(vocab_size, embed_size)\n",
    "    encoder_embeddings = embeddings(encoder_inputs)\n",
    "    decoder_embeddings = embeddings(decoder_inputs)\n",
    "\n",
    "    encoder = keras.layers.LSTM(512, return_state=True)\n",
    "    encoder_outputs, state_h, state_c = encoder(encoder_embeddings)\n",
    "    encoder_state = [state_h, state_c]\n",
    "\n",
    "    sampler = tfa.seq2seq.sampler.TrainingSampler()\n",
    "\n",
    "    decoder_cell = keras.layers.LSTMCell(512)\n",
    "    output_layer = keras.layers.Dense(vocab_size)\n",
    "    decoder = tfa.seq2seq.basic_decoder.BasicDecoder(decoder_cell, sampler,\n",
    "                                                    output_layer=output_layer)\n",
    "    final_outputs, final_state, final_sequence_lengths = decoder(\n",
    "        decoder_embeddings, initial_state=encoder_state,\n",
    "        sequence_length=sequence_lengths)\n",
    "    Y_proba = tf.nn.softmax(final_outputs.rnn_output)\n",
    "\n",
    "    model = keras.models.Model(\n",
    "        inputs=[encoder_inputs, decoder_inputs, sequence_lengths],\n",
    "        outputs=[Y_proba])\n",
    "\n",
    "    ###\n",
    "\n",
    "    model.compile(loss=\"sparse_categorical_crossentropy\", optimizer=\"adam\")\n",
    "\n",
    "    ###\n",
    "\n",
    "    X = np.random.randint(100, size=10*1000).reshape(1000, 10)\n",
    "    Y = np.random.randint(100, size=15*1000).reshape(1000, 15)\n",
    "    X_decoder = np.c_[np.zeros((1000, 1)), Y[:, :-1]]\n",
    "    seq_lengths = np.full([1000], 15)\n",
    "\n",
    "    history = model.fit([X, X_decoder, seq_lengths], Y, epochs=2)\n",
    "\n",
    "    print(model.summary())\n",
    "\n",
    "listing4_0()"
   ]
  },
  {
   "cell_type": "markdown",
   "metadata": {
    "id": "kv7kc9WlGKDI"
   },
   "source": [
    "<a id='4.1'></a>\n",
    "<a name=\"4.1\"></a>\n",
    "## 4.1 Bidirectional RNNs\n",
    "<a href=\"#top\">[back to top]</a>"
   ]
  },
  {
   "cell_type": "code",
   "execution_count": 25,
   "metadata": {
    "colab": {
     "base_uri": "https://localhost:8080/"
    },
    "id": "M3Zja7gAIWe6",
    "outputId": "65676e22-d1bf-4484-ad60-b403b5a0b4cd"
   },
   "outputs": [
    {
     "name": "stdout",
     "output_type": "stream",
     "text": [
      "Model: \"sequential_5\"\n",
      "_________________________________________________________________\n",
      " Layer (type)                Output Shape              Param #   \n",
      "=================================================================\n",
      " gru_10 (GRU)                (None, None, 10)          660       \n",
      "                                                                 \n",
      " bidirectional (Bidirectiona  (None, None, 20)         1320      \n",
      " l)                                                              \n",
      "                                                                 \n",
      "=================================================================\n",
      "Total params: 1,980\n",
      "Trainable params: 1,980\n",
      "Non-trainable params: 0\n",
      "_________________________________________________________________\n",
      "None\n"
     ]
    }
   ],
   "source": [
    "def listing4_1():\n",
    "    tf.random.set_seed(42)\n",
    "    vocab_size = 100\n",
    "    embed_size = 10\n",
    "\n",
    "    ###\n",
    "\n",
    "    import tensorflow_addons as tfa\n",
    "\n",
    "    encoder_inputs = keras.layers.Input(shape=[None], dtype=np.int32)\n",
    "    decoder_inputs = keras.layers.Input(shape=[None], dtype=np.int32)\n",
    "    sequence_lengths = keras.layers.Input(shape=[], dtype=np.int32)\n",
    "\n",
    "    embeddings = keras.layers.Embedding(vocab_size, embed_size)\n",
    "    encoder_embeddings = embeddings(encoder_inputs)\n",
    "    decoder_embeddings = embeddings(decoder_inputs)\n",
    "\n",
    "    encoder = keras.layers.LSTM(512, return_state=True)\n",
    "    encoder_outputs, state_h, state_c = encoder(encoder_embeddings)\n",
    "    encoder_state = [state_h, state_c]\n",
    "\n",
    "    sampler = tfa.seq2seq.sampler.TrainingSampler()\n",
    "\n",
    "    decoder_cell = keras.layers.LSTMCell(512)\n",
    "    output_layer = keras.layers.Dense(vocab_size)\n",
    "    decoder = tfa.seq2seq.basic_decoder.BasicDecoder(decoder_cell, sampler,\n",
    "                                                    output_layer=output_layer)\n",
    "    final_outputs, final_state, final_sequence_lengths = decoder(\n",
    "        decoder_embeddings, initial_state=encoder_state,\n",
    "        sequence_length=sequence_lengths)\n",
    "    Y_proba = tf.nn.softmax(final_outputs.rnn_output)\n",
    "\n",
    "    # model = keras.models.Model(\n",
    "    #     inputs=[encoder_inputs, decoder_inputs, sequence_lengths],\n",
    "    #     outputs=[Y_proba])\n",
    "\n",
    "\n",
    "    model = keras.models.Sequential([\n",
    "        keras.layers.GRU(\n",
    "            10, \n",
    "            return_sequences=True, \n",
    "            input_shape=[None, 10]\n",
    "            ),\n",
    "\n",
    "        keras.layers.Bidirectional(\n",
    "            keras.layers.GRU(10, return_sequences=True)    \n",
    "        )\n",
    "    ])\n",
    "\n",
    "    ###\n",
    "\n",
    "    model.compile(loss=\"sparse_categorical_crossentropy\", optimizer=\"adam\")\n",
    "\n",
    "    ###\n",
    "\n",
    "    X = np.random.randint(100, size=10*1000).reshape(1000, 10)\n",
    "    Y = np.random.randint(100, size=15*1000).reshape(1000, 15)\n",
    "    X_decoder = np.c_[np.zeros((1000, 1)), Y[:, :-1]]\n",
    "    seq_lengths = np.full([1000], 15)\n",
    "\n",
    "    #history = model.fit([X, X_decoder, seq_lengths], Y, epochs=2)\n",
    "\n",
    "    print(model.summary())\n",
    "\n",
    "listing4_1()"
   ]
  },
  {
   "cell_type": "markdown",
   "metadata": {
    "id": "26tVeK8lNnyV"
   },
   "source": [
    "<a id='4.2'></a>\n",
    "<a name=\"4.2\"></a>\n",
    "## 4.2 Beam Search\n",
    "<a href=\"#top\">[back to top]</a>\n",
    "\n",
    "No source code"
   ]
  },
  {
   "cell_type": "markdown",
   "metadata": {
    "id": "8F--JGGKN0VK"
   },
   "source": [
    "<a id='5.0'></a>\n",
    "<a name=\"5.0\"></a>\n",
    "# 5.0 Attention Mechanisms\n",
    "<a href=\"#top\">[back to top]</a>\n",
    "\n",
    "No source code"
   ]
  },
  {
   "cell_type": "markdown",
   "metadata": {
    "id": "pTUKfYdBN9vE"
   },
   "source": [
    "<a id='5.1'></a>\n",
    "<a name=\"5.1\"></a>\n",
    "## 5.1 Visual Attention\n",
    "<a href=\"#top\">[back to top]</a>\n",
    "\n",
    "No source code"
   ]
  },
  {
   "cell_type": "markdown",
   "metadata": {
    "id": "I4noQY72OEFp"
   },
   "source": [
    "<a id='5.2'></a>\n",
    "<a name=\"5.2\"></a>\n",
    "## 5.2 Attention is All You Need: The Transformer Architecture\n",
    "<a href=\"#top\">[back to top]</a>\n",
    "\n",
    "No source code"
   ]
  },
  {
   "cell_type": "markdown",
   "metadata": {
    "id": "dmMHtDDsIWe7"
   },
   "source": [
    "<a id='5.2.1'></a>\n",
    "<a name=\"5.2.1\"></a>\n",
    "### 5.2.1 Positional Encoding\n",
    "<a href=\"#top\">[back to top]</a>\n",
    "\n",
    "Currently there is no `PositionalEmbedding` layer in TensorFlow, so we implement one here."
   ]
  },
  {
   "cell_type": "code",
   "execution_count": 26,
   "metadata": {
    "id": "PJZEwXHTIWe7"
   },
   "outputs": [],
   "source": [
    "class PositionalEncoding(keras.layers.Layer):\n",
    "    def __init__(self, max_steps, max_dims, dtype=tf.float32, **kwargs):\n",
    "        super().__init__(dtype=dtype, **kwargs)\n",
    "        if max_dims % 2 == 1: max_dims += 1 # max_dims must be even\n",
    "        p, i = np.meshgrid(np.arange(max_steps), np.arange(max_dims // 2))\n",
    "        pos_emb = np.empty((1, max_steps, max_dims))\n",
    "        pos_emb[0, :, ::2] = np.sin(p / 10000**(2 * i / max_dims)).T\n",
    "        pos_emb[0, :, 1::2] = np.cos(p / 10000**(2 * i / max_dims)).T\n",
    "        self.positional_embedding = tf.constant(pos_emb.astype(self.dtype))\n",
    "    def call(self, inputs):\n",
    "        shape = tf.shape(inputs)\n",
    "        return inputs + self.positional_embedding[:, :shape[-2], :shape[-1]]"
   ]
  },
  {
   "cell_type": "code",
   "execution_count": 27,
   "metadata": {
    "colab": {
     "base_uri": "https://localhost:8080/",
     "height": 344
    },
    "id": "jU_Ywmc4IWe7",
    "outputId": "3db4263f-c42f-45d2-e7b8-334c93ac3b82"
   },
   "outputs": [
    {
     "data": {
      "image/png": "[encoded data removed]",
      "text/plain": [
       "<Figure size 648x360 with 2 Axes>"
      ]
     },
     "metadata": {
      "needs_background": "light"
     },
     "output_type": "display_data"
    }
   ],
   "source": [
    "def listing5_2_1():\n",
    "\n",
    "    max_steps = 201\n",
    "    max_dims = 512\n",
    "    pos_emb = PositionalEncoding(max_steps, max_dims)\n",
    "    PE = pos_emb(np.zeros((1, max_steps, max_dims), np.float32))[0].numpy()\n",
    "\n",
    "    ###\n",
    "\n",
    "    i1, i2, crop_i = 100, 101, 150\n",
    "    p1, p2, p3 = 22, 60, 35\n",
    "    fig, (ax1, ax2) = plt.subplots(nrows=2, ncols=1, sharex=True, figsize=(9, 5))\n",
    "    ax1.plot([p1, p1], [-1, 1], \"k--\", label=\"$p = {}$\".format(p1))\n",
    "    ax1.plot([p2, p2], [-1, 1], \"k--\", label=\"$p = {}$\".format(p2), alpha=0.5)\n",
    "    ax1.plot(p3, PE[p3, i1], \"bx\", label=\"$p = {}$\".format(p3))\n",
    "    ax1.plot(PE[:,i1], \"b-\", label=\"$i = {}$\".format(i1))\n",
    "    ax1.plot(PE[:,i2], \"r-\", label=\"$i = {}$\".format(i2))\n",
    "    ax1.plot([p1, p2], [PE[p1, i1], PE[p2, i1]], \"bo\")\n",
    "    ax1.plot([p1, p2], [PE[p1, i2], PE[p2, i2]], \"ro\")\n",
    "    ax1.legend(loc=\"center right\", fontsize=14, framealpha=0.95)\n",
    "    ax1.set_ylabel(\"$P_{(p,i)}$\", rotation=0, fontsize=16)\n",
    "    ax1.grid(True, alpha=0.3)\n",
    "    ax1.hlines(0, 0, max_steps - 1, color=\"k\", linewidth=1, alpha=0.3)\n",
    "    ax1.axis([0, max_steps - 1, -1, 1])\n",
    "    ax2.imshow(PE.T[:crop_i], cmap=\"gray\", interpolation=\"bilinear\", aspect=\"auto\")\n",
    "    ax2.hlines(i1, 0, max_steps - 1, color=\"b\")\n",
    "    cheat = 2 # need to raise the red line a bit, or else it hides the blue one\n",
    "    ax2.hlines(i2+cheat, 0, max_steps - 1, color=\"r\")\n",
    "    ax2.plot([p1, p1], [0, crop_i], \"k--\")\n",
    "    ax2.plot([p2, p2], [0, crop_i], \"k--\", alpha=0.5)\n",
    "    ax2.plot([p1, p2], [i2+cheat, i2+cheat], \"ro\")\n",
    "    ax2.plot([p1, p2], [i1, i1], \"bo\")\n",
    "    ax2.axis([0, max_steps - 1, 0, crop_i])\n",
    "    ax2.set_xlabel(\"$p$\", fontsize=16)\n",
    "    ax2.set_ylabel(\"$i$\", rotation=0, fontsize=16)\n",
    "    plt.show()\n",
    "\n",
    "    ###\n",
    "\n",
    "    # Create the first layers of the Transformer:\n",
    "    embed_size = 512; max_steps = 500; vocab_size = 10000\n",
    "    encoder_inputs = keras.layers.Input(shape=[None], dtype=np.int32)\n",
    "    decoder_inputs = keras.layers.Input(shape=[None], dtype=np.int32)\n",
    "    embeddings = keras.layers.Embedding(vocab_size, embed_size)\n",
    "    encoder_embeddings = embeddings(encoder_inputs)\n",
    "    decoder_embeddings = embeddings(decoder_inputs)\n",
    "    positional_encoding = PositionalEncoding(max_steps, max_dims=embed_size)\n",
    "    encoder_in = positional_encoding(encoder_embeddings)\n",
    "    decoder_in = positional_encoding(decoder_embeddings)\n",
    "\n",
    "listing5_2_1()"
   ]
  },
  {
   "cell_type": "markdown",
   "metadata": {
    "id": "r1iIdLwlPSe0"
   },
   "source": [
    "<a id='5.2.2'></a>\n",
    "<a name=\"5.2.2\"></a>\n",
    "### 5.2.2 Multi-Head Attention\n",
    "<a href=\"#top\">[back to top]</a>"
   ]
  },
  {
   "cell_type": "markdown",
   "metadata": {
    "id": "0IPgAwcXIWe8"
   },
   "source": [
    "Here is a (very) simplified Transformer (the actual architecture has skip connections, layer norm, dense nets, and most importantly it uses Multi-Head Attention instead of regular Attention).\n",
    "\n",
    "We use `keras.layers.Attention` layer as it implements Scaled Dot-Product Attention."
   ]
  },
  {
   "cell_type": "code",
   "execution_count": 28,
   "metadata": {
    "colab": {
     "base_uri": "https://localhost:8080/",
     "height": 344
    },
    "id": "9NdCqXzAIWe8",
    "outputId": "0f497e85-2b53-4bf3-eff3-f00984e44d8b"
   },
   "outputs": [
    {
     "data": {
      "image/png": "[encoded data removed]",
      "text/plain": [
       "<Figure size 648x360 with 2 Axes>"
      ]
     },
     "metadata": {
      "needs_background": "light"
     },
     "output_type": "display_data"
    }
   ],
   "source": [
    "def listing5_2_2():\n",
    "\n",
    "    max_steps = 201\n",
    "    max_dims = 512\n",
    "    pos_emb = PositionalEncoding(max_steps, max_dims)\n",
    "    PE = pos_emb(np.zeros((1, max_steps, max_dims), np.float32))[0].numpy()\n",
    "\n",
    "    ###\n",
    "\n",
    "    i1, i2, crop_i = 100, 101, 150\n",
    "    p1, p2, p3 = 22, 60, 35\n",
    "    fig, (ax1, ax2) = plt.subplots(nrows=2, ncols=1, sharex=True, figsize=(9, 5))\n",
    "    ax1.plot([p1, p1], [-1, 1], \"k--\", label=\"$p = {}$\".format(p1))\n",
    "    ax1.plot([p2, p2], [-1, 1], \"k--\", label=\"$p = {}$\".format(p2), alpha=0.5)\n",
    "    ax1.plot(p3, PE[p3, i1], \"bx\", label=\"$p = {}$\".format(p3))\n",
    "    ax1.plot(PE[:,i1], \"b-\", label=\"$i = {}$\".format(i1))\n",
    "    ax1.plot(PE[:,i2], \"r-\", label=\"$i = {}$\".format(i2))\n",
    "    ax1.plot([p1, p2], [PE[p1, i1], PE[p2, i1]], \"bo\")\n",
    "    ax1.plot([p1, p2], [PE[p1, i2], PE[p2, i2]], \"ro\")\n",
    "    ax1.legend(loc=\"center right\", fontsize=14, framealpha=0.95)\n",
    "    ax1.set_ylabel(\"$P_{(p,i)}$\", rotation=0, fontsize=16)\n",
    "    ax1.grid(True, alpha=0.3)\n",
    "    ax1.hlines(0, 0, max_steps - 1, color=\"k\", linewidth=1, alpha=0.3)\n",
    "    ax1.axis([0, max_steps - 1, -1, 1])\n",
    "    ax2.imshow(PE.T[:crop_i], cmap=\"gray\", interpolation=\"bilinear\", aspect=\"auto\")\n",
    "    ax2.hlines(i1, 0, max_steps - 1, color=\"b\")\n",
    "    cheat = 2 # need to raise the red line a bit, or else it hides the blue one\n",
    "    ax2.hlines(i2+cheat, 0, max_steps - 1, color=\"r\")\n",
    "    ax2.plot([p1, p1], [0, crop_i], \"k--\")\n",
    "    ax2.plot([p2, p2], [0, crop_i], \"k--\", alpha=0.5)\n",
    "    ax2.plot([p1, p2], [i2+cheat, i2+cheat], \"ro\")\n",
    "    ax2.plot([p1, p2], [i1, i1], \"bo\")\n",
    "    ax2.axis([0, max_steps - 1, 0, crop_i])\n",
    "    ax2.set_xlabel(\"$p$\", fontsize=16)\n",
    "    ax2.set_ylabel(\"$i$\", rotation=0, fontsize=16)\n",
    "    plt.show()\n",
    "\n",
    "    ###\n",
    "\n",
    "    embed_size = 512; max_steps = 500; vocab_size = 10000\n",
    "    encoder_inputs = keras.layers.Input(shape=[None], dtype=np.int32)\n",
    "    decoder_inputs = keras.layers.Input(shape=[None], dtype=np.int32)\n",
    "    embeddings = keras.layers.Embedding(vocab_size, embed_size)\n",
    "    encoder_embeddings = embeddings(encoder_inputs)\n",
    "    decoder_embeddings = embeddings(decoder_inputs)\n",
    "    positional_encoding = PositionalEncoding(max_steps, max_dims=embed_size)\n",
    "    encoder_in = positional_encoding(encoder_embeddings)\n",
    "    decoder_in = positional_encoding(decoder_embeddings)\n",
    "\n",
    "    ###\n",
    "\n",
    "    Z = encoder_in\n",
    "    for N in range(6):\n",
    "        Z = keras.layers.Attention(use_scale=True)([Z, Z])\n",
    "\n",
    "    encoder_outputs = Z\n",
    "    Z = decoder_in\n",
    "    for N in range(6):\n",
    "        Z = keras.layers.Attention(use_scale=True, causal=True)([Z, Z])\n",
    "        Z = keras.layers.Attention(use_scale=True)([Z, encoder_outputs])\n",
    "\n",
    "    outputs = keras.layers.TimeDistributed(\n",
    "        keras.layers.Dense(vocab_size, activation=\"softmax\"))(Z)\n",
    "\n",
    "listing5_2_2()"
   ]
  },
  {
   "cell_type": "markdown",
   "metadata": {
    "id": "9RoND-nSQzn5"
   },
   "source": [
    "<a id='5.2.3'></a>\n",
    "<a name=\"5.2.3\"></a>\n",
    "### 5.2.3 Multi-Head Attention Layer\n",
    "<a href=\"#top\">[back to top]</a>"
   ]
  },
  {
   "cell_type": "markdown",
   "metadata": {
    "id": "gyCU5PBNIWe9"
   },
   "source": [
    "Here's a basic implementation of the `MultiHeadAttention` layer. \n",
    "\n",
    "One will likely be added to `keras.layers` in the near future. \n",
    "\n",
    "Note that `Conv1D` layers with `kernel_size=1` (and the default `padding=\"valid\"` and `strides=1`) is equivalent to a `TimeDistributed(Dense(...))` layer."
   ]
  },
  {
   "cell_type": "code",
   "execution_count": 29,
   "metadata": {
    "id": "IlXpwF5ZIWe9"
   },
   "outputs": [],
   "source": [
    "K = keras.backend\n",
    "\n",
    "class MultiHeadAttention(keras.layers.Layer):\n",
    "    def __init__(self, n_heads, causal=False, use_scale=False, **kwargs):\n",
    "        self.n_heads = n_heads\n",
    "        self.causal = causal\n",
    "        self.use_scale = use_scale\n",
    "        super().__init__(**kwargs)\n",
    "    def build(self, batch_input_shape):\n",
    "        self.dims = batch_input_shape[0][-1]\n",
    "        self.q_dims, self.v_dims, self.k_dims = [self.dims // self.n_heads] * 3 # could be hyperparameters instead\n",
    "        self.q_linear = keras.layers.Conv1D(self.n_heads * self.q_dims, kernel_size=1, use_bias=False)\n",
    "        self.v_linear = keras.layers.Conv1D(self.n_heads * self.v_dims, kernel_size=1, use_bias=False)\n",
    "        self.k_linear = keras.layers.Conv1D(self.n_heads * self.k_dims, kernel_size=1, use_bias=False)\n",
    "        self.attention = keras.layers.Attention(causal=self.causal, use_scale=self.use_scale)\n",
    "        self.out_linear = keras.layers.Conv1D(self.dims, kernel_size=1, use_bias=False)\n",
    "        super().build(batch_input_shape)\n",
    "    def _multi_head_linear(self, inputs, linear):\n",
    "        shape = K.concatenate([K.shape(inputs)[:-1], [self.n_heads, -1]])\n",
    "        projected = K.reshape(linear(inputs), shape)\n",
    "        perm = K.permute_dimensions(projected, [0, 2, 1, 3])\n",
    "        return K.reshape(perm, [shape[0] * self.n_heads, shape[1], -1])\n",
    "    def call(self, inputs):\n",
    "        q = inputs[0]\n",
    "        v = inputs[1]\n",
    "        k = inputs[2] if len(inputs) > 2 else v\n",
    "        shape = K.shape(q)\n",
    "        q_proj = self._multi_head_linear(q, self.q_linear)\n",
    "        v_proj = self._multi_head_linear(v, self.v_linear)\n",
    "        k_proj = self._multi_head_linear(k, self.k_linear)\n",
    "        multi_attended = self.attention([q_proj, v_proj, k_proj])\n",
    "        shape_attended = K.shape(multi_attended)\n",
    "        reshaped_attended = K.reshape(multi_attended, [shape[0], self.n_heads, shape_attended[1], shape_attended[2]])\n",
    "        perm = K.permute_dimensions(reshaped_attended, [0, 2, 1, 3])\n",
    "        concat = K.reshape(perm, [shape[0], shape_attended[1], -1])\n",
    "        return self.out_linear(concat)\n",
    "        "
   ]
  },
  {
   "cell_type": "code",
   "execution_count": 30,
   "metadata": {
    "colab": {
     "base_uri": "https://localhost:8080/"
    },
    "id": "0WwXXK29IWe9",
    "outputId": "528e2373-8ca2-4075-fbc4-785638f085b1"
   },
   "outputs": [
    {
     "name": "stdout",
     "output_type": "stream",
     "text": [
      "(2, 50, 512)\n"
     ]
    }
   ],
   "source": [
    "def listing5_2_3():\n",
    "\n",
    "    Q = np.random.rand(2, 50, 512)\n",
    "    V = np.random.rand(2, 80, 512)\n",
    "    multi_attn = MultiHeadAttention(8)\n",
    "    \n",
    "    print(multi_attn([Q, V]).shape)\n",
    "\n",
    "listing5_2_3()"
   ]
  },
  {
   "cell_type": "markdown",
   "metadata": {
    "id": "QNXAo1Ib4Dw9"
   },
   "source": [
    "<a id='5.2.4'></a>\n",
    "<a name=\"5.2.4\"></a>\n",
    "### 5.2.4 Keras MultiHeadAttention Layer\n",
    "<a href=\"#top\">[back to top]</a>\n",
    "\n",
    "* tf.keras.layers.MultiHeadAttention\n",
    "\n",
    "* https://www.tensorflow.org/api_docs/python/tf/keras/layers/MultiHeadAttention\n",
    "\n",
    "This is an implementation of multi-headed attention as described in the paper \"Attention is all you Need\" (Vaswani et al., 2017). If query, key, value are the same, then this is self-attention. Each timestep in query attends to the corresponding sequence in key, and returns a fixed-width vector.\n",
    "\n",
    "This layer first projects query, key and value. These are (effectively) a list of tensors of length num_attention_heads, where the corresponding shapes are (batch_size, <query dimensions>, key_dim), (batch_size, <key/value dimensions>, key_dim), (batch_size, <key/value dimensions>, value_dim).\n",
    "\n",
    "Then, the query and key tensors are dot-producted and scaled. These are softmaxed to obtain attention probabilities. The value tensors are then interpolated by these probabilities, then concatenated back to a single tensor.\n",
    "\n",
    "Finally, the result tensor with the last dimension as value_dim can take an linear projection and return.\n",
    "\n",
    "When using MultiHeadAttention inside a custom Layer, the custom Layer must implement build() and call MultiHeadAttention's _build_from_signature(). This enables weights to be restored correctly when the model is loaded.\n",
    "\n",
    "when used in a custom Layer.\n",
    "Examples:\n",
    "Performs 1D cross-attention over two sequence inputs with an attention mask. Returns the additional attention weights over heads."
   ]
  },
  {
   "cell_type": "code",
   "execution_count": 31,
   "metadata": {
    "colab": {
     "base_uri": "https://localhost:8080/"
    },
    "id": "pr4-ULoITI5H",
    "outputId": "4174a81b-906b-4767-9e57-f14ef8a8a892"
   },
   "outputs": [
    {
     "name": "stdout",
     "output_type": "stream",
     "text": [
      "output_tensor.shape: (None, 8, 16)\n",
      "weights.shape: (None, 2, 8, 4)\n"
     ]
    }
   ],
   "source": [
    "def listing5_2_4():\n",
    "    # Performs 1D cross-attention over two sequence inputs with an \n",
    "    # attention mask. Returns the additional attention weights over heads.\n",
    "    layer = tf.keras.layers.MultiHeadAttention(num_heads=2, key_dim=2)\n",
    "    target = tf.keras.Input(shape=[8, 16])\n",
    "    source = tf.keras.Input(shape=[4, 16])\n",
    "    output_tensor, weights = layer(\n",
    "        target, \n",
    "        source,\n",
    "        return_attention_scores=True\n",
    "    )\n",
    "\n",
    "    print(f\"output_tensor.shape: {output_tensor.shape}\")\n",
    "    print(f\"weights.shape: {weights.shape}\")\n",
    "\n",
    "listing5_2_4()"
   ]
  },
  {
   "cell_type": "code",
   "execution_count": 32,
   "metadata": {
    "colab": {
     "base_uri": "https://localhost:8080/"
    },
    "id": "aEZT-AVM4-3A",
    "outputId": "c5e8e65b-7210-4a7f-9951-4d4043e74794"
   },
   "outputs": [
    {
     "name": "stdout",
     "output_type": "stream",
     "text": [
      "output_tensor.shape: (None, 5, 3, 4, 16)\n"
     ]
    }
   ],
   "source": [
    "def listing5_2_4b():\n",
    "    \n",
    "    # Performs 2D self-attention over a 5D input tensor on axes 2 and 3.\n",
    "    layer = tf.keras.layers.MultiHeadAttention(num_heads=2, key_dim=2, attention_axes=(2, 3))\n",
    "    input_tensor = tf.keras.Input(shape=[5, 3, 4, 16])\n",
    "    output_tensor = layer(input_tensor, input_tensor)\n",
    "    print(f\"output_tensor.shape: {output_tensor.shape}\")\n",
    "\n",
    "listing5_2_4b()"
   ]
  },
  {
   "cell_type": "code",
   "execution_count": 33,
   "metadata": {
    "id": "h0FnkFI78as2"
   },
   "outputs": [],
   "source": [
    "def listing5_2_4c():\n",
    "\n",
    "    # https://github.com/keras-team/keras/issues/16248#issue-1170657214\n",
    "\n",
    "    # Transformer:\n",
    "    # encoder_input_ids = tf.keras.layers.Input(shape=[None], dtype=tf.int32)\n",
    "    # encoder_embeddings = tf.keras.layers.Embedding(1000, 512)(encoder_input_ids)\n",
    "    # attn_layer = tf.keras.layers.MultiHeadAttention(num_heads=8, key_dim=512)\n",
    "    # encoder_pad_mask = tf.math.not_equal(encoder_input_ids, 0)  # shape [B, S]\n",
    "    # attention_mask = encoder_pad_mask[:, tf.newaxis]  # shape [B, 1, S]\n",
    "    # outputs = attn_layer(encoder_embeddings, value=encoder_embeddings,\n",
    "    #                     attention_mask=attention_mask)\n",
    "\n",
    "    encoder_input_ids = tf.keras.layers.Input(shape=[None], dtype=tf.int32)\n",
    "    encoder_embeddings = tf.keras.layers.Embedding(1000, 512, mask_zero=True)(encoder_input_ids)\n",
    "    attn_layer = tf.keras.layers.MultiHeadAttention(num_heads=8, key_dim=512)\n",
    "    outputs = attn_layer(encoder_embeddings, value=encoder_embeddings)\n",
    "\n",
    "listing5_2_4c()"
   ]
  },
  {
   "cell_type": "markdown",
   "metadata": {
    "id": "bLpVxRPt_AL0"
   },
   "source": [
    "<a id='6.0'></a>\n",
    "<a name=\"6.0\"></a>\n",
    "# 6.0 Recent Innovations in Language Models\n",
    "<a href=\"#top\">[back to top]</a>\n",
    "\n",
    "No source code"
   ]
  }
 ],
 "metadata": {
  "accelerator": "GPU",
  "colab": {
   "collapsed_sections": [],
   "name": "16_nlp_with_rnns_and_attention.ipynb",
   "provenance": []
  },
  "gpuClass": "standard",
  "kernelspec": {
   "display_name": "Python 3 (ipykernel)",
   "language": "python",
   "name": "python3"
  },
  "language_info": {
   "codemirror_mode": {
    "name": "ipython",
    "version": 3
   },
   "file_extension": ".py",
   "mimetype": "text/x-python",
   "name": "python",
   "nbconvert_exporter": "python",
   "pygments_lexer": "ipython3",
   "version": "3.8.12"
  },
  "nav_menu": {},
  "toc": {
   "navigate_menu": true,
   "number_sections": true,
   "sideBar": true,
   "threshold": 6,
   "toc_cell": false,
   "toc_section_display": "block",
   "toc_window_display": false
  },
  "widgets": {
   "application/vnd.jupyter.widget-state+json": {
    "03cc12b305cc4f029060ddad09430490": {
     "model_module": "@jupyter-widgets/base",
     "model_module_version": "1.2.0",
     "model_name": "LayoutModel",
     "state": {
      "_model_module": "@jupyter-widgets/base",
      "_model_module_version": "1.2.0",
      "_model_name": "LayoutModel",
      "_view_count": null,
      "_view_module": "@jupyter-widgets/base",
      "_view_module_version": "1.2.0",
      "_view_name": "LayoutView",
      "align_content": null,
      "align_items": null,
      "align_self": null,
      "border": null,
      "bottom": null,
      "display": null,
      "flex": null,
      "flex_flow": null,
      "grid_area": null,
      "grid_auto_columns": null,
      "grid_auto_flow": null,
      "grid_auto_rows": null,
      "grid_column": null,
      "grid_gap": null,
      "grid_row": null,
      "grid_template_areas": null,
      "grid_template_columns": null,
      "grid_template_rows": null,
      "height": null,
      "justify_content": null,
      "justify_items": null,
      "left": null,
      "margin": null,
      "max_height": null,
      "max_width": null,
      "min_height": null,
      "min_width": null,
      "object_fit": null,
      "object_position": null,
      "order": null,
      "overflow": null,
      "overflow_x": null,
      "overflow_y": null,
      "padding": null,
      "right": null,
      "top": null,
      "visibility": null,
      "width": null
     }
    },
    "03ec7f6ae0e4402699228a7b26c109d1": {
     "model_module": "@jupyter-widgets/controls",
     "model_module_version": "1.5.0",
     "model_name": "HTMLModel",
     "state": {
      "_dom_classes": [],
      "_model_module": "@jupyter-widgets/controls",
      "_model_module_version": "1.5.0",
      "_model_name": "HTMLModel",
      "_view_count": null,
      "_view_module": "@jupyter-widgets/controls",
      "_view_module_version": "1.5.0",
      "_view_name": "HTMLView",
      "description": "",
      "description_tooltip": null,
      "layout": "IPY_MODEL_f644530ee1184272a0de04da01a0324a",
      "placeholder": "​",
      "style": "IPY_MODEL_cd70ffc369b5468597cd8318e9b94fff",
      "value": " 49999/50000 [00:00&lt;00:00, 167322.64 examples/s]"
     }
    },
    "052e7ebec8d54cda9ecac67c58a1e0c3": {
     "model_module": "@jupyter-widgets/base",
     "model_module_version": "1.2.0",
     "model_name": "LayoutModel",
     "state": {
      "_model_module": "@jupyter-widgets/base",
      "_model_module_version": "1.2.0",
      "_model_name": "LayoutModel",
      "_view_count": null,
      "_view_module": "@jupyter-widgets/base",
      "_view_module_version": "1.2.0",
      "_view_name": "LayoutView",
      "align_content": null,
      "align_items": null,
      "align_self": null,
      "border": null,
      "bottom": null,
      "display": null,
      "flex": null,
      "flex_flow": null,
      "grid_area": null,
      "grid_auto_columns": null,
      "grid_auto_flow": null,
      "grid_auto_rows": null,
      "grid_column": null,
      "grid_gap": null,
      "grid_row": null,
      "grid_template_areas": null,
      "grid_template_columns": null,
      "grid_template_rows": null,
      "height": null,
      "justify_content": null,
      "justify_items": null,
      "left": null,
      "margin": null,
      "max_height": null,
      "max_width": null,
      "min_height": null,
      "min_width": null,
      "object_fit": null,
      "object_position": null,
      "order": null,
      "overflow": null,
      "overflow_x": null,
      "overflow_y": null,
      "padding": null,
      "right": null,
      "top": null,
      "visibility": null,
      "width": null
     }
    },
    "0c6162b5d81e4b4f8b195f9fb7e3b195": {
     "model_module": "@jupyter-widgets/controls",
     "model_module_version": "1.5.0",
     "model_name": "ProgressStyleModel",
     "state": {
      "_model_module": "@jupyter-widgets/controls",
      "_model_module_version": "1.5.0",
      "_model_name": "ProgressStyleModel",
      "_view_count": null,
      "_view_module": "@jupyter-widgets/base",
      "_view_module_version": "1.2.0",
      "_view_name": "StyleView",
      "bar_color": null,
      "description_width": ""
     }
    },
    "133d2c5b2b8340bb810f30e16b742680": {
     "model_module": "@jupyter-widgets/controls",
     "model_module_version": "1.5.0",
     "model_name": "ProgressStyleModel",
     "state": {
      "_model_module": "@jupyter-widgets/controls",
      "_model_module_version": "1.5.0",
      "_model_name": "ProgressStyleModel",
      "_view_count": null,
      "_view_module": "@jupyter-widgets/base",
      "_view_module_version": "1.2.0",
      "_view_name": "StyleView",
      "bar_color": null,
      "description_width": ""
     }
    },
    "1926643618404e259dedb2eba8c95d92": {
     "model_module": "@jupyter-widgets/controls",
     "model_module_version": "1.5.0",
     "model_name": "FloatProgressModel",
     "state": {
      "_dom_classes": [],
      "_model_module": "@jupyter-widgets/controls",
      "_model_module_version": "1.5.0",
      "_model_name": "FloatProgressModel",
      "_view_count": null,
      "_view_module": "@jupyter-widgets/controls",
      "_view_module_version": "1.5.0",
      "_view_name": "ProgressView",
      "bar_style": "info",
      "description": "",
      "description_tooltip": null,
      "layout": "IPY_MODEL_c1fb99e288924aa0bb596c824e01982d",
      "max": 1,
      "min": 0,
      "orientation": "horizontal",
      "style": "IPY_MODEL_4ef68542abf9425b95fe1e64af15d426",
      "value": 1
     }
    },
    "19312191b61b4b03afb39b2ae72b8933": {
     "model_module": "@jupyter-widgets/controls",
     "model_module_version": "1.5.0",
     "model_name": "HTMLModel",
     "state": {
      "_dom_classes": [],
      "_model_module": "@jupyter-widgets/controls",
      "_model_module_version": "1.5.0",
      "_model_name": "HTMLModel",
      "_view_count": null,
      "_view_module": "@jupyter-widgets/controls",
      "_view_module_version": "1.5.0",
      "_view_name": "HTMLView",
      "description": "",
      "description_tooltip": null,
      "layout": "IPY_MODEL_b389fc00d429416ea9a69cc9fbc9bcc2",
      "placeholder": "​",
      "style": "IPY_MODEL_e3dac0bc5ecc427ba4bb21eec668a9de",
      "value": " 24999/25000 [00:00&lt;00:00, 120076.37 examples/s]"
     }
    },
    "1c31109957ef438dbd60243f3f4b53b6": {
     "model_module": "@jupyter-widgets/controls",
     "model_module_version": "1.5.0",
     "model_name": "FloatProgressModel",
     "state": {
      "_dom_classes": [],
      "_model_module": "@jupyter-widgets/controls",
      "_model_module_version": "1.5.0",
      "_model_name": "FloatProgressModel",
      "_view_count": null,
      "_view_module": "@jupyter-widgets/controls",
      "_view_module_version": "1.5.0",
      "_view_name": "ProgressView",
      "bar_style": "info",
      "description": "",
      "description_tooltip": null,
      "layout": "IPY_MODEL_54b932562b4a4ce8b4ca253d1736f98f",
      "max": 1,
      "min": 0,
      "orientation": "horizontal",
      "style": "IPY_MODEL_133d2c5b2b8340bb810f30e16b742680",
      "value": 1
     }
    },
    "20d73fbeedd24b92bad40a11940d8b31": {
     "model_module": "@jupyter-widgets/controls",
     "model_module_version": "1.5.0",
     "model_name": "DescriptionStyleModel",
     "state": {
      "_model_module": "@jupyter-widgets/controls",
      "_model_module_version": "1.5.0",
      "_model_name": "DescriptionStyleModel",
      "_view_count": null,
      "_view_module": "@jupyter-widgets/base",
      "_view_module_version": "1.2.0",
      "_view_name": "StyleView",
      "description_width": ""
     }
    },
    "220cfdf789df4cd2967fdad979641608": {
     "model_module": "@jupyter-widgets/base",
     "model_module_version": "1.2.0",
     "model_name": "LayoutModel",
     "state": {
      "_model_module": "@jupyter-widgets/base",
      "_model_module_version": "1.2.0",
      "_model_name": "LayoutModel",
      "_view_count": null,
      "_view_module": "@jupyter-widgets/base",
      "_view_module_version": "1.2.0",
      "_view_name": "LayoutView",
      "align_content": null,
      "align_items": null,
      "align_self": null,
      "border": null,
      "bottom": null,
      "display": null,
      "flex": null,
      "flex_flow": null,
      "grid_area": null,
      "grid_auto_columns": null,
      "grid_auto_flow": null,
      "grid_auto_rows": null,
      "grid_column": null,
      "grid_gap": null,
      "grid_row": null,
      "grid_template_areas": null,
      "grid_template_columns": null,
      "grid_template_rows": null,
      "height": null,
      "justify_content": null,
      "justify_items": null,
      "left": null,
      "margin": null,
      "max_height": null,
      "max_width": null,
      "min_height": null,
      "min_width": null,
      "object_fit": null,
      "object_position": null,
      "order": null,
      "overflow": null,
      "overflow_x": null,
      "overflow_y": null,
      "padding": null,
      "right": null,
      "top": null,
      "visibility": null,
      "width": null
     }
    },
    "2317dce1746d48e89a25c33fc124a94e": {
     "model_module": "@jupyter-widgets/controls",
     "model_module_version": "1.5.0",
     "model_name": "FloatProgressModel",
     "state": {
      "_dom_classes": [],
      "_model_module": "@jupyter-widgets/controls",
      "_model_module_version": "1.5.0",
      "_model_name": "FloatProgressModel",
      "_view_count": null,
      "_view_module": "@jupyter-widgets/controls",
      "_view_module_version": "1.5.0",
      "_view_name": "ProgressView",
      "bar_style": "info",
      "description": "",
      "description_tooltip": null,
      "layout": "IPY_MODEL_c967cf9986e8418ab44f30d5db6ab997",
      "max": 1,
      "min": 0,
      "orientation": "horizontal",
      "style": "IPY_MODEL_0c6162b5d81e4b4f8b195f9fb7e3b195",
      "value": 1
     }
    },
    "239a68a2f11a424f87d68c37d0660c4d": {
     "model_module": "@jupyter-widgets/controls",
     "model_module_version": "1.5.0",
     "model_name": "HTMLModel",
     "state": {
      "_dom_classes": [],
      "_model_module": "@jupyter-widgets/controls",
      "_model_module_version": "1.5.0",
      "_model_name": "HTMLModel",
      "_view_count": null,
      "_view_module": "@jupyter-widgets/controls",
      "_view_module_version": "1.5.0",
      "_view_name": "HTMLView",
      "description": "",
      "description_tooltip": null,
      "layout": "IPY_MODEL_ce49fbacb79548a692b5e0b0da6cb8a4",
      "placeholder": "​",
      "style": "IPY_MODEL_240c6d032c994cd08851a67dbf307044",
      "value": " 49772/0 [00:18&lt;00:00, 3690.16 examples/s]"
     }
    },
    "240c6d032c994cd08851a67dbf307044": {
     "model_module": "@jupyter-widgets/controls",
     "model_module_version": "1.5.0",
     "model_name": "DescriptionStyleModel",
     "state": {
      "_model_module": "@jupyter-widgets/controls",
      "_model_module_version": "1.5.0",
      "_model_name": "DescriptionStyleModel",
      "_view_count": null,
      "_view_module": "@jupyter-widgets/base",
      "_view_module_version": "1.2.0",
      "_view_name": "StyleView",
      "description_width": ""
     }
    },
    "2a8cbeb2a4bf44ceb55d19640f5c6933": {
     "model_module": "@jupyter-widgets/base",
     "model_module_version": "1.2.0",
     "model_name": "LayoutModel",
     "state": {
      "_model_module": "@jupyter-widgets/base",
      "_model_module_version": "1.2.0",
      "_model_name": "LayoutModel",
      "_view_count": null,
      "_view_module": "@jupyter-widgets/base",
      "_view_module_version": "1.2.0",
      "_view_name": "LayoutView",
      "align_content": null,
      "align_items": null,
      "align_self": null,
      "border": null,
      "bottom": null,
      "display": null,
      "flex": null,
      "flex_flow": null,
      "grid_area": null,
      "grid_auto_columns": null,
      "grid_auto_flow": null,
      "grid_auto_rows": null,
      "grid_column": null,
      "grid_gap": null,
      "grid_row": null,
      "grid_template_areas": null,
      "grid_template_columns": null,
      "grid_template_rows": null,
      "height": null,
      "justify_content": null,
      "justify_items": null,
      "left": null,
      "margin": null,
      "max_height": null,
      "max_width": null,
      "min_height": null,
      "min_width": null,
      "object_fit": null,
      "object_position": null,
      "order": null,
      "overflow": null,
      "overflow_x": null,
      "overflow_y": null,
      "padding": null,
      "right": null,
      "top": null,
      "visibility": null,
      "width": null
     }
    },
    "2b7a69d38d934e6c821cfad880f096f9": {
     "model_module": "@jupyter-widgets/controls",
     "model_module_version": "1.5.0",
     "model_name": "DescriptionStyleModel",
     "state": {
      "_model_module": "@jupyter-widgets/controls",
      "_model_module_version": "1.5.0",
      "_model_name": "DescriptionStyleModel",
      "_view_count": null,
      "_view_module": "@jupyter-widgets/base",
      "_view_module_version": "1.2.0",
      "_view_name": "StyleView",
      "description_width": ""
     }
    },
    "3790eb67ec3f44e98b7d29f95141c605": {
     "model_module": "@jupyter-widgets/base",
     "model_module_version": "1.2.0",
     "model_name": "LayoutModel",
     "state": {
      "_model_module": "@jupyter-widgets/base",
      "_model_module_version": "1.2.0",
      "_model_name": "LayoutModel",
      "_view_count": null,
      "_view_module": "@jupyter-widgets/base",
      "_view_module_version": "1.2.0",
      "_view_name": "LayoutView",
      "align_content": null,
      "align_items": null,
      "align_self": null,
      "border": null,
      "bottom": null,
      "display": null,
      "flex": null,
      "flex_flow": null,
      "grid_area": null,
      "grid_auto_columns": null,
      "grid_auto_flow": null,
      "grid_auto_rows": null,
      "grid_column": null,
      "grid_gap": null,
      "grid_row": null,
      "grid_template_areas": null,
      "grid_template_columns": null,
      "grid_template_rows": null,
      "height": null,
      "justify_content": null,
      "justify_items": null,
      "left": null,
      "margin": null,
      "max_height": null,
      "max_width": null,
      "min_height": null,
      "min_width": null,
      "object_fit": null,
      "object_position": null,
      "order": null,
      "overflow": null,
      "overflow_x": null,
      "overflow_y": null,
      "padding": null,
      "right": null,
      "top": null,
      "visibility": null,
      "width": "20px"
     }
    },
    "3bbf2de2109d4aefa937143115244fa8": {
     "model_module": "@jupyter-widgets/controls",
     "model_module_version": "1.5.0",
     "model_name": "FloatProgressModel",
     "state": {
      "_dom_classes": [],
      "_model_module": "@jupyter-widgets/controls",
      "_model_module_version": "1.5.0",
      "_model_name": "FloatProgressModel",
      "_view_count": null,
      "_view_module": "@jupyter-widgets/controls",
      "_view_module_version": "1.5.0",
      "_view_name": "ProgressView",
      "bar_style": "success",
      "description": "",
      "description_tooltip": null,
      "layout": "IPY_MODEL_3790eb67ec3f44e98b7d29f95141c605",
      "max": 1,
      "min": 0,
      "orientation": "horizontal",
      "style": "IPY_MODEL_84d0efede37141baa6b0081e0b5d16ed",
      "value": 1
     }
    },
    "3be9a0be10ae46f2aac2dab245f8bfb0": {
     "model_module": "@jupyter-widgets/controls",
     "model_module_version": "1.5.0",
     "model_name": "DescriptionStyleModel",
     "state": {
      "_model_module": "@jupyter-widgets/controls",
      "_model_module_version": "1.5.0",
      "_model_name": "DescriptionStyleModel",
      "_view_count": null,
      "_view_module": "@jupyter-widgets/base",
      "_view_module_version": "1.2.0",
      "_view_name": "StyleView",
      "description_width": ""
     }
    },
    "3c2c0c99caa647d297b9d5836dc26783": {
     "model_module": "@jupyter-widgets/base",
     "model_module_version": "1.2.0",
     "model_name": "LayoutModel",
     "state": {
      "_model_module": "@jupyter-widgets/base",
      "_model_module_version": "1.2.0",
      "_model_name": "LayoutModel",
      "_view_count": null,
      "_view_module": "@jupyter-widgets/base",
      "_view_module_version": "1.2.0",
      "_view_name": "LayoutView",
      "align_content": null,
      "align_items": null,
      "align_self": null,
      "border": null,
      "bottom": null,
      "display": null,
      "flex": null,
      "flex_flow": null,
      "grid_area": null,
      "grid_auto_columns": null,
      "grid_auto_flow": null,
      "grid_auto_rows": null,
      "grid_column": null,
      "grid_gap": null,
      "grid_row": null,
      "grid_template_areas": null,
      "grid_template_columns": null,
      "grid_template_rows": null,
      "height": null,
      "justify_content": null,
      "justify_items": null,
      "left": null,
      "margin": null,
      "max_height": null,
      "max_width": null,
      "min_height": null,
      "min_width": null,
      "object_fit": null,
      "object_position": null,
      "order": null,
      "overflow": null,
      "overflow_x": null,
      "overflow_y": null,
      "padding": null,
      "right": null,
      "top": null,
      "visibility": null,
      "width": null
     }
    },
    "3c9c6dc757344293a15e5cb41e8a3cd4": {
     "model_module": "@jupyter-widgets/controls",
     "model_module_version": "1.5.0",
     "model_name": "FloatProgressModel",
     "state": {
      "_dom_classes": [],
      "_model_module": "@jupyter-widgets/controls",
      "_model_module_version": "1.5.0",
      "_model_name": "FloatProgressModel",
      "_view_count": null,
      "_view_module": "@jupyter-widgets/controls",
      "_view_module_version": "1.5.0",
      "_view_name": "ProgressView",
      "bar_style": "danger",
      "description": "",
      "description_tooltip": null,
      "layout": "IPY_MODEL_4c73261b31e5495bb904c6c290d67d4a",
      "max": 25000,
      "min": 0,
      "orientation": "horizontal",
      "style": "IPY_MODEL_5064a99219df4bf9b7d0cb61bb96b64c",
      "value": 24999
     }
    },
    "47be2e0b707a4be9b8cb132c9e879129": {
     "model_module": "@jupyter-widgets/controls",
     "model_module_version": "1.5.0",
     "model_name": "HBoxModel",
     "state": {
      "_dom_classes": [],
      "_model_module": "@jupyter-widgets/controls",
      "_model_module_version": "1.5.0",
      "_model_name": "HBoxModel",
      "_view_count": null,
      "_view_module": "@jupyter-widgets/controls",
      "_view_module_version": "1.5.0",
      "_view_name": "HBoxView",
      "box_style": "",
      "children": [
       "IPY_MODEL_988fe9b7099e4a5b9abd41eeb685210d",
       "IPY_MODEL_b14588ef814f4953bbd5687fe60632df",
       "IPY_MODEL_5b8f1783aadd4962a1fa6c2fb1fe7755"
      ],
      "layout": "IPY_MODEL_706d9db53d524551819541ce63bff785"
     }
    },
    "4c73261b31e5495bb904c6c290d67d4a": {
     "model_module": "@jupyter-widgets/base",
     "model_module_version": "1.2.0",
     "model_name": "LayoutModel",
     "state": {
      "_model_module": "@jupyter-widgets/base",
      "_model_module_version": "1.2.0",
      "_model_name": "LayoutModel",
      "_view_count": null,
      "_view_module": "@jupyter-widgets/base",
      "_view_module_version": "1.2.0",
      "_view_name": "LayoutView",
      "align_content": null,
      "align_items": null,
      "align_self": null,
      "border": null,
      "bottom": null,
      "display": null,
      "flex": null,
      "flex_flow": null,
      "grid_area": null,
      "grid_auto_columns": null,
      "grid_auto_flow": null,
      "grid_auto_rows": null,
      "grid_column": null,
      "grid_gap": null,
      "grid_row": null,
      "grid_template_areas": null,
      "grid_template_columns": null,
      "grid_template_rows": null,
      "height": null,
      "justify_content": null,
      "justify_items": null,
      "left": null,
      "margin": null,
      "max_height": null,
      "max_width": null,
      "min_height": null,
      "min_width": null,
      "object_fit": null,
      "object_position": null,
      "order": null,
      "overflow": null,
      "overflow_x": null,
      "overflow_y": null,
      "padding": null,
      "right": null,
      "top": null,
      "visibility": null,
      "width": null
     }
    },
    "4d34fee6e85b4970bc54d02622e753d5": {
     "model_module": "@jupyter-widgets/controls",
     "model_module_version": "1.5.0",
     "model_name": "HBoxModel",
     "state": {
      "_dom_classes": [],
      "_model_module": "@jupyter-widgets/controls",
      "_model_module_version": "1.5.0",
      "_model_name": "HBoxModel",
      "_view_count": null,
      "_view_module": "@jupyter-widgets/controls",
      "_view_module_version": "1.5.0",
      "_view_name": "HBoxView",
      "box_style": "",
      "children": [
       "IPY_MODEL_52241c48bd024b54ac476522e7d2e7c9",
       "IPY_MODEL_1926643618404e259dedb2eba8c95d92",
       "IPY_MODEL_ff6f5fb4d83c402fa270411dc87baa93"
      ],
      "layout": "IPY_MODEL_6daefb43cfef471b89f44c2379d98c29"
     }
    },
    "4e0d0bd3f3d243b08cad2d0f3356d5bf": {
     "model_module": "@jupyter-widgets/base",
     "model_module_version": "1.2.0",
     "model_name": "LayoutModel",
     "state": {
      "_model_module": "@jupyter-widgets/base",
      "_model_module_version": "1.2.0",
      "_model_name": "LayoutModel",
      "_view_count": null,
      "_view_module": "@jupyter-widgets/base",
      "_view_module_version": "1.2.0",
      "_view_name": "LayoutView",
      "align_content": null,
      "align_items": null,
      "align_self": null,
      "border": null,
      "bottom": null,
      "display": null,
      "flex": null,
      "flex_flow": null,
      "grid_area": null,
      "grid_auto_columns": null,
      "grid_auto_flow": null,
      "grid_auto_rows": null,
      "grid_column": null,
      "grid_gap": null,
      "grid_row": null,
      "grid_template_areas": null,
      "grid_template_columns": null,
      "grid_template_rows": null,
      "height": null,
      "justify_content": null,
      "justify_items": null,
      "left": null,
      "margin": null,
      "max_height": null,
      "max_width": null,
      "min_height": null,
      "min_width": null,
      "object_fit": null,
      "object_position": null,
      "order": null,
      "overflow": null,
      "overflow_x": null,
      "overflow_y": null,
      "padding": null,
      "right": null,
      "top": null,
      "visibility": null,
      "width": null
     }
    },
    "4ef68542abf9425b95fe1e64af15d426": {
     "model_module": "@jupyter-widgets/controls",
     "model_module_version": "1.5.0",
     "model_name": "ProgressStyleModel",
     "state": {
      "_model_module": "@jupyter-widgets/controls",
      "_model_module_version": "1.5.0",
      "_model_name": "ProgressStyleModel",
      "_view_count": null,
      "_view_module": "@jupyter-widgets/base",
      "_view_module_version": "1.2.0",
      "_view_name": "StyleView",
      "bar_color": null,
      "description_width": ""
     }
    },
    "5064a99219df4bf9b7d0cb61bb96b64c": {
     "model_module": "@jupyter-widgets/controls",
     "model_module_version": "1.5.0",
     "model_name": "ProgressStyleModel",
     "state": {
      "_model_module": "@jupyter-widgets/controls",
      "_model_module_version": "1.5.0",
      "_model_name": "ProgressStyleModel",
      "_view_count": null,
      "_view_module": "@jupyter-widgets/base",
      "_view_module_version": "1.2.0",
      "_view_name": "StyleView",
      "bar_color": null,
      "description_width": ""
     }
    },
    "52241c48bd024b54ac476522e7d2e7c9": {
     "model_module": "@jupyter-widgets/controls",
     "model_module_version": "1.5.0",
     "model_name": "HTMLModel",
     "state": {
      "_dom_classes": [],
      "_model_module": "@jupyter-widgets/controls",
      "_model_module_version": "1.5.0",
      "_model_name": "HTMLModel",
      "_view_count": null,
      "_view_module": "@jupyter-widgets/controls",
      "_view_module_version": "1.5.0",
      "_view_name": "HTMLView",
      "description": "",
      "description_tooltip": null,
      "layout": "IPY_MODEL_bb0e779838a044e6a4cb9fe3d974f3d2",
      "placeholder": "​",
      "style": "IPY_MODEL_f2241d18763e4127bb51942fbce4918e",
      "value": ""
     }
    },
    "53ea43738994471fa1c931eb3555cb37": {
     "model_module": "@jupyter-widgets/controls",
     "model_module_version": "1.5.0",
     "model_name": "DescriptionStyleModel",
     "state": {
      "_model_module": "@jupyter-widgets/controls",
      "_model_module_version": "1.5.0",
      "_model_name": "DescriptionStyleModel",
      "_view_count": null,
      "_view_module": "@jupyter-widgets/base",
      "_view_module_version": "1.2.0",
      "_view_name": "StyleView",
      "description_width": ""
     }
    },
    "54b932562b4a4ce8b4ca253d1736f98f": {
     "model_module": "@jupyter-widgets/base",
     "model_module_version": "1.2.0",
     "model_name": "LayoutModel",
     "state": {
      "_model_module": "@jupyter-widgets/base",
      "_model_module_version": "1.2.0",
      "_model_name": "LayoutModel",
      "_view_count": null,
      "_view_module": "@jupyter-widgets/base",
      "_view_module_version": "1.2.0",
      "_view_name": "LayoutView",
      "align_content": null,
      "align_items": null,
      "align_self": null,
      "border": null,
      "bottom": null,
      "display": null,
      "flex": null,
      "flex_flow": null,
      "grid_area": null,
      "grid_auto_columns": null,
      "grid_auto_flow": null,
      "grid_auto_rows": null,
      "grid_column": null,
      "grid_gap": null,
      "grid_row": null,
      "grid_template_areas": null,
      "grid_template_columns": null,
      "grid_template_rows": null,
      "height": null,
      "justify_content": null,
      "justify_items": null,
      "left": null,
      "margin": null,
      "max_height": null,
      "max_width": null,
      "min_height": null,
      "min_width": null,
      "object_fit": null,
      "object_position": null,
      "order": null,
      "overflow": null,
      "overflow_x": null,
      "overflow_y": null,
      "padding": null,
      "right": null,
      "top": null,
      "visibility": null,
      "width": "20px"
     }
    },
    "591a9a6f26614bb1bd63275188381877": {
     "model_module": "@jupyter-widgets/controls",
     "model_module_version": "1.5.0",
     "model_name": "DescriptionStyleModel",
     "state": {
      "_model_module": "@jupyter-widgets/controls",
      "_model_module_version": "1.5.0",
      "_model_name": "DescriptionStyleModel",
      "_view_count": null,
      "_view_module": "@jupyter-widgets/base",
      "_view_module_version": "1.2.0",
      "_view_name": "StyleView",
      "description_width": ""
     }
    },
    "5b8f1783aadd4962a1fa6c2fb1fe7755": {
     "model_module": "@jupyter-widgets/controls",
     "model_module_version": "1.5.0",
     "model_name": "HTMLModel",
     "state": {
      "_dom_classes": [],
      "_model_module": "@jupyter-widgets/controls",
      "_model_module_version": "1.5.0",
      "_model_name": "HTMLModel",
      "_view_count": null,
      "_view_module": "@jupyter-widgets/controls",
      "_view_module_version": "1.5.0",
      "_view_name": "HTMLView",
      "description": "",
      "description_tooltip": null,
      "layout": "IPY_MODEL_956ef3035f8d4570a02e26db18af148a",
      "placeholder": "​",
      "style": "IPY_MODEL_53ea43738994471fa1c931eb3555cb37",
      "value": " 1/1 [00:06&lt;00:00,  6.38s/ url]"
     }
    },
    "674879832dc84d178a676a5d0b4c26aa": {
     "model_module": "@jupyter-widgets/controls",
     "model_module_version": "1.5.0",
     "model_name": "FloatProgressModel",
     "state": {
      "_dom_classes": [],
      "_model_module": "@jupyter-widgets/controls",
      "_model_module_version": "1.5.0",
      "_model_name": "FloatProgressModel",
      "_view_count": null,
      "_view_module": "@jupyter-widgets/controls",
      "_view_module_version": "1.5.0",
      "_view_name": "ProgressView",
      "bar_style": "danger",
      "description": "",
      "description_tooltip": null,
      "layout": "IPY_MODEL_94775340b89a41ccb15ded8b0b506443",
      "max": 25000,
      "min": 0,
      "orientation": "horizontal",
      "style": "IPY_MODEL_f03c8e29d19549b7ba984c93e6bff0c1",
      "value": 24999
     }
    },
    "6daefb43cfef471b89f44c2379d98c29": {
     "model_module": "@jupyter-widgets/base",
     "model_module_version": "1.2.0",
     "model_name": "LayoutModel",
     "state": {
      "_model_module": "@jupyter-widgets/base",
      "_model_module_version": "1.2.0",
      "_model_name": "LayoutModel",
      "_view_count": null,
      "_view_module": "@jupyter-widgets/base",
      "_view_module_version": "1.2.0",
      "_view_name": "LayoutView",
      "align_content": null,
      "align_items": null,
      "align_self": null,
      "border": null,
      "bottom": null,
      "display": null,
      "flex": null,
      "flex_flow": null,
      "grid_area": null,
      "grid_auto_columns": null,
      "grid_auto_flow": null,
      "grid_auto_rows": null,
      "grid_column": null,
      "grid_gap": null,
      "grid_row": null,
      "grid_template_areas": null,
      "grid_template_columns": null,
      "grid_template_rows": null,
      "height": null,
      "justify_content": null,
      "justify_items": null,
      "left": null,
      "margin": null,
      "max_height": null,
      "max_width": null,
      "min_height": null,
      "min_width": null,
      "object_fit": null,
      "object_position": null,
      "order": null,
      "overflow": null,
      "overflow_x": null,
      "overflow_y": null,
      "padding": null,
      "right": null,
      "top": null,
      "visibility": null,
      "width": null
     }
    },
    "706d9db53d524551819541ce63bff785": {
     "model_module": "@jupyter-widgets/base",
     "model_module_version": "1.2.0",
     "model_name": "LayoutModel",
     "state": {
      "_model_module": "@jupyter-widgets/base",
      "_model_module_version": "1.2.0",
      "_model_name": "LayoutModel",
      "_view_count": null,
      "_view_module": "@jupyter-widgets/base",
      "_view_module_version": "1.2.0",
      "_view_name": "LayoutView",
      "align_content": null,
      "align_items": null,
      "align_self": null,
      "border": null,
      "bottom": null,
      "display": null,
      "flex": null,
      "flex_flow": null,
      "grid_area": null,
      "grid_auto_columns": null,
      "grid_auto_flow": null,
      "grid_auto_rows": null,
      "grid_column": null,
      "grid_gap": null,
      "grid_row": null,
      "grid_template_areas": null,
      "grid_template_columns": null,
      "grid_template_rows": null,
      "height": null,
      "justify_content": null,
      "justify_items": null,
      "left": null,
      "margin": null,
      "max_height": null,
      "max_width": null,
      "min_height": null,
      "min_width": null,
      "object_fit": null,
      "object_position": null,
      "order": null,
      "overflow": null,
      "overflow_x": null,
      "overflow_y": null,
      "padding": null,
      "right": null,
      "top": null,
      "visibility": null,
      "width": null
     }
    },
    "725672e7e32e4a8287e30762f3104698": {
     "model_module": "@jupyter-widgets/controls",
     "model_module_version": "1.5.0",
     "model_name": "HTMLModel",
     "state": {
      "_dom_classes": [],
      "_model_module": "@jupyter-widgets/controls",
      "_model_module_version": "1.5.0",
      "_model_name": "HTMLModel",
      "_view_count": null,
      "_view_module": "@jupyter-widgets/controls",
      "_view_module_version": "1.5.0",
      "_view_name": "HTMLView",
      "description": "",
      "description_tooltip": null,
      "layout": "IPY_MODEL_e2fe4329be55452885b8f3e0e8c56f8d",
      "placeholder": "​",
      "style": "IPY_MODEL_f261349c7dae4cfda62217b5c34f7cad",
      "value": ""
     }
    },
    "7415f1f5305c44bc991063bb34b718a1": {
     "model_module": "@jupyter-widgets/controls",
     "model_module_version": "1.5.0",
     "model_name": "HTMLModel",
     "state": {
      "_dom_classes": [],
      "_model_module": "@jupyter-widgets/controls",
      "_model_module_version": "1.5.0",
      "_model_name": "HTMLModel",
      "_view_count": null,
      "_view_module": "@jupyter-widgets/controls",
      "_view_module_version": "1.5.0",
      "_view_name": "HTMLView",
      "description": "",
      "description_tooltip": null,
      "layout": "IPY_MODEL_8b45ff42e7a44932b5ac08c83c7ece03",
      "placeholder": "​",
      "style": "IPY_MODEL_ad100e1277ec41649a2616b3537c26d4",
      "value": " 24999/25000 [00:00&lt;00:00, 93722.27 examples/s]"
     }
    },
    "755638a63383499aae84f0fb9e51b502": {
     "model_module": "@jupyter-widgets/base",
     "model_module_version": "1.2.0",
     "model_name": "LayoutModel",
     "state": {
      "_model_module": "@jupyter-widgets/base",
      "_model_module_version": "1.2.0",
      "_model_name": "LayoutModel",
      "_view_count": null,
      "_view_module": "@jupyter-widgets/base",
      "_view_module_version": "1.2.0",
      "_view_name": "LayoutView",
      "align_content": null,
      "align_items": null,
      "align_self": null,
      "border": null,
      "bottom": null,
      "display": null,
      "flex": null,
      "flex_flow": null,
      "grid_area": null,
      "grid_auto_columns": null,
      "grid_auto_flow": null,
      "grid_auto_rows": null,
      "grid_column": null,
      "grid_gap": null,
      "grid_row": null,
      "grid_template_areas": null,
      "grid_template_columns": null,
      "grid_template_rows": null,
      "height": null,
      "justify_content": null,
      "justify_items": null,
      "left": null,
      "margin": null,
      "max_height": null,
      "max_width": null,
      "min_height": null,
      "min_width": null,
      "object_fit": null,
      "object_position": null,
      "order": null,
      "overflow": null,
      "overflow_x": null,
      "overflow_y": null,
      "padding": null,
      "right": null,
      "top": null,
      "visibility": null,
      "width": null
     }
    },
    "77e9b3fa337b47a99aa289acee19ce7f": {
     "model_module": "@jupyter-widgets/controls",
     "model_module_version": "1.5.0",
     "model_name": "HTMLModel",
     "state": {
      "_dom_classes": [],
      "_model_module": "@jupyter-widgets/controls",
      "_model_module_version": "1.5.0",
      "_model_name": "HTMLModel",
      "_view_count": null,
      "_view_module": "@jupyter-widgets/controls",
      "_view_module_version": "1.5.0",
      "_view_name": "HTMLView",
      "description": "",
      "description_tooltip": null,
      "layout": "IPY_MODEL_755638a63383499aae84f0fb9e51b502",
      "placeholder": "​",
      "style": "IPY_MODEL_ef233921e4d343d2b4d089d94713c227",
      "value": "Dl Size...: 100%"
     }
    },
    "7f95390087304b9ea7a7ad0b3aba5527": {
     "model_module": "@jupyter-widgets/base",
     "model_module_version": "1.2.0",
     "model_name": "LayoutModel",
     "state": {
      "_model_module": "@jupyter-widgets/base",
      "_model_module_version": "1.2.0",
      "_model_name": "LayoutModel",
      "_view_count": null,
      "_view_module": "@jupyter-widgets/base",
      "_view_module_version": "1.2.0",
      "_view_name": "LayoutView",
      "align_content": null,
      "align_items": null,
      "align_self": null,
      "border": null,
      "bottom": null,
      "display": null,
      "flex": null,
      "flex_flow": null,
      "grid_area": null,
      "grid_auto_columns": null,
      "grid_auto_flow": null,
      "grid_auto_rows": null,
      "grid_column": null,
      "grid_gap": null,
      "grid_row": null,
      "grid_template_areas": null,
      "grid_template_columns": null,
      "grid_template_rows": null,
      "height": null,
      "justify_content": null,
      "justify_items": null,
      "left": null,
      "margin": null,
      "max_height": null,
      "max_width": null,
      "min_height": null,
      "min_width": null,
      "object_fit": null,
      "object_position": null,
      "order": null,
      "overflow": null,
      "overflow_x": null,
      "overflow_y": null,
      "padding": null,
      "right": null,
      "top": null,
      "visibility": null,
      "width": null
     }
    },
    "7fe994279653490a868cde237cc89581": {
     "model_module": "@jupyter-widgets/controls",
     "model_module_version": "1.5.0",
     "model_name": "HBoxModel",
     "state": {
      "_dom_classes": [],
      "_model_module": "@jupyter-widgets/controls",
      "_model_module_version": "1.5.0",
      "_model_name": "HBoxModel",
      "_view_count": null,
      "_view_module": "@jupyter-widgets/controls",
      "_view_module_version": "1.5.0",
      "_view_name": "HBoxView",
      "box_style": "",
      "children": [
       "IPY_MODEL_b237588bc0874b368bda4986483cb5c9",
       "IPY_MODEL_1c31109957ef438dbd60243f3f4b53b6",
       "IPY_MODEL_239a68a2f11a424f87d68c37d0660c4d"
      ],
      "layout": "IPY_MODEL_052e7ebec8d54cda9ecac67c58a1e0c3"
     }
    },
    "8081313330524a98976b20dad4f0cc46": {
     "model_module": "@jupyter-widgets/controls",
     "model_module_version": "1.5.0",
     "model_name": "HTMLModel",
     "state": {
      "_dom_classes": [],
      "_model_module": "@jupyter-widgets/controls",
      "_model_module_version": "1.5.0",
      "_model_name": "HTMLModel",
      "_view_count": null,
      "_view_module": "@jupyter-widgets/controls",
      "_view_module_version": "1.5.0",
      "_view_name": "HTMLView",
      "description": "",
      "description_tooltip": null,
      "layout": "IPY_MODEL_942a132dbf404d4f93b1ecc8eaf41b37",
      "placeholder": "​",
      "style": "IPY_MODEL_ce2729b4de1a427c87426c26af94fbdf",
      "value": " 80/80 [00:06&lt;00:00, 21.72 MiB/s]"
     }
    },
    "815a0e7934de4201b5b30f6ef5ca12d2": {
     "model_module": "@jupyter-widgets/controls",
     "model_module_version": "1.5.0",
     "model_name": "ProgressStyleModel",
     "state": {
      "_model_module": "@jupyter-widgets/controls",
      "_model_module_version": "1.5.0",
      "_model_name": "ProgressStyleModel",
      "_view_count": null,
      "_view_module": "@jupyter-widgets/base",
      "_view_module_version": "1.2.0",
      "_view_name": "StyleView",
      "bar_color": null,
      "description_width": ""
     }
    },
    "81b7a6bb16f645999f952b2343d282ec": {
     "model_module": "@jupyter-widgets/controls",
     "model_module_version": "1.5.0",
     "model_name": "HTMLModel",
     "state": {
      "_dom_classes": [],
      "_model_module": "@jupyter-widgets/controls",
      "_model_module_version": "1.5.0",
      "_model_name": "HTMLModel",
      "_view_count": null,
      "_view_module": "@jupyter-widgets/controls",
      "_view_module_version": "1.5.0",
      "_view_name": "HTMLView",
      "description": "",
      "description_tooltip": null,
      "layout": "IPY_MODEL_a2f55f12dc29498ab81d99a25e81f540",
      "placeholder": "​",
      "style": "IPY_MODEL_2b7a69d38d934e6c821cfad880f096f9",
      "value": "100%"
     }
    },
    "84d0efede37141baa6b0081e0b5d16ed": {
     "model_module": "@jupyter-widgets/controls",
     "model_module_version": "1.5.0",
     "model_name": "ProgressStyleModel",
     "state": {
      "_model_module": "@jupyter-widgets/controls",
      "_model_module_version": "1.5.0",
      "_model_name": "ProgressStyleModel",
      "_view_count": null,
      "_view_module": "@jupyter-widgets/base",
      "_view_module_version": "1.2.0",
      "_view_name": "StyleView",
      "bar_color": null,
      "description_width": ""
     }
    },
    "8b45ff42e7a44932b5ac08c83c7ece03": {
     "model_module": "@jupyter-widgets/base",
     "model_module_version": "1.2.0",
     "model_name": "LayoutModel",
     "state": {
      "_model_module": "@jupyter-widgets/base",
      "_model_module_version": "1.2.0",
      "_model_name": "LayoutModel",
      "_view_count": null,
      "_view_module": "@jupyter-widgets/base",
      "_view_module_version": "1.2.0",
      "_view_name": "LayoutView",
      "align_content": null,
      "align_items": null,
      "align_self": null,
      "border": null,
      "bottom": null,
      "display": null,
      "flex": null,
      "flex_flow": null,
      "grid_area": null,
      "grid_auto_columns": null,
      "grid_auto_flow": null,
      "grid_auto_rows": null,
      "grid_column": null,
      "grid_gap": null,
      "grid_row": null,
      "grid_template_areas": null,
      "grid_template_columns": null,
      "grid_template_rows": null,
      "height": null,
      "justify_content": null,
      "justify_items": null,
      "left": null,
      "margin": null,
      "max_height": null,
      "max_width": null,
      "min_height": null,
      "min_width": null,
      "object_fit": null,
      "object_position": null,
      "order": null,
      "overflow": null,
      "overflow_x": null,
      "overflow_y": null,
      "padding": null,
      "right": null,
      "top": null,
      "visibility": null,
      "width": null
     }
    },
    "8cf2ee4f427d440598607198b894232d": {
     "model_module": "@jupyter-widgets/base",
     "model_module_version": "1.2.0",
     "model_name": "LayoutModel",
     "state": {
      "_model_module": "@jupyter-widgets/base",
      "_model_module_version": "1.2.0",
      "_model_name": "LayoutModel",
      "_view_count": null,
      "_view_module": "@jupyter-widgets/base",
      "_view_module_version": "1.2.0",
      "_view_name": "LayoutView",
      "align_content": null,
      "align_items": null,
      "align_self": null,
      "border": null,
      "bottom": null,
      "display": null,
      "flex": null,
      "flex_flow": null,
      "grid_area": null,
      "grid_auto_columns": null,
      "grid_auto_flow": null,
      "grid_auto_rows": null,
      "grid_column": null,
      "grid_gap": null,
      "grid_row": null,
      "grid_template_areas": null,
      "grid_template_columns": null,
      "grid_template_rows": null,
      "height": null,
      "justify_content": null,
      "justify_items": null,
      "left": null,
      "margin": null,
      "max_height": null,
      "max_width": null,
      "min_height": null,
      "min_width": null,
      "object_fit": null,
      "object_position": null,
      "order": null,
      "overflow": null,
      "overflow_x": null,
      "overflow_y": null,
      "padding": null,
      "right": null,
      "top": null,
      "visibility": null,
      "width": null
     }
    },
    "8deebb2632fd4f4984a036a89e113fef": {
     "model_module": "@jupyter-widgets/base",
     "model_module_version": "1.2.0",
     "model_name": "LayoutModel",
     "state": {
      "_model_module": "@jupyter-widgets/base",
      "_model_module_version": "1.2.0",
      "_model_name": "LayoutModel",
      "_view_count": null,
      "_view_module": "@jupyter-widgets/base",
      "_view_module_version": "1.2.0",
      "_view_name": "LayoutView",
      "align_content": null,
      "align_items": null,
      "align_self": null,
      "border": null,
      "bottom": null,
      "display": null,
      "flex": null,
      "flex_flow": null,
      "grid_area": null,
      "grid_auto_columns": null,
      "grid_auto_flow": null,
      "grid_auto_rows": null,
      "grid_column": null,
      "grid_gap": null,
      "grid_row": null,
      "grid_template_areas": null,
      "grid_template_columns": null,
      "grid_template_rows": null,
      "height": null,
      "justify_content": null,
      "justify_items": null,
      "left": null,
      "margin": null,
      "max_height": null,
      "max_width": null,
      "min_height": null,
      "min_width": null,
      "object_fit": null,
      "object_position": null,
      "order": null,
      "overflow": null,
      "overflow_x": null,
      "overflow_y": null,
      "padding": null,
      "right": null,
      "top": null,
      "visibility": null,
      "width": null
     }
    },
    "8e7bd2aca6fa4fe39dd53d8671b7dd07": {
     "model_module": "@jupyter-widgets/controls",
     "model_module_version": "1.5.0",
     "model_name": "DescriptionStyleModel",
     "state": {
      "_model_module": "@jupyter-widgets/controls",
      "_model_module_version": "1.5.0",
      "_model_name": "DescriptionStyleModel",
      "_view_count": null,
      "_view_module": "@jupyter-widgets/base",
      "_view_module_version": "1.2.0",
      "_view_name": "StyleView",
      "description_width": ""
     }
    },
    "8f75dbe2642d4eadb08052cc99854f03": {
     "model_module": "@jupyter-widgets/controls",
     "model_module_version": "1.5.0",
     "model_name": "HBoxModel",
     "state": {
      "_dom_classes": [],
      "_model_module": "@jupyter-widgets/controls",
      "_model_module_version": "1.5.0",
      "_model_name": "HBoxModel",
      "_view_count": null,
      "_view_module": "@jupyter-widgets/controls",
      "_view_module_version": "1.5.0",
      "_view_name": "HBoxView",
      "box_style": "",
      "children": [
       "IPY_MODEL_725672e7e32e4a8287e30762f3104698",
       "IPY_MODEL_2317dce1746d48e89a25c33fc124a94e",
       "IPY_MODEL_dda87f1b78bc441980af9230e8cd8304"
      ],
      "layout": "IPY_MODEL_2a8cbeb2a4bf44ceb55d19640f5c6933"
     }
    },
    "92891b450fff4ce2859d78b7fdbe43bd": {
     "model_module": "@jupyter-widgets/controls",
     "model_module_version": "1.5.0",
     "model_name": "ProgressStyleModel",
     "state": {
      "_model_module": "@jupyter-widgets/controls",
      "_model_module_version": "1.5.0",
      "_model_name": "ProgressStyleModel",
      "_view_count": null,
      "_view_module": "@jupyter-widgets/base",
      "_view_module_version": "1.2.0",
      "_view_name": "StyleView",
      "bar_color": null,
      "description_width": ""
     }
    },
    "942a132dbf404d4f93b1ecc8eaf41b37": {
     "model_module": "@jupyter-widgets/base",
     "model_module_version": "1.2.0",
     "model_name": "LayoutModel",
     "state": {
      "_model_module": "@jupyter-widgets/base",
      "_model_module_version": "1.2.0",
      "_model_name": "LayoutModel",
      "_view_count": null,
      "_view_module": "@jupyter-widgets/base",
      "_view_module_version": "1.2.0",
      "_view_name": "LayoutView",
      "align_content": null,
      "align_items": null,
      "align_self": null,
      "border": null,
      "bottom": null,
      "display": null,
      "flex": null,
      "flex_flow": null,
      "grid_area": null,
      "grid_auto_columns": null,
      "grid_auto_flow": null,
      "grid_auto_rows": null,
      "grid_column": null,
      "grid_gap": null,
      "grid_row": null,
      "grid_template_areas": null,
      "grid_template_columns": null,
      "grid_template_rows": null,
      "height": null,
      "justify_content": null,
      "justify_items": null,
      "left": null,
      "margin": null,
      "max_height": null,
      "max_width": null,
      "min_height": null,
      "min_width": null,
      "object_fit": null,
      "object_position": null,
      "order": null,
      "overflow": null,
      "overflow_x": null,
      "overflow_y": null,
      "padding": null,
      "right": null,
      "top": null,
      "visibility": null,
      "width": null
     }
    },
    "94775340b89a41ccb15ded8b0b506443": {
     "model_module": "@jupyter-widgets/base",
     "model_module_version": "1.2.0",
     "model_name": "LayoutModel",
     "state": {
      "_model_module": "@jupyter-widgets/base",
      "_model_module_version": "1.2.0",
      "_model_name": "LayoutModel",
      "_view_count": null,
      "_view_module": "@jupyter-widgets/base",
      "_view_module_version": "1.2.0",
      "_view_name": "LayoutView",
      "align_content": null,
      "align_items": null,
      "align_self": null,
      "border": null,
      "bottom": null,
      "display": null,
      "flex": null,
      "flex_flow": null,
      "grid_area": null,
      "grid_auto_columns": null,
      "grid_auto_flow": null,
      "grid_auto_rows": null,
      "grid_column": null,
      "grid_gap": null,
      "grid_row": null,
      "grid_template_areas": null,
      "grid_template_columns": null,
      "grid_template_rows": null,
      "height": null,
      "justify_content": null,
      "justify_items": null,
      "left": null,
      "margin": null,
      "max_height": null,
      "max_width": null,
      "min_height": null,
      "min_width": null,
      "object_fit": null,
      "object_position": null,
      "order": null,
      "overflow": null,
      "overflow_x": null,
      "overflow_y": null,
      "padding": null,
      "right": null,
      "top": null,
      "visibility": null,
      "width": null
     }
    },
    "956ef3035f8d4570a02e26db18af148a": {
     "model_module": "@jupyter-widgets/base",
     "model_module_version": "1.2.0",
     "model_name": "LayoutModel",
     "state": {
      "_model_module": "@jupyter-widgets/base",
      "_model_module_version": "1.2.0",
      "_model_name": "LayoutModel",
      "_view_count": null,
      "_view_module": "@jupyter-widgets/base",
      "_view_module_version": "1.2.0",
      "_view_name": "LayoutView",
      "align_content": null,
      "align_items": null,
      "align_self": null,
      "border": null,
      "bottom": null,
      "display": null,
      "flex": null,
      "flex_flow": null,
      "grid_area": null,
      "grid_auto_columns": null,
      "grid_auto_flow": null,
      "grid_auto_rows": null,
      "grid_column": null,
      "grid_gap": null,
      "grid_row": null,
      "grid_template_areas": null,
      "grid_template_columns": null,
      "grid_template_rows": null,
      "height": null,
      "justify_content": null,
      "justify_items": null,
      "left": null,
      "margin": null,
      "max_height": null,
      "max_width": null,
      "min_height": null,
      "min_width": null,
      "object_fit": null,
      "object_position": null,
      "order": null,
      "overflow": null,
      "overflow_x": null,
      "overflow_y": null,
      "padding": null,
      "right": null,
      "top": null,
      "visibility": null,
      "width": null
     }
    },
    "988fe9b7099e4a5b9abd41eeb685210d": {
     "model_module": "@jupyter-widgets/controls",
     "model_module_version": "1.5.0",
     "model_name": "HTMLModel",
     "state": {
      "_dom_classes": [],
      "_model_module": "@jupyter-widgets/controls",
      "_model_module_version": "1.5.0",
      "_model_name": "HTMLModel",
      "_view_count": null,
      "_view_module": "@jupyter-widgets/controls",
      "_view_module_version": "1.5.0",
      "_view_name": "HTMLView",
      "description": "",
      "description_tooltip": null,
      "layout": "IPY_MODEL_e881ecfd13504dce995e45ccdbd697a6",
      "placeholder": "​",
      "style": "IPY_MODEL_591a9a6f26614bb1bd63275188381877",
      "value": "Dl Completed...: 100%"
     }
    },
    "9c652235a1ab4a6e9d42e6201b8a6735": {
     "model_module": "@jupyter-widgets/controls",
     "model_module_version": "1.5.0",
     "model_name": "FloatProgressModel",
     "state": {
      "_dom_classes": [],
      "_model_module": "@jupyter-widgets/controls",
      "_model_module_version": "1.5.0",
      "_model_name": "FloatProgressModel",
      "_view_count": null,
      "_view_module": "@jupyter-widgets/controls",
      "_view_module_version": "1.5.0",
      "_view_name": "ProgressView",
      "bar_style": "danger",
      "description": "",
      "description_tooltip": null,
      "layout": "IPY_MODEL_4e0d0bd3f3d243b08cad2d0f3356d5bf",
      "max": 50000,
      "min": 0,
      "orientation": "horizontal",
      "style": "IPY_MODEL_815a0e7934de4201b5b30f6ef5ca12d2",
      "value": 49999
     }
    },
    "9d3ebb76b14041b3966ee4d413f24d09": {
     "model_module": "@jupyter-widgets/base",
     "model_module_version": "1.2.0",
     "model_name": "LayoutModel",
     "state": {
      "_model_module": "@jupyter-widgets/base",
      "_model_module_version": "1.2.0",
      "_model_name": "LayoutModel",
      "_view_count": null,
      "_view_module": "@jupyter-widgets/base",
      "_view_module_version": "1.2.0",
      "_view_name": "LayoutView",
      "align_content": null,
      "align_items": null,
      "align_self": null,
      "border": null,
      "bottom": null,
      "display": null,
      "flex": null,
      "flex_flow": null,
      "grid_area": null,
      "grid_auto_columns": null,
      "grid_auto_flow": null,
      "grid_auto_rows": null,
      "grid_column": null,
      "grid_gap": null,
      "grid_row": null,
      "grid_template_areas": null,
      "grid_template_columns": null,
      "grid_template_rows": null,
      "height": null,
      "justify_content": null,
      "justify_items": null,
      "left": null,
      "margin": null,
      "max_height": null,
      "max_width": null,
      "min_height": null,
      "min_width": null,
      "object_fit": null,
      "object_position": null,
      "order": null,
      "overflow": null,
      "overflow_x": null,
      "overflow_y": null,
      "padding": null,
      "right": null,
      "top": null,
      "visibility": null,
      "width": null
     }
    },
    "a14390c418ec441c84cebe0ccd38dc14": {
     "model_module": "@jupyter-widgets/controls",
     "model_module_version": "1.5.0",
     "model_name": "HTMLModel",
     "state": {
      "_dom_classes": [],
      "_model_module": "@jupyter-widgets/controls",
      "_model_module_version": "1.5.0",
      "_model_name": "HTMLModel",
      "_view_count": null,
      "_view_module": "@jupyter-widgets/controls",
      "_view_module_version": "1.5.0",
      "_view_name": "HTMLView",
      "description": "",
      "description_tooltip": null,
      "layout": "IPY_MODEL_dc848ef805a74c39b30db8f5038dd625",
      "placeholder": "​",
      "style": "IPY_MODEL_e2ca39d9f872406390df8afc793cb7b7",
      "value": "100%"
     }
    },
    "a2f55f12dc29498ab81d99a25e81f540": {
     "model_module": "@jupyter-widgets/base",
     "model_module_version": "1.2.0",
     "model_name": "LayoutModel",
     "state": {
      "_model_module": "@jupyter-widgets/base",
      "_model_module_version": "1.2.0",
      "_model_name": "LayoutModel",
      "_view_count": null,
      "_view_module": "@jupyter-widgets/base",
      "_view_module_version": "1.2.0",
      "_view_name": "LayoutView",
      "align_content": null,
      "align_items": null,
      "align_self": null,
      "border": null,
      "bottom": null,
      "display": null,
      "flex": null,
      "flex_flow": null,
      "grid_area": null,
      "grid_auto_columns": null,
      "grid_auto_flow": null,
      "grid_auto_rows": null,
      "grid_column": null,
      "grid_gap": null,
      "grid_row": null,
      "grid_template_areas": null,
      "grid_template_columns": null,
      "grid_template_rows": null,
      "height": null,
      "justify_content": null,
      "justify_items": null,
      "left": null,
      "margin": null,
      "max_height": null,
      "max_width": null,
      "min_height": null,
      "min_width": null,
      "object_fit": null,
      "object_position": null,
      "order": null,
      "overflow": null,
      "overflow_x": null,
      "overflow_y": null,
      "padding": null,
      "right": null,
      "top": null,
      "visibility": null,
      "width": null
     }
    },
    "ad100e1277ec41649a2616b3537c26d4": {
     "model_module": "@jupyter-widgets/controls",
     "model_module_version": "1.5.0",
     "model_name": "DescriptionStyleModel",
     "state": {
      "_model_module": "@jupyter-widgets/controls",
      "_model_module_version": "1.5.0",
      "_model_name": "DescriptionStyleModel",
      "_view_count": null,
      "_view_module": "@jupyter-widgets/base",
      "_view_module_version": "1.2.0",
      "_view_name": "StyleView",
      "description_width": ""
     }
    },
    "b14588ef814f4953bbd5687fe60632df": {
     "model_module": "@jupyter-widgets/controls",
     "model_module_version": "1.5.0",
     "model_name": "FloatProgressModel",
     "state": {
      "_dom_classes": [],
      "_model_module": "@jupyter-widgets/controls",
      "_model_module_version": "1.5.0",
      "_model_name": "FloatProgressModel",
      "_view_count": null,
      "_view_module": "@jupyter-widgets/controls",
      "_view_module_version": "1.5.0",
      "_view_name": "ProgressView",
      "bar_style": "success",
      "description": "",
      "description_tooltip": null,
      "layout": "IPY_MODEL_def35d75127b4e74a5a8641c83370e25",
      "max": 1,
      "min": 0,
      "orientation": "horizontal",
      "style": "IPY_MODEL_92891b450fff4ce2859d78b7fdbe43bd",
      "value": 1
     }
    },
    "b237588bc0874b368bda4986483cb5c9": {
     "model_module": "@jupyter-widgets/controls",
     "model_module_version": "1.5.0",
     "model_name": "HTMLModel",
     "state": {
      "_dom_classes": [],
      "_model_module": "@jupyter-widgets/controls",
      "_model_module_version": "1.5.0",
      "_model_name": "HTMLModel",
      "_view_count": null,
      "_view_module": "@jupyter-widgets/controls",
      "_view_module_version": "1.5.0",
      "_view_name": "HTMLView",
      "description": "",
      "description_tooltip": null,
      "layout": "IPY_MODEL_8deebb2632fd4f4984a036a89e113fef",
      "placeholder": "​",
      "style": "IPY_MODEL_8e7bd2aca6fa4fe39dd53d8671b7dd07",
      "value": ""
     }
    },
    "b389fc00d429416ea9a69cc9fbc9bcc2": {
     "model_module": "@jupyter-widgets/base",
     "model_module_version": "1.2.0",
     "model_name": "LayoutModel",
     "state": {
      "_model_module": "@jupyter-widgets/base",
      "_model_module_version": "1.2.0",
      "_model_name": "LayoutModel",
      "_view_count": null,
      "_view_module": "@jupyter-widgets/base",
      "_view_module_version": "1.2.0",
      "_view_name": "LayoutView",
      "align_content": null,
      "align_items": null,
      "align_self": null,
      "border": null,
      "bottom": null,
      "display": null,
      "flex": null,
      "flex_flow": null,
      "grid_area": null,
      "grid_auto_columns": null,
      "grid_auto_flow": null,
      "grid_auto_rows": null,
      "grid_column": null,
      "grid_gap": null,
      "grid_row": null,
      "grid_template_areas": null,
      "grid_template_columns": null,
      "grid_template_rows": null,
      "height": null,
      "justify_content": null,
      "justify_items": null,
      "left": null,
      "margin": null,
      "max_height": null,
      "max_width": null,
      "min_height": null,
      "min_width": null,
      "object_fit": null,
      "object_position": null,
      "order": null,
      "overflow": null,
      "overflow_x": null,
      "overflow_y": null,
      "padding": null,
      "right": null,
      "top": null,
      "visibility": null,
      "width": null
     }
    },
    "bb0e779838a044e6a4cb9fe3d974f3d2": {
     "model_module": "@jupyter-widgets/base",
     "model_module_version": "1.2.0",
     "model_name": "LayoutModel",
     "state": {
      "_model_module": "@jupyter-widgets/base",
      "_model_module_version": "1.2.0",
      "_model_name": "LayoutModel",
      "_view_count": null,
      "_view_module": "@jupyter-widgets/base",
      "_view_module_version": "1.2.0",
      "_view_name": "LayoutView",
      "align_content": null,
      "align_items": null,
      "align_self": null,
      "border": null,
      "bottom": null,
      "display": null,
      "flex": null,
      "flex_flow": null,
      "grid_area": null,
      "grid_auto_columns": null,
      "grid_auto_flow": null,
      "grid_auto_rows": null,
      "grid_column": null,
      "grid_gap": null,
      "grid_row": null,
      "grid_template_areas": null,
      "grid_template_columns": null,
      "grid_template_rows": null,
      "height": null,
      "justify_content": null,
      "justify_items": null,
      "left": null,
      "margin": null,
      "max_height": null,
      "max_width": null,
      "min_height": null,
      "min_width": null,
      "object_fit": null,
      "object_position": null,
      "order": null,
      "overflow": null,
      "overflow_x": null,
      "overflow_y": null,
      "padding": null,
      "right": null,
      "top": null,
      "visibility": null,
      "width": null
     }
    },
    "c1fb99e288924aa0bb596c824e01982d": {
     "model_module": "@jupyter-widgets/base",
     "model_module_version": "1.2.0",
     "model_name": "LayoutModel",
     "state": {
      "_model_module": "@jupyter-widgets/base",
      "_model_module_version": "1.2.0",
      "_model_name": "LayoutModel",
      "_view_count": null,
      "_view_module": "@jupyter-widgets/base",
      "_view_module_version": "1.2.0",
      "_view_name": "LayoutView",
      "align_content": null,
      "align_items": null,
      "align_self": null,
      "border": null,
      "bottom": null,
      "display": null,
      "flex": null,
      "flex_flow": null,
      "grid_area": null,
      "grid_auto_columns": null,
      "grid_auto_flow": null,
      "grid_auto_rows": null,
      "grid_column": null,
      "grid_gap": null,
      "grid_row": null,
      "grid_template_areas": null,
      "grid_template_columns": null,
      "grid_template_rows": null,
      "height": null,
      "justify_content": null,
      "justify_items": null,
      "left": null,
      "margin": null,
      "max_height": null,
      "max_width": null,
      "min_height": null,
      "min_width": null,
      "object_fit": null,
      "object_position": null,
      "order": null,
      "overflow": null,
      "overflow_x": null,
      "overflow_y": null,
      "padding": null,
      "right": null,
      "top": null,
      "visibility": null,
      "width": "20px"
     }
    },
    "c27496985a7d4991a8f3552703b00dbf": {
     "model_module": "@jupyter-widgets/controls",
     "model_module_version": "1.5.0",
     "model_name": "HBoxModel",
     "state": {
      "_dom_classes": [],
      "_model_module": "@jupyter-widgets/controls",
      "_model_module_version": "1.5.0",
      "_model_name": "HBoxModel",
      "_view_count": null,
      "_view_module": "@jupyter-widgets/controls",
      "_view_module_version": "1.5.0",
      "_view_name": "HBoxView",
      "box_style": "",
      "children": [
       "IPY_MODEL_81b7a6bb16f645999f952b2343d282ec",
       "IPY_MODEL_3c9c6dc757344293a15e5cb41e8a3cd4",
       "IPY_MODEL_19312191b61b4b03afb39b2ae72b8933"
      ],
      "layout": "IPY_MODEL_7f95390087304b9ea7a7ad0b3aba5527"
     }
    },
    "c7b4a0efb54f4e68a613e4e31cd2fb85": {
     "model_module": "@jupyter-widgets/controls",
     "model_module_version": "1.5.0",
     "model_name": "HBoxModel",
     "state": {
      "_dom_classes": [],
      "_model_module": "@jupyter-widgets/controls",
      "_model_module_version": "1.5.0",
      "_model_name": "HBoxModel",
      "_view_count": null,
      "_view_module": "@jupyter-widgets/controls",
      "_view_module_version": "1.5.0",
      "_view_name": "HBoxView",
      "box_style": "",
      "children": [
       "IPY_MODEL_a14390c418ec441c84cebe0ccd38dc14",
       "IPY_MODEL_674879832dc84d178a676a5d0b4c26aa",
       "IPY_MODEL_7415f1f5305c44bc991063bb34b718a1"
      ],
      "layout": "IPY_MODEL_8cf2ee4f427d440598607198b894232d"
     }
    },
    "c967cf9986e8418ab44f30d5db6ab997": {
     "model_module": "@jupyter-widgets/base",
     "model_module_version": "1.2.0",
     "model_name": "LayoutModel",
     "state": {
      "_model_module": "@jupyter-widgets/base",
      "_model_module_version": "1.2.0",
      "_model_name": "LayoutModel",
      "_view_count": null,
      "_view_module": "@jupyter-widgets/base",
      "_view_module_version": "1.2.0",
      "_view_name": "LayoutView",
      "align_content": null,
      "align_items": null,
      "align_self": null,
      "border": null,
      "bottom": null,
      "display": null,
      "flex": null,
      "flex_flow": null,
      "grid_area": null,
      "grid_auto_columns": null,
      "grid_auto_flow": null,
      "grid_auto_rows": null,
      "grid_column": null,
      "grid_gap": null,
      "grid_row": null,
      "grid_template_areas": null,
      "grid_template_columns": null,
      "grid_template_rows": null,
      "height": null,
      "justify_content": null,
      "justify_items": null,
      "left": null,
      "margin": null,
      "max_height": null,
      "max_width": null,
      "min_height": null,
      "min_width": null,
      "object_fit": null,
      "object_position": null,
      "order": null,
      "overflow": null,
      "overflow_x": null,
      "overflow_y": null,
      "padding": null,
      "right": null,
      "top": null,
      "visibility": null,
      "width": "20px"
     }
    },
    "c9b156de94924545869ce7d5019d42dc": {
     "model_module": "@jupyter-widgets/controls",
     "model_module_version": "1.5.0",
     "model_name": "HBoxModel",
     "state": {
      "_dom_classes": [],
      "_model_module": "@jupyter-widgets/controls",
      "_model_module_version": "1.5.0",
      "_model_name": "HBoxModel",
      "_view_count": null,
      "_view_module": "@jupyter-widgets/controls",
      "_view_module_version": "1.5.0",
      "_view_name": "HBoxView",
      "box_style": "",
      "children": [
       "IPY_MODEL_77e9b3fa337b47a99aa289acee19ce7f",
       "IPY_MODEL_3bbf2de2109d4aefa937143115244fa8",
       "IPY_MODEL_8081313330524a98976b20dad4f0cc46"
      ],
      "layout": "IPY_MODEL_e9e5a7cec96d4b878f54d99003bccdca"
     }
    },
    "cb43d6dc1e1347f782887aa0284c2bfc": {
     "model_module": "@jupyter-widgets/controls",
     "model_module_version": "1.5.0",
     "model_name": "DescriptionStyleModel",
     "state": {
      "_model_module": "@jupyter-widgets/controls",
      "_model_module_version": "1.5.0",
      "_model_name": "DescriptionStyleModel",
      "_view_count": null,
      "_view_module": "@jupyter-widgets/base",
      "_view_module_version": "1.2.0",
      "_view_name": "StyleView",
      "description_width": ""
     }
    },
    "cd70ffc369b5468597cd8318e9b94fff": {
     "model_module": "@jupyter-widgets/controls",
     "model_module_version": "1.5.0",
     "model_name": "DescriptionStyleModel",
     "state": {
      "_model_module": "@jupyter-widgets/controls",
      "_model_module_version": "1.5.0",
      "_model_name": "DescriptionStyleModel",
      "_view_count": null,
      "_view_module": "@jupyter-widgets/base",
      "_view_module_version": "1.2.0",
      "_view_name": "StyleView",
      "description_width": ""
     }
    },
    "ce2729b4de1a427c87426c26af94fbdf": {
     "model_module": "@jupyter-widgets/controls",
     "model_module_version": "1.5.0",
     "model_name": "DescriptionStyleModel",
     "state": {
      "_model_module": "@jupyter-widgets/controls",
      "_model_module_version": "1.5.0",
      "_model_name": "DescriptionStyleModel",
      "_view_count": null,
      "_view_module": "@jupyter-widgets/base",
      "_view_module_version": "1.2.0",
      "_view_name": "StyleView",
      "description_width": ""
     }
    },
    "ce49fbacb79548a692b5e0b0da6cb8a4": {
     "model_module": "@jupyter-widgets/base",
     "model_module_version": "1.2.0",
     "model_name": "LayoutModel",
     "state": {
      "_model_module": "@jupyter-widgets/base",
      "_model_module_version": "1.2.0",
      "_model_name": "LayoutModel",
      "_view_count": null,
      "_view_module": "@jupyter-widgets/base",
      "_view_module_version": "1.2.0",
      "_view_name": "LayoutView",
      "align_content": null,
      "align_items": null,
      "align_self": null,
      "border": null,
      "bottom": null,
      "display": null,
      "flex": null,
      "flex_flow": null,
      "grid_area": null,
      "grid_auto_columns": null,
      "grid_auto_flow": null,
      "grid_auto_rows": null,
      "grid_column": null,
      "grid_gap": null,
      "grid_row": null,
      "grid_template_areas": null,
      "grid_template_columns": null,
      "grid_template_rows": null,
      "height": null,
      "justify_content": null,
      "justify_items": null,
      "left": null,
      "margin": null,
      "max_height": null,
      "max_width": null,
      "min_height": null,
      "min_width": null,
      "object_fit": null,
      "object_position": null,
      "order": null,
      "overflow": null,
      "overflow_x": null,
      "overflow_y": null,
      "padding": null,
      "right": null,
      "top": null,
      "visibility": null,
      "width": null
     }
    },
    "dc848ef805a74c39b30db8f5038dd625": {
     "model_module": "@jupyter-widgets/base",
     "model_module_version": "1.2.0",
     "model_name": "LayoutModel",
     "state": {
      "_model_module": "@jupyter-widgets/base",
      "_model_module_version": "1.2.0",
      "_model_name": "LayoutModel",
      "_view_count": null,
      "_view_module": "@jupyter-widgets/base",
      "_view_module_version": "1.2.0",
      "_view_name": "LayoutView",
      "align_content": null,
      "align_items": null,
      "align_self": null,
      "border": null,
      "bottom": null,
      "display": null,
      "flex": null,
      "flex_flow": null,
      "grid_area": null,
      "grid_auto_columns": null,
      "grid_auto_flow": null,
      "grid_auto_rows": null,
      "grid_column": null,
      "grid_gap": null,
      "grid_row": null,
      "grid_template_areas": null,
      "grid_template_columns": null,
      "grid_template_rows": null,
      "height": null,
      "justify_content": null,
      "justify_items": null,
      "left": null,
      "margin": null,
      "max_height": null,
      "max_width": null,
      "min_height": null,
      "min_width": null,
      "object_fit": null,
      "object_position": null,
      "order": null,
      "overflow": null,
      "overflow_x": null,
      "overflow_y": null,
      "padding": null,
      "right": null,
      "top": null,
      "visibility": null,
      "width": null
     }
    },
    "dda87f1b78bc441980af9230e8cd8304": {
     "model_module": "@jupyter-widgets/controls",
     "model_module_version": "1.5.0",
     "model_name": "HTMLModel",
     "state": {
      "_dom_classes": [],
      "_model_module": "@jupyter-widgets/controls",
      "_model_module_version": "1.5.0",
      "_model_name": "HTMLModel",
      "_view_count": null,
      "_view_module": "@jupyter-widgets/controls",
      "_view_module_version": "1.5.0",
      "_view_name": "HTMLView",
      "description": "",
      "description_tooltip": null,
      "layout": "IPY_MODEL_220cfdf789df4cd2967fdad979641608",
      "placeholder": "​",
      "style": "IPY_MODEL_20d73fbeedd24b92bad40a11940d8b31",
      "value": " 24691/0 [00:07&lt;00:00, 3725.87 examples/s]"
     }
    },
    "def35d75127b4e74a5a8641c83370e25": {
     "model_module": "@jupyter-widgets/base",
     "model_module_version": "1.2.0",
     "model_name": "LayoutModel",
     "state": {
      "_model_module": "@jupyter-widgets/base",
      "_model_module_version": "1.2.0",
      "_model_name": "LayoutModel",
      "_view_count": null,
      "_view_module": "@jupyter-widgets/base",
      "_view_module_version": "1.2.0",
      "_view_name": "LayoutView",
      "align_content": null,
      "align_items": null,
      "align_self": null,
      "border": null,
      "bottom": null,
      "display": null,
      "flex": null,
      "flex_flow": null,
      "grid_area": null,
      "grid_auto_columns": null,
      "grid_auto_flow": null,
      "grid_auto_rows": null,
      "grid_column": null,
      "grid_gap": null,
      "grid_row": null,
      "grid_template_areas": null,
      "grid_template_columns": null,
      "grid_template_rows": null,
      "height": null,
      "justify_content": null,
      "justify_items": null,
      "left": null,
      "margin": null,
      "max_height": null,
      "max_width": null,
      "min_height": null,
      "min_width": null,
      "object_fit": null,
      "object_position": null,
      "order": null,
      "overflow": null,
      "overflow_x": null,
      "overflow_y": null,
      "padding": null,
      "right": null,
      "top": null,
      "visibility": null,
      "width": "20px"
     }
    },
    "e2ca39d9f872406390df8afc793cb7b7": {
     "model_module": "@jupyter-widgets/controls",
     "model_module_version": "1.5.0",
     "model_name": "DescriptionStyleModel",
     "state": {
      "_model_module": "@jupyter-widgets/controls",
      "_model_module_version": "1.5.0",
      "_model_name": "DescriptionStyleModel",
      "_view_count": null,
      "_view_module": "@jupyter-widgets/base",
      "_view_module_version": "1.2.0",
      "_view_name": "StyleView",
      "description_width": ""
     }
    },
    "e2fe4329be55452885b8f3e0e8c56f8d": {
     "model_module": "@jupyter-widgets/base",
     "model_module_version": "1.2.0",
     "model_name": "LayoutModel",
     "state": {
      "_model_module": "@jupyter-widgets/base",
      "_model_module_version": "1.2.0",
      "_model_name": "LayoutModel",
      "_view_count": null,
      "_view_module": "@jupyter-widgets/base",
      "_view_module_version": "1.2.0",
      "_view_name": "LayoutView",
      "align_content": null,
      "align_items": null,
      "align_self": null,
      "border": null,
      "bottom": null,
      "display": null,
      "flex": null,
      "flex_flow": null,
      "grid_area": null,
      "grid_auto_columns": null,
      "grid_auto_flow": null,
      "grid_auto_rows": null,
      "grid_column": null,
      "grid_gap": null,
      "grid_row": null,
      "grid_template_areas": null,
      "grid_template_columns": null,
      "grid_template_rows": null,
      "height": null,
      "justify_content": null,
      "justify_items": null,
      "left": null,
      "margin": null,
      "max_height": null,
      "max_width": null,
      "min_height": null,
      "min_width": null,
      "object_fit": null,
      "object_position": null,
      "order": null,
      "overflow": null,
      "overflow_x": null,
      "overflow_y": null,
      "padding": null,
      "right": null,
      "top": null,
      "visibility": null,
      "width": null
     }
    },
    "e3dac0bc5ecc427ba4bb21eec668a9de": {
     "model_module": "@jupyter-widgets/controls",
     "model_module_version": "1.5.0",
     "model_name": "DescriptionStyleModel",
     "state": {
      "_model_module": "@jupyter-widgets/controls",
      "_model_module_version": "1.5.0",
      "_model_name": "DescriptionStyleModel",
      "_view_count": null,
      "_view_module": "@jupyter-widgets/base",
      "_view_module_version": "1.2.0",
      "_view_name": "StyleView",
      "description_width": ""
     }
    },
    "e881ecfd13504dce995e45ccdbd697a6": {
     "model_module": "@jupyter-widgets/base",
     "model_module_version": "1.2.0",
     "model_name": "LayoutModel",
     "state": {
      "_model_module": "@jupyter-widgets/base",
      "_model_module_version": "1.2.0",
      "_model_name": "LayoutModel",
      "_view_count": null,
      "_view_module": "@jupyter-widgets/base",
      "_view_module_version": "1.2.0",
      "_view_name": "LayoutView",
      "align_content": null,
      "align_items": null,
      "align_self": null,
      "border": null,
      "bottom": null,
      "display": null,
      "flex": null,
      "flex_flow": null,
      "grid_area": null,
      "grid_auto_columns": null,
      "grid_auto_flow": null,
      "grid_auto_rows": null,
      "grid_column": null,
      "grid_gap": null,
      "grid_row": null,
      "grid_template_areas": null,
      "grid_template_columns": null,
      "grid_template_rows": null,
      "height": null,
      "justify_content": null,
      "justify_items": null,
      "left": null,
      "margin": null,
      "max_height": null,
      "max_width": null,
      "min_height": null,
      "min_width": null,
      "object_fit": null,
      "object_position": null,
      "order": null,
      "overflow": null,
      "overflow_x": null,
      "overflow_y": null,
      "padding": null,
      "right": null,
      "top": null,
      "visibility": null,
      "width": null
     }
    },
    "e9e5a7cec96d4b878f54d99003bccdca": {
     "model_module": "@jupyter-widgets/base",
     "model_module_version": "1.2.0",
     "model_name": "LayoutModel",
     "state": {
      "_model_module": "@jupyter-widgets/base",
      "_model_module_version": "1.2.0",
      "_model_name": "LayoutModel",
      "_view_count": null,
      "_view_module": "@jupyter-widgets/base",
      "_view_module_version": "1.2.0",
      "_view_name": "LayoutView",
      "align_content": null,
      "align_items": null,
      "align_self": null,
      "border": null,
      "bottom": null,
      "display": null,
      "flex": null,
      "flex_flow": null,
      "grid_area": null,
      "grid_auto_columns": null,
      "grid_auto_flow": null,
      "grid_auto_rows": null,
      "grid_column": null,
      "grid_gap": null,
      "grid_row": null,
      "grid_template_areas": null,
      "grid_template_columns": null,
      "grid_template_rows": null,
      "height": null,
      "justify_content": null,
      "justify_items": null,
      "left": null,
      "margin": null,
      "max_height": null,
      "max_width": null,
      "min_height": null,
      "min_width": null,
      "object_fit": null,
      "object_position": null,
      "order": null,
      "overflow": null,
      "overflow_x": null,
      "overflow_y": null,
      "padding": null,
      "right": null,
      "top": null,
      "visibility": null,
      "width": null
     }
    },
    "ef233921e4d343d2b4d089d94713c227": {
     "model_module": "@jupyter-widgets/controls",
     "model_module_version": "1.5.0",
     "model_name": "DescriptionStyleModel",
     "state": {
      "_model_module": "@jupyter-widgets/controls",
      "_model_module_version": "1.5.0",
      "_model_name": "DescriptionStyleModel",
      "_view_count": null,
      "_view_module": "@jupyter-widgets/base",
      "_view_module_version": "1.2.0",
      "_view_name": "StyleView",
      "description_width": ""
     }
    },
    "f03c8e29d19549b7ba984c93e6bff0c1": {
     "model_module": "@jupyter-widgets/controls",
     "model_module_version": "1.5.0",
     "model_name": "ProgressStyleModel",
     "state": {
      "_model_module": "@jupyter-widgets/controls",
      "_model_module_version": "1.5.0",
      "_model_name": "ProgressStyleModel",
      "_view_count": null,
      "_view_module": "@jupyter-widgets/base",
      "_view_module_version": "1.2.0",
      "_view_name": "StyleView",
      "bar_color": null,
      "description_width": ""
     }
    },
    "f2241d18763e4127bb51942fbce4918e": {
     "model_module": "@jupyter-widgets/controls",
     "model_module_version": "1.5.0",
     "model_name": "DescriptionStyleModel",
     "state": {
      "_model_module": "@jupyter-widgets/controls",
      "_model_module_version": "1.5.0",
      "_model_name": "DescriptionStyleModel",
      "_view_count": null,
      "_view_module": "@jupyter-widgets/base",
      "_view_module_version": "1.2.0",
      "_view_name": "StyleView",
      "description_width": ""
     }
    },
    "f261349c7dae4cfda62217b5c34f7cad": {
     "model_module": "@jupyter-widgets/controls",
     "model_module_version": "1.5.0",
     "model_name": "DescriptionStyleModel",
     "state": {
      "_model_module": "@jupyter-widgets/controls",
      "_model_module_version": "1.5.0",
      "_model_name": "DescriptionStyleModel",
      "_view_count": null,
      "_view_module": "@jupyter-widgets/base",
      "_view_module_version": "1.2.0",
      "_view_name": "StyleView",
      "description_width": ""
     }
    },
    "f5eb5487e2e64edd893a2b183af74d20": {
     "model_module": "@jupyter-widgets/controls",
     "model_module_version": "1.5.0",
     "model_name": "HBoxModel",
     "state": {
      "_dom_classes": [],
      "_model_module": "@jupyter-widgets/controls",
      "_model_module_version": "1.5.0",
      "_model_name": "HBoxModel",
      "_view_count": null,
      "_view_module": "@jupyter-widgets/controls",
      "_view_module_version": "1.5.0",
      "_view_name": "HBoxView",
      "box_style": "",
      "children": [
       "IPY_MODEL_f98372fc4edb420396d235a9dab8ea72",
       "IPY_MODEL_9c652235a1ab4a6e9d42e6201b8a6735",
       "IPY_MODEL_03ec7f6ae0e4402699228a7b26c109d1"
      ],
      "layout": "IPY_MODEL_9d3ebb76b14041b3966ee4d413f24d09"
     }
    },
    "f644530ee1184272a0de04da01a0324a": {
     "model_module": "@jupyter-widgets/base",
     "model_module_version": "1.2.0",
     "model_name": "LayoutModel",
     "state": {
      "_model_module": "@jupyter-widgets/base",
      "_model_module_version": "1.2.0",
      "_model_name": "LayoutModel",
      "_view_count": null,
      "_view_module": "@jupyter-widgets/base",
      "_view_module_version": "1.2.0",
      "_view_name": "LayoutView",
      "align_content": null,
      "align_items": null,
      "align_self": null,
      "border": null,
      "bottom": null,
      "display": null,
      "flex": null,
      "flex_flow": null,
      "grid_area": null,
      "grid_auto_columns": null,
      "grid_auto_flow": null,
      "grid_auto_rows": null,
      "grid_column": null,
      "grid_gap": null,
      "grid_row": null,
      "grid_template_areas": null,
      "grid_template_columns": null,
      "grid_template_rows": null,
      "height": null,
      "justify_content": null,
      "justify_items": null,
      "left": null,
      "margin": null,
      "max_height": null,
      "max_width": null,
      "min_height": null,
      "min_width": null,
      "object_fit": null,
      "object_position": null,
      "order": null,
      "overflow": null,
      "overflow_x": null,
      "overflow_y": null,
      "padding": null,
      "right": null,
      "top": null,
      "visibility": null,
      "width": null
     }
    },
    "f98372fc4edb420396d235a9dab8ea72": {
     "model_module": "@jupyter-widgets/controls",
     "model_module_version": "1.5.0",
     "model_name": "HTMLModel",
     "state": {
      "_dom_classes": [],
      "_model_module": "@jupyter-widgets/controls",
      "_model_module_version": "1.5.0",
      "_model_name": "HTMLModel",
      "_view_count": null,
      "_view_module": "@jupyter-widgets/controls",
      "_view_module_version": "1.5.0",
      "_view_name": "HTMLView",
      "description": "",
      "description_tooltip": null,
      "layout": "IPY_MODEL_3c2c0c99caa647d297b9d5836dc26783",
      "placeholder": "​",
      "style": "IPY_MODEL_3be9a0be10ae46f2aac2dab245f8bfb0",
      "value": "100%"
     }
    },
    "ff6f5fb4d83c402fa270411dc87baa93": {
     "model_module": "@jupyter-widgets/controls",
     "model_module_version": "1.5.0",
     "model_name": "HTMLModel",
     "state": {
      "_dom_classes": [],
      "_model_module": "@jupyter-widgets/controls",
      "_model_module_version": "1.5.0",
      "_model_name": "HTMLModel",
      "_view_count": null,
      "_view_module": "@jupyter-widgets/controls",
      "_view_module_version": "1.5.0",
      "_view_name": "HTMLView",
      "description": "",
      "description_tooltip": null,
      "layout": "IPY_MODEL_03cc12b305cc4f029060ddad09430490",
      "placeholder": "​",
      "style": "IPY_MODEL_cb43d6dc1e1347f782887aa0284c2bfc",
      "value": " 24660/0 [00:09&lt;00:00, 3664.98 examples/s]"
     }
    }
   }
  }
 },
 "nbformat": 4,
 "nbformat_minor": 4
}
