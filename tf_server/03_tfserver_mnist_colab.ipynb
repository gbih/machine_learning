{
  "cells": [
    {
      "cell_type": "markdown",
      "source": [
        "<a id='top'></a>\n",
        "<a name=\"top\"></a><!--Need for Colab-->\n",
        "# Quick introduction to TensorFlow Serving\n",
        "\n",
        "## MNIST CNN Model on Colab\n",
        "\n",
        "Using subprocess module, trained / saved / loaded MNIST model, and HTTP requests-logging with TensorFlow Serving on Colab.\n",
        "\n",
        "This is a bit more complicated than using Docker."
      ],
      "metadata": {
        "id": "ur3fA5doQ0HU"
      },
      "id": "ur3fA5doQ0HU"
    },
    {
      "cell_type": "markdown",
      "source": [
        "<table align=\"left\">\n",
        "  <td>\n",
        "    <a href=\"https://colab.research.google.com/github/gbih/ml/blob/main/tf_server/03_tfserver_mnist_colab.ipynb\" target=\"_parent\"><img src=\"https://colab.research.google.com/assets/colab-badge.svg\" alt=\"Open In Colab\"/></a>\n",
        "  </td>\n",
        "</table>"
      ],
      "metadata": {
        "id": "tyuecNHR9ihC"
      },
      "id": "tyuecNHR9ihC"
    },
    {
      "cell_type": "markdown",
      "source": [
        "1. [Setup](#setup)\n",
        "2. [Introduction](#2.0)\n",
        "3. [Using subprocess with TensorFlow Serving](#3.0)\n",
        "4. [Train, save and load a MNIST model](#4.0)\n",
        "    * 4.1 [Inspect the SavedModel Signature](#4.1)\n",
        "5. [HTTP Request Logging for TensorFlow Serving](#5.0)\n",
        "6. [Running TensorFlow Serving on Colab](#6.0)\n",
        "7. [Health check](#7.0)\n",
        "    * 7.1 [Verify response](#7.1)\n",
        "    * 7.2 [Verify logs](#7.2)\n",
        "8. [Predict requests via POST](#8.0)\n",
        "9. [End and clean up processes](#9.0)"
      ],
      "metadata": {
        "id": "j8r5-9JQQ-JT"
      },
      "id": "j8r5-9JQQ-JT"
    },
    {
      "cell_type": "code",
      "source": [
        "# Do the following before initializing TensorFlow \n",
        "import os\n",
        "os.environ[\"TF_CPP_VMODULE\"] = 'http_server=1'"
      ],
      "metadata": {
        "id": "W8eFHZspYJOe"
      },
      "id": "W8eFHZspYJOe",
      "execution_count": null,
      "outputs": []
    },
    {
      "cell_type": "markdown",
      "source": [
        "---\n",
        "<a name=\"setup\"></a>\n",
        "# 1. Setup\n",
        "<a href=\"#top\">[back to top]</a>"
      ],
      "metadata": {
        "id": "kOI2CD03RC3n"
      },
      "id": "kOI2CD03RC3n"
    },
    {
      "cell_type": "code",
      "execution_count": null,
      "id": "f4cfedd4-a827-4b73-9a1d-0f028e93d3ae",
      "metadata": {
        "colab": {
          "base_uri": "https://localhost:8080/"
        },
        "id": "f4cfedd4-a827-4b73-9a1d-0f028e93d3ae",
        "outputId": "ea0e3eb0-91f1-4ee4-8b55-922fcd6eff8b"
      },
      "outputs": [
        {
          "output_type": "stream",
          "name": "stdout",
          "text": [
            "Python implementation: CPython\n",
            "Python version       : 3.7.13\n",
            "IPython version      : 5.5.0\n",
            "\n",
            "matplotlib: 3.2.2\n",
            "numpy     : 1.21.6\n",
            "requests  : 2.23.0\n",
            "tensorflow: 2.8.2+zzzcolab20220719082949\n",
            "\n",
            "Finished loading packages..\n"
          ]
        }
      ],
      "source": [
        "# standard library imports\n",
        "import asyncio\n",
        "import glob\n",
        "import json\n",
        "import os\n",
        "from pathlib import Path\n",
        "import pprint\n",
        "import shlex\n",
        "import subprocess\n",
        "import sys\n",
        "import time\n",
        "\n",
        "# third party imports\n",
        "import matplotlib.pyplot as plt\n",
        "import numpy as np\n",
        "import tensorflow as tf\n",
        "\n",
        "# Check platform (Colab or Kaggle)\n",
        "IS_COLAB = \"google.colab\" in sys.modules\n",
        "IS_KAGGLE = \"kaggle_secrets\" in sys.modules\n",
        "\n",
        "if IS_COLAB or IS_KAGGLE:\n",
        "    !pip install -q requests\n",
        "    !pip install watermark -q\n",
        "\n",
        "import requests\n",
        "\n",
        "# For debugging, provides version & hardware info\n",
        "# Load watermark magic extension\n",
        "%load_ext watermark\n",
        "%watermark --python --packages matplotlib,numpy,requests,tensorflow\n",
        "\n",
        "pp = pprint.PrettyPrinter(indent=2)\n",
        "\n",
        "def HR():\n",
        "    print(\"-\"*40)\n",
        "\n",
        "print(\"Finished loading packages..\")"
      ]
    },
    {
      "cell_type": "markdown",
      "source": [
        "---\n",
        "<a id=\"2.0\"></a><a name=\"2.0\"></a>\n",
        "# 2. Introduction\n",
        "<a href=\"#top\">[back to top]</a>\n",
        "\n",
        "We explore these tasks here:\n",
        "\n",
        "* Using subprocess with TensorFlow Serving.\n",
        "* Train / save / load the MNIST model.\n",
        "* Configuring and running TensorFlow Server without using Docker. "
      ],
      "metadata": {
        "id": "F0w0G4INRGij"
      },
      "id": "F0w0G4INRGij"
    },
    {
      "cell_type": "markdown",
      "source": [
        "---\n",
        "<a id=\"3.0\"></a><a name=\"3.0\"></a>\n",
        "# 3. Using subprocess with TensorFlow Serving\n",
        "<a href=\"#top\">[back to top]</a>\n",
        "\n",
        "The older method of running CLI commands in Python involved using either os.system or os.spawn*. Here, we will instead use the newer subprocess module. This allows us to spawn new processes, connect to their input/output/error pipes, and optionally obtain their return codes. This is a safer analog to os.system().\n",
        "\n",
        "The underlying process creation and management in `subprocess` is done by the [Popen Constructor](https://docs.python.org/3/library/subprocess.html#popen-constructor), `subprocess.Popen`. The underlying Popen interface can be used directly and offers the most flexibility. By default it results in a non-blocking call.\n",
        "\n",
        "Once you've created the Popen instance, some options are:\n",
        "* `wait()`:  to pause until the subprocess has exited.\n",
        "* `poll()`: check if it's exited without pausing.\n",
        "* `communicate()`: interact with process\n",
        "    - Send data to stdin. \n",
        "    - Read data from stdout and stderr, until end-of-file is reached. \n",
        "    - Wait for process to terminate and set the returncode attribute. \n",
        "\n",
        "\n",
        "**Popen Constructor:**\n",
        "\n",
        "```bash\n",
        "class subprocess.Popen(\n",
        "    args, \n",
        "    bufsize=- 1, \n",
        "    executable=None, \n",
        "    stdin=None, \n",
        "    stdout=None, \n",
        "    stderr=None, \n",
        "    preexec_fn=None, \n",
        "    close_fds=True, \n",
        "    shell=False, \n",
        "    cwd=None, \n",
        "    env=None, \n",
        "    universal_newlines=None, \n",
        "    startupinfo=None, \n",
        "    creationflags=0, \n",
        "    restore_signals=True, \n",
        "    start_new_session=False, \n",
        "    pass_fds=(), \n",
        "    *, \n",
        "    group=None, \n",
        "    extra_groups=None, \n",
        "    user=None, \n",
        "    umask=- 1, \n",
        "    encoding=None, \n",
        "    errors=None, \n",
        "    text=None, \n",
        "    pipesize=- 1\n",
        ")\n",
        "\n",
        "```\n",
        "\n",
        "    \n",
        "A convenience function built upon the underlying Popen interface is `subprocess.run`. This is a blocking call, as it waits for the command(s) to complete, then return a CompletedProcess instance.\n",
        "\n",
        "There are older high-level APIs, existing prior to Python 3.5. The functionality provided by them has been superceded by `subprocess.Popen` and `subprocess.run`:\n",
        "\n",
        "* `subprocess.call`\n",
        "* `subprocess.check_call`\n",
        "* `subprocess.check_output`\n",
        "\n",
        "\n",
        "**Useful resources on subprocess:**\n",
        "\n",
        "- https://peps.python.org/pep-0324/\n",
        "- https://docs.python.org/3/whatsnew/2.4.html#pep-324-new-subprocess-module\n",
        "- https://docs.python.org/3/library/subprocess.html\n",
        "- https://www.bogotobogo.com/python/python_subprocess_module.php\n",
        "- https://qiita.com/HidKamiya/items/e192a55371a2961ca8a4 (JP)\n",
        "- https://www.programcreek.com/python/example/50/subprocess.Popen\n"
      ],
      "metadata": {
        "id": "LSemlbYRRLjh"
      },
      "id": "LSemlbYRRLjh"
    },
    {
      "cell_type": "markdown",
      "id": "2742abe9-e4e2-4ed2-9e6d-b266f1091c64",
      "metadata": {
        "id": "2742abe9-e4e2-4ed2-9e6d-b266f1091c64"
      },
      "source": [
        "---\n",
        "<a id=\"4.0\"></a><a name=\"4.0\"></a>\n",
        "# 4. Train, save and load a MNIST model\n",
        "<a href=\"#top\">[back to top]</a>\n",
        "\n",
        "Here, we will train and save a CNN model for the MNIST dataset, then install TensorFlow Server on Debian to deploy this model.  We then make POST HTTP request with a JSON payload that contain test data. TensorFlow Serving will then make inferences, predicting the most probable image from among 10 categories.\n",
        "\n",
        "Reference:\n",
        "* https://www.tensorflow.org/tfx/tutorials/serving/rest_simple\n"
      ]
    },
    {
      "cell_type": "code",
      "execution_count": null,
      "id": "c38ad44d-1800-402e-b70e-e0ea3618b7dd",
      "metadata": {
        "id": "c38ad44d-1800-402e-b70e-e0ea3618b7dd",
        "colab": {
          "base_uri": "https://localhost:8080/"
        },
        "outputId": "44edaf7d-9f40-46bf-9cb5-5bb75ad9ba4f"
      },
      "outputs": [
        {
          "output_type": "stream",
          "name": "stdout",
          "text": [
            "model_dir:\t/content/tfs_colab\n",
            "model_name:\tmnist\n",
            "176K\t/content/tfs_colab/1/variables\n",
            "4.0K\t/content/tfs_colab/1/assets\n",
            "268K\t/content/tfs_colab/1\n",
            "272K\t/content/tfs_colab\n"
          ]
        }
      ],
      "source": [
        "MODEL_ROOT = 'tfs_colab'\n",
        "\n",
        "# create pathlib.PosixPath with fullpath via .resolve\n",
        "model_dir = (Path() / MODEL_ROOT).resolve()\n",
        "model_dir.mkdir(parents=True, exist_ok=True)\n",
        "\n",
        "model_name = 'mnist'\n",
        "\n",
        "print(f\"model_dir:\\t{model_dir}\")\n",
        "print(f\"model_name:\\t{model_name}\")\n",
        "\n",
        "!du -h {model_dir}"
      ]
    },
    {
      "cell_type": "code",
      "execution_count": null,
      "id": "4405f4b3-8a9f-40b9-a9ea-530a74997b74",
      "metadata": {
        "colab": {
          "base_uri": "https://localhost:8080/"
        },
        "id": "4405f4b3-8a9f-40b9-a9ea-530a74997b74",
        "outputId": "a839dfa8-e8e6-43ea-b8f5-1c337144eefc"
      },
      "outputs": [
        {
          "output_type": "stream",
          "name": "stdout",
          "text": [
            "Epoch 1/5\n",
            "1875/1875 - 9s - loss: 0.5499 - sparse_categorical_accuracy: 0.8084 - 9s/epoch - 5ms/step\n",
            "Epoch 2/5\n",
            "1875/1875 - 10s - loss: 0.4257 - sparse_categorical_accuracy: 0.8508 - 10s/epoch - 5ms/step\n",
            "Epoch 3/5\n",
            "1875/1875 - 5s - loss: 0.3881 - sparse_categorical_accuracy: 0.8639 - 5s/epoch - 3ms/step\n",
            "Epoch 4/5\n",
            "1875/1875 - 8s - loss: 0.3654 - sparse_categorical_accuracy: 0.8715 - 8s/epoch - 4ms/step\n",
            "Epoch 5/5\n",
            "1875/1875 - 7s - loss: 0.3481 - sparse_categorical_accuracy: 0.8768 - 7s/epoch - 4ms/step\n",
            "INFO:tensorflow:Assets written to: /content/tfs_colab/1/assets\n",
            "----------------------------------------\n",
            "\n",
            "Saved model:\n",
            "4.0K\t/content/tfs_colab/1/variables/variables.index\n",
            "168K\t/content/tfs_colab/1/variables/variables.data-00000-of-00001\n",
            "176K\t/content/tfs_colab/1/variables\n",
            "72K\t/content/tfs_colab/1/saved_model.pb\n",
            "12K\t/content/tfs_colab/1/keras_metadata.pb\n",
            "4.0K\t/content/tfs_colab/1/assets\n",
            "268K\t/content/tfs_colab/1\n"
          ]
        }
      ],
      "source": [
        "fashion_mnist = tf.keras.datasets.fashion_mnist\n",
        "(train_images, train_labels), (test_images, test_labels) = fashion_mnist.load_data()\n",
        "\n",
        "# Rescale to [0.0 .. 1.0]\n",
        "train_images = train_images / 255.0\n",
        "test_images = test_images / 255.0\n",
        "\n",
        "# Reshape for feeding into the model\n",
        "train_images = train_images.reshape(train_images.shape[0],28,28,1)\n",
        "test_images = test_images.reshape(test_images.shape[0],28,28,1)\n",
        "\n",
        "class_names = ['T-shirt/top', 'Trouser', 'Pullover', 'Dress', 'Coat',\n",
        "               'Sandal', 'Shirt', 'Sneaker', 'Bag', 'Ankle boot']\n",
        "\n",
        "model = tf.keras.Sequential([\n",
        "    tf.keras.layers.Conv2D(\n",
        "        input_shape=(28,28,1),\n",
        "        filters=8,\n",
        "        kernel_size=3,\n",
        "        strides=2,\n",
        "        activation='relu',\n",
        "        name='conv1'\n",
        "    ),\n",
        "    tf.keras.layers.Flatten(),\n",
        "    tf.keras.layers.Dense(10, name='dense')\n",
        "])\n",
        "\n",
        "epochs = 5\n",
        "\n",
        "model.compile(\n",
        "    optimizer='adam',\n",
        "    loss=tf.keras.losses.SparseCategoricalCrossentropy(from_logits=True),\n",
        "    metrics=[tf.keras.metrics.SparseCategoricalAccuracy()]\n",
        ")\n",
        "\n",
        "hist = model.fit(\n",
        "    train_images,\n",
        "    train_labels,\n",
        "    epochs=epochs,\n",
        "    verbose=2\n",
        ")\n",
        "                \n",
        "version = 1\n",
        "export_path = Path() / model_dir / str(version)\n",
        "\n",
        "# We will manually save the model here, in SavedModel format.\n",
        "# This creates a protobuf file in a structured directory hierarchy, \n",
        "# and includes a version number.\n",
        "# The model signature is defined by the input and output tensors, \n",
        "# and stored with the serving_default key.\n",
        "tf.keras.models.save_model(\n",
        "    model,\n",
        "    export_path,\n",
        "    overwrite=True,\n",
        "    include_optimizer=True,\n",
        "    save_format=None,\n",
        "    signatures=None,\n",
        "    options=None\n",
        ")\n",
        "\n",
        "HR()\n",
        "\n",
        "print(\"\\nSaved model:\")\n",
        "!du -ah {export_path}"
      ]
    },
    {
      "cell_type": "markdown",
      "source": [
        "<a id='4.1'></a><a name='4.1'></a>\n",
        "## 4.1 Inspect the SavedModel Signature\n",
        "<a href=\"#top\">[back to top]</a>\n",
        "\n",
        "We can use the tool `saved_model_cli` to inspect the SignatureDefs (the callable methods) of a model. This allows us to confirm the input Tensor dtype and shape matches the model.\n",
        "\n",
        "Resources:\n",
        "* https://github.com/tensorflow/docs/blob/master/site/en/r1/guide/saved_model.md#cli-to-inspect-and-execute-savedmodel\n",
        "* https://www.tensorflow.org/guide/saved_model\n",
        "* https://blog.tensorflow.org/2021/03/a-tour-of-savedmodel-signatures.html\n",
        "* https://www.tensorflow.org/tfx/tutorials/serving/rest_simple"
      ],
      "metadata": {
        "id": "xODNDOZNsrPD"
      },
      "id": "xODNDOZNsrPD"
    },
    {
      "cell_type": "code",
      "source": [
        "newest_model = max(glob.glob(f\"{model_dir}/*\"))\n",
        "\n",
        "print(\"All tag-sets in the latest SavedModel:\")\n",
        "HR()\n",
        "!saved_model_cli show \\\n",
        "--dir {newest_model}"
      ],
      "metadata": {
        "colab": {
          "base_uri": "https://localhost:8080/"
        },
        "id": "GBBogXcWsq31",
        "outputId": "67427b58-159f-40e2-82b2-874ccf9d7939"
      },
      "id": "GBBogXcWsq31",
      "execution_count": null,
      "outputs": [
        {
          "output_type": "stream",
          "name": "stdout",
          "text": [
            "All tag-sets in the latest SavedModel:\n",
            "----------------------------------------\n",
            "The given SavedModel contains the following tag-sets:\n",
            "'serve'\n"
          ]
        }
      ]
    },
    {
      "cell_type": "code",
      "source": [
        "print(\"All available SignatureDef keys in the MetaGraphDef specified by tag-set 'serve':\")\n",
        "HR()\n",
        "!saved_model_cli show \\\n",
        "--dir {newest_model} --tag_set serve"
      ],
      "metadata": {
        "colab": {
          "base_uri": "https://localhost:8080/"
        },
        "id": "gUf51MMTsxrJ",
        "outputId": "4730ae01-1cb7-4f24-9940-80317f83bd31"
      },
      "id": "gUf51MMTsxrJ",
      "execution_count": null,
      "outputs": [
        {
          "output_type": "stream",
          "name": "stdout",
          "text": [
            "All available SignatureDef keys in the MetaGraphDef specified by tag-set 'serve':\n",
            "----------------------------------------\n",
            "The given SavedModel MetaGraphDef contains SignatureDefs with the following keys:\n",
            "SignatureDef key: \"__saved_model_init_op\"\n",
            "SignatureDef key: \"serving_default\"\n"
          ]
        }
      ]
    },
    {
      "cell_type": "code",
      "source": [
        "print(\"All inputs and outputs TensorInfo for the specific SignatureDef 'serving_default' in the MetaGraph:\")\n",
        "print(\"Note that shape: (-1) implies 1-D shape for inference data, eg {'examples': [{...}]}\")\n",
        "HR()\n",
        "\n",
        "!saved_model_cli show \\\n",
        "--dir {newest_model} \\\n",
        "--tag_set serve --signature_def serving_default"
      ],
      "metadata": {
        "colab": {
          "base_uri": "https://localhost:8080/"
        },
        "id": "jpntfog_szlf",
        "outputId": "6a2c87c0-1ed2-4094-81a4-9696a2400736"
      },
      "id": "jpntfog_szlf",
      "execution_count": null,
      "outputs": [
        {
          "output_type": "stream",
          "name": "stdout",
          "text": [
            "All inputs and outputs TensorInfo for the specific SignatureDef 'serving_default' in the MetaGraph:\n",
            "Note that shape: (-1) implies 1-D shape for inference data, eg {'examples': [{...}]}\n",
            "----------------------------------------\n",
            "The given SavedModel SignatureDef contains the following input(s):\n",
            "  inputs['conv1_input'] tensor_info:\n",
            "      dtype: DT_FLOAT\n",
            "      shape: (-1, 28, 28, 1)\n",
            "      name: serving_default_conv1_input:0\n",
            "The given SavedModel SignatureDef contains the following output(s):\n",
            "  outputs['dense'] tensor_info:\n",
            "      dtype: DT_FLOAT\n",
            "      shape: (-1, 10)\n",
            "      name: StatefulPartitionedCall:0\n",
            "Method name is: tensorflow/serving/predict\n"
          ]
        }
      ]
    },
    {
      "cell_type": "markdown",
      "source": [
        "---\n",
        "<a id=\"5.0\"></a><a name=\"5.0\"></a>\n",
        "# 5. HTTP Request Logging for TensorFlow Serving\n",
        "<a href=\"#top\">[back to top]</a>\n",
        "\n",
        "* The easiest way to enable logging for TensorFlow-Model-Serving is via environment variables. This is not specific to TensorFlow Serving, but general to TensorFlow.\n",
        "\n",
        "* `TF_CPP_MIN_VLOG_LEVEL` enables logging of the main C++ backend. However, even the lowest setting of `TF_CPP_MIN_VLOG_LEVEL=1` results in too much noise.\n",
        "\n",
        "* `TF_CPP_VMODULE` provides a way to constrain logging to specific modules or source files. The general format is `TF_CPP_VMODULE=<module_name>=1`, where the module name can be either the C++ or Python file name (without the extension).\n",
        "\n",
        "* Here, we can activate logging individually for http_server.cc via \n",
        "`TF_CPP_VMODULE=http_server=1`. This will enable simple HTTP request logging and errors.\n",
        "\n",
        "**To-do:**\n",
        "\n",
        "With a non-Docker platform, we can set the \n",
        "environmental variable via `os.environ[\"TF_CPP_VMODULE\"] = 'http_server=1'`. However, GET and POST requests are not being logged (possible mis-configuration?)"
      ],
      "metadata": {
        "id": "gGe1iohfs83l"
      },
      "id": "gGe1iohfs83l"
    },
    {
      "cell_type": "markdown",
      "id": "f1d0e6c0-ca5f-490b-ac41-edc8c841cd74",
      "metadata": {
        "id": "f1d0e6c0-ca5f-490b-ac41-edc8c841cd74"
      },
      "source": [
        "---\n",
        "<a name=\"6.0\"></a>\n",
        "# 6. Running TensorFlow Serving on Colab\n",
        "<a href=\"#top\">[back to top]</a>\n",
        "\n",
        "To-do: \n",
        "\n",
        "Add explanation."
      ]
    },
    {
      "cell_type": "code",
      "source": [
        "def tfs_download_colab():\n",
        "    print(\"Running on Colab\")\n",
        "    HR()\n",
        "\n",
        "    # tensorflow-model-server 2.8.2 and 2.9.0 require updated GLIBC versions.\n",
        "    # https://github.com/tensorflow/serving/blob/master/tensorflow_serving/g3doc/setup.md\n",
        "    \n",
        "    # Binary debian file\n",
        "    debian_tfs = 'tensorflow-model-server-universal_2.8.0_all.deb'\n",
        "    path = Path(debian_tfs)\n",
        "    if not path.is_file():\n",
        "        !wget 'http://storage.googleapis.com/tensorflow-serving-apt/pool/tensorflow-model-server-universal-2.8.0/t/tensorflow-model-server-universal/tensorflow-model-server-universal_2.8.0_all.deb'\n",
        "\n",
        "    # Use dpkg to install, remove, and provide information about .deb packages.\n",
        "    !dpkg -i tensorflow-model-server-universal_2.8.0_all.deb\n"
      ],
      "metadata": {
        "id": "dlflpNVXF0jQ"
      },
      "id": "dlflpNVXF0jQ",
      "execution_count": null,
      "outputs": []
    },
    {
      "cell_type": "code",
      "source": [
        "log_file = f\"{model_name}_tfs.log\"\n",
        "print(f\"log_file: {log_file}\")"
      ],
      "metadata": {
        "colab": {
          "base_uri": "https://localhost:8080/"
        },
        "id": "8xcv20KgiZZA",
        "outputId": "6ca45bba-8a5f-4926-d57e-cbdb5211b381"
      },
      "id": "8xcv20KgiZZA",
      "execution_count": null,
      "outputs": [
        {
          "output_type": "stream",
          "name": "stdout",
          "text": [
            "log_file: mnist_tfs.log\n"
          ]
        }
      ]
    },
    {
      "cell_type": "code",
      "execution_count": null,
      "id": "3b9b3bff-c98c-4193-ba12-750e1c6f0eae",
      "metadata": {
        "id": "3b9b3bff-c98c-4193-ba12-750e1c6f0eae"
      },
      "outputs": [],
      "source": [
        "def tfs_start_colab():\n",
        "    \n",
        "    # Use `subprocess.Popen()` to start the tensorflow_model_server. The subprocess module allows you to spawn new processes, connect to their input/output/error pipes, and obtain their return codes.\n",
        "    # To run `tensorflow_model_server` as a process on Debian, we additionaly need these steps:\n",
        "\n",
        "    # * https://stackoverflow.com/questions/6011235/run-a-program-from-python-and-have-it-continue-to-run-after-the-script-is-kille/16928558#16928558\n",
        "    # Run a program from python, and have it continue to run after the script is killed. If use 'setpgrp', this prevents the child from getting SIGHUP from the parent, since it's no longer part of the same process group, hence cannot use 'nohup',\n",
        "    # but we really don't need it anymore.\n",
        "\n",
        "    # * https://pythontect.com/python-subprocess-popen-tutorial/\n",
        "    # If preexec_fn is set to a callable object, this object will be called in \n",
        "    # the child process just before the child is executed. (POSIX only)\n",
        "    \n",
        "    # By default, TensorFlow Model Server listens on port 8500 using the gRPC API. To use a different port, specify --port=<port number> on the command line.\n",
        "    # By default TensorFlow Model Server will not listen for a REST/HTTP request. To specify a port to listen for a REST/HTTP request, include --rest_api_port=<port number> on the command line.\n",
        "\n",
        "    # Can we directly pass environmental variables here?\n",
        "    cmd = f\"\"\"nohup \n",
        "        tensorflow_model_server \n",
        "        --rest_api_port=8501 \n",
        "        --model_name={model_name} \n",
        "        --model_base_path='{model_dir}' \n",
        "        \"\"\"\n",
        "\n",
        "    try:\n",
        "        # Run a program from python, and have it continue to run after the script is killed\n",
        "        # https://stackoverflow.com/questions/6011235/run-a-program-from-python-and-have-it-continue-to-run-after-the-script-is-kille/16928558#16928558\n",
        "        # If use 'setpgrp', this prevents the child from getting SIGHUP from the parent, \n",
        "        # since it's no longer part of the same process group, hence cannot use 'nohup',\n",
        "        # but we really don't need it anymore.s\n",
        "        # https://pythontect.com/python-subprocess-popen-tutorial/\n",
        "        # If preexec_fn is set to a callable object, this object will be called in \n",
        "        # the child process just before the child is executed. (POSIX only)\n",
        "\n",
        "        # popen on Unix is done using fork, so it naturally \"detaches\" from the parent process\n",
        "        proc = subprocess.Popen(\n",
        "            shlex.split(cmd),\n",
        "            stdout=open(log_file, 'w'),\n",
        "            stderr=subprocess.STDOUT,\n",
        "            preexec_fn=os.setpgrp, # keep subprocess alive even when parent stops\n",
        "            shell=False # needed for shell-like features like &\n",
        "        )\n",
        "        # print(f\"-------- PROC HERE: {proc.pid}\")\n",
        "    except Exception as e:\n",
        "        print(f\"Error: {e}\")\n",
        "\n",
        "    return proc"
      ]
    },
    {
      "cell_type": "code",
      "execution_count": null,
      "id": "530eb5ac-74ef-4d99-afde-3181314d5b0c",
      "metadata": {
        "id": "530eb5ac-74ef-4d99-afde-3181314d5b0c"
      },
      "outputs": [],
      "source": [
        "def check_tfp_process():\n",
        "    !ps ax | grep -e tensorflow_model_server"
      ]
    },
    {
      "cell_type": "code",
      "execution_count": null,
      "id": "h2-5HumxPMUF",
      "metadata": {
        "id": "h2-5HumxPMUF"
      },
      "outputs": [],
      "source": [
        "def request_status_rest():\n",
        "    try:\n",
        "        resp_data = requests.get(f'http://localhost:8501/v1/models/{model_name}')\n",
        "    except Exception as e:\n",
        "        print(f\"Error: {e}\")\n",
        "    else:\n",
        "        return resp_data"
      ]
    },
    {
      "cell_type": "code",
      "execution_count": null,
      "id": "aVFlw850I3Wl",
      "metadata": {
        "id": "aVFlw850I3Wl"
      },
      "outputs": [],
      "source": [
        "def show_tfs_dict(proc):\n",
        "    print(\"Properties of returned container process:\\n\")\n",
        "    for key in proc.__dict__:\n",
        "        if key == 'args':\n",
        "            HR()\n",
        "            print(key, '->', proc.__dict__[key])\n",
        "            HR()\n",
        "        else:\n",
        "            print(key, '->', proc.__dict__[key])"
      ]
    },
    {
      "cell_type": "code",
      "source": [
        "tfs_download_colab() # download\n",
        "proc = tfs_start_colab() # start\n",
        "\n",
        "print(f\"tensorflow_model_server proc.pid: {proc.pid}\")"
      ],
      "metadata": {
        "colab": {
          "base_uri": "https://localhost:8080/"
        },
        "id": "OM6Qy3EwE5Za",
        "outputId": "d3bc421d-0341-4e43-8b18-0d6f5c69376f"
      },
      "id": "OM6Qy3EwE5Za",
      "execution_count": null,
      "outputs": [
        {
          "output_type": "stream",
          "name": "stdout",
          "text": [
            "Running on Colab\n",
            "----------------------------------------\n",
            "(Reading database ... 155681 files and directories currently installed.)\n",
            "Preparing to unpack tensorflow-model-server-universal_2.8.0_all.deb ...\n",
            "Unpacking tensorflow-model-server-universal (2.8.0) over (2.8.0) ...\n",
            "Setting up tensorflow-model-server-universal (2.8.0) ...\n",
            "tensorflow_model_server proc.pid: 1265\n"
          ]
        }
      ]
    },
    {
      "cell_type": "code",
      "execution_count": null,
      "id": "b925d50f-5119-405f-b5a2-800cb2cc65c5",
      "metadata": {
        "colab": {
          "base_uri": "https://localhost:8080/"
        },
        "id": "b925d50f-5119-405f-b5a2-800cb2cc65c5",
        "outputId": "e35a60e3-16a4-4529-f302-bbea98effc93"
      },
      "outputs": [
        {
          "output_type": "stream",
          "name": "stdout",
          "text": [
            "Properties of returned container process:\n",
            "\n",
            "_waitpid_lock -> <unlocked _thread.lock object at 0x7f286c238a50>\n",
            "_input -> None\n",
            "_communication_started -> False\n",
            "----------------------------------------\n",
            "args -> ['nohup', 'tensorflow_model_server', '--rest_api_port=8501', '--model_name=mnist', '--model_base_path=/content/tfs_colab']\n",
            "----------------------------------------\n",
            "stdin -> None\n",
            "stdout -> None\n",
            "stderr -> None\n",
            "pid -> 1265\n",
            "returncode -> None\n",
            "encoding -> None\n",
            "errors -> None\n",
            "text_mode -> None\n",
            "_sigint_wait_secs -> 0.25\n",
            "_closed_child_pipe_fds -> True\n",
            "_child_created -> True\n"
          ]
        }
      ],
      "source": [
        "show_tfs_dict(proc)"
      ]
    },
    {
      "cell_type": "code",
      "source": [
        "check_tfp_process() # check if running"
      ],
      "metadata": {
        "colab": {
          "base_uri": "https://localhost:8080/"
        },
        "id": "_L975cS107oZ",
        "outputId": "744ae0b4-94ce-438d-cdd2-414930b25d3c"
      },
      "id": "_L975cS107oZ",
      "execution_count": null,
      "outputs": [
        {
          "output_type": "stream",
          "name": "stdout",
          "text": [
            "   1265 ?        Sl     0:00 tensorflow_model_server --rest_api_port=8501 --model_name=mnist --model_base_path=/content/tfs_colab\n",
            "   1266 ?        S      0:00 /bin/bash -c ps ax | grep -e tensorflow_model_server\n",
            "   1268 ?        S      0:00 grep -e tensorflow_model_server\n"
          ]
        }
      ]
    },
    {
      "cell_type": "markdown",
      "source": [
        "---\n",
        "<a name=\"7.0\"></a>\n",
        "# 7. Health check\n",
        "<a href=\"#top\">[back to top]</a>\n",
        "\n",
        "Creates a simple http client and send requests.\n",
        "\n",
        "* https://github.com/tensorflow/serving/blob/master/tensorflow_serving/model_servers/tensorflow_model_server_test.py#L520"
      ],
      "metadata": {
        "id": "f5ywwRv5vrjv"
      },
      "id": "f5ywwRv5vrjv"
    },
    {
      "cell_type": "code",
      "source": [
        "def request_status_rest():\n",
        "    try:\n",
        "        resp_data = requests.get(f'http://localhost:8501/v1/models/{model_name}')\n",
        "    except Exception as e:\n",
        "        print(f\"Error: {e}\")\n",
        "    else:\n",
        "        return resp_data"
      ],
      "metadata": {
        "id": "pwL06TLWwF7G"
      },
      "id": "pwL06TLWwF7G",
      "execution_count": null,
      "outputs": []
    },
    {
      "cell_type": "markdown",
      "source": [
        "<a id='7.1'></a><a name='7.1'></a>\n",
        "## 7.1 Verify response\n",
        "<a href=\"#top\">[back to top]</a>"
      ],
      "metadata": {
        "id": "GyE1OOdUvrqw"
      },
      "id": "GyE1OOdUvrqw"
    },
    {
      "cell_type": "code",
      "source": [
        "request_result = request_status_rest()\n",
        "\n",
        "pp.pprint(request_result.json())\n",
        "\n",
        "assert request_result.json() == {\n",
        "        'model_version_status': [{\n",
        "            'version': '1',\n",
        "            'state': 'AVAILABLE',\n",
        "            'status': {\n",
        "                'error_code': 'OK',\n",
        "                'error_message': ''\n",
        "            }\n",
        "        }]\n",
        "    }"
      ],
      "metadata": {
        "colab": {
          "base_uri": "https://localhost:8080/"
        },
        "id": "oPGmcBCOwOIK",
        "outputId": "b76734a4-f798-4312-c8a5-701728118ca9"
      },
      "id": "oPGmcBCOwOIK",
      "execution_count": null,
      "outputs": [
        {
          "output_type": "stream",
          "name": "stdout",
          "text": [
            "{ 'model_version_status': [ { 'state': 'AVAILABLE',\n",
            "                              'status': { 'error_code': 'OK',\n",
            "                                          'error_message': ''},\n",
            "                              'version': '1'}]}\n"
          ]
        }
      ]
    },
    {
      "cell_type": "markdown",
      "source": [
        "<a id='7.2'></a><a name='7.2'></a>\n",
        "## 7.2 Verify logs\n",
        "<a href=\"#top\">[back to top]</a>\n",
        "\n",
        "To-do:\n",
        "\n",
        "We are not seeing the log files being updated with these HTTP requests, need to check."
      ],
      "metadata": {
        "id": "D8lRxfsGwiWy"
      },
      "id": "D8lRxfsGwiWy"
    },
    {
      "cell_type": "code",
      "source": [
        "for x in range(5):\n",
        "    resp = request_status_rest()\n",
        "    print(f\"===> TFS Status : {resp.headers['Date']} {resp}\")\n",
        "    time.sleep(0.5)\n",
        "    \n",
        "HR()\n",
        "    \n",
        "!du -h {log_file}\n",
        "HR()\n",
        "!tail  {log_file}"
      ],
      "metadata": {
        "colab": {
          "base_uri": "https://localhost:8080/"
        },
        "id": "uOsw0bAFwl0u",
        "outputId": "feab7d8e-52e3-41f3-8e77-ed745fe7f4ee"
      },
      "id": "uOsw0bAFwl0u",
      "execution_count": null,
      "outputs": [
        {
          "output_type": "stream",
          "name": "stdout",
          "text": [
            "===> TFS Status : Sun, 07 Aug 2022 15:02:23 GMT <Response [200]>\n",
            "===> TFS Status : Sun, 07 Aug 2022 15:02:23 GMT <Response [200]>\n",
            "===> TFS Status : Sun, 07 Aug 2022 15:02:24 GMT <Response [200]>\n",
            "===> TFS Status : Sun, 07 Aug 2022 15:02:24 GMT <Response [200]>\n",
            "===> TFS Status : Sun, 07 Aug 2022 15:02:25 GMT <Response [200]>\n",
            "----------------------------------------\n",
            "4.0K\tmnist_tfs.log\n",
            "----------------------------------------\n",
            "[warn] getaddrinfo: address family for nodename not supported\n",
            "[evhttp_server.cc : 245] NET_LOG: Entering the event loop ...\n"
          ]
        }
      ]
    },
    {
      "cell_type": "markdown",
      "id": "c2ddc6d1-ea1e-4c65-988a-3f2e82e5562e",
      "metadata": {
        "id": "c2ddc6d1-ea1e-4c65-988a-3f2e82e5562e"
      },
      "source": [
        "---\n",
        "<a id=\"8.0\"></a><a name=\"8.0\"></a>\n",
        "# 8. Predict requests via POST\n",
        "<a href=\"#top\">[back to top]</a>\n",
        "\n",
        "Send a predict request as a POST to our server's REST endpoint."
      ]
    },
    {
      "cell_type": "code",
      "execution_count": null,
      "id": "661bf264-9fd8-46ae-8c57-c3dedf044db1",
      "metadata": {
        "colab": {
          "base_uri": "https://localhost:8080/",
          "height": 1000
        },
        "id": "661bf264-9fd8-46ae-8c57-c3dedf044db1",
        "outputId": "de6ab9ba-288e-4ce3-a8d2-5649ed89791e"
      },
      "outputs": [
        {
          "output_type": "stream",
          "name": "stdout",
          "text": [
            "Shape of data passed to JSON payload: (3, 28, 28, 1)\n",
            "shape[0] is 3, this means we will pass 3 samples.\n",
            "----------------------------------------\n",
            "Properties of response:\n",
            "\n",
            "{ '_content': b'{\\n    \"predictions\": [[-6.34060574, -9.11874, -5.47733784, -'\n",
            "              b'6.10929585, -5.26067, 1.53467953, -3.39615297, 3.31058621, 0'\n",
            "              b'.699342728, 5.36044407], [-4.21949673, -18.1921597, 3.326071'\n",
            "              b'98, -9.3731575, -3.16625404, -28.6663227, -1.32310343, -33.0'\n",
            "              b'69149, -10.1633339, -23.68013], [-4.2460742, 8.52926, -8.014'\n",
            "              b'11533, -1.56475985, -2.09522104, -17.4982662, -8.7585, -14.3'\n",
            "              b'01878, -9.0443821, -15.0921993]\\n    ]\\n}',\n",
            "  '_content_consumed': True,\n",
            "  '_next': None,\n",
            "  'connection': <requests.adapters.HTTPAdapter object at 0x7f286db8ac10>,\n",
            "  'cookies': <RequestsCookieJar[]>,\n",
            "  'elapsed': datetime.timedelta(microseconds=64386),\n",
            "  'encoding': None,\n",
            "  'headers': {'Content-Type': 'application/json', 'Date': 'Sun, 07 Aug 2022 15:02:35 GMT', 'Content-Length': '399'},\n",
            "  'history': [],\n",
            "  'raw': <urllib3.response.HTTPResponse object at 0x7f286d9e8c10>,\n",
            "  'reason': 'OK',\n",
            "  'request': <PreparedRequest [POST]>,\n",
            "  'status_code': 200,\n",
            "  'url': 'http://localhost:8501/v1/models/mnist:predict'}\n"
          ]
        },
        {
          "output_type": "display_data",
          "data": {
            "text/plain": [
              "<Figure size 432x288 with 1 Axes>"
            ],
            "image/png": "[encoded data removed]"
          },
          "metadata": {
            "needs_background": "light"
          }
        },
        {
          "output_type": "display_data",
          "data": {
            "text/plain": [
              "<Figure size 432x288 with 1 Axes>"
            ],
            "image/png": "[encoded data removed]"
          },
          "metadata": {
            "needs_background": "light"
          }
        },
        {
          "output_type": "display_data",
          "data": {
            "text/plain": [
              "<Figure size 432x288 with 1 Axes>"
            ],
            "image/png": "[encoded data removed]"
          },
          "metadata": {
            "needs_background": "light"
          }
        }
      ],
      "source": [
        "def show(idx, title):\n",
        "    plt.figure()\n",
        "    plt.imshow(test_images[idx].reshape(28,28))    \n",
        "    plt.axis('off')\n",
        "    plt.title(f'\\n{title}')\n",
        "  \n",
        "# ndarray is not JSON serializable, so we have to transform \n",
        "# test_images to a regular Python list before making the HTTP request.\n",
        "\n",
        "# Check shape of data\n",
        "num_samples = 3\n",
        "test_payload = test_images[0:num_samples]\n",
        "print(f\"Shape of data passed to JSON payload: {test_payload.shape}\")\n",
        "\n",
        "if test_payload.shape[0] == 1:\n",
        "    sample_text = 'sample'\n",
        "else:\n",
        "    sample_text = 'samples'\n",
        "print(f\"shape[0] is {test_payload.shape[0]}, this means we will pass {test_payload.shape[0]} {sample_text}.\")\n",
        "\n",
        "HR()\n",
        "\n",
        "img_data = test_payload.tolist()\n",
        "\n",
        "# Show just a tiny subset\n",
        "data = json.dumps({\n",
        "    \"signature_name\": \"serving_default\",\n",
        "    \"instances\": img_data\n",
        "})\n",
        "\n",
        "\n",
        "headers = {\n",
        "    \"Content-type\": \"application_json\"\n",
        "}\n",
        "\n",
        "json_response = requests.post(\n",
        "    f'http://localhost:8501/v1/models/{model_name}:predict',\n",
        "    data=data,\n",
        "    headers=headers\n",
        ")\n",
        "\n",
        "# the JSON object must be str, bytes or bytearray, not Response\n",
        "predictions = json.loads(json_response.text)['predictions']\n",
        "\n",
        "for i in range(0, num_samples):\n",
        "    forecast = class_names[np.argmax(predictions[i])]\n",
        "    forecast_class = np.argmax(predictions[i])\n",
        "    actual = class_names[test_labels[i]]\n",
        "    actual_class = test_labels[i]\n",
        "    show(\n",
        "        i, \n",
        "        f\"\"\"Predicted: {forecast} (class {forecast_class})\\nActual: {actual} (class {actual_class})\"\"\"\n",
        "    )\n",
        "    \n",
        "print(\"Properties of response:\\n\")\n",
        "pp.pprint(json_response.__dict__)"
      ]
    },
    {
      "cell_type": "markdown",
      "source": [
        "---\n",
        "<a name=\"9.0\"></a>\n",
        "# 9. End and clean up processes\n",
        "<a href=\"#top\">[back to top]</a>"
      ],
      "metadata": {
        "id": "zzSUOUdQyTiv"
      },
      "id": "zzSUOUdQyTiv"
    },
    {
      "cell_type": "code",
      "source": [
        "!killall tensorflow_model_server -v"
      ],
      "metadata": {
        "colab": {
          "base_uri": "https://localhost:8080/"
        },
        "id": "McSZdk8UyW2v",
        "outputId": "a10cad92-b01c-4352-b647-a453eec86f01"
      },
      "id": "McSZdk8UyW2v",
      "execution_count": null,
      "outputs": [
        {
          "output_type": "stream",
          "name": "stdout",
          "text": [
            "Killed tensorflow_model_server(1265) with signal 15\n"
          ]
        }
      ]
    },
    {
      "cell_type": "markdown",
      "id": "3c6a39bc-4e41-4d9d-8491-490b00a3cc89",
      "metadata": {
        "id": "3c6a39bc-4e41-4d9d-8491-490b00a3cc89"
      },
      "source": [
        "---\n",
        "## Content Attribution\n",
        "\n",
        "Portions of this page are modifications based on work created and shared by Google and used according to terms described in the Creative Commons 4.0 Attribution License.\n",
        "\n",
        "This notebook is originally based on [Train and serve a TensorFlow model with TensorFlow Serving](https://www.tensorflow.org/tfx/tutorials/serving/rest_simple), created by Google."
      ]
    },
    {
      "cell_type": "markdown",
      "id": "b0a43fed-386a-4f04-b670-3f13ca4a50d3",
      "metadata": {
        "id": "b0a43fed-386a-4f04-b670-3f13ca4a50d3"
      },
      "source": [
        "## Code Attribution\n",
        "\n",
        "Copyright 2020 The TensorFlow Authors."
      ]
    },
    {
      "cell_type": "code",
      "execution_count": null,
      "id": "9abc4f90-c2cb-412f-8574-d3f48f879cf9",
      "metadata": {
        "id": "9abc4f90-c2cb-412f-8574-d3f48f879cf9"
      },
      "outputs": [],
      "source": [
        "#@title Licensed under the Apache License, Version 2.0 (the \"License\");\n",
        "# you may not use this file except in compliance with the License.\n",
        "# You may obtain a copy of the License at\n",
        "#\n",
        "# https://www.apache.org/licenses/LICENSE-2.0\n",
        "#\n",
        "# Unless required by applicable law or agreed to in writing, software\n",
        "# distributed under the License is distributed on an \"AS IS\" BASIS,\n",
        "# WITHOUT WARRANTIES OR CONDITIONS OF ANY KIND, either express or implied.\n",
        "# See the License for the specific language governing permissions and\n",
        "# limitations under the License."
      ]
    },
    {
      "cell_type": "code",
      "source": [
        ""
      ],
      "metadata": {
        "id": "ihWi7DY7y0g0"
      },
      "id": "ihWi7DY7y0g0",
      "execution_count": null,
      "outputs": []
    }
  ],
  "metadata": {
    "colab": {
      "collapsed_sections": [],
      "name": "Copy of 03_tfserver_mnist_colab.ipynb",
      "provenance": []
    },
    "kernelspec": {
      "display_name": "Python 3 (ipykernel)",
      "language": "python",
      "name": "python3"
    },
    "language_info": {
      "codemirror_mode": {
        "name": "ipython",
        "version": 3
      },
      "file_extension": ".py",
      "mimetype": "text/x-python",
      "name": "python",
      "nbconvert_exporter": "python",
      "pygments_lexer": "ipython3",
      "version": "3.8.12"
    }
  },
  "nbformat": 4,
  "nbformat_minor": 5
}