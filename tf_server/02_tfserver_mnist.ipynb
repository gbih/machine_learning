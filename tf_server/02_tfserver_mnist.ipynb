{
 "cells": [
  {
   "cell_type": "markdown",
   "id": "d5cf4736-2749-4110-a6c3-753350bf2f79",
   "metadata": {},
   "source": [
    "<a id='top'></a>\n",
    "<a name=\"top\"></a><!--Need for Colab-->\n",
    "# Quick introduction to TensorFlow Serving\n",
    "\n",
    "## MNIST CNN Model\n",
    "\n",
    "Use Docker, subprocess module, trained / saved / loaded MNIST model, TensorFlow ModelServer APIs, and HTTP requests-logging."
   ]
  },
  {
   "cell_type": "markdown",
   "id": "d9173c60-1fa4-4d9d-9ad6-eea616ec867e",
   "metadata": {},
   "source": [
    "1. [Setup](#setup)\n",
    "2. [Introduction](#2.0)\n",
    "3. [Using subprocess with TensorFlow Serving](#3.0)\n",
    "4. [Train, save and load a MNIST model](#4.0)\n",
    "    * 4.1 [Inspect the SavedModel Signature](#4.1)\n",
    "5. [HTTP Request Logging for TensorFlow Serving](#5.0)\n",
    "6. [Running a minimal Docker image with TensorFlow Serving](#6.0)\n",
    "7. [Subprocess to write logs to file](#7.0)\n",
    "    * [7.1 Verify logs](#7.1)\n",
    "8. [RESTful APIs](#8.0)\n",
    "    * [8.1 Model status API](#8.1)\n",
    "    * [8.2 Model Metadata API](#8.2)\n",
    "    * [8.3 Predict API](#8.3)\n",
    "    * [8.4 Classify and Regress API](#8.4)\n",
    "9. [Miscellaneous](#9.0)\n",
    "10. [End and clean up processes](#10.0)"
   ]
  },
  {
   "cell_type": "markdown",
   "id": "c060391a-78ad-4cdf-9618-d08a5f45a2cf",
   "metadata": {},
   "source": [
    "---\n",
    "<a name=\"setup\"></a>\n",
    "# 1. Setup\n",
    "<a href=\"#top\">[back to top]</a>"
   ]
  },
  {
   "cell_type": "code",
   "execution_count": 1,
   "id": "60da2bc3-2fc7-46e4-9641-14a5c91a6f4a",
   "metadata": {},
   "outputs": [
    {
     "name": "stdout",
     "output_type": "stream",
     "text": [
      "Python implementation: CPython\n",
      "Python version       : 3.8.12\n",
      "IPython version      : 7.34.0\n",
      "\n",
      "matplotlib: 3.5.1\n",
      "numpy     : 1.22.4\n",
      "requests  : 2.27.1\n",
      "tensorflow: 2.9.1\n",
      "\n",
      "Finished loading packages..\n"
     ]
    }
   ],
   "source": [
    "# stdlib imports\n",
    "import asyncio\n",
    "import glob\n",
    "import json\n",
    "import os\n",
    "from pathlib import Path\n",
    "import pprint\n",
    "import shlex\n",
    "import subprocess\n",
    "import sys\n",
    "import time\n",
    "\n",
    "# third party imports\n",
    "import matplotlib.pyplot as plt\n",
    "import numpy as np\n",
    "import requests\n",
    "import tensorflow as tf\n",
    "\n",
    "\n",
    "# For debugging, provides version & hardware info\n",
    "try:\n",
    "    %load_ext watermark\n",
    "except ImportError:\n",
    "    print(\"Installing watermark:\")\n",
    "    !pip install watermark -q\n",
    "    %load_ext watermark\n",
    "finally:\n",
    "    %watermark --python --packages matplotlib,numpy,requests,tensorflow\n",
    "    \n",
    "pp = pprint.PrettyPrinter(indent=2)\n",
    "\n",
    "def HR():\n",
    "    print(\"-\"*40)\n",
    "\n",
    "print(\"Finished loading packages..\")"
   ]
  },
  {
   "cell_type": "markdown",
   "id": "8affb1a3-927d-4ea0-aeba-3d2bccf15d68",
   "metadata": {},
   "source": [
    "---\n",
    "<a id=\"2.0\"></a><a name=\"2.0\"></a>\n",
    "# 2. Introduction\n",
    "<a href=\"#top\">[back to top]</a>\n",
    "\n",
    "We explore these tasks here:\n",
    "\n",
    "* Using subprocess with TensorFlow Serving.\n",
    "* HTTP Request Logging for TensorFlow Serving.\n",
    "* Train / save / load the MNIST model.\n",
    "* Running a minimal Docker image with TensorFlow Serving.\n",
    "* Subprocess to write logs to file.\n",
    "\n",
    "Reference:\n",
    "\n",
    "https://tf.wiki/en/deployment/serving.html#en-call-serving-api"
   ]
  },
  {
   "cell_type": "markdown",
   "id": "a12c9298-c5f8-4477-b227-62b626e61ff0",
   "metadata": {},
   "source": [
    "---\n",
    "<a id=\"3.0\"></a><a name=\"3.0\"></a>\n",
    "# 3. Using subprocess with TensorFlow Serving\n",
    "<a href=\"#top\">[back to top]</a>\n",
    "\n",
    "\n",
    "\n",
    "A convenient way to use TensorFlow Serving is via Docker. We can operate the server and logging functions via Docker Commands on the CLI, but there are certain advantages (readability, maintenance, security, etc) to wrapping them in Python.\n",
    "\n",
    "The older method of doing this involved using either os.system or os.spawn*. Here, we will instead use the newer subprocess module. This allows us to spawn new processes, connect to their input/output/error pipes, and optionally obtain their return codes. This is a safer analog to os.system().\n",
    "\n",
    "The underlying process creation and management in `subprocess` is done by the [Popen Constructor](https://docs.python.org/3/library/subprocess.html#popen-constructor), `subprocess.Popen`. The underlying Popen interface can be used directly and offers the most flexibility. By default it results in a non-blocking call.\n",
    "\n",
    "Once you've created the Popen instance, some options are:\n",
    "* `wait()`:  to pause until the subprocess has exited.\n",
    "* `poll()`: check if it's exited without pausing.\n",
    "* `communicate()`: interact with process\n",
    "    - Send data to stdin. \n",
    "    - Read data from stdout and stderr, until end-of-file is reached. \n",
    "    - Wait for process to terminate and set the returncode attribute. \n",
    "\n",
    "\n",
    "**Popen Constructor:**\n",
    "\n",
    "<sup>\n",
    "\n",
    "```bash\n",
    "class subprocess.Popen(\n",
    "    args, \n",
    "    bufsize=- 1, \n",
    "    executable=None, \n",
    "    stdin=None, \n",
    "    stdout=None, \n",
    "    stderr=None, \n",
    "    preexec_fn=None, \n",
    "    close_fds=True, \n",
    "    shell=False, \n",
    "    cwd=None, \n",
    "    env=None, \n",
    "    universal_newlines=None, \n",
    "    startupinfo=None, \n",
    "    creationflags=0, \n",
    "    restore_signals=True, \n",
    "    start_new_session=False, \n",
    "    pass_fds=(), \n",
    "    *, \n",
    "    group=None, \n",
    "    extra_groups=None, \n",
    "    user=None, \n",
    "    umask=- 1, \n",
    "    encoding=None, \n",
    "    errors=None, \n",
    "    text=None, \n",
    "    pipesize=- 1\n",
    ")\n",
    "\n",
    "```\n",
    "<br>\n",
    "</sup>\n",
    "    \n",
    "A convenience function built upon the underlying Popen interface is `subprocess.run`. This is a blocking call, as it waits for the command(s) to complete, then return a CompletedProcess instance.\n",
    "\n",
    "There are older high-level APIs, existing prior to Python 3.5. The functionality provided by them has been superceded by `subprocess.Popen` and `subprocess.run`:\n",
    "\n",
    "* `subprocess.call`\n",
    "* `subprocess.check_call`\n",
    "* `subprocess.check_output`\n",
    "\n",
    "\n",
    "**Useful resources on subprocess:**\n",
    "\n",
    "- https://peps.python.org/pep-0324/\n",
    "- https://docs.python.org/3/whatsnew/2.4.html#pep-324-new-subprocess-module\n",
    "- https://docs.python.org/3/library/subprocess.html\n",
    "- https://www.bogotobogo.com/python/python_subprocess_module.php\n",
    "- https://qiita.com/HidKamiya/items/e192a55371a2961ca8a4 (JP)\n",
    "- https://www.programcreek.com/python/example/50/subprocess.Popen\n"
   ]
  },
  {
   "cell_type": "markdown",
   "id": "d38b1648-bc50-4321-82c1-95343ae187f2",
   "metadata": {},
   "source": [
    "---\n",
    "<a id=\"4.0\"></a><a name=\"4.0\"></a>\n",
    "# 4. Train, save and load a MNIST model\n",
    "<a href=\"#top\">[back to top]</a>\n",
    "\n",
    "Here, we will train and save a CNN model for the MNIST dataset, then use Docker to deploy TensorFlow Serving to host this model.  We then make POST HTTP request with a JSON payload that contain test data. TensorFlow Serving will then make inferences, predicting the most probable image from among 10 categories.\n",
    "\n",
    "Reference:\n",
    "* https://www.tensorflow.org/tfx/tutorials/serving/rest_simple\n"
   ]
  },
  {
   "cell_type": "code",
   "execution_count": 2,
   "id": "8d71035a-89d5-4f36-9273-1bfe3acd9c18",
   "metadata": {},
   "outputs": [
    {
     "name": "stdout",
     "output_type": "stream",
     "text": [
      "model_dir:\t/Users/gb/Desktop/tf_server_01/tf_server_data01\n",
      "model_name:\tmnist\n"
     ]
    }
   ],
   "source": [
    "# Define model_name and model_dir (used to start the Docker container)\n",
    "model_saved = 'tf_server_data01'\n",
    "\n",
    "# Create pathlib.PosixPath with fullpath via .resolve\n",
    "model_dir = (Path() / model_saved).resolve()\n",
    "model_dir.mkdir(parents=True, exist_ok=True)\n",
    "\n",
    "model_name = 'mnist'\n",
    "\n",
    "print(f\"model_dir:\\t{model_dir}\")\n",
    "print(f\"model_name:\\t{model_name}\")"
   ]
  },
  {
   "cell_type": "code",
   "execution_count": 3,
   "id": "d3379973-5195-442d-b4a9-94e1f194e53c",
   "metadata": {},
   "outputs": [
    {
     "name": "stderr",
     "output_type": "stream",
     "text": [
      "2022-08-08 11:29:54.410292: I tensorflow/core/platform/cpu_feature_guard.cc:193] This TensorFlow binary is optimized with oneAPI Deep Neural Network Library (oneDNN) to use the following CPU instructions in performance-critical operations:  AVX2 FMA\n",
      "To enable them in other operations, rebuild TensorFlow with the appropriate compiler flags.\n"
     ]
    },
    {
     "name": "stdout",
     "output_type": "stream",
     "text": [
      "Epoch 1/5\n",
      "1875/1875 - 6s - loss: 0.5687 - sparse_categorical_accuracy: 0.8002 - 6s/epoch - 3ms/step\n",
      "Epoch 2/5\n",
      "1875/1875 - 5s - loss: 0.4552 - sparse_categorical_accuracy: 0.8416 - 5s/epoch - 3ms/step\n",
      "Epoch 3/5\n",
      "1875/1875 - 5s - loss: 0.4206 - sparse_categorical_accuracy: 0.8534 - 5s/epoch - 3ms/step\n",
      "Epoch 4/5\n",
      "1875/1875 - 5s - loss: 0.3921 - sparse_categorical_accuracy: 0.8619 - 5s/epoch - 2ms/step\n",
      "Epoch 5/5\n",
      "1875/1875 - 5s - loss: 0.3645 - sparse_categorical_accuracy: 0.8711 - 5s/epoch - 3ms/step\n"
     ]
    },
    {
     "name": "stderr",
     "output_type": "stream",
     "text": [
      "WARNING:absl:Found untraced functions such as _jit_compiled_convolution_op while saving (showing 1 of 1). These functions will not be directly callable after loading.\n"
     ]
    },
    {
     "name": "stdout",
     "output_type": "stream",
     "text": [
      "INFO:tensorflow:Assets written to: /Users/gb/Desktop/tf_server_01/tf_server_data01/1/assets\n"
     ]
    },
    {
     "name": "stderr",
     "output_type": "stream",
     "text": [
      "INFO:tensorflow:Assets written to: /Users/gb/Desktop/tf_server_01/tf_server_data01/1/assets\n"
     ]
    },
    {
     "name": "stdout",
     "output_type": "stream",
     "text": [
      "----------------------------------------\n",
      "\n",
      "Saved model:\n",
      " 12K\t/Users/gb/Desktop/tf_server_01/tf_server_data01/1/keras_metadata.pb\n",
      "168K\t/Users/gb/Desktop/tf_server_01/tf_server_data01/1/variables/variables.data-00000-of-00001\n",
      "4.0K\t/Users/gb/Desktop/tf_server_01/tf_server_data01/1/variables/variables.index\n",
      "172K\t/Users/gb/Desktop/tf_server_01/tf_server_data01/1/variables\n",
      " 76K\t/Users/gb/Desktop/tf_server_01/tf_server_data01/1/saved_model.pb\n",
      "  0B\t/Users/gb/Desktop/tf_server_01/tf_server_data01/1/assets\n",
      "260K\t/Users/gb/Desktop/tf_server_01/tf_server_data01/1\n"
     ]
    }
   ],
   "source": [
    "fashion_mnist = tf.keras.datasets.fashion_mnist\n",
    "(train_images, train_labels), (test_images, test_labels) = fashion_mnist.load_data()\n",
    "\n",
    "# Rescale to [0.0 .. 1.0]\n",
    "train_images = train_images / 255.0\n",
    "test_images = test_images / 255.0\n",
    "\n",
    "# Reshape for feeding into the model\n",
    "train_images = train_images.reshape(train_images.shape[0],28,28,1)\n",
    "test_images = test_images.reshape(test_images.shape[0],28,28,1)\n",
    "\n",
    "class_names = ['T-shirt/top', 'Trouser', 'Pullover', 'Dress', 'Coat',\n",
    "               'Sandal', 'Shirt', 'Sneaker', 'Bag', 'Ankle boot']\n",
    "\n",
    "model = tf.keras.Sequential([\n",
    "    tf.keras.layers.Conv2D(\n",
    "        input_shape=(28,28,1),\n",
    "        filters=8,\n",
    "        kernel_size=3,\n",
    "        strides=2,\n",
    "        activation='relu',\n",
    "        name='conv1'\n",
    "    ),\n",
    "    tf.keras.layers.Flatten(),\n",
    "    tf.keras.layers.Dense(10, name='dense')\n",
    "])\n",
    "\n",
    "epochs = 5\n",
    "\n",
    "model.compile(\n",
    "    optimizer='adam',\n",
    "    loss=tf.keras.losses.SparseCategoricalCrossentropy(from_logits=True),\n",
    "    metrics=[tf.keras.metrics.SparseCategoricalAccuracy()]\n",
    ")\n",
    "\n",
    "hist = model.fit(\n",
    "    train_images,\n",
    "    train_labels,\n",
    "    epochs=epochs,\n",
    "    verbose=2\n",
    ")\n",
    "                \n",
    "version = 1\n",
    "export_path = Path() / model_dir / str(version)\n",
    "\n",
    "\n",
    "# We will manually save the model here, in SavedModel format.\n",
    "# This creates a protobuf file in a structured directory hierarchy, and includes a version number.\n",
    "# The model signature is defined by the input and output tensors, and stored with the serving_default key.\n",
    "tf.keras.models.save_model(\n",
    "    model,\n",
    "    export_path,\n",
    "    overwrite=True,\n",
    "    include_optimizer=True,\n",
    "    save_format=None,\n",
    "    signatures=None,\n",
    "    options=None\n",
    ")\n",
    "\n",
    "HR()\n",
    "\n",
    "print(\"\\nSaved model:\")\n",
    "!du -ah {export_path}"
   ]
  },
  {
   "cell_type": "code",
   "execution_count": 4,
   "id": "1b98257e-a977-4514-a33b-84508df70088",
   "metadata": {},
   "outputs": [
    {
     "name": "stdout",
     "output_type": "stream",
     "text": [
      "/Users/gb/Desktop/tf_server_01/tf_server_data01/1\n"
     ]
    }
   ],
   "source": [
    "# Find the newest saved-model version\n",
    "model_newest = max(glob.glob(f\"{model_dir}/*\"))\n",
    "print(model_newest)"
   ]
  },
  {
   "cell_type": "markdown",
   "id": "9eb0ee70-0146-4e88-bdbe-889919760525",
   "metadata": {},
   "source": [
    "<a id='4.1'></a><a name='4.1'></a>\n",
    "## 4.1 Inspect the SavedModel Signature\n",
    "<a href=\"#top\">[back to top]</a>\n",
    "\n",
    "We can use the tool `saved_model_cli` to inspect the SignatureDefs (the callable methods) of a model. This allows us to confirm the input Tensor dtype and shape matches the model.\n",
    "\n",
    "Resources:\n",
    "* https://github.com/tensorflow/docs/blob/master/site/en/r1/guide/saved_model.md#cli-to-inspect-and-execute-savedmodel\n",
    "* https://www.tensorflow.org/guide/saved_model\n",
    "* https://blog.tensorflow.org/2021/03/a-tour-of-savedmodel-signatures.html\n",
    "* https://www.tensorflow.org/tfx/tutorials/serving/rest_simple"
   ]
  },
  {
   "cell_type": "code",
   "execution_count": 5,
   "id": "9f75ab46-09c2-4e10-9659-077b618ae992",
   "metadata": {},
   "outputs": [
    {
     "name": "stdout",
     "output_type": "stream",
     "text": [
      "All tag-sets in the latest SavedModel:\n",
      "----------------------------------------\n",
      "The given SavedModel contains the following tag-sets:\n",
      "'serve'\n"
     ]
    }
   ],
   "source": [
    "print(\"All tag-sets in the latest SavedModel:\")\n",
    "HR()\n",
    "!saved_model_cli show --dir {model_newest}"
   ]
  },
  {
   "cell_type": "code",
   "execution_count": 6,
   "id": "29eb665c-a926-4902-a6a1-dfba94f14500",
   "metadata": {},
   "outputs": [
    {
     "name": "stdout",
     "output_type": "stream",
     "text": [
      "All available SignatureDef keys in the MetaGraphDef specified by tag-set 'serve':\n",
      "----------------------------------------\n",
      "The given SavedModel MetaGraphDef contains SignatureDefs with the following keys:\n",
      "SignatureDef key: \"__saved_model_init_op\"\n",
      "SignatureDef key: \"serving_default\"\n"
     ]
    }
   ],
   "source": [
    "print(\"All available SignatureDef keys in the MetaGraphDef specified by tag-set 'serve':\")\n",
    "HR()\n",
    "!saved_model_cli show --dir {model_newest} --tag_set serve"
   ]
  },
  {
   "cell_type": "code",
   "execution_count": 7,
   "id": "ff04ef97-4304-462f-af64-b6aaca910959",
   "metadata": {},
   "outputs": [
    {
     "name": "stdout",
     "output_type": "stream",
     "text": [
      "All inputs and outputs TensorInfo for the specific SignatureDef 'serving_default' in the MetaGraph:\n",
      "Note that shape: (-1) implies 1-D shape for inference data, eg {'examples': [{...}]}\n",
      "----------------------------------------\n",
      "The given SavedModel SignatureDef contains the following input(s):\n",
      "  inputs['conv1_input'] tensor_info:\n",
      "      dtype: DT_FLOAT\n",
      "      shape: (-1, 28, 28, 1)\n",
      "      name: serving_default_conv1_input:0\n",
      "The given SavedModel SignatureDef contains the following output(s):\n",
      "  outputs['dense'] tensor_info:\n",
      "      dtype: DT_FLOAT\n",
      "      shape: (-1, 10)\n",
      "      name: StatefulPartitionedCall:0\n",
      "Method name is: tensorflow/serving/predict\n"
     ]
    }
   ],
   "source": [
    "print(\"All inputs and outputs TensorInfo for the specific SignatureDef 'serving_default' in the MetaGraph:\")\n",
    "print(\"Note that shape: (-1) implies 1-D shape for inference data, eg {'examples': [{...}]}\")\n",
    "HR()\n",
    "\n",
    "!saved_model_cli show --dir {model_newest} \\\n",
    "--tag_set serve --signature_def serving_default"
   ]
  },
  {
   "cell_type": "code",
   "execution_count": 8,
   "id": "b68ef7ad-c63f-4ae4-9df5-7be048ee57cf",
   "metadata": {},
   "outputs": [
    {
     "name": "stdout",
     "output_type": "stream",
     "text": [
      "All available information in the SavedModel:\n",
      "----------------------------------------\n",
      "\n",
      "MetaGraphDef with tag-set: 'serve' contains the following SignatureDefs:\n",
      "\n",
      "signature_def['__saved_model_init_op']:\n",
      "  The given SavedModel SignatureDef contains the following input(s):\n",
      "  The given SavedModel SignatureDef contains the following output(s):\n",
      "    outputs['__saved_model_init_op'] tensor_info:\n",
      "        dtype: DT_INVALID\n",
      "        shape: unknown_rank\n",
      "        name: NoOp\n",
      "  Method name is: \n",
      "\n",
      "signature_def['serving_default']:\n",
      "  The given SavedModel SignatureDef contains the following input(s):\n",
      "    inputs['conv1_input'] tensor_info:\n",
      "        dtype: DT_FLOAT\n",
      "        shape: (-1, 28, 28, 1)\n",
      "        name: serving_default_conv1_input:0\n",
      "  The given SavedModel SignatureDef contains the following output(s):\n",
      "    outputs['dense'] tensor_info:\n",
      "        dtype: DT_FLOAT\n",
      "        shape: (-1, 10)\n",
      "        name: StatefulPartitionedCall:0\n",
      "  Method name is: tensorflow/serving/predict\n",
      "\n",
      "Concrete Functions:\n",
      "  Function Name: '__call__'\n",
      "    Option #1\n",
      "      Callable with:\n",
      "        Argument #1\n",
      "          conv1_input: TensorSpec(shape=(None, 28, 28, 1), dtype=tf.float32, name='conv1_input')\n",
      "        Argument #2\n",
      "          DType: bool\n",
      "          Value: True\n",
      "        Argument #3\n",
      "          DType: NoneType\n",
      "          Value: None\n",
      "    Option #2\n",
      "      Callable with:\n",
      "        Argument #1\n",
      "          inputs: TensorSpec(shape=(None, 28, 28, 1), dtype=tf.float32, name='inputs')\n",
      "        Argument #2\n",
      "          DType: bool\n",
      "          Value: True\n",
      "        Argument #3\n",
      "          DType: NoneType\n",
      "          Value: None\n",
      "    Option #3\n",
      "      Callable with:\n",
      "        Argument #1\n",
      "          conv1_input: TensorSpec(shape=(None, 28, 28, 1), dtype=tf.float32, name='conv1_input')\n",
      "        Argument #2\n",
      "          DType: bool\n",
      "          Value: False\n",
      "        Argument #3\n",
      "          DType: NoneType\n",
      "          Value: None\n",
      "    Option #4\n",
      "      Callable with:\n",
      "        Argument #1\n",
      "          inputs: TensorSpec(shape=(None, 28, 28, 1), dtype=tf.float32, name='inputs')\n",
      "        Argument #2\n",
      "          DType: bool\n",
      "          Value: False\n",
      "        Argument #3\n",
      "          DType: NoneType\n",
      "          Value: None\n",
      "\n",
      "  Function Name: '_default_save_signature'\n",
      "    Option #1\n",
      "      Callable with:\n",
      "        Argument #1\n",
      "          conv1_input: TensorSpec(shape=(None, 28, 28, 1), dtype=tf.float32, name='conv1_input')\n",
      "\n",
      "  Function Name: 'call_and_return_all_conditional_losses'\n",
      "    Option #1\n",
      "      Callable with:\n",
      "        Argument #1\n",
      "          inputs: TensorSpec(shape=(None, 28, 28, 1), dtype=tf.float32, name='inputs')\n",
      "        Argument #2\n",
      "          DType: bool\n",
      "          Value: True\n",
      "        Argument #3\n",
      "          DType: NoneType\n",
      "          Value: None\n",
      "    Option #2\n",
      "      Callable with:\n",
      "        Argument #1\n",
      "          inputs: TensorSpec(shape=(None, 28, 28, 1), dtype=tf.float32, name='inputs')\n",
      "        Argument #2\n",
      "          DType: bool\n",
      "          Value: False\n",
      "        Argument #3\n",
      "          DType: NoneType\n",
      "          Value: None\n",
      "    Option #3\n",
      "      Callable with:\n",
      "        Argument #1\n",
      "          conv1_input: TensorSpec(shape=(None, 28, 28, 1), dtype=tf.float32, name='conv1_input')\n",
      "        Argument #2\n",
      "          DType: bool\n",
      "          Value: True\n",
      "        Argument #3\n",
      "          DType: NoneType\n",
      "          Value: None\n",
      "    Option #4\n",
      "      Callable with:\n",
      "        Argument #1\n",
      "          conv1_input: TensorSpec(shape=(None, 28, 28, 1), dtype=tf.float32, name='conv1_input')\n",
      "        Argument #2\n",
      "          DType: bool\n",
      "          Value: False\n",
      "        Argument #3\n",
      "          DType: NoneType\n",
      "          Value: None\n"
     ]
    }
   ],
   "source": [
    "print(\"All available information in the SavedModel:\")\n",
    "HR()\n",
    "!saved_model_cli show --dir {model_newest} --all"
   ]
  },
  {
   "cell_type": "markdown",
   "id": "8b96831a-b115-436f-9acb-bafe2afb42f9",
   "metadata": {},
   "source": [
    "---\n",
    "<a id=\"5.0\"></a><a name=\"5.0\"></a>\n",
    "# 5. HTTP Request Logging for TensorFlow Serving\n",
    "<a href=\"#top\">[back to top]</a>\n",
    "\n",
    "* The easiest way to enable logging for TensorFlow-Model-Serving is via environment variables. This is not specific to TensorFlow Serving, but general to TensorFlow.\n",
    "\n",
    "* `TF_CPP_MIN_VLOG_LEVEL` enables logging of the main C++ backend. However, even the lowest setting of `TF_CPP_MIN_VLOG_LEVEL=1` results in too much noise.\n",
    "\n",
    "* `TF_CPP_VMODULE` provides a way to constrain logging to specific modules or source files. The general format is `TF_CPP_VMODULE=<module_name>=1`, where the module name can be either the C++ or Python file name (without the extension).\n",
    "\n",
    "* Here, we can activate logging individually for http_server.cc via \n",
    "`TF_CPP_VMODULE=http_server=1`. This will enable simple HTTP request logging and errors.\n",
    "\n",
    "* To use this with Docker, we pass it as an environmental variable:  `--env TF_CPP_VMODULE=http_server=1`"
   ]
  },
  {
   "cell_type": "markdown",
   "id": "9089282c-ff60-40ff-a90b-4f31f7085ddd",
   "metadata": {},
   "source": [
    "---\n",
    "<a name=\"6.0\"></a>\n",
    "# 6. Running a minimal Docker image with TensorFlow Serving\n",
    "<a href=\"#top\">[back to top]</a>\n",
    "\n",
    "* This is the original Docker command-line format.\n",
    "\n",
    "* `docker run` also pulls a docker image (or repository) from the docker registry, if it doesn't already exist locally.\n",
    "\n",
    "\n",
    "This docker image features\n",
    "\n",
    "* Port 8500 exposed for gRPC\n",
    "* Port 8501 exposed for the REST API\n",
    "* Optional environment variable MODEL_NAME (defaults to model)\n",
    "* Optional environment variable MODEL_BASE_PATH (defaults to /models)\n",
    "\n",
    "---\n",
    "\n",
    "It can be easier to first to experiment and set up the Docker cli-commands first, then later wrap with subprocess.Popen in Python."
   ]
  },
  {
   "cell_type": "code",
   "execution_count": 9,
   "id": "abbeb4a9-b1e1-475a-897c-b7d3a83d0569",
   "metadata": {},
   "outputs": [
    {
     "name": "stdout",
     "output_type": "stream",
     "text": [
      "\n",
      "docker run \\\n",
      "--rm --tty -p 8500:8500 -p 8501:8501 \\\n",
      "--name mnist \\\n",
      "--mount type=bind,source=/Users/gb/Desktop/tf_server_01/tf_server_data01,target=/models/mnist \\\n",
      "--env MODEL_NAME=mnist \\\n",
      "--env TF_CPP_VMODULE='http_server=1' \\\n",
      "--detach \\\n",
      "--log-driver=json-file \\\n",
      "--log-opt=mode=non-blocking \\\n",
      "tensorflow/serving:latest\n",
      "\n"
     ]
    }
   ],
   "source": [
    "cmd_cli = f\"\"\"\n",
    "docker run \\\\\n",
    "--rm --tty -p 8500:8500 -p 8501:8501 \\\\\n",
    "--name {model_name} \\\\\n",
    "--mount type=bind,source={model_dir},target=/models/{model_name} \\\\\n",
    "--env MODEL_NAME={model_name} \\\\\n",
    "--env TF_CPP_VMODULE='http_server=1' \\\\\n",
    "--detach \\\\\n",
    "--log-driver=json-file \\\\\n",
    "--log-opt=mode=non-blocking \\\\\n",
    "tensorflow/serving:latest\n",
    "\"\"\"\n",
    "\n",
    "print(cmd_cli)"
   ]
  },
  {
   "cell_type": "markdown",
   "id": "c9427b25-0a8c-4064-a4d5-facc4242c010",
   "metadata": {},
   "source": [
    "---\n",
    "For more feedback, run these commands in different terminals before instantiating the Docker container:\n",
    "\n",
    "```bash\n",
    "$ watch docker ps\n",
    "$ docker logs -f mnist\n",
    "```"
   ]
  },
  {
   "cell_type": "code",
   "execution_count": 10,
   "id": "5a385010-45b1-4665-b44f-244cbd538cae",
   "metadata": {},
   "outputs": [],
   "source": [
    "def server_docker():  \n",
    "        \n",
    "    cmd=f\"\"\"\n",
    "docker run\n",
    "--rm --tty -p 8500:8500 -p 8501:8501\n",
    "--name {model_name}\n",
    "--mount type=bind,source={model_dir},target=/models/{model_name}\n",
    "--env MODEL_NAME={model_name}\n",
    "--env TF_CPP_VMODULE='http_server=1'\n",
    "--detach\n",
    "--log-driver=json-file\n",
    "--log-opt=mode=non-blocking\n",
    "tensorflow/serving:latest\n",
    "\"\"\"\n",
    "           \n",
    "    try:\n",
    "        proc = subprocess.Popen(\n",
    "            shlex.split(cmd),\n",
    "            stdout = subprocess.PIPE,\n",
    "            stderr = subprocess.PIPE\n",
    "        )\n",
    "        \n",
    "        # The communicate() method returns a tuple (stdoutdata, stderrdata)\n",
    "        # It only reads data from stdout and stderr.\n",
    "        out, err = proc.communicate()\n",
    "        out = out.decode()\n",
    "        err = err.decode()\n",
    "        print(f\"out: {(out.strip())}\")\n",
    "        \n",
    "        if err:\n",
    "            print(f\"err: {err}\")\n",
    "                \n",
    "        HR()\n",
    "        \n",
    "        sleep_time = 0.5 # Small time delay for docker instance to start up\n",
    "        time.sleep(sleep_time)\n",
    "        \n",
    "    except subprocess.CalledProcessError as e:\n",
    "        print(f\"Subprocess error: {e.stderr}\")\n",
    "    except Exception as e:\n",
    "        print(f\"Error: {e}\")\n",
    "        \n",
    "    return proc "
   ]
  },
  {
   "cell_type": "code",
   "execution_count": 11,
   "id": "25e9fff1-8e7d-44e6-97ff-654933524083",
   "metadata": {},
   "outputs": [
    {
     "name": "stdout",
     "output_type": "stream",
     "text": [
      "out: fc81a987ec378232a65415cde70ea1834003be641c035588e9e04e950190517d\n",
      "----------------------------------------\n"
     ]
    }
   ],
   "source": [
    "# Instantiate TFS with our model \n",
    "proc = server_docker() "
   ]
  },
  {
   "cell_type": "code",
   "execution_count": 12,
   "id": "67a27e02-1b25-4e57-b559-89abe79672ab",
   "metadata": {},
   "outputs": [],
   "source": [
    "# If need to immediately kill and remove unused containers/networks/images\n",
    "# !docker kill {model_name} && docker system prune --force"
   ]
  },
  {
   "cell_type": "markdown",
   "id": "442b6e0c-c033-4d7e-8bf0-352cdb5ce426",
   "metadata": {
    "tags": []
   },
   "source": [
    "---\n",
    "<a name=\"7.0\"></a>\n",
    "# 7. Subprocess to write logs to file\n",
    "<a href=\"#top\">[back to top]</a>\n",
    "\n",
    "We can always access logs via `docker logs <container name>` on the CLI:"
   ]
  },
  {
   "cell_type": "code",
   "execution_count": 13,
   "id": "86fd673b-6cf8-46f1-8a31-45eb0deb06d2",
   "metadata": {},
   "outputs": [
    {
     "name": "stdout",
     "output_type": "stream",
     "text": [
      "2022-08-08 02:31:32.652551: I tensorflow_serving/model_servers/server.cc:367] Profiler service is enabled\n",
      "2022-08-08 02:31:32.654519: I tensorflow_serving/model_servers/server.cc:393] Running gRPC ModelServer at 0.0.0.0:8500 ...\n",
      "[warn] getaddrinfo: address family for nodename not supported\n",
      "2022-08-08 02:31:32.655533: I tensorflow_serving/model_servers/server.cc:414] Exporting HTTP/REST API at:localhost:8501 ...\n",
      "[evhttp_server.cc : 245] NET_LOG: Entering the event loop ...\n"
     ]
    }
   ],
   "source": [
    "!docker logs --tail 5 {model_name}"
   ]
  },
  {
   "cell_type": "markdown",
   "id": "83881179-2452-4a25-8f8c-ed0fdd7710cf",
   "metadata": {},
   "source": [
    "---\n",
    "We can also create a subprocess that redirects the logs to a file:"
   ]
  },
  {
   "cell_type": "code",
   "execution_count": 14,
   "id": "d07d828a-39a5-441f-b723-771f9279546c",
   "metadata": {},
   "outputs": [],
   "source": [
    "def log_docker_process(log_file):  \n",
    "    cmd = f\"docker logs --follow {model_name}\"   \n",
    "    try:\n",
    "        proc = subprocess.Popen(\n",
    "            shlex.split(cmd),\n",
    "            stdout=open(log_file, 'w'),\n",
    "            stderr=subprocess.STDOUT, # redirect to stdout\n",
    "        )\n",
    "    except Exception as e:\n",
    "        print(f\"Error: {e}\")"
   ]
  },
  {
   "cell_type": "code",
   "execution_count": 15,
   "id": "ff894074-69a5-405e-b659-2090bbc310f0",
   "metadata": {},
   "outputs": [
    {
     "name": "stdout",
     "output_type": "stream",
     "text": [
      "log_file: mnist_tfs.log\n",
      "  0B\tmnist_tfs.log\n"
     ]
    }
   ],
   "source": [
    "log_file = f\"{model_name}_tfs.log\"\n",
    "print(f\"log_file: {log_file}\")\n",
    "\n",
    "log_docker_process(log_file)\n",
    "\n",
    "!du -hs {log_file}"
   ]
  },
  {
   "cell_type": "markdown",
   "id": "b620f920-a617-48a1-a303-d35989687337",
   "metadata": {},
   "source": [
    "<a name=\"7.1\"></a>\n",
    "## 7.1 Verify logs\n",
    "<a href=\"#top\">[back to top]</a>\n",
    "\n",
    "Check that requests are being logged to the log file via the subprocess `log_docker_process`."
   ]
  },
  {
   "cell_type": "code",
   "execution_count": 16,
   "id": "ec459889-242e-494e-8a81-002b21215b82",
   "metadata": {},
   "outputs": [
    {
     "name": "stdout",
     "output_type": "stream",
     "text": [
      "===> TFS Status : Mon, 08 Aug 2022 02:31:33 GMT <Response [200]>\n",
      "===> TFS Status : Mon, 08 Aug 2022 02:31:33 GMT <Response [200]>\n",
      "===> TFS Status : Mon, 08 Aug 2022 02:31:33 GMT <Response [200]>\n",
      "===> TFS Status : Mon, 08 Aug 2022 02:31:34 GMT <Response [200]>\n",
      "===> TFS Status : Mon, 08 Aug 2022 02:31:34 GMT <Response [200]>\n",
      "===> TFS Status : Mon, 08 Aug 2022 02:31:34 GMT <Response [200]>\n",
      "===> TFS Status : Mon, 08 Aug 2022 02:31:34 GMT <Response [200]>\n",
      "===> TFS Status : Mon, 08 Aug 2022 02:31:35 GMT <Response [200]>\n",
      "===> TFS Status : Mon, 08 Aug 2022 02:31:35 GMT <Response [200]>\n",
      "===> TFS Status : Mon, 08 Aug 2022 02:31:35 GMT <Response [200]>\n",
      "----------------------------------------\n",
      "8.0K\tmnist_tfs.log\n",
      "----------------------------------------\n",
      "2022-08-08 02:31:33.530977: I tensorflow_serving/model_servers/http_server.cc:162] Processing HTTP request: GET /v1/models/mnist body: 0 bytes.\n",
      "2022-08-08 02:31:33.759751: I tensorflow_serving/model_servers/http_server.cc:162] Processing HTTP request: GET /v1/models/mnist body: 0 bytes.\n",
      "2022-08-08 02:31:33.997402: I tensorflow_serving/model_servers/http_server.cc:162] Processing HTTP request: GET /v1/models/mnist body: 0 bytes.\n",
      "2022-08-08 02:31:34.256851: I tensorflow_serving/model_servers/http_server.cc:162] Processing HTTP request: GET /v1/models/mnist body: 0 bytes.\n",
      "2022-08-08 02:31:34.480444: I tensorflow_serving/model_servers/http_server.cc:162] Processing HTTP request: GET /v1/models/mnist body: 0 bytes.\n",
      "2022-08-08 02:31:34.694666: I tensorflow_serving/model_servers/http_server.cc:162] Processing HTTP request: GET /v1/models/mnist body: 0 bytes.\n",
      "2022-08-08 02:31:34.917989: I tensorflow_serving/model_servers/http_server.cc:162] Processing HTTP request: GET /v1/models/mnist body: 0 bytes.\n",
      "2022-08-08 02:31:35.140432: I tensorflow_serving/model_servers/http_server.cc:162] Processing HTTP request: GET /v1/models/mnist body: 0 bytes.\n",
      "2022-08-08 02:31:35.363754: I tensorflow_serving/model_servers/http_server.cc:162] Processing HTTP request: GET /v1/models/mnist body: 0 bytes.\n",
      "2022-08-08 02:31:35.582534: I tensorflow_serving/model_servers/http_server.cc:162] Processing HTTP request: GET /v1/models/mnist body: 0 bytes.\n"
     ]
    }
   ],
   "source": [
    "for x in range(10):\n",
    "    \n",
    "    try:\n",
    "        resp_data = requests.get(f'http://localhost:8501/v1/models/{model_name}')\n",
    "    except Exception as e:\n",
    "        print(f\"Error: {e}\")\n",
    "    \n",
    "    print(f\"===> TFS Status : {resp_data.headers['Date']} {resp_data}\")\n",
    "    time.sleep(0.2)\n",
    "    \n",
    "HR()\n",
    "    \n",
    "!du -h {log_file}\n",
    "HR()\n",
    "!tail -10 {log_file}"
   ]
  },
  {
   "cell_type": "markdown",
   "id": "34158591-58d2-4773-a110-43fd22b0bcbc",
   "metadata": {},
   "source": [
    "---\n",
    "<a name=\"8.0\"></a>\n",
    "# 8. RESTful APIs\n",
    "<a href=\"#top\">[back to top]</a>\n",
    "\n",
    "Send requests with TensorFlow ModelServer RESTful APIs\n",
    "\n",
    "Reference:\n",
    "\n",
    "* https://github.com/tensorflow/serving/blob/master/tensorflow_serving/g3doc/api_rest.md\n",
    "* https://github.com/tensorflow/serving/blob/master/tensorflow_serving/model_servers/tensorflow_model_server_test.py#L520"
   ]
  },
  {
   "cell_type": "markdown",
   "id": "a9eff0c8-1f95-48e5-ad60-2fd14f44d0c0",
   "metadata": {},
   "source": [
    "<a name=\"8.1\"></a>\n",
    "## 8.1 Model status API\n",
    "<a href=\"#top\">[back to top]</a>\n",
    "\n",
    "* Returns the status of a model in the ModelServer.\n",
    "* If successful, returns a JSON representation of `GetModelStatusResponse` protobuf."
   ]
  },
  {
   "cell_type": "code",
   "execution_count": 17,
   "id": "3e6f8574-39aa-4583-b29b-64c20bbd0376",
   "metadata": {},
   "outputs": [
    {
     "name": "stdout",
     "output_type": "stream",
     "text": [
      "{ 'model_version_status': [ { 'state': 'AVAILABLE',\n",
      "                              'status': { 'error_code': 'OK',\n",
      "                                          'error_message': ''},\n",
      "                              'version': '1'}]}\n",
      "----------------------------------------\n",
      "2022-08-08 02:31:36.099137: I tensorflow_serving/model_servers/http_server.cc:162] Processing HTTP request: GET /v1/models/mnist body: 0 bytes.\n"
     ]
    }
   ],
   "source": [
    "try:\n",
    "    resp_data = requests.get(f'http://localhost:8501/v1/models/{model_name}')\n",
    "except Exception as e:\n",
    "    print(f\"Error: {e}\")\n",
    "\n",
    "pp.pprint(resp_data.json())\n",
    "\n",
    "HR()\n",
    "!tail -1 {log_file}"
   ]
  },
  {
   "cell_type": "markdown",
   "id": "4cccd21e-248d-494f-8ed5-909c5eb63453",
   "metadata": {},
   "source": [
    "<a name=\"8.2\"></a>\n",
    "## 8.2 Model Metadata API\n",
    "<a href=\"#top\">[back to top]</a>\n",
    "\n",
    "* Returns the metadata of a model in the ModelServer. For example, we can inspect the details of the input and output tensors.\n",
    "* Returns a JSON representation of `GetModelMetadataResponse` protobuf."
   ]
  },
  {
   "cell_type": "code",
   "execution_count": 18,
   "id": "a8171c20-aaf8-4324-827e-6ffc18026c1c",
   "metadata": {},
   "outputs": [
    {
     "name": "stdout",
     "output_type": "stream",
     "text": [
      "(\"{'model_spec': {'name': 'mnist', 'signature_name': '', 'version': '1'}, \"\n",
      " \"'metadata': {'signature_def': {'signature_def': {'serving_default': \"\n",
      " \"{'inputs': {'conv1_input': {'dtype': 'DT_FLOAT', 'tensor_shape': {'dim': \"\n",
      " \"[{'size': '-1', 'name': ''}, {'size': '28', 'name': ''}, {'size': '28', \"\n",
      " \"'name': ''}, {'size': '1', 'name': ''}], 'unknown_rank': False}, 'name': \"\n",
      " \"'serving_default_conv1_input:0'}}, 'outputs': {'dense': {'dtype': \"\n",
      " \"'DT_FLOAT', 'tensor_shape': {'dim': [{'size': '-1', 'name': ''}, {'size': \"\n",
      " \"'10', 'name': ''}], 'unknown_rank': False}, 'name': \"\n",
      " \"'StatefulPartitionedCall:0'}}, 'method_name': 'tensorflow/serving/predict'}, \"\n",
      " \"'__saved_model_init_op': {'inputs': {}, 'outputs': {'__saved_model_init_op': \"\n",
      " \"{'dtype': 'DT_INVALID', 'tensor_shape': {'dim': [], 'unknown_rank': True}, \"\n",
      " \"'name': 'NoOp'}}, 'method_name': ''}}}}}\")\n",
      "----------------------------------------\n",
      "HTTP request log output:\n",
      "\n",
      "2022-08-08 02:31:36.270775: I tensorflow_serving/model_servers/http_server.cc:162] Processing HTTP request: GET /v1/models/mnist/metadata body: 0 bytes.\n"
     ]
    }
   ],
   "source": [
    "try:\n",
    "    resp_data = requests.get(f'http://localhost:8501/v1/models/{model_name}/metadata')\n",
    "except Exception as e:\n",
    "    print(f\"Error: {e}\")\n",
    "\n",
    "json_dump = (resp_data.json())\n",
    "pp.pprint(repr(json_dump))\n",
    "\n",
    "HR()\n",
    "\n",
    "print(\"HTTP request log output:\\n\")\n",
    "!tail -1 {log_file}"
   ]
  },
  {
   "cell_type": "markdown",
   "id": "55b292fa-d5ae-48dc-a66b-82608aa04410",
   "metadata": {},
   "source": [
    "<a name=\"8.3\"></a>\n",
    "## 8.3 Predict API\n",
    "<a href=\"#top\">[back to top]</a>\n",
    "\n",
    "* The request body for predict API must be JSON object formatted as follows (for clarity, it may be easier to always include the \"signature_name\" field):\n",
    "\n",
    "```bash\n",
    "{\n",
    "  // (Optional) Serving signature to use.\n",
    "  // If unspecifed default serving signature is used.\n",
    "  \"signature_name\": <string>,\n",
    "\n",
    "  // Input Tensors in row (\"instances\") or columnar (\"inputs\") format.\n",
    "  // A request can have either of them but NOT both.\n",
    "  \"instances\": <value>|<(nested)list>|<list-of-objects>\n",
    "  \"inputs\": <value>|<(nested)list>|<object>\n",
    "}\n",
    "```\n",
    "\n",
    "* The predict request returns a JSON object in response body."
   ]
  },
  {
   "cell_type": "code",
   "execution_count": 19,
   "id": "92d703b5-f1da-4855-a48f-ee7b7beb30ac",
   "metadata": {},
   "outputs": [
    {
     "name": "stdout",
     "output_type": "stream",
     "text": [
      "Shape of data passed to JSON payload: (1, 28, 28, 1)\n",
      "{\n",
      "    \"predictions\": [[-8.13978, -8.8744688, -5.46380091, -5.25820065, -6.30528641, 2.06250715, -3.4312284, 4.34305763, 1.11544907, 6.01798868]\n",
      "    ]\n",
      "}\n",
      "----------------------------------------\n",
      "HTTP request log output:\n",
      "\n",
      "2022-08-08 02:31:36.501953: I tensorflow_serving/model_servers/http_server.cc:162] Processing HTTP request: POST /v1/models/mnist:predict body: 9585 bytes.\n"
     ]
    }
   ],
   "source": [
    "# Command line\n",
    "\n",
    "# Check shape of data\n",
    "num_samples = 1\n",
    "test_payload = test_images[0:num_samples]\n",
    "print(f\"Shape of data passed to JSON payload: {test_payload.shape}\")\n",
    "\n",
    "# Show just a tiny subset\n",
    "img_data = test_payload.tolist()\n",
    "data = json.dumps({\n",
    "    \"signature_name\": \"serving_default\",\n",
    "    \"instances\": img_data\n",
    "})\n",
    "\n",
    "!curl -d '{data}' \\\n",
    "    -H 'cache-control: no-cache' \\\n",
    "    -X POST http://localhost:8501/v1/models/mnist:predict\n",
    "\n",
    "print()\n",
    "HR()\n",
    "\n",
    "print(\"HTTP request log output:\\n\")\n",
    "!tail -1 {log_file}"
   ]
  },
  {
   "cell_type": "code",
   "execution_count": 20,
   "id": "2622ab20-f515-4bd7-891c-2bfbf38d66fe",
   "metadata": {},
   "outputs": [
    {
     "name": "stdout",
     "output_type": "stream",
     "text": [
      "Shape of data passed to JSON payload: (3, 28, 28, 1)\n",
      "shape[0] is 3, this means we will pass 3 samples.\n",
      "----------------------------------------\n",
      "Properties of response:\n",
      "\n",
      "{ '_content': b'{\\n    \"predictions\": [[-8.13977814, -8.87447071, -5.46380186'\n",
      "              b', -5.2582, -6.30528688, 2.06250668, -3.43122959, 4.34305859,'\n",
      "              b' 1.11544895, 6.01798868], [-3.00336146, -10.0945168, 2.55970'\n",
      "              b'287, -7.78681707, 0.0381838679, -27.8272285, -0.0862028897, '\n",
      "              b'-35.2029839, -7.38741636, -22.3393478], [-1.56377709, 12.431'\n",
      "              b'6368, -5.56736517, 0.135994464, -0.749776959, -16.9869976, -'\n",
      "              b'5.71387768, -14.4298296, -4.49142742, -13.6879396]\\n    ]\\n}',\n",
      "  '_content_consumed': True,\n",
      "  '_next': None,\n",
      "  'connection': <requests.adapters.HTTPAdapter object at 0x12f87db20>,\n",
      "  'cookies': <RequestsCookieJar[]>,\n",
      "  'elapsed': datetime.timedelta(microseconds=11380),\n",
      "  'encoding': 'utf-8',\n",
      "  'headers': {'Content-Type': 'application/json', 'Date': 'Mon, 08 Aug 2022 02:31:36 GMT', 'Content-Length': '418'},\n",
      "  'history': [],\n",
      "  'raw': <urllib3.response.HTTPResponse object at 0x12f85afd0>,\n",
      "  'reason': 'OK',\n",
      "  'request': <PreparedRequest [POST]>,\n",
      "  'status_code': 200,\n",
      "  'url': 'http://localhost:8501/v1/models/mnist:predict'}\n"
     ]
    },
    {
     "data": {
      "image/png": "[encoded data removed]",
      "text/plain": [
       "<Figure size 432x288 with 1 Axes>"
      ]
     },
     "metadata": {
      "needs_background": "light"
     },
     "output_type": "display_data"
    },
    {
     "data": {
      "image/png": "[encoded data removed]",
      "text/plain": [
       "<Figure size 432x288 with 1 Axes>"
      ]
     },
     "metadata": {
      "needs_background": "light"
     },
     "output_type": "display_data"
    },
    {
     "data": {
      "image/png": "[encoded data removed]",
      "text/plain": [
       "<Figure size 432x288 with 1 Axes>"
      ]
     },
     "metadata": {
      "needs_background": "light"
     },
     "output_type": "display_data"
    }
   ],
   "source": [
    "# In Python\n",
    "\n",
    "def show(idx, title):\n",
    "    plt.figure()\n",
    "    plt.imshow(test_images[idx].reshape(28,28))    \n",
    "    plt.axis('off')\n",
    "    plt.title(f'\\n{title}')\n",
    "  \n",
    "# ndarray is not JSON serializable, so we have to transform \n",
    "# test_images to a regular Python list before making the HTTP request.\n",
    "\n",
    "# Check shape of data\n",
    "num_samples = 3\n",
    "test_payload = test_images[0:num_samples]\n",
    "print(f\"Shape of data passed to JSON payload: {test_payload.shape}\")\n",
    "\n",
    "if test_payload.shape[0] == 1:\n",
    "    sample_text = 'sample'\n",
    "else:\n",
    "    sample_text = 'samples'\n",
    "print(f\"shape[0] is {test_payload.shape[0]}, this means we will pass {test_payload.shape[0]} {sample_text}.\")\n",
    "\n",
    "HR()\n",
    "\n",
    "img_data = test_payload.tolist()\n",
    "\n",
    "# Show just a tiny subset\n",
    "data = json.dumps({\n",
    "    \"signature_name\": \"serving_default\",\n",
    "    \"instances\": img_data\n",
    "})\n",
    "\n",
    "\n",
    "headers = {\n",
    "    \"Content-type\": \"application_json\"\n",
    "}\n",
    "\n",
    "json_response = requests.post(\n",
    "    f'http://localhost:8501/v1/models/{model_name}:predict',\n",
    "    data=data,\n",
    "    headers=headers\n",
    ")\n",
    "\n",
    "# the JSON object must be str, bytes or bytearray, not Response\n",
    "predictions = json.loads(json_response.text)['predictions']\n",
    "\n",
    "for i in range(0, num_samples):\n",
    "    forecast = class_names[np.argmax(predictions[i])]\n",
    "    forecast_class = np.argmax(predictions[i])\n",
    "    actual = class_names[test_labels[i]]\n",
    "    actual_class = test_labels[i]\n",
    "    show(\n",
    "        i, \n",
    "        f\"\"\"Predicted: {forecast} (class {forecast_class})\\nActual: {actual} (class {actual_class})\"\"\"\n",
    "    )\n",
    "    \n",
    "print(\"Properties of response:\\n\")\n",
    "pp.pprint(json_response.__dict__)"
   ]
  },
  {
   "cell_type": "markdown",
   "id": "c4bfa05c-0db6-4573-9b97-ba7e19cd472f",
   "metadata": {},
   "source": [
    "<a name=\"8.4\"></a>\n",
    "## 8.4 Classify and Regress API\n",
    "<a href=\"#top\">[back to top]</a>\n",
    "\n",
    "To-do"
   ]
  },
  {
   "cell_type": "markdown",
   "id": "9fdc75b1-c520-4ece-85ac-5836a01155c8",
   "metadata": {},
   "source": [
    "---\n",
    "<a name=\"9.0\"></a>\n",
    "# 9. Miscellaneous\n",
    "<a href=\"#top\">[back to top]</a>"
   ]
  },
  {
   "cell_type": "code",
   "execution_count": 21,
   "id": "9211b5ea-7ae9-4180-8742-325e17c83dbd",
   "metadata": {},
   "outputs": [
    {
     "name": "stdout",
     "output_type": "stream",
     "text": [
      "PATH=/usr/local/sbin:/usr/local/bin:/usr/sbin:/usr/bin:/sbin:/bin\n",
      "HOSTNAME=fc81a987ec37\n",
      "MODEL_NAME=mnist\n",
      "TF_CPP_VMODULE=http_server=1\n",
      "MODEL_BASE_PATH=/models\n",
      "HOME=/root\n"
     ]
    }
   ],
   "source": [
    "# Check environmental variables of this container\n",
    "!docker exec {model_name} env"
   ]
  },
  {
   "cell_type": "code",
   "execution_count": 22,
   "id": "fdc70e1e-d4a8-4f83-8619-cc98ef52a7d6",
   "metadata": {},
   "outputs": [
    {
     "name": "stdout",
     "output_type": "stream",
     "text": [
      "\u001b[1;39m[\n",
      "  \u001b[0;32m\"MODEL_NAME=mnist\"\u001b[0m\u001b[1;39m,\n",
      "  \u001b[0;32m\"TF_CPP_VMODULE=http_server=1\"\u001b[0m\u001b[1;39m,\n",
      "  \u001b[0;32m\"PATH=/usr/local/sbin:/usr/local/bin:/usr/sbin:/usr/bin:/sbin:/bin\"\u001b[0m\u001b[1;39m,\n",
      "  \u001b[0;32m\"MODEL_BASE_PATH=/models\"\u001b[0m\u001b[1;39m\n",
      "\u001b[1;39m]\u001b[0m\n"
     ]
    }
   ],
   "source": [
    "# Using jq:\n",
    "!docker inspect {model_name} | jq '.[] | .Config.Env'"
   ]
  },
  {
   "cell_type": "code",
   "execution_count": 23,
   "id": "796e8de2-21f6-44b6-a28a-5016610350d0",
   "metadata": {},
   "outputs": [
    {
     "name": "stdout",
     "output_type": "stream",
     "text": [
      "TF_CPP_VMODULE\n"
     ]
    }
   ],
   "source": [
    "# As a toy example, we log into the container and check this environmental variable:\n",
    "!docker exec -it {model_name} /bin/bash | echo TF_CPP_VMODULE"
   ]
  },
  {
   "cell_type": "code",
   "execution_count": 24,
   "id": "c53de55d-3939-4e4e-868f-feb547e88e16",
   "metadata": {},
   "outputs": [
    {
     "name": "stdout",
     "output_type": "stream",
     "text": [
      "Properties of returned container process:\n",
      "\n",
      "_waitpid_lock -> <unlocked _thread.lock object at 0x12eab9300>\n",
      "_input -> None\n",
      "_communication_started -> True\n",
      "----------------------------------------\n",
      "args -> ['docker', 'run', '--rm', '--tty', '-p', '8500:8500', '-p', '8501:8501', '--name', 'mnist', '--mount', 'type=bind,source=/Users/gb/Desktop/tf_server_01/tf_server_data01,target=/models/mnist', '--env', 'MODEL_NAME=mnist', '--env', 'TF_CPP_VMODULE=http_server=1', '--detach', '--log-driver=json-file', '--log-opt=mode=non-blocking', 'tensorflow/serving:latest']\n",
      "----------------------------------------\n",
      "stdin -> None\n",
      "stdout -> <_io.BufferedReader name=82>\n",
      "stderr -> <_io.BufferedReader name=84>\n",
      "pid -> 20409\n",
      "returncode -> 0\n",
      "encoding -> None\n",
      "errors -> None\n",
      "text_mode -> None\n",
      "_sigint_wait_secs -> 0.25\n",
      "_closed_child_pipe_fds -> True\n",
      "_child_created -> True\n",
      "_fileobj2output -> {<_io.BufferedReader name=82>: [b'fc81a987ec378232a65415cde70ea1834003be641c035588e9e04e950190517d\\n', b''], <_io.BufferedReader name=84>: [b'']}\n"
     ]
    }
   ],
   "source": [
    "def show_tfs_dict(proc):\n",
    "    print(\"Properties of returned container process:\\n\")\n",
    "    for key in proc.__dict__:\n",
    "        if key == 'args':\n",
    "            HR()\n",
    "            print(key, '->', proc.__dict__[key])\n",
    "            HR()\n",
    "        else:\n",
    "            print(key, '->', proc.__dict__[key])\n",
    " \n",
    "show_tfs_dict(proc)"
   ]
  },
  {
   "cell_type": "markdown",
   "id": "ca736e07-ec30-4199-8db6-08dacb4502f8",
   "metadata": {},
   "source": [
    "---\n",
    "<a name=\"10.0\"></a>\n",
    "# 10. End and clean up processes\n",
    "<a href=\"#top\">[back to top]</a>"
   ]
  },
  {
   "cell_type": "code",
   "execution_count": 25,
   "id": "e960478f-93f8-4cff-aa4d-0571124394e1",
   "metadata": {},
   "outputs": [
    {
     "name": "stdout",
     "output_type": "stream",
     "text": [
      "mnist\n",
      "Total reclaimed space: 0B\n"
     ]
    }
   ],
   "source": [
    "# Kill and remove unused containers, networks, image\n",
    "!docker kill {model_name} && docker system prune --force"
   ]
  },
  {
   "cell_type": "markdown",
   "id": "e77c3d5a-f78f-49cd-9cef-f62bf5be2e13",
   "metadata": {},
   "source": [
    "---\n",
    "## Content Attribution\n",
    "\n",
    "Portions of this page are modifications based on work created and shared by Google and used according to terms described in the Creative Commons 4.0 Attribution License.\n",
    "\n",
    "This notebook is originally based on [Train and serve a TensorFlow model with TensorFlow Serving](https://www.tensorflow.org/tfx/tutorials/serving/rest_simple), created by Google."
   ]
  },
  {
   "cell_type": "markdown",
   "id": "ee3752af-5c40-4882-9af9-c757cc8bfa54",
   "metadata": {},
   "source": [
    "## Code Attribution\n",
    "\n",
    "Copyright 2020 The TensorFlow Authors."
   ]
  },
  {
   "cell_type": "code",
   "execution_count": 26,
   "id": "cd9b2223-eca3-4468-93e7-6911658450e1",
   "metadata": {},
   "outputs": [],
   "source": [
    "#@title Licensed under the Apache License, Version 2.0 (the \"License\");\n",
    "# you may not use this file except in compliance with the License.\n",
    "# You may obtain a copy of the License at\n",
    "#\n",
    "# https://www.apache.org/licenses/LICENSE-2.0\n",
    "#\n",
    "# Unless required by applicable law or agreed to in writing, software\n",
    "# distributed under the License is distributed on an \"AS IS\" BASIS,\n",
    "# WITHOUT WARRANTIES OR CONDITIONS OF ANY KIND, either express or implied.\n",
    "# See the License for the specific language governing permissions and\n",
    "# limitations under the License."
   ]
  }
 ],
 "metadata": {
  "kernelspec": {
   "display_name": "Python 3 (ipykernel)",
   "language": "python",
   "name": "python3"
  },
  "language_info": {
   "codemirror_mode": {
    "name": "ipython",
    "version": 3
   },
   "file_extension": ".py",
   "mimetype": "text/x-python",
   "name": "python",
   "nbconvert_exporter": "python",
   "pygments_lexer": "ipython3",
   "version": "3.8.12"
  }
 },
 "nbformat": 4,
 "nbformat_minor": 5
}
