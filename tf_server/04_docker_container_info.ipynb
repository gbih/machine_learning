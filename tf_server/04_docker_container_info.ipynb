{
 "cells": [
  {
   "cell_type": "markdown",
   "id": "d2c29b7a-fe48-4789-ba70-ac311c0fa754",
   "metadata": {},
   "source": [
    "# TensorFlow Serving\n",
    "\n",
    "## Related images and files"
   ]
  },
  {
   "cell_type": "markdown",
   "id": "f6d7582f-638a-4928-9a08-408f9ea2052d",
   "metadata": {},
   "source": [
    "---\n",
    "## 1. Dockerfile for tensorflow-model-server:\n",
    "\n",
    "\n",
    "* https://github.com/tensorflow/serving/blob/master/tensorflow_serving/tools/docker/Dockerfile\n",
    "\n",
    "<sup>\n",
    "\n",
    "```bash\n",
    "# Copyright 2018 Google LLC\n",
    "#\n",
    "# Licensed under the Apache License, Version 2.0 (the \"License\");\n",
    "# you may not use this file except in compliance with the License.\n",
    "# You may obtain a copy of the License at\n",
    "#\n",
    "#     https://www.apache.org/licenses/LICENSE-2.0\n",
    "#\n",
    "# Unless required by applicable law or agreed to in writing, software\n",
    "# distributed under the License is distributed on an \"AS IS\" BASIS,\n",
    "# WITHOUT WARRANTIES OR CONDITIONS OF ANY KIND, either express or implied.\n",
    "# See the License for the specific language governing permissions and\n",
    "# limitations under the License.\n",
    "\n",
    "ARG TF_SERVING_VERSION=latest\n",
    "ARG TF_SERVING_BUILD_IMAGE=tensorflow/serving:${TF_SERVING_VERSION}-devel\n",
    "\n",
    "FROM ${TF_SERVING_BUILD_IMAGE} as build_image\n",
    "FROM ubuntu:18.04\n",
    "\n",
    "ARG TF_SERVING_VERSION_GIT_BRANCH=master\n",
    "ARG TF_SERVING_VERSION_GIT_COMMIT=head\n",
    "\n",
    "LABEL maintainer=\"gvasudevan@google.com\"\n",
    "LABEL tensorflow_serving_github_branchtag=${TF_SERVING_VERSION_GIT_BRANCH}\n",
    "LABEL tensorflow_serving_github_commit=${TF_SERVING_VERSION_GIT_COMMIT}\n",
    "\n",
    "RUN apt-get update && apt-get install -y --no-install-recommends \\\n",
    "        ca-certificates \\\n",
    "        && \\\n",
    "    apt-get clean && \\\n",
    "    rm -rf /var/lib/apt/lists/*\n",
    "\n",
    "# Install TF Serving pkg\n",
    "COPY --from=build_image /usr/local/bin/tensorflow_model_server /usr/bin/tensorflow_model_server\n",
    "\n",
    "# Expose ports\n",
    "# gRPC\n",
    "EXPOSE 8500\n",
    "\n",
    "# REST\n",
    "EXPOSE 8501\n",
    "\n",
    "# Set where models should be stored in the container\n",
    "ENV MODEL_BASE_PATH=/models\n",
    "RUN mkdir -p ${MODEL_BASE_PATH}\n",
    "\n",
    "# The only required piece is the model name in order to differentiate endpoints\n",
    "ENV MODEL_NAME=model\n",
    "\n",
    "# Create a script that runs the model server so we can use environment variables\n",
    "# while also passing in arguments from the docker command line\n",
    "RUN echo '#!/bin/bash \\n\\n\\\n",
    "tensorflow_model_server --port=8500 --rest_api_port=8501 \\\n",
    "--model_name=${MODEL_NAME} --model_base_path=${MODEL_BASE_PATH}/${MODEL_NAME} \\\n",
    "\"$@\"' > /usr/bin/tf_serving_entrypoint.sh \\\n",
    "&& chmod +x /usr/bin/tf_serving_entrypoint.sh\n",
    "\n",
    "ENTRYPOINT [\"/usr/bin/tf_serving_entrypoint.sh\"]\n",
    "```\n",
    "    \n",
    "</sup>"
   ]
  },
  {
   "cell_type": "markdown",
   "id": "bf232e7a-d084-4ebc-9ebd-90b597b2152e",
   "metadata": {},
   "source": [
    "---\n",
    "## 2. File: tf_serving_entrypoint.sh \n",
    "\n",
    "```bash\n",
    "#!/bin/bash\n",
    "\n",
    "tensorflow_model_server --port=8500 --rest_api_port=8501 --model_name=${MODEL_NAME} --model_base_path=${MODEL_BASE_PATH}/${MODEL_NAME} \"$@\"\n",
    "```"
   ]
  }
 ],
 "metadata": {
  "kernelspec": {
   "display_name": "Python 3 (ipykernel)",
   "language": "python",
   "name": "python3"
  },
  "language_info": {
   "codemirror_mode": {
    "name": "ipython",
    "version": 3
   },
   "file_extension": ".py",
   "mimetype": "text/x-python",
   "name": "python",
   "nbconvert_exporter": "python",
   "pygments_lexer": "ipython3",
   "version": "3.8.12"
  }
 },
 "nbformat": 4,
 "nbformat_minor": 5
}
