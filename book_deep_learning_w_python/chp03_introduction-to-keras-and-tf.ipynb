{
 "cells": [
  {
   "cell_type": "code",
   "execution_count": 1,
   "metadata": {
    "colab": {
     "base_uri": "https://localhost:8080/"
    },
    "executionInfo": {
     "elapsed": 7359,
     "status": "ok",
     "timestamp": 1626003074523,
     "user": {
      "displayName": "George Baptista",
      "photoUrl": "https://lh3.googleusercontent.com/a-/AOh14GgSPpSfsW2MVJCfiHcd-wtEgNTenixcvSYXZ9Lo=s64",
      "userId": "16776465488006883803"
     },
     "user_tz": -540
    },
    "id": "UD7lSL1YjyLH",
    "outputId": "b6c755c0-b387-4e2c-8ba3-c2093ea9e638"
   },
   "outputs": [
    {
     "name": "stdout",
     "output_type": "stream",
     "text": [
      "tf.Tensor(\n",
      "[[1.]\n",
      " [1.]], shape=(2, 1), dtype=float32)\n"
     ]
    }
   ],
   "source": [
    "import tensorflow as tf\n",
    "x = tf.ones(shape=(2, 1))\n",
    "print(x)"
   ]
  },
  {
   "cell_type": "code",
   "execution_count": 2,
   "metadata": {
    "colab": {
     "base_uri": "https://localhost:8080/"
    },
    "executionInfo": {
     "elapsed": 98,
     "status": "ok",
     "timestamp": 1626003074523,
     "user": {
      "displayName": "George Baptista",
      "photoUrl": "https://lh3.googleusercontent.com/a-/AOh14GgSPpSfsW2MVJCfiHcd-wtEgNTenixcvSYXZ9Lo=s64",
      "userId": "16776465488006883803"
     },
     "user_tz": -540
    },
    "id": "CZWEDX58jyLI",
    "outputId": "7ae37dd5-6799-429e-c4b4-46b67146637f"
   },
   "outputs": [
    {
     "name": "stdout",
     "output_type": "stream",
     "text": [
      "tf.Tensor(\n",
      "[[0.]\n",
      " [0.]], shape=(2, 1), dtype=float32)\n"
     ]
    }
   ],
   "source": [
    "x = tf.zeros(shape=(2, 1))\n",
    "print(x)"
   ]
  },
  {
   "cell_type": "markdown",
   "metadata": {
    "id": "aghxlKLfjyLI"
   },
   "source": [
    "**Random tensors**"
   ]
  },
  {
   "cell_type": "code",
   "execution_count": 3,
   "metadata": {
    "colab": {
     "base_uri": "https://localhost:8080/"
    },
    "executionInfo": {
     "elapsed": 84,
     "status": "ok",
     "timestamp": 1626003074524,
     "user": {
      "displayName": "George Baptista",
      "photoUrl": "https://lh3.googleusercontent.com/a-/AOh14GgSPpSfsW2MVJCfiHcd-wtEgNTenixcvSYXZ9Lo=s64",
      "userId": "16776465488006883803"
     },
     "user_tz": -540
    },
    "id": "P2gZQtv5jyLJ",
    "outputId": "bbc2c926-bc72-4149-9da5-da109bd6539b"
   },
   "outputs": [
    {
     "name": "stdout",
     "output_type": "stream",
     "text": [
      "tf.Tensor(\n",
      "[[ 0.2778848]\n",
      " [-1.9408233]\n",
      " [ 0.9658504]], shape=(3, 1), dtype=float32)\n"
     ]
    }
   ],
   "source": [
    "x = tf.random.normal(shape=(3, 1), mean=0., stddev=1.)\n",
    "print(x)"
   ]
  },
  {
   "cell_type": "code",
   "execution_count": 4,
   "metadata": {
    "colab": {
     "base_uri": "https://localhost:8080/"
    },
    "executionInfo": {
     "elapsed": 73,
     "status": "ok",
     "timestamp": 1626003074525,
     "user": {
      "displayName": "George Baptista",
      "photoUrl": "https://lh3.googleusercontent.com/a-/AOh14GgSPpSfsW2MVJCfiHcd-wtEgNTenixcvSYXZ9Lo=s64",
      "userId": "16776465488006883803"
     },
     "user_tz": -540
    },
    "id": "rqdl0lYZjyLK",
    "outputId": "bdba6fc3-62a7-46af-dfa4-b2d567c407c0"
   },
   "outputs": [
    {
     "name": "stdout",
     "output_type": "stream",
     "text": [
      "tf.Tensor(\n",
      "[[0.8751272]\n",
      " [0.3349192]\n",
      " [0.7207686]], shape=(3, 1), dtype=float32)\n"
     ]
    }
   ],
   "source": [
    "x = tf.random.uniform(shape=(3, 1), minval=0., maxval=1.)\n",
    "print(x)"
   ]
  },
  {
   "cell_type": "markdown",
   "metadata": {
    "id": "Oy5KgvfIjyLK"
   },
   "source": [
    "**NumPy arrays are assignable**"
   ]
  },
  {
   "cell_type": "code",
   "execution_count": 5,
   "metadata": {
    "executionInfo": {
     "elapsed": 62,
     "status": "ok",
     "timestamp": 1626003074526,
     "user": {
      "displayName": "George Baptista",
      "photoUrl": "https://lh3.googleusercontent.com/a-/AOh14GgSPpSfsW2MVJCfiHcd-wtEgNTenixcvSYXZ9Lo=s64",
      "userId": "16776465488006883803"
     },
     "user_tz": -540
    },
    "id": "Hqz3_AnOjyLL"
   },
   "outputs": [],
   "source": [
    "import numpy as np\n",
    "x = np.ones(shape=(2, 2))\n",
    "x[0, 0] = 0."
   ]
  },
  {
   "cell_type": "markdown",
   "metadata": {
    "id": "F1pBJQ5WjyLL"
   },
   "source": [
    "**Creating a Variable**"
   ]
  },
  {
   "cell_type": "code",
   "execution_count": 6,
   "metadata": {
    "colab": {
     "base_uri": "https://localhost:8080/"
    },
    "executionInfo": {
     "elapsed": 61,
     "status": "ok",
     "timestamp": 1626003074526,
     "user": {
      "displayName": "George Baptista",
      "photoUrl": "https://lh3.googleusercontent.com/a-/AOh14GgSPpSfsW2MVJCfiHcd-wtEgNTenixcvSYXZ9Lo=s64",
      "userId": "16776465488006883803"
     },
     "user_tz": -540
    },
    "id": "TGEpPdOdjyLL",
    "outputId": "1f9d33a5-4e63-4f38-c586-ffb8ee35c0a9"
   },
   "outputs": [
    {
     "name": "stdout",
     "output_type": "stream",
     "text": [
      "<tf.Variable 'Variable:0' shape=(3, 1) dtype=float32, numpy=\n",
      "array([[0.11656269],\n",
      "       [0.9730017 ],\n",
      "       [0.22625425]], dtype=float32)>\n"
     ]
    }
   ],
   "source": [
    "v = tf.Variable(initial_value=tf.random.normal(shape=(3, 1)))\n",
    "print(v)"
   ]
  },
  {
   "cell_type": "markdown",
   "metadata": {
    "id": "w--R_C48jyLM"
   },
   "source": [
    "**Assigning a value to a Variable**"
   ]
  },
  {
   "cell_type": "code",
   "execution_count": 7,
   "metadata": {
    "colab": {
     "base_uri": "https://localhost:8080/"
    },
    "executionInfo": {
     "elapsed": 49,
     "status": "ok",
     "timestamp": 1626003074527,
     "user": {
      "displayName": "George Baptista",
      "photoUrl": "https://lh3.googleusercontent.com/a-/AOh14GgSPpSfsW2MVJCfiHcd-wtEgNTenixcvSYXZ9Lo=s64",
      "userId": "16776465488006883803"
     },
     "user_tz": -540
    },
    "id": "LaBXYqYujyLM",
    "outputId": "43121a3d-9eb8-4930-fb87-1fdabfb5a9fb"
   },
   "outputs": [
    {
     "data": {
      "text/plain": [
       "<tf.Variable 'UnreadVariable' shape=(3, 1) dtype=float32, numpy=\n",
       "array([[1.],\n",
       "       [1.],\n",
       "       [1.]], dtype=float32)>"
      ]
     },
     "execution_count": 7,
     "metadata": {},
     "output_type": "execute_result"
    }
   ],
   "source": [
    "v.assign(tf.ones((3, 1)))"
   ]
  },
  {
   "cell_type": "markdown",
   "metadata": {
    "id": "2s3l1sWUjyLN"
   },
   "source": [
    "**Assigning a value to a subset of a Variable**"
   ]
  },
  {
   "cell_type": "code",
   "execution_count": 8,
   "metadata": {
    "colab": {
     "base_uri": "https://localhost:8080/"
    },
    "executionInfo": {
     "elapsed": 36,
     "status": "ok",
     "timestamp": 1626003074528,
     "user": {
      "displayName": "George Baptista",
      "photoUrl": "https://lh3.googleusercontent.com/a-/AOh14GgSPpSfsW2MVJCfiHcd-wtEgNTenixcvSYXZ9Lo=s64",
      "userId": "16776465488006883803"
     },
     "user_tz": -540
    },
    "id": "OwZ87uFnjyLN",
    "outputId": "822e0820-f043-422a-bc0f-65245dcbbb5a"
   },
   "outputs": [
    {
     "data": {
      "text/plain": [
       "<tf.Variable 'UnreadVariable' shape=(3, 1) dtype=float32, numpy=\n",
       "array([[3.],\n",
       "       [1.],\n",
       "       [1.]], dtype=float32)>"
      ]
     },
     "execution_count": 8,
     "metadata": {},
     "output_type": "execute_result"
    }
   ],
   "source": [
    "v[0, 0].assign(3.)"
   ]
  },
  {
   "cell_type": "markdown",
   "metadata": {
    "id": "wl9o-Df6jyLN"
   },
   "source": [
    "**Using assign_add**"
   ]
  },
  {
   "cell_type": "code",
   "execution_count": 9,
   "metadata": {
    "colab": {
     "base_uri": "https://localhost:8080/"
    },
    "executionInfo": {
     "elapsed": 24,
     "status": "ok",
     "timestamp": 1626003074529,
     "user": {
      "displayName": "George Baptista",
      "photoUrl": "https://lh3.googleusercontent.com/a-/AOh14GgSPpSfsW2MVJCfiHcd-wtEgNTenixcvSYXZ9Lo=s64",
      "userId": "16776465488006883803"
     },
     "user_tz": -540
    },
    "id": "spuYAKtKjyLO",
    "outputId": "a34e0ec6-bc0d-4610-cac8-5349b98441b9"
   },
   "outputs": [
    {
     "data": {
      "text/plain": [
       "<tf.Variable 'UnreadVariable' shape=(3, 1) dtype=float32, numpy=\n",
       "array([[4.],\n",
       "       [2.],\n",
       "       [2.]], dtype=float32)>"
      ]
     },
     "execution_count": 9,
     "metadata": {},
     "output_type": "execute_result"
    }
   ],
   "source": [
    "v.assign_add(tf.ones((3, 1)))"
   ]
  },
  {
   "cell_type": "markdown",
   "metadata": {
    "id": "eWnKutdpjyLP"
   },
   "source": [
    "#### Tensor operations: doing math in TensorFlow"
   ]
  },
  {
   "cell_type": "markdown",
   "metadata": {
    "id": "ZB3JHw9cjyLP"
   },
   "source": [
    "**A few basic math operations**"
   ]
  },
  {
   "cell_type": "code",
   "execution_count": 10,
   "metadata": {
    "executionInfo": {
     "elapsed": 2646,
     "status": "ok",
     "timestamp": 1626003077163,
     "user": {
      "displayName": "George Baptista",
      "photoUrl": "https://lh3.googleusercontent.com/a-/AOh14GgSPpSfsW2MVJCfiHcd-wtEgNTenixcvSYXZ9Lo=s64",
      "userId": "16776465488006883803"
     },
     "user_tz": -540
    },
    "id": "zBryOHuxjyLQ"
   },
   "outputs": [],
   "source": [
    "a = tf.ones((2, 2))\n",
    "b = tf.square(a)\n",
    "c = tf.sqrt(a)\n",
    "d = b + c\n",
    "e = tf.matmul(a, b)\n",
    "e *= d"
   ]
  },
  {
   "cell_type": "markdown",
   "metadata": {
    "id": "JsYQy2-UjyLT"
   },
   "source": [
    "#### A second look at the `GradientTape` API"
   ]
  },
  {
   "cell_type": "markdown",
   "metadata": {
    "id": "hdZEAT9ZjyLU"
   },
   "source": [
    "**Using the GradientTape**"
   ]
  },
  {
   "cell_type": "code",
   "execution_count": 11,
   "metadata": {
    "executionInfo": {
     "elapsed": 23,
     "status": "ok",
     "timestamp": 1626003077164,
     "user": {
      "displayName": "George Baptista",
      "photoUrl": "https://lh3.googleusercontent.com/a-/AOh14GgSPpSfsW2MVJCfiHcd-wtEgNTenixcvSYXZ9Lo=s64",
      "userId": "16776465488006883803"
     },
     "user_tz": -540
    },
    "id": "Nhh8I10wjyLW"
   },
   "outputs": [],
   "source": [
    "input_var = tf.Variable(initial_value=3.)\n",
    "with tf.GradientTape() as tape:\n",
    "   result = tf.square(input_var)\n",
    "gradient = tape.gradient(result, input_var)"
   ]
  },
  {
   "cell_type": "markdown",
   "metadata": {
    "id": "CaMR_m0vjyLX"
   },
   "source": [
    "**Using the GradientTape with constant tensor inputs**"
   ]
  },
  {
   "cell_type": "code",
   "execution_count": 12,
   "metadata": {
    "executionInfo": {
     "elapsed": 21,
     "status": "ok",
     "timestamp": 1626003077165,
     "user": {
      "displayName": "George Baptista",
      "photoUrl": "https://lh3.googleusercontent.com/a-/AOh14GgSPpSfsW2MVJCfiHcd-wtEgNTenixcvSYXZ9Lo=s64",
      "userId": "16776465488006883803"
     },
     "user_tz": -540
    },
    "id": "7ywMQ-5fjyLY"
   },
   "outputs": [],
   "source": [
    "input_const = tf.constant(3.)\n",
    "with tf.GradientTape() as tape:\n",
    "   tape.watch(input_const)\n",
    "   result = tf.square(input_const)\n",
    "gradient = tape.gradient(result, input_const)"
   ]
  },
  {
   "cell_type": "markdown",
   "metadata": {
    "id": "-DhXUDQQjyLZ"
   },
   "source": [
    "**Using nested gradient tapes to compute second-order gradients**"
   ]
  },
  {
   "cell_type": "code",
   "execution_count": 13,
   "metadata": {
    "executionInfo": {
     "elapsed": 20,
     "status": "ok",
     "timestamp": 1626003077167,
     "user": {
      "displayName": "George Baptista",
      "photoUrl": "https://lh3.googleusercontent.com/a-/AOh14GgSPpSfsW2MVJCfiHcd-wtEgNTenixcvSYXZ9Lo=s64",
      "userId": "16776465488006883803"
     },
     "user_tz": -540
    },
    "id": "wqfK687xjyLZ"
   },
   "outputs": [],
   "source": [
    "time = tf.Variable(0.)\n",
    "with tf.GradientTape() as outer_tape:\n",
    "    with tf.GradientTape() as inner_tape:\n",
    "        position =  4.9 * time ** 2\n",
    "    speed = inner_tape.gradient(position, time)\n",
    "acceleration = outer_tape.gradient(speed, time)"
   ]
  },
  {
   "cell_type": "markdown",
   "metadata": {
    "id": "3mPD43GVjyLa"
   },
   "source": [
    "#### An end-to-end example: a linear classifier in pure TensorFlow"
   ]
  },
  {
   "cell_type": "markdown",
   "metadata": {
    "id": "GiscFxsNjyLa"
   },
   "source": [
    "**Generating two classes of random points in a 2D plane**"
   ]
  },
  {
   "cell_type": "code",
   "execution_count": 14,
   "metadata": {
    "executionInfo": {
     "elapsed": 20,
     "status": "ok",
     "timestamp": 1626003077168,
     "user": {
      "displayName": "George Baptista",
      "photoUrl": "https://lh3.googleusercontent.com/a-/AOh14GgSPpSfsW2MVJCfiHcd-wtEgNTenixcvSYXZ9Lo=s64",
      "userId": "16776465488006883803"
     },
     "user_tz": -540
    },
    "id": "mZaYIgHMjyLb"
   },
   "outputs": [],
   "source": [
    "num_samples_per_class = 1000\n",
    "negative_samples = np.random.multivariate_normal(\n",
    "    mean=[0, 3], cov=[[1, 0.5],[0.5, 1]], size=num_samples_per_class)\n",
    "positive_samples = np.random.multivariate_normal(\n",
    "    mean=[3, 0], cov=[[1, 0.5],[0.5, 1]], size=num_samples_per_class)"
   ]
  },
  {
   "cell_type": "markdown",
   "metadata": {
    "id": "anFUbr67jyLc"
   },
   "source": [
    "**Stacking the two classes into an array with shape (2000, 2)**"
   ]
  },
  {
   "cell_type": "code",
   "execution_count": 15,
   "metadata": {
    "executionInfo": {
     "elapsed": 20,
     "status": "ok",
     "timestamp": 1626003077169,
     "user": {
      "displayName": "George Baptista",
      "photoUrl": "https://lh3.googleusercontent.com/a-/AOh14GgSPpSfsW2MVJCfiHcd-wtEgNTenixcvSYXZ9Lo=s64",
      "userId": "16776465488006883803"
     },
     "user_tz": -540
    },
    "id": "vhKKrcrmjyLd"
   },
   "outputs": [],
   "source": [
    "inputs = np.vstack((negative_samples, positive_samples)).astype(np.float32)"
   ]
  },
  {
   "cell_type": "markdown",
   "metadata": {
    "id": "tMSMzaD2jyLd"
   },
   "source": [
    "**Generating the corresponding targets (0 and 1)**"
   ]
  },
  {
   "cell_type": "code",
   "execution_count": 16,
   "metadata": {
    "executionInfo": {
     "elapsed": 20,
     "status": "ok",
     "timestamp": 1626003077171,
     "user": {
      "displayName": "George Baptista",
      "photoUrl": "https://lh3.googleusercontent.com/a-/AOh14GgSPpSfsW2MVJCfiHcd-wtEgNTenixcvSYXZ9Lo=s64",
      "userId": "16776465488006883803"
     },
     "user_tz": -540
    },
    "id": "6kmMFQQOjyLd"
   },
   "outputs": [],
   "source": [
    "targets = np.vstack((np.zeros((num_samples_per_class, 1), dtype=\"float32\"),\n",
    "                     np.ones((num_samples_per_class, 1), dtype=\"float32\")))"
   ]
  },
  {
   "cell_type": "markdown",
   "metadata": {
    "id": "js585XF3jyLd"
   },
   "source": [
    "**Plotting the two point classes**"
   ]
  },
  {
   "cell_type": "code",
   "execution_count": 17,
   "metadata": {
    "colab": {
     "base_uri": "https://localhost:8080/",
     "height": 265
    },
    "executionInfo": {
     "elapsed": 831,
     "status": "ok",
     "timestamp": 1626003077984,
     "user": {
      "displayName": "George Baptista",
      "photoUrl": "https://lh3.googleusercontent.com/a-/AOh14GgSPpSfsW2MVJCfiHcd-wtEgNTenixcvSYXZ9Lo=s64",
      "userId": "16776465488006883803"
     },
     "user_tz": -540
    },
    "id": "NX5-gzgOjyLe",
    "outputId": "d605812d-1383-445a-f2e9-67f347e648b4"
   },
   "outputs": [
    {
     "data": {
      "image/png": "[encoded data removed]",
      "text/plain": [
       "<Figure size 432x288 with 1 Axes>"
      ]
     },
     "metadata": {
      "needs_background": "light"
     },
     "output_type": "display_data"
    }
   ],
   "source": [
    "import matplotlib.pyplot as plt\n",
    "plt.scatter(inputs[:, 0], inputs[:, 1], c=targets[:, 0])\n",
    "plt.show()"
   ]
  },
  {
   "cell_type": "markdown",
   "metadata": {
    "id": "v6yOuqQ_jyLe"
   },
   "source": [
    "**Creating the linear classifier variables**"
   ]
  },
  {
   "cell_type": "code",
   "execution_count": 18,
   "metadata": {
    "executionInfo": {
     "elapsed": 34,
     "status": "ok",
     "timestamp": 1626003077986,
     "user": {
      "displayName": "George Baptista",
      "photoUrl": "https://lh3.googleusercontent.com/a-/AOh14GgSPpSfsW2MVJCfiHcd-wtEgNTenixcvSYXZ9Lo=s64",
      "userId": "16776465488006883803"
     },
     "user_tz": -540
    },
    "id": "v9yyPh4yjyLe"
   },
   "outputs": [],
   "source": [
    "input_dim = 2\n",
    "output_dim = 1\n",
    "W = tf.Variable(initial_value=tf.random.uniform(shape=(input_dim, output_dim)))\n",
    "b = tf.Variable(initial_value=tf.zeros(shape=(output_dim,)))"
   ]
  },
  {
   "cell_type": "markdown",
   "metadata": {
    "id": "lL5QQeMqjyLe"
   },
   "source": [
    "**The forward pass function**"
   ]
  },
  {
   "cell_type": "code",
   "execution_count": 19,
   "metadata": {
    "executionInfo": {
     "elapsed": 35,
     "status": "ok",
     "timestamp": 1626003077988,
     "user": {
      "displayName": "George Baptista",
      "photoUrl": "https://lh3.googleusercontent.com/a-/AOh14GgSPpSfsW2MVJCfiHcd-wtEgNTenixcvSYXZ9Lo=s64",
      "userId": "16776465488006883803"
     },
     "user_tz": -540
    },
    "id": "gcJmgwlEjyLf"
   },
   "outputs": [],
   "source": [
    "def model(inputs):\n",
    "    return tf.matmul(inputs, W) + b"
   ]
  },
  {
   "cell_type": "markdown",
   "metadata": {
    "id": "NHC-1RLijyLf"
   },
   "source": [
    "**The mean squared error loss function**"
   ]
  },
  {
   "cell_type": "code",
   "execution_count": 20,
   "metadata": {
    "executionInfo": {
     "elapsed": 34,
     "status": "ok",
     "timestamp": 1626003077988,
     "user": {
      "displayName": "George Baptista",
      "photoUrl": "https://lh3.googleusercontent.com/a-/AOh14GgSPpSfsW2MVJCfiHcd-wtEgNTenixcvSYXZ9Lo=s64",
      "userId": "16776465488006883803"
     },
     "user_tz": -540
    },
    "id": "Xl7OL2MqjyLf"
   },
   "outputs": [],
   "source": [
    "def square_loss(targets, predictions):\n",
    "    per_sample_losses = tf.square(targets - predictions)\n",
    "    return tf.reduce_mean(per_sample_losses)"
   ]
  },
  {
   "cell_type": "markdown",
   "metadata": {
    "id": "fz-jV-QTjyLg"
   },
   "source": [
    "**The training step function**"
   ]
  },
  {
   "cell_type": "code",
   "execution_count": 21,
   "metadata": {
    "executionInfo": {
     "elapsed": 35,
     "status": "ok",
     "timestamp": 1626003077989,
     "user": {
      "displayName": "George Baptista",
      "photoUrl": "https://lh3.googleusercontent.com/a-/AOh14GgSPpSfsW2MVJCfiHcd-wtEgNTenixcvSYXZ9Lo=s64",
      "userId": "16776465488006883803"
     },
     "user_tz": -540
    },
    "id": "w_70QvIwjyLg"
   },
   "outputs": [],
   "source": [
    "learning_rate = 0.1\n",
    "\n",
    "def training_step(inputs, targets):\n",
    "    with tf.GradientTape() as tape:\n",
    "        predictions = model(inputs)\n",
    "        loss = square_loss(predictions, targets)\n",
    "    grad_loss_wrt_W, grad_loss_wrt_b = tape.gradient(loss, [W, b])\n",
    "    W.assign_sub(grad_loss_wrt_W * learning_rate)\n",
    "    b.assign_sub(grad_loss_wrt_b * learning_rate)\n",
    "    return loss"
   ]
  },
  {
   "cell_type": "markdown",
   "metadata": {
    "id": "woeI_9UYjyLg"
   },
   "source": [
    "**The batch training loop**"
   ]
  },
  {
   "cell_type": "code",
   "execution_count": 22,
   "metadata": {
    "colab": {
     "base_uri": "https://localhost:8080/"
    },
    "executionInfo": {
     "elapsed": 35,
     "status": "ok",
     "timestamp": 1626003077990,
     "user": {
      "displayName": "George Baptista",
      "photoUrl": "https://lh3.googleusercontent.com/a-/AOh14GgSPpSfsW2MVJCfiHcd-wtEgNTenixcvSYXZ9Lo=s64",
      "userId": "16776465488006883803"
     },
     "user_tz": -540
    },
    "id": "seXy_Tw7jyLg",
    "outputId": "89a33e06-01fb-4995-d517-ecaa039a4f41"
   },
   "outputs": [
    {
     "name": "stdout",
     "output_type": "stream",
     "text": [
      "Loss at step 0: 3.1274\n",
      "Loss at step 1: 0.5445\n",
      "Loss at step 2: 0.1906\n",
      "Loss at step 3: 0.1266\n",
      "Loss at step 4: 0.1100\n",
      "Loss at step 5: 0.1016\n",
      "Loss at step 6: 0.0949\n",
      "Loss at step 7: 0.0890\n",
      "Loss at step 8: 0.0836\n",
      "Loss at step 9: 0.0787\n",
      "Loss at step 10: 0.0742\n",
      "Loss at step 11: 0.0700\n",
      "Loss at step 12: 0.0662\n",
      "Loss at step 13: 0.0627\n",
      "Loss at step 14: 0.0595\n",
      "Loss at step 15: 0.0566\n",
      "Loss at step 16: 0.0539\n",
      "Loss at step 17: 0.0515\n",
      "Loss at step 18: 0.0492\n",
      "Loss at step 19: 0.0471\n",
      "Loss at step 20: 0.0452\n",
      "Loss at step 21: 0.0435\n",
      "Loss at step 22: 0.0419\n",
      "Loss at step 23: 0.0405\n",
      "Loss at step 24: 0.0391\n",
      "Loss at step 25: 0.0379\n",
      "Loss at step 26: 0.0368\n",
      "Loss at step 27: 0.0357\n",
      "Loss at step 28: 0.0348\n",
      "Loss at step 29: 0.0339\n",
      "Loss at step 30: 0.0331\n",
      "Loss at step 31: 0.0324\n",
      "Loss at step 32: 0.0317\n",
      "Loss at step 33: 0.0311\n",
      "Loss at step 34: 0.0306\n",
      "Loss at step 35: 0.0301\n",
      "Loss at step 36: 0.0296\n",
      "Loss at step 37: 0.0292\n",
      "Loss at step 38: 0.0288\n",
      "Loss at step 39: 0.0284\n"
     ]
    }
   ],
   "source": [
    "for step in range(40):\n",
    "    loss = training_step(inputs, targets)\n",
    "    print(f\"Loss at step {step}: {loss:.4f}\")"
   ]
  },
  {
   "cell_type": "code",
   "execution_count": 23,
   "metadata": {
    "colab": {
     "base_uri": "https://localhost:8080/",
     "height": 265
    },
    "executionInfo": {
     "elapsed": 833,
     "status": "ok",
     "timestamp": 1626003078810,
     "user": {
      "displayName": "George Baptista",
      "photoUrl": "https://lh3.googleusercontent.com/a-/AOh14GgSPpSfsW2MVJCfiHcd-wtEgNTenixcvSYXZ9Lo=s64",
      "userId": "16776465488006883803"
     },
     "user_tz": -540
    },
    "id": "iVn0Zz70jyLg",
    "outputId": "66ae97dd-5116-47ad-cac0-1b9fd4a7659c"
   },
   "outputs": [
    {
     "data": {
      "image/png": "[encoded data removed]",
      "text/plain": [
       "<Figure size 432x288 with 1 Axes>"
      ]
     },
     "metadata": {
      "needs_background": "light"
     },
     "output_type": "display_data"
    }
   ],
   "source": [
    "predictions = model(inputs)\n",
    "plt.scatter(inputs[:, 0], inputs[:, 1], c=predictions[:, 0] > 0.5)\n",
    "plt.show()"
   ]
  },
  {
   "cell_type": "code",
   "execution_count": 24,
   "metadata": {
    "colab": {
     "base_uri": "https://localhost:8080/",
     "height": 282
    },
    "executionInfo": {
     "elapsed": 60,
     "status": "ok",
     "timestamp": 1626003078811,
     "user": {
      "displayName": "George Baptista",
      "photoUrl": "https://lh3.googleusercontent.com/a-/AOh14GgSPpSfsW2MVJCfiHcd-wtEgNTenixcvSYXZ9Lo=s64",
      "userId": "16776465488006883803"
     },
     "user_tz": -540
    },
    "id": "8-jocqfgjyLh",
    "outputId": "7667da3a-eead-413a-82c7-85d771e66d9c"
   },
   "outputs": [
    {
     "data": {
      "text/plain": [
       "<matplotlib.collections.PathCollection at 0x13dd32e50>"
      ]
     },
     "execution_count": 24,
     "metadata": {},
     "output_type": "execute_result"
    },
    {
     "data": {
      "image/png": "[encoded data removed]",
      "text/plain": [
       "<Figure size 432x288 with 1 Axes>"
      ]
     },
     "metadata": {
      "needs_background": "light"
     },
     "output_type": "display_data"
    }
   ],
   "source": [
    "x = np.linspace(-1, 4, 100)\n",
    "y = - W[0] /  W[1] * x + (0.5 - b) / W[1]\n",
    "plt.plot(x, y, \"-r\")\n",
    "plt.scatter(inputs[:, 0], inputs[:, 1], c=predictions[:, 0] > 0.5)"
   ]
  },
  {
   "cell_type": "markdown",
   "metadata": {
    "id": "uYzvB5-wjyLh"
   },
   "source": [
    "## Anatomy of a neural network: understanding core Keras APIs"
   ]
  },
  {
   "cell_type": "markdown",
   "metadata": {
    "id": "bry4J3cOjyLh"
   },
   "source": [
    "### Layers: the building blocks of deep learning"
   ]
  },
  {
   "cell_type": "markdown",
   "metadata": {
    "id": "uK3acRjojyLh"
   },
   "source": [
    "#### The base `Layer` class in Keras"
   ]
  },
  {
   "cell_type": "code",
   "execution_count": 25,
   "metadata": {
    "executionInfo": {
     "elapsed": 45,
     "status": "ok",
     "timestamp": 1626003078812,
     "user": {
      "displayName": "George Baptista",
      "photoUrl": "https://lh3.googleusercontent.com/a-/AOh14GgSPpSfsW2MVJCfiHcd-wtEgNTenixcvSYXZ9Lo=s64",
      "userId": "16776465488006883803"
     },
     "user_tz": -540
    },
    "id": "jmzrzpdcjyLh"
   },
   "outputs": [],
   "source": [
    "from tensorflow import keras\n",
    "\n",
    "class SimpleDense(keras.layers.Layer):\n",
    "\n",
    "    def __init__(self, units, activation=None):\n",
    "        super().__init__()\n",
    "        self.units = units\n",
    "        self.activation = activation\n",
    "\n",
    "    def build(self, input_shape):\n",
    "        input_dim = input_shape[-1]\n",
    "        self.W = self.add_weight(shape=(input_dim, self.units),\n",
    "                                 initializer=\"random_normal\")\n",
    "        self.b = self.add_weight(shape=(self.units,),\n",
    "                                 initializer=\"zeros\")\n",
    "\n",
    "    def call(self, inputs):\n",
    "        y = tf.matmul(inputs, self.W) + self.b\n",
    "        if self.activation is not None:\n",
    "            y = self.activation(y)\n",
    "        return y"
   ]
  },
  {
   "cell_type": "code",
   "execution_count": 26,
   "metadata": {
    "colab": {
     "base_uri": "https://localhost:8080/"
    },
    "executionInfo": {
     "elapsed": 44,
     "status": "ok",
     "timestamp": 1626003078812,
     "user": {
      "displayName": "George Baptista",
      "photoUrl": "https://lh3.googleusercontent.com/a-/AOh14GgSPpSfsW2MVJCfiHcd-wtEgNTenixcvSYXZ9Lo=s64",
      "userId": "16776465488006883803"
     },
     "user_tz": -540
    },
    "id": "QkFWs5otjyLi",
    "outputId": "85547910-2064-4194-8aa1-c7d80c1ffc2d"
   },
   "outputs": [
    {
     "name": "stdout",
     "output_type": "stream",
     "text": [
      "(2, 32)\n"
     ]
    }
   ],
   "source": [
    "my_dense = SimpleDense(units=32, activation=tf.nn.relu)\n",
    "input_tensor = tf.ones(shape=(2, 784))\n",
    "output_tensor = my_dense(input_tensor)\n",
    "print(output_tensor.shape)"
   ]
  },
  {
   "cell_type": "markdown",
   "metadata": {
    "id": "75jedc8bjyLi"
   },
   "source": [
    "#### Automatic shape inference: building layers on the fly"
   ]
  },
  {
   "cell_type": "code",
   "execution_count": 27,
   "metadata": {
    "executionInfo": {
     "elapsed": 31,
     "status": "ok",
     "timestamp": 1626003078813,
     "user": {
      "displayName": "George Baptista",
      "photoUrl": "https://lh3.googleusercontent.com/a-/AOh14GgSPpSfsW2MVJCfiHcd-wtEgNTenixcvSYXZ9Lo=s64",
      "userId": "16776465488006883803"
     },
     "user_tz": -540
    },
    "id": "Pco0uqpajyLi"
   },
   "outputs": [],
   "source": [
    "from tensorflow.keras import layers\n",
    "layer = layers.Dense(32, activation=\"relu\")"
   ]
  },
  {
   "cell_type": "code",
   "execution_count": 28,
   "metadata": {
    "executionInfo": {
     "elapsed": 31,
     "status": "ok",
     "timestamp": 1626003078814,
     "user": {
      "displayName": "George Baptista",
      "photoUrl": "https://lh3.googleusercontent.com/a-/AOh14GgSPpSfsW2MVJCfiHcd-wtEgNTenixcvSYXZ9Lo=s64",
      "userId": "16776465488006883803"
     },
     "user_tz": -540
    },
    "id": "fUMHJ-Z4jyLi"
   },
   "outputs": [],
   "source": [
    "from tensorflow.keras import models\n",
    "from tensorflow.keras import layers\n",
    "model = models.Sequential([\n",
    "    layers.Dense(32, activation=\"relu\"),\n",
    "    layers.Dense(32)\n",
    "])"
   ]
  },
  {
   "cell_type": "code",
   "execution_count": 29,
   "metadata": {
    "executionInfo": {
     "elapsed": 31,
     "status": "ok",
     "timestamp": 1626003078815,
     "user": {
      "displayName": "George Baptista",
      "photoUrl": "https://lh3.googleusercontent.com/a-/AOh14GgSPpSfsW2MVJCfiHcd-wtEgNTenixcvSYXZ9Lo=s64",
      "userId": "16776465488006883803"
     },
     "user_tz": -540
    },
    "id": "UR7GDP4-jyLi"
   },
   "outputs": [],
   "source": [
    "model = keras.Sequential([\n",
    "    SimpleDense(32, activation=\"relu\"),\n",
    "    SimpleDense(64, activation=\"relu\"),\n",
    "    SimpleDense(32, activation=\"relu\"),\n",
    "    SimpleDense(10, activation=\"softmax\")\n",
    "])"
   ]
  },
  {
   "cell_type": "markdown",
   "metadata": {
    "id": "9jSoo6VFjyLj"
   },
   "source": [
    "### From layers to models"
   ]
  },
  {
   "cell_type": "markdown",
   "metadata": {
    "id": "rFfR1e5ijyLj"
   },
   "source": [
    "### The \"compile\" step: configuring the learning process"
   ]
  },
  {
   "cell_type": "code",
   "execution_count": 30,
   "metadata": {
    "executionInfo": {
     "elapsed": 31,
     "status": "ok",
     "timestamp": 1626003078816,
     "user": {
      "displayName": "George Baptista",
      "photoUrl": "https://lh3.googleusercontent.com/a-/AOh14GgSPpSfsW2MVJCfiHcd-wtEgNTenixcvSYXZ9Lo=s64",
      "userId": "16776465488006883803"
     },
     "user_tz": -540
    },
    "id": "XjHYXHs1jyLj"
   },
   "outputs": [],
   "source": [
    "model = keras.Sequential([keras.layers.Dense(1)])\n",
    "model.compile(optimizer=\"rmsprop\",\n",
    "              loss=\"mean_squared_error\",\n",
    "              metrics=[\"accuracy\"])"
   ]
  },
  {
   "cell_type": "code",
   "execution_count": 31,
   "metadata": {
    "executionInfo": {
     "elapsed": 31,
     "status": "ok",
     "timestamp": 1626003078817,
     "user": {
      "displayName": "George Baptista",
      "photoUrl": "https://lh3.googleusercontent.com/a-/AOh14GgSPpSfsW2MVJCfiHcd-wtEgNTenixcvSYXZ9Lo=s64",
      "userId": "16776465488006883803"
     },
     "user_tz": -540
    },
    "id": "pSKK71s7jyLj"
   },
   "outputs": [],
   "source": [
    "model.compile(optimizer=keras.optimizers.RMSprop(),\n",
    "              loss=keras.losses.MeanSquaredError(),\n",
    "              metrics=[keras.metrics.BinaryAccuracy()])"
   ]
  },
  {
   "cell_type": "markdown",
   "metadata": {
    "id": "IxdQh3NqjyLj"
   },
   "source": [
    "### Picking a loss function"
   ]
  },
  {
   "cell_type": "markdown",
   "metadata": {
    "id": "CguYPnSgjyLj"
   },
   "source": [
    "### Understanding the `fit` method"
   ]
  },
  {
   "cell_type": "markdown",
   "metadata": {
    "id": "cSGMoisCjyLk"
   },
   "source": [
    "**Calling `fit` with NumPy data**"
   ]
  },
  {
   "cell_type": "code",
   "execution_count": 32,
   "metadata": {
    "colab": {
     "base_uri": "https://localhost:8080/"
    },
    "executionInfo": {
     "elapsed": 491,
     "status": "ok",
     "timestamp": 1626003079278,
     "user": {
      "displayName": "George Baptista",
      "photoUrl": "https://lh3.googleusercontent.com/a-/AOh14GgSPpSfsW2MVJCfiHcd-wtEgNTenixcvSYXZ9Lo=s64",
      "userId": "16776465488006883803"
     },
     "user_tz": -540
    },
    "id": "kGMjirY4jyLk",
    "outputId": "19fbe7c5-a552-4d51-a27d-9b57271c314b"
   },
   "outputs": [
    {
     "name": "stdout",
     "output_type": "stream",
     "text": [
      "Epoch 1/5\n",
      "16/16 [==============================] - 0s 1ms/step - loss: 4.4663 - binary_accuracy: 0.4215\n",
      "Epoch 2/5\n",
      "16/16 [==============================] - 0s 1ms/step - loss: 4.2124 - binary_accuracy: 0.4080\n",
      "Epoch 3/5\n",
      "16/16 [==============================] - 0s 2ms/step - loss: 4.0058 - binary_accuracy: 0.3950\n",
      "Epoch 4/5\n",
      "16/16 [==============================] - 0s 2ms/step - loss: 3.8110 - binary_accuracy: 0.3860\n",
      "Epoch 5/5\n",
      "16/16 [==============================] - 0s 2ms/step - loss: 3.6253 - binary_accuracy: 0.3755\n"
     ]
    }
   ],
   "source": [
    "history = model.fit(\n",
    "    inputs,\n",
    "    targets,\n",
    "    epochs=5,\n",
    "    batch_size=128\n",
    ")"
   ]
  },
  {
   "cell_type": "code",
   "execution_count": 33,
   "metadata": {
    "colab": {
     "base_uri": "https://localhost:8080/"
    },
    "executionInfo": {
     "elapsed": 37,
     "status": "ok",
     "timestamp": 1626003079280,
     "user": {
      "displayName": "George Baptista",
      "photoUrl": "https://lh3.googleusercontent.com/a-/AOh14GgSPpSfsW2MVJCfiHcd-wtEgNTenixcvSYXZ9Lo=s64",
      "userId": "16776465488006883803"
     },
     "user_tz": -540
    },
    "id": "2r12Xf_2jyLk",
    "outputId": "dab41582-050c-4fde-a0f5-a3b194bc9c89"
   },
   "outputs": [
    {
     "data": {
      "text/plain": [
       "{'loss': [4.466335773468018,\n",
       "  4.212425231933594,\n",
       "  4.005751132965088,\n",
       "  3.8109560012817383,\n",
       "  3.625302314758301],\n",
       " 'binary_accuracy': [0.42149999737739563,\n",
       "  0.40799999237060547,\n",
       "  0.39500001072883606,\n",
       "  0.38600000739097595,\n",
       "  0.37549999356269836]}"
      ]
     },
     "execution_count": 33,
     "metadata": {},
     "output_type": "execute_result"
    }
   ],
   "source": [
    "history.history"
   ]
  },
  {
   "cell_type": "markdown",
   "metadata": {
    "id": "xHGS3hvvjyLk"
   },
   "source": [
    "### Monitoring loss & metrics on validation data"
   ]
  },
  {
   "cell_type": "markdown",
   "metadata": {
    "id": "DthvmonajyLk"
   },
   "source": [
    "**Using the validation data argument**"
   ]
  },
  {
   "cell_type": "code",
   "execution_count": 34,
   "metadata": {
    "colab": {
     "base_uri": "https://localhost:8080/"
    },
    "executionInfo": {
     "elapsed": 2665,
     "status": "ok",
     "timestamp": 1626003081923,
     "user": {
      "displayName": "George Baptista",
      "photoUrl": "https://lh3.googleusercontent.com/a-/AOh14GgSPpSfsW2MVJCfiHcd-wtEgNTenixcvSYXZ9Lo=s64",
      "userId": "16776465488006883803"
     },
     "user_tz": -540
    },
    "id": "jCFnesVTjyLk",
    "outputId": "80fe8a11-5091-44ea-e946-f13df69ad496"
   },
   "outputs": [
    {
     "name": "stdout",
     "output_type": "stream",
     "text": [
      "Epoch 1/5\n",
      "88/88 [==============================] - 1s 3ms/step - loss: 0.0962 - binary_accuracy: 0.9500 - val_loss: 0.0971 - val_binary_accuracy: 0.9617\n",
      "Epoch 2/5\n",
      "88/88 [==============================] - 0s 1ms/step - loss: 0.0743 - binary_accuracy: 0.9593 - val_loss: 0.0483 - val_binary_accuracy: 0.9983\n",
      "Epoch 3/5\n",
      "88/88 [==============================] - 0s 1ms/step - loss: 0.0779 - binary_accuracy: 0.9479 - val_loss: 0.0335 - val_binary_accuracy: 0.9983\n",
      "Epoch 4/5\n",
      "88/88 [==============================] - 0s 1ms/step - loss: 0.0793 - binary_accuracy: 0.9471 - val_loss: 0.0279 - val_binary_accuracy: 1.0000\n",
      "Epoch 5/5\n",
      "88/88 [==============================] - 0s 1ms/step - loss: 0.0718 - binary_accuracy: 0.9629 - val_loss: 0.2460 - val_binary_accuracy: 0.7683\n"
     ]
    },
    {
     "data": {
      "text/plain": [
       "<tensorflow.python.keras.callbacks.History at 0x13fcf04f0>"
      ]
     },
     "execution_count": 34,
     "metadata": {},
     "output_type": "execute_result"
    }
   ],
   "source": [
    "model = keras.Sequential([keras.layers.Dense(1)])\n",
    "model.compile(optimizer=keras.optimizers.RMSprop(learning_rate=0.1),\n",
    "              loss=keras.losses.MeanSquaredError(),\n",
    "              metrics=[keras.metrics.BinaryAccuracy()])\n",
    "\n",
    "indices_permutation = np.random.permutation(len(inputs))\n",
    "shuffled_inputs = inputs[indices_permutation]\n",
    "shuffled_targets = targets[indices_permutation]\n",
    "\n",
    "num_validation_samples = int(0.3 * len(inputs))\n",
    "val_inputs = shuffled_inputs[:num_validation_samples]\n",
    "val_targets = shuffled_targets[:num_validation_samples]\n",
    "training_inputs = shuffled_inputs[num_validation_samples:]\n",
    "training_targets = shuffled_targets[num_validation_samples:]\n",
    "model.fit(\n",
    "    training_inputs,\n",
    "    training_targets,\n",
    "    epochs=5,\n",
    "    batch_size=16,\n",
    "    validation_data=(val_inputs, val_targets)\n",
    ")"
   ]
  },
  {
   "cell_type": "markdown",
   "metadata": {
    "id": "e9Pylra8jyLk"
   },
   "source": [
    "### Inference: using a model after training"
   ]
  },
  {
   "cell_type": "code",
   "execution_count": 35,
   "metadata": {
    "colab": {
     "base_uri": "https://localhost:8080/"
    },
    "executionInfo": {
     "elapsed": 16,
     "status": "ok",
     "timestamp": 1626003081924,
     "user": {
      "displayName": "George Baptista",
      "photoUrl": "https://lh3.googleusercontent.com/a-/AOh14GgSPpSfsW2MVJCfiHcd-wtEgNTenixcvSYXZ9Lo=s64",
      "userId": "16776465488006883803"
     },
     "user_tz": -540
    },
    "id": "y9_rbHCNjyLl",
    "outputId": "467e01dd-f142-4337-cec5-845e2795d679"
   },
   "outputs": [
    {
     "name": "stdout",
     "output_type": "stream",
     "text": [
      "[[ 0.66332746]\n",
      " [ 0.6425562 ]\n",
      " [ 0.19289197]\n",
      " [ 0.59324795]\n",
      " [ 0.06792197]\n",
      " [-0.91815865]\n",
      " [ 0.32219225]\n",
      " [-0.33794555]\n",
      " [-0.3816404 ]\n",
      " [-0.5753813 ]]\n"
     ]
    }
   ],
   "source": [
    "predictions = model.predict(val_inputs, batch_size=128)\n",
    "print(predictions[:10])"
   ]
  }
 ],
 "metadata": {
  "accelerator": "GPU",
  "colab": {
   "collapsed_sections": [],
   "name": "Copy of chapter03_introduction-to-keras-and-tf.ipynb",
   "provenance": [
    {
     "file_id": "1vnaGxyn8gcfbok4z6xqQSXPefG8gm5lq",
     "timestamp": 1625738516077
    }
   ],
   "toc_visible": true
  },
  "kernelspec": {
   "display_name": "Python 3",
   "language": "python",
   "name": "python3"
  },
  "language_info": {
   "codemirror_mode": {
    "name": "ipython",
    "version": 3
   },
   "file_extension": ".py",
   "mimetype": "text/x-python",
   "name": "python",
   "nbconvert_exporter": "python",
   "pygments_lexer": "ipython3",
   "version": "3.8.6"
  }
 },
 "nbformat": 4,
 "nbformat_minor": 4
}
