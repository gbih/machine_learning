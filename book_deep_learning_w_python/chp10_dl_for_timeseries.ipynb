{
 "cells": [
  {
   "cell_type": "markdown",
   "metadata": {
    "id": "UnvaRWYCOnQi"
   },
   "source": [
    "# Chp 10: Timeseries\n",
    "\n",
    "* use MAE here: Computes the mean absolute error between labels and predictions.\n",
    "\n"
   ]
  },
  {
   "cell_type": "code",
   "execution_count": 2,
   "metadata": {
    "colab": {
     "base_uri": "https://localhost:8080/"
    },
    "id": "GRwL3eN7Um-e",
    "outputId": "3bc598d4-41c4-492a-8064-186e675518e7"
   },
   "outputs": [
    {
     "name": "stdout",
     "output_type": "stream",
     "text": [
      "Tensorflow version 2.8.0\n",
      "Running on TPU  ['10.93.118.10:8470']\n",
      "INFO:tensorflow:Deallocate tpu buffers before initializing tpu system.\n"
     ]
    },
    {
     "name": "stderr",
     "output_type": "stream",
     "text": [
      "INFO:tensorflow:Deallocate tpu buffers before initializing tpu system.\n"
     ]
    },
    {
     "name": "stdout",
     "output_type": "stream",
     "text": [
      "INFO:tensorflow:Initializing the TPU system: grpc://10.93.118.10:8470\n"
     ]
    },
    {
     "name": "stderr",
     "output_type": "stream",
     "text": [
      "INFO:tensorflow:Initializing the TPU system: grpc://10.93.118.10:8470\n"
     ]
    },
    {
     "name": "stdout",
     "output_type": "stream",
     "text": [
      "INFO:tensorflow:Finished initializing TPU system.\n"
     ]
    },
    {
     "name": "stderr",
     "output_type": "stream",
     "text": [
      "INFO:tensorflow:Finished initializing TPU system.\n",
      "WARNING:absl:`tf.distribute.experimental.TPUStrategy` is deprecated, please use  the non experimental symbol `tf.distribute.TPUStrategy` instead.\n"
     ]
    },
    {
     "name": "stdout",
     "output_type": "stream",
     "text": [
      "INFO:tensorflow:Found TPU system:\n"
     ]
    },
    {
     "name": "stderr",
     "output_type": "stream",
     "text": [
      "INFO:tensorflow:Found TPU system:\n"
     ]
    },
    {
     "name": "stdout",
     "output_type": "stream",
     "text": [
      "INFO:tensorflow:*** Num TPU Cores: 8\n"
     ]
    },
    {
     "name": "stderr",
     "output_type": "stream",
     "text": [
      "INFO:tensorflow:*** Num TPU Cores: 8\n"
     ]
    },
    {
     "name": "stdout",
     "output_type": "stream",
     "text": [
      "INFO:tensorflow:*** Num TPU Workers: 1\n"
     ]
    },
    {
     "name": "stderr",
     "output_type": "stream",
     "text": [
      "INFO:tensorflow:*** Num TPU Workers: 1\n"
     ]
    },
    {
     "name": "stdout",
     "output_type": "stream",
     "text": [
      "INFO:tensorflow:*** Num TPU Cores Per Worker: 8\n"
     ]
    },
    {
     "name": "stderr",
     "output_type": "stream",
     "text": [
      "INFO:tensorflow:*** Num TPU Cores Per Worker: 8\n"
     ]
    },
    {
     "name": "stdout",
     "output_type": "stream",
     "text": [
      "INFO:tensorflow:*** Available Device: _DeviceAttributes(/job:localhost/replica:0/task:0/device:CPU:0, CPU, 0, 0)\n"
     ]
    },
    {
     "name": "stderr",
     "output_type": "stream",
     "text": [
      "INFO:tensorflow:*** Available Device: _DeviceAttributes(/job:localhost/replica:0/task:0/device:CPU:0, CPU, 0, 0)\n"
     ]
    },
    {
     "name": "stdout",
     "output_type": "stream",
     "text": [
      "INFO:tensorflow:*** Available Device: _DeviceAttributes(/job:worker/replica:0/task:0/device:CPU:0, CPU, 0, 0)\n"
     ]
    },
    {
     "name": "stderr",
     "output_type": "stream",
     "text": [
      "INFO:tensorflow:*** Available Device: _DeviceAttributes(/job:worker/replica:0/task:0/device:CPU:0, CPU, 0, 0)\n"
     ]
    },
    {
     "name": "stdout",
     "output_type": "stream",
     "text": [
      "INFO:tensorflow:*** Available Device: _DeviceAttributes(/job:worker/replica:0/task:0/device:TPU:0, TPU, 0, 0)\n"
     ]
    },
    {
     "name": "stderr",
     "output_type": "stream",
     "text": [
      "INFO:tensorflow:*** Available Device: _DeviceAttributes(/job:worker/replica:0/task:0/device:TPU:0, TPU, 0, 0)\n"
     ]
    },
    {
     "name": "stdout",
     "output_type": "stream",
     "text": [
      "INFO:tensorflow:*** Available Device: _DeviceAttributes(/job:worker/replica:0/task:0/device:TPU:1, TPU, 0, 0)\n"
     ]
    },
    {
     "name": "stderr",
     "output_type": "stream",
     "text": [
      "INFO:tensorflow:*** Available Device: _DeviceAttributes(/job:worker/replica:0/task:0/device:TPU:1, TPU, 0, 0)\n"
     ]
    },
    {
     "name": "stdout",
     "output_type": "stream",
     "text": [
      "INFO:tensorflow:*** Available Device: _DeviceAttributes(/job:worker/replica:0/task:0/device:TPU:2, TPU, 0, 0)\n"
     ]
    },
    {
     "name": "stderr",
     "output_type": "stream",
     "text": [
      "INFO:tensorflow:*** Available Device: _DeviceAttributes(/job:worker/replica:0/task:0/device:TPU:2, TPU, 0, 0)\n"
     ]
    },
    {
     "name": "stdout",
     "output_type": "stream",
     "text": [
      "INFO:tensorflow:*** Available Device: _DeviceAttributes(/job:worker/replica:0/task:0/device:TPU:3, TPU, 0, 0)\n"
     ]
    },
    {
     "name": "stderr",
     "output_type": "stream",
     "text": [
      "INFO:tensorflow:*** Available Device: _DeviceAttributes(/job:worker/replica:0/task:0/device:TPU:3, TPU, 0, 0)\n"
     ]
    },
    {
     "name": "stdout",
     "output_type": "stream",
     "text": [
      "INFO:tensorflow:*** Available Device: _DeviceAttributes(/job:worker/replica:0/task:0/device:TPU:4, TPU, 0, 0)\n"
     ]
    },
    {
     "name": "stderr",
     "output_type": "stream",
     "text": [
      "INFO:tensorflow:*** Available Device: _DeviceAttributes(/job:worker/replica:0/task:0/device:TPU:4, TPU, 0, 0)\n"
     ]
    },
    {
     "name": "stdout",
     "output_type": "stream",
     "text": [
      "INFO:tensorflow:*** Available Device: _DeviceAttributes(/job:worker/replica:0/task:0/device:TPU:5, TPU, 0, 0)\n"
     ]
    },
    {
     "name": "stderr",
     "output_type": "stream",
     "text": [
      "INFO:tensorflow:*** Available Device: _DeviceAttributes(/job:worker/replica:0/task:0/device:TPU:5, TPU, 0, 0)\n"
     ]
    },
    {
     "name": "stdout",
     "output_type": "stream",
     "text": [
      "INFO:tensorflow:*** Available Device: _DeviceAttributes(/job:worker/replica:0/task:0/device:TPU:6, TPU, 0, 0)\n"
     ]
    },
    {
     "name": "stderr",
     "output_type": "stream",
     "text": [
      "INFO:tensorflow:*** Available Device: _DeviceAttributes(/job:worker/replica:0/task:0/device:TPU:6, TPU, 0, 0)\n"
     ]
    },
    {
     "name": "stdout",
     "output_type": "stream",
     "text": [
      "INFO:tensorflow:*** Available Device: _DeviceAttributes(/job:worker/replica:0/task:0/device:TPU:7, TPU, 0, 0)\n"
     ]
    },
    {
     "name": "stderr",
     "output_type": "stream",
     "text": [
      "INFO:tensorflow:*** Available Device: _DeviceAttributes(/job:worker/replica:0/task:0/device:TPU:7, TPU, 0, 0)\n"
     ]
    },
    {
     "name": "stdout",
     "output_type": "stream",
     "text": [
      "INFO:tensorflow:*** Available Device: _DeviceAttributes(/job:worker/replica:0/task:0/device:TPU_SYSTEM:0, TPU_SYSTEM, 0, 0)\n"
     ]
    },
    {
     "name": "stderr",
     "output_type": "stream",
     "text": [
      "INFO:tensorflow:*** Available Device: _DeviceAttributes(/job:worker/replica:0/task:0/device:TPU_SYSTEM:0, TPU_SYSTEM, 0, 0)\n"
     ]
    },
    {
     "name": "stdout",
     "output_type": "stream",
     "text": [
      "INFO:tensorflow:*** Available Device: _DeviceAttributes(/job:worker/replica:0/task:0/device:XLA_CPU:0, XLA_CPU, 0, 0)\n"
     ]
    },
    {
     "name": "stderr",
     "output_type": "stream",
     "text": [
      "INFO:tensorflow:*** Available Device: _DeviceAttributes(/job:worker/replica:0/task:0/device:XLA_CPU:0, XLA_CPU, 0, 0)\n"
     ]
    }
   ],
   "source": [
    "import tensorflow as tf\n",
    "print(\"Tensorflow version \" + tf.__version__)\n",
    "\n",
    "try:\n",
    "    tpu = tf.distribute.cluster_resolver.TPUClusterResolver()  # TPU detection\n",
    "    print('Running on TPU ', tpu.cluster_spec().as_dict()['worker'])\n",
    "    tf.config.experimental_connect_to_cluster(tpu)\n",
    "    tf.tpu.experimental.initialize_tpu_system(tpu)\n",
    "    tpu_strategy = tf.distribute.experimental.TPUStrategy(tpu)\n",
    "except:\n",
    "    print('Not connected to a TPU runtime')"
   ]
  },
  {
   "cell_type": "code",
   "execution_count": 3,
   "metadata": {
    "id": "IRLPCUK9trcB"
   },
   "outputs": [],
   "source": [
    "def HR():\n",
    "    print(\"-\"*80)"
   ]
  },
  {
   "cell_type": "code",
   "execution_count": 4,
   "metadata": {
    "colab": {
     "base_uri": "https://localhost:8080/"
    },
    "id": "PkcZaCqraK9z",
    "outputId": "31cbd884-f684-4eac-e0bf-3b1b0394a5ad"
   },
   "outputs": [
    {
     "name": "stdout",
     "output_type": "stream",
     "text": [
      "False\n",
      "./chp10/data does not exist, creating.\n",
      "total 12\n",
      "drwxr-xr-x 3 root root 4096 Apr 16 10:56 .\n",
      "drwxr-xr-x 1 root root 4096 Apr 16 10:56 ..\n",
      "drwxr-xr-x 2 root root 4096 Apr 16 10:56 src\n",
      "--2022-04-16 10:56:40--  https://s3.amazonaws.com/keras-datasets/jena_climate_2009_2016.csv.zip\n",
      "Resolving s3.amazonaws.com (s3.amazonaws.com)... 52.217.197.112\n",
      "Connecting to s3.amazonaws.com (s3.amazonaws.com)|52.217.197.112|:443... connected.\n",
      "HTTP request sent, awaiting response... 200 OK\n",
      "Length: 13565642 (13M) [application/zip]\n",
      "Saving to: ‘./chp10/src/jena_climate_2009_2016.csv.zip’\n",
      "\n",
      "jena_climate_2009_2 100%[===================>]  12.94M  35.2MB/s    in 0.4s    \n",
      "\n",
      "2022-04-16 10:56:41 (35.2 MB/s) - ‘./chp10/src/jena_climate_2009_2016.csv.zip’ saved [13565642/13565642]\n",
      "\n",
      "Archive:  chp10/src/jena_climate_2009_2016.csv.zip\n",
      "  inflating: chp10/data/jena_climate_2009_2016.csv  \n",
      "  inflating: chp10/data/__MACOSX/._jena_climate_2009_2016.csv  \n",
      "total 42152\n",
      "drwxr-xr-x 2 root root     4096 Apr 16 10:56 .\n",
      "drwxr-xr-x 4 root root     4096 Apr 16 10:56 ..\n",
      "-rw-r--r-- 1 root root 43153572 Dec 29  2020 jena_climate_2009_2016.csv\n",
      "Finished downloading data\n"
     ]
    }
   ],
   "source": [
    "def download_data():\n",
    "    import os.path \n",
    "    path = './chp10/data'\n",
    "    \n",
    "# Check whether the specified path is an existing directory or not \n",
    "    isdir = os.path.isdir(path) \n",
    "    print(isdir) \n",
    "\n",
    "    if not isdir:\n",
    "        print(f'{path} does not exist, creating.')\n",
    "        !mkdir -p chp10/src\n",
    "        !ls -la chp10\n",
    "        !wget -P ./chp10/src https://s3.amazonaws.com/keras-datasets/jena_climate_2009_2016.csv.zip\n",
    "        !unzip chp10/src/jena_climate_2009_2016.csv.zip -d chp10/data\n",
    "        !rm -fr chp10/data/__MACOSX\n",
    "        !ls -la chp10/data\n",
    "        print(\"Finished downloading data\")\n",
    "    else:\n",
    "        print(f'{path} already exists')\n",
    "\n",
    "download_data()"
   ]
  },
  {
   "cell_type": "code",
   "execution_count": 8,
   "metadata": {
    "colab": {
     "base_uri": "https://localhost:8080/"
    },
    "id": "r8FJ_nWEOnQm",
    "outputId": "3b973278-75ae-438a-9d9a-188e5d70d517"
   },
   "outputs": [
    {
     "name": "stdout",
     "output_type": "stream",
     "text": [
      "['\"Date Time\"', '\"p (mbar)\"', '\"T (degC)\"', '\"Tpot (K)\"', '\"Tdew (degC)\"', '\"rh (%)\"', '\"VPmax (mbar)\"', '\"VPact (mbar)\"', '\"VPdef (mbar)\"', '\"sh (g/kg)\"', '\"H2OC (mmol/mol)\"', '\"rho (g/m**3)\"', '\"wv (m/s)\"', '\"max. wv (m/s)\"', '\"wd (deg)\"']\n",
      "420451\n"
     ]
    }
   ],
   "source": [
    "# Listing 10.1 Inspecting the data of the Jena weather dataset\n",
    "\n",
    "# Data Exploration\n",
    "\n",
    "# This outputs a count of 420,551 lines of data (each line is \n",
    "# a timestep: a record of a date and 14 weather-related values), \n",
    "# as well as a header:\n",
    "def listing10_1():\n",
    "    import os\n",
    "\n",
    "    fname = os.path.join(\"./chp10/data/jena_climate_2009_2016.csv\")\n",
    "\n",
    "    with open(fname) as f:\n",
    "        data = f.read()\n",
    "\n",
    "    lines = data.split(\"\\n\")\n",
    "    header = lines[0].split(\",\")\n",
    "    lines = lines[1:]\n",
    "    print(header)\n",
    "    print(len(lines))\n",
    "\n",
    "listing10_1()"
   ]
  },
  {
   "cell_type": "code",
   "execution_count": 9,
   "metadata": {
    "colab": {
     "base_uri": "https://localhost:8080/"
    },
    "id": "q5M7QiPm3nEB",
    "outputId": "15cb3769-0fd6-42de-9d18-41638a9e2864"
   },
   "outputs": [
    {
     "name": "stdout",
     "output_type": "stream",
     "text": [
      "Index(['Date Time', 'p (mbar)', 'T (degC)', 'Tpot (K)', 'Tdew (degC)',\n",
      "       'rh (%)', 'VPmax (mbar)', 'VPact (mbar)', 'VPdef (mbar)', 'sh (g/kg)',\n",
      "       'H2OC (mmol/mol)', 'rho (g/m**3)', 'wv (m/s)', 'max. wv (m/s)',\n",
      "       'wd (deg)'],\n",
      "      dtype='object')\n",
      "\n",
      "False\n",
      "\n",
      "<class 'pandas.core.frame.DataFrame'>\n",
      "RangeIndex: 420451 entries, 0 to 420450\n",
      "Data columns (total 15 columns):\n",
      " #   Column           Non-Null Count   Dtype  \n",
      "---  ------           --------------   -----  \n",
      " 0   Date Time        420451 non-null  object \n",
      " 1   p (mbar)         420451 non-null  float64\n",
      " 2   T (degC)         420451 non-null  float64\n",
      " 3   Tpot (K)         420451 non-null  float64\n",
      " 4   Tdew (degC)      420451 non-null  float64\n",
      " 5   rh (%)           420451 non-null  float64\n",
      " 6   VPmax (mbar)     420451 non-null  float64\n",
      " 7   VPact (mbar)     420451 non-null  float64\n",
      " 8   VPdef (mbar)     420451 non-null  float64\n",
      " 9   sh (g/kg)        420451 non-null  float64\n",
      " 10  H2OC (mmol/mol)  420451 non-null  float64\n",
      " 11  rho (g/m**3)     420451 non-null  float64\n",
      " 12  wv (m/s)         420451 non-null  float64\n",
      " 13  max. wv (m/s)    420451 non-null  float64\n",
      " 14  wd (deg)         420451 non-null  float64\n",
      "dtypes: float64(14), object(1)\n",
      "memory usage: 48.1+ MB\n",
      "None\n",
      "\n",
      "                                   0                    1                    2\n",
      "Date Time        01.01.2009 00:10:00  01.01.2009 00:20:00  01.01.2009 00:30:00\n",
      "p (mbar)                      996.52               996.57               996.53\n",
      "T (degC)                       -8.02                -8.41                -8.51\n",
      "Tpot (K)                       265.4               265.01               264.91\n",
      "Tdew (degC)                     -8.9                -9.28                -9.31\n",
      "rh (%)                          93.3                 93.4                 93.9\n",
      "VPmax (mbar)                    3.33                 3.23                 3.21\n",
      "VPact (mbar)                    3.11                 3.02                 3.01\n",
      "VPdef (mbar)                    0.22                 0.21                  0.2\n",
      "sh (g/kg)                       1.94                 1.89                 1.88\n",
      "H2OC (mmol/mol)                 3.12                 3.03                 3.02\n",
      "rho (g/m**3)                 1307.75               1309.8              1310.24\n",
      "wv (m/s)                        1.03                 0.72                 0.19\n",
      "max. wv (m/s)                   1.75                  1.5                 0.63\n",
      "wd (deg)                       152.3                136.1                171.6\n"
     ]
    }
   ],
   "source": [
    "#%%time\n",
    "\n",
    "# Data Exploration\n",
    "\n",
    "def listing10_1_pandas():\n",
    "    import pandas as pd\n",
    "    import matplotlib.pyplot as plt\n",
    "    import seaborn as sns\n",
    "    from pandas.plotting import scatter_matrix\n",
    "\n",
    "\n",
    "    df = pd.read_csv(\"./chp10/data/jena_climate_2009_2016.csv\")\n",
    "    print(df.columns)\n",
    "    print()\n",
    "    print(df.isnull().values.any())\n",
    "    print()\n",
    "    print(df.info())\n",
    "    print()\n",
    "    print(df.head(3).T)\n",
    "\n",
    "    #####\n",
    "\n",
    "    #df.hist()\n",
    "\n",
    "    #df.plot(kind='density', subplots=True,  sharex=False)\n",
    "\n",
    "   # sns.pairplot(df, palette='YlGnBu', aspect=1.5)\n",
    "\n",
    "    # cormat = df.corr()\n",
    "    # round(cormat,2)\n",
    "    # sns.heatmap(cormat)\n",
    "\n",
    "    #plt.show()\n",
    "\n",
    "    # scatter_matrix is too slow for big datasets!\n",
    "    # scatter_matrix(df, alpha=0.2)\n",
    "\n",
    "listing10_1_pandas()"
   ]
  },
  {
   "cell_type": "code",
   "execution_count": 5,
   "metadata": {
    "id": "dEgzK7c4skjB"
   },
   "outputs": [],
   "source": [
    "def plot(history, baseline_test_mae, baseline_vae_mae, title):\n",
    "    import matplotlib.pyplot as plt\n",
    "\n",
    "    loss = history.history[\"mae\"]\n",
    "    val_loss = history.history[\"val_mae\"]\n",
    "\n",
    "    epochs = range(1, len(loss) + 1)\n",
    "\n",
    "    plt.figure(figsize=(8,6))\n",
    "    plt.plot(epochs, loss, \"bo\", label=\"Training MAE\")\n",
    "    plt.plot(epochs, val_loss, \"b\", label=\"Validation MAE\")\n",
    "    plt.title(f\"{title}. Training and validation MAE\")\n",
    "\n",
    "    plt.axhline(y=baseline_test_mae, label=\"Baseline Test Mae\", c=\"orange\", linewidth=0.8)\n",
    "    plt.axhline(y=baseline_vae_mae, label=\"Baseline Val Mae\", c=\"green\", linewidth=0.8)\n",
    "\n",
    "    plt.legend()\n",
    "    plt.show()\n"
   ]
  },
  {
   "cell_type": "markdown",
   "metadata": {
    "id": "sOU2I2lmmHaC"
   },
   "source": [
    "---\n",
    "### Dict vs Namedtuple\n",
    "\n",
    "We could use either Dict or Namedtuple.\n",
    "\n",
    "If you know the data will not change, we could guarantee that with Namedtuple.\n",
    "\n",
    "https://stackoverflow.com/questions/9872255/when-and-why-should-i-use-a-namedtuple-instead-of-a-dictionary"
   ]
  },
  {
   "cell_type": "code",
   "execution_count": 10,
   "metadata": {
    "colab": {
     "base_uri": "https://localhost:8080/"
    },
    "id": "CTh0Wdtja88C",
    "outputId": "44e2ea93-0696-457d-f11d-a62682ffc29d"
   },
   "outputs": [
    {
     "name": "stdout",
     "output_type": "stream",
     "text": [
      "dict is empty, initializing now.\n",
      "raw_data type: <class 'numpy.ndarray'>\n",
      "\n",
      "train_dataset: <BatchDataset element_spec=(TensorSpec(shape=(None, None, 14), dtype=tf.float64, name=None), TensorSpec(shape=(None,), dtype=tf.float64, name=None))>\n",
      "val_dataset: <BatchDataset element_spec=(TensorSpec(shape=(None, None, 14), dtype=tf.float64, name=None), TensorSpec(shape=(None,), dtype=tf.float64, name=None))>\n",
      "test_dataset: <BatchDataset element_spec=(TensorSpec(shape=(None, None, 14), dtype=tf.float64, name=None), TensorSpec(shape=(None,), dtype=tf.float64, name=None))>\n",
      "\n",
      "samples shape: (256, 120, 14)\n",
      "targets shape: (256,)\n",
      "\n",
      "dict data exists\n",
      "dict data exists\n",
      "dict_keys(['train_dataset', 'val_dataset', 'test_dataset', 'std', 'mean', 'raw_data', 'sequence_length', 'sampling_rate'])\n"
     ]
    }
   ],
   "source": [
    "# Listing 10.2 Parsing the data\n",
    "\n",
    "# Now, convert all 420,551 lines of data into NumPy arrays: \n",
    "# one array for the temperature (in degrees Celsius), and another \n",
    "# one for the rest of the data—the features we will use to predict \n",
    "# future temperatures. Note that we discard the \"Date Time\" column.\n",
    "\n",
    "\n",
    "# https://www.tensorflow.org/api_docs/python/tf/data/Dataset?version=nightly\n",
    "# Note: If your program requires data to have a statically known shape (e.g., \n",
    "# when using XLA), you should use drop_remainder=True. \n",
    "# Without drop_remainder=True the shape of the output dataset will have an \n",
    "# unknown leading dimension due to the possibility of a smaller final batch.\n",
    "\n",
    "\n",
    "def listing10_2():\n",
    "    import numpy as np\n",
    "    import matplotlib.pyplot as plt\n",
    "    import os\n",
    "    from tensorflow import keras\n",
    "\n",
    "    DEBUG = False\n",
    "\n",
    "    fname = os.path.join(\"./chp10/data/jena_climate_2009_2016.csv\")\n",
    "\n",
    "    with open(fname) as f:\n",
    "        data = f.read()\n",
    "\n",
    "    lines = data.split(\"\\n\")\n",
    "    header = lines[0].split(\",\")\n",
    "    lines = lines[1:]\n",
    "\n",
    "    temperature = np.zeros((len(lines),))\n",
    "    raw_data = np.zeros((len(lines), len(header) - 1))\n",
    "\n",
    "    for i, line in enumerate(lines):\n",
    "        values = [float(x) for x in line.split(\",\")[1:]]\n",
    "\n",
    "        # store column #1 in the \"temperature\" array\n",
    "        temperature[i] = values[1]\n",
    "\n",
    "        # store all columns (including the temperature) in the \"raw_data\" array\n",
    "        raw_data[i, :] = values[:]\n",
    "\n",
    "    # Listing 10.3 Plotting the temperature timeseries\n",
    "    # See the yearly periodicity of temperature—the data spans 8 years.\n",
    "    if DEBUG:\n",
    "        plt.plot(range(len(temperature)), temperature)\n",
    "        plt.show()\n",
    "\n",
    "\n",
    "    # Listing 10.4 Plotting the first 10 days of the temperature timeseries\n",
    "\n",
    "    # Here is a more narrow plot of the first 10 days of temperature data \n",
    "    # (see figure 10.2). Because the data is recorded every 10 minutes, \n",
    "    # you get 24 * 6 = 144 data points per day.\n",
    "\n",
    "    if DEBUG:\n",
    "        plt.plot(range(1440), temperature[:1440])\n",
    "        plt.show()\n",
    "\n",
    "\n",
    "    # Listing 10.5 Computing the number of samples we’ll use for each data split.\n",
    "    num_train_samples = int(0.5 * len(raw_data))\n",
    "    num_val_samples = int(0.25 * len(raw_data))\n",
    "    num_test_samples = len(raw_data) - num_train_samples - num_val_samples\n",
    "\n",
    "    if DEBUG:\n",
    "        print(\"num_train_samples:\", num_train_samples)\n",
    "        print(\"num_val_samples:\", num_val_samples)\n",
    "        print(\"num_test_samples:\", num_test_samples)\n",
    "        print()\n",
    "\n",
    "\n",
    "    # Preparing the data\n",
    "\n",
    "    # Normalizing the data\n",
    "\n",
    "    # Listing 10.6 Normalizing the data\n",
    "    # The exact formulation of the problem will be as follows: \n",
    "    # given data covering the previous five days and sampled once per \n",
    "    # hour, can we predict the temperature in 24 hours?\n",
    "    # Each timeseries in the data is on a different scale (for example, \n",
    "    # atmospheric pressure, measured in mbar, is around 1,000, while H2OC,\n",
    "    # measured in millimoles per mole, is around 3). We’ll normalize each \n",
    "    # timeseries independently so that they all take small values on a \n",
    "    # similar scale. We’re going to use the first 210,225 timesteps as \n",
    "    # training data, so we’ll compute the mean and standard deviation \n",
    "    # only on this fraction of the data.\n",
    "    mean = raw_data[:num_train_samples].mean(axis=0)\n",
    "    raw_data -= mean\n",
    "    std = raw_data[:num_train_samples].std(axis=0)\n",
    "    raw_data /= std\n",
    "\n",
    "    # Instantiating Datasets for training, validation, and testing.\n",
    "\n",
    "    # Listing 10.7 Instantiating Datasets for training, validation, and testing.\n",
    "\n",
    "    # Create a Dataset object that yields batches of data from the past \n",
    "    # five days along with a target temperature 24 hours in the future. \n",
    "    # Because the samples in the dataset are highly redundant (sample N \n",
    "    # and sample N + 1 will have most of their timesteps in common), \n",
    "    # it would be wasteful to explicitly allocate memory for every sample. \n",
    "    # Instead, we’ll generate the samples on the fly while only keeping in \n",
    "    # memory the original raw_data and temperature arrays, and nothing more.\n",
    "    # Use built-in dataset utility, timeseries_dataset_from_array\n",
    "\n",
    "    # Each Dataset yields a tuple (samples, targets), where samples is a batch \n",
    "    # of 256 samples, each containing 120 consecutive hours of input data, and \n",
    "    # targets is the corresponding array of 256 target temperatures. Note that \n",
    "    # the samples are randomly shuffled, so two consecutive sequences in a batch\n",
    "    # (like samples[0] and samples[1]) aren’t necessarily temporally close.\n",
    "\n",
    "    # Observations will be sampled at one data point per hour: we will only keep one data point out of 6\n",
    "    sampling_rate = 6\n",
    "\n",
    "    # Observations will go back 5 days (120 hours)\n",
    "    sequence_length = 120\n",
    "\n",
    "    # The target for a sequence will be the temperature 24 hours after the end of the sequence\n",
    "    delay = sampling_rate * (sequence_length + 24 - 1)\n",
    "\n",
    "    batch_size = 256\n",
    "\n",
    "    print(f'raw_data type: {type(raw_data)}')\n",
    "    print()\n",
    "\n",
    "    train_dataset = keras.preprocessing.timeseries_dataset_from_array(\n",
    "        raw_data[:-delay],\n",
    "        targets=temperature[delay:],\n",
    "        sampling_rate=sampling_rate,\n",
    "        sequence_length=sequence_length,\n",
    "        shuffle=True,\n",
    "        batch_size=batch_size,\n",
    "        start_index=0,\n",
    "        end_index=num_train_samples,\n",
    "        #drop_remainder=True Cannot do this in timeseries_dataset_from_array()\n",
    "    )\n",
    "\n",
    "    val_dataset = keras.preprocessing.timeseries_dataset_from_array(\n",
    "        raw_data[:-delay],\n",
    "        targets=temperature[delay:],\n",
    "        sampling_rate=sampling_rate,\n",
    "        sequence_length=sequence_length,\n",
    "        shuffle=True,\n",
    "        batch_size=batch_size,\n",
    "        start_index=num_train_samples,\n",
    "        end_index=num_train_samples + num_val_samples\n",
    "    )\n",
    "\n",
    "    test_dataset = keras.preprocessing.timeseries_dataset_from_array(\n",
    "        raw_data[:-delay],\n",
    "        targets=temperature[delay:],\n",
    "        sampling_rate=sampling_rate,\n",
    "        sequence_length=sequence_length,\n",
    "        shuffle=True,\n",
    "        batch_size=batch_size,\n",
    "        start_index=num_train_samples + num_val_samples\n",
    "    )\n",
    "\n",
    "\n",
    "\n",
    "    # check size and shape of dataset\n",
    "    print(f'train_dataset: {train_dataset}')\n",
    "    print(f'val_dataset: {val_dataset}')\n",
    "    print(f'test_dataset: {test_dataset}')\n",
    "    print()\n",
    "\n",
    "    # Inspecting the output of one of our Datasets.\n",
    "    # Listing 10.8 Inspecting the output of one of our Datasets.\n",
    "\n",
    "    #if DEBUG:\n",
    "    for samples, targets in train_dataset:\n",
    "        print(\"samples shape:\", samples.shape)\n",
    "        print(\"targets shape:\", targets.shape)\n",
    "        break\n",
    "    print()\n",
    "\n",
    "\n",
    "    # A common-sense, non-machine-learning baseline\n",
    "    # Computing the common-sense baseline MAE\n",
    "    # Listing 10.9 Computing the common-sense baseline MAE\n",
    "\n",
    "    # The temperature timeseries can safely be assumed to be continuous \n",
    "    # (the temperatures tomorrow are likely to be close to the temperatures today)\n",
    "    # as well as periodical with a daily period. Thus a common-sense approach is \n",
    "    # to always predict that the temperature 24 hours from now will be equal to \n",
    "    # the temperature right now. Evaluate this approach using the mean absolute \n",
    "    # error (MAE) metric.\n",
    "\n",
    "    data = { \n",
    "            'train_dataset': train_dataset, \n",
    "            'val_dataset' : val_dataset, \n",
    "            'test_dataset': test_dataset, \n",
    "            'std': std, \n",
    "            'mean' : mean, \n",
    "            'raw_data': raw_data,\n",
    "            'sequence_length': sequence_length, \n",
    "            'sampling_rate': sampling_rate,\n",
    "    }\n",
    "\n",
    "    return data\n",
    "\n",
    "\n",
    "#######################\n",
    "\n",
    "# Rather than global variables, use a data-object.\n",
    "# First time through, create blank conn.\n",
    "data = {}\n",
    "\n",
    "def create_data(data):\n",
    "    if not data:\n",
    "        print(\"dict is empty, initializing now.\")\n",
    "        data = listing10_2()\n",
    "        return data\n",
    "    else:\n",
    "        print(\"dict data exists\")\n",
    "        return data\n",
    "\n",
    "\n",
    "# Test multiple calls - should show this dict already exists\n",
    "data = create_data(data)\n",
    "data = create_data(data)\n",
    "data = create_data(data)\n",
    "\n",
    "print(data.keys())\n"
   ]
  },
  {
   "cell_type": "code",
   "execution_count": 7,
   "metadata": {
    "colab": {
     "base_uri": "https://localhost:8080/"
    },
    "id": "94pToUhYYVdx",
    "outputId": "1f4a19e3-9805-47bc-f4d3-c02ed0502090"
   },
   "outputs": [
    {
     "name": "stdout",
     "output_type": "stream",
     "text": [
      "dict data exists\n",
      "Validation MAE: 2.44\n",
      "Test MAE: 2.62\n",
      "\n",
      "dict_keys(['baseline_vae_mae', 'baseline_test_mae'])\n",
      "\n",
      "results_naive: dict_items([('baseline_vae_mae', 2.4417357485655167), ('baseline_test_mae', 2.6218984517612065)])\n",
      "results: {}\n"
     ]
    }
   ],
   "source": [
    "# Computing the common-sense, non-machine-learning baseline MAE\n",
    "def listing10_9(data):\n",
    "    import numpy as np\n",
    "\n",
    "    def evaluate_naive_method(dataset):\n",
    "        total_abs_err = 0.\n",
    "        samples_seen = 0\n",
    "\n",
    "        for samples, targets in dataset:\n",
    "            # The temperature feature is at column 1, so samples[:, -1, 1] is the \n",
    "            # last temperature measurement in the input sequence. Recall that we \n",
    "            # normalized our features, so to retrieve a temperature in Celsius \n",
    "            # degrees, we need to un-normalize it, by multiplying it by the \n",
    "            # standard deviation and adding back the mean.\n",
    "            preds = samples[:, -1, 1] * data['std'][1] + data['mean'][1]\n",
    "\n",
    "            total_abs_err += np.sum(np.abs(preds - targets))\n",
    "\n",
    "            samples_seen += samples.shape[0]\n",
    "\n",
    "        return total_abs_err / samples_seen\n",
    "\n",
    "    \n",
    "\n",
    "    # Validation MAE: 2.44\n",
    "    # Test MAE: 2.62\n",
    "    # if you always assume that the temperature 24 hours in the future will be \n",
    "    # the same as it is now, you will be off by two and a half degrees on average.\n",
    "\n",
    "    # get data\n",
    "    data = create_data(data)\n",
    "\n",
    "    # append to results dict\n",
    "    results_naive['baseline_vae_mae'] = evaluate_naive_method(data['val_dataset'])\n",
    "    results_naive['baseline_test_mae'] = evaluate_naive_method(data['test_dataset'])\n",
    "    print(f\"Validation MAE: {results_naive['baseline_vae_mae']:.2f}\")\n",
    "    print(f\"Test MAE: {results_naive['baseline_test_mae']:.2f}\")\n",
    "    print()\n",
    "    print(results_naive.keys())\n",
    " \n",
    "    return results_naive\n",
    "\n",
    "\n",
    "# Create dict to carry results\n",
    "results_naive = dict()\n",
    "results_naive = listing10_9(data)\n",
    "\n",
    "print()\n",
    "print(f'results_naive: {results_naive.items()}')\n",
    "\n",
    "results = dict()\n",
    "print(f'results: {results}')"
   ]
  },
  {
   "cell_type": "markdown",
   "metadata": {
    "id": "wmunMB_GOnQx"
   },
   "source": [
    "**Training and evaluating a densely connected model**"
   ]
  },
  {
   "cell_type": "code",
   "execution_count": 9,
   "metadata": {
    "colab": {
     "base_uri": "https://localhost:8080/",
     "height": 861
    },
    "id": "F_SRImqfOnQx",
    "outputId": "bdebc91a-a4e4-4c53-bfef-973dbe19028e"
   },
   "outputs": [
    {
     "name": "stdout",
     "output_type": "stream",
     "text": [
      "dict data exists\n",
      "Epoch 1/10\n",
      "819/819 [==============================] - 21s 25ms/step - loss: 12.1053 - mae: 2.6926 - val_loss: 10.8963 - val_mae: 2.6141\n",
      "Epoch 2/10\n",
      "819/819 [==============================] - 13s 16ms/step - loss: 8.8094 - mae: 2.3341 - val_loss: 10.3829 - val_mae: 2.5464\n",
      "Epoch 3/10\n",
      "819/819 [==============================] - 13s 16ms/step - loss: 8.1337 - mae: 2.2466 - val_loss: 11.0023 - val_mae: 2.6208\n",
      "Epoch 4/10\n",
      "819/819 [==============================] - 13s 16ms/step - loss: 7.7391 - mae: 2.1892 - val_loss: 10.9988 - val_mae: 2.6267\n",
      "Epoch 5/10\n",
      "819/819 [==============================] - 13s 16ms/step - loss: 7.4187 - mae: 2.1441 - val_loss: 10.6461 - val_mae: 2.5814\n",
      "Epoch 6/10\n",
      "819/819 [==============================] - 13s 16ms/step - loss: 7.1961 - mae: 2.1121 - val_loss: 11.0152 - val_mae: 2.6279\n",
      "Epoch 7/10\n",
      "819/819 [==============================] - 13s 16ms/step - loss: 7.0364 - mae: 2.0883 - val_loss: 10.9799 - val_mae: 2.6187\n",
      "Epoch 8/10\n",
      "819/819 [==============================] - 13s 16ms/step - loss: 6.8758 - mae: 2.0662 - val_loss: 12.0531 - val_mae: 2.7478\n",
      "Epoch 9/10\n",
      "819/819 [==============================] - 13s 16ms/step - loss: 6.7356 - mae: 2.0442 - val_loss: 11.0561 - val_mae: 2.6288\n",
      "Epoch 10/10\n",
      "819/819 [==============================] - 13s 16ms/step - loss: 6.6271 - mae: 2.0272 - val_loss: 11.2891 - val_mae: 2.6381\n",
      "\n",
      "405/405 [==============================] - 5s 11ms/step - loss: 11.6884 - mae: 2.6890\n",
      "Test MAE: 2.69\n",
      "\n",
      "dict_keys(['loss', 'mae', 'val_loss', 'val_mae'])\n"
     ]
    },
    {
     "data": {
      "image/png": "[encoded data removed]",
      "text/plain": [
       "<Figure size 576x432 with 1 Axes>"
      ]
     },
     "metadata": {
      "needs_background": "light"
     },
     "output_type": "display_data"
    }
   ],
   "source": [
    "# Listing 10.10 Training and evaluating a densely connected model. \n",
    "# This is a very basic machine learning model\n",
    "\n",
    "# It's useful to try simple, cheap machine-learning models (such as small, \n",
    "# densely connected networks) before looking into complicated and \n",
    "# computationally expensive models such as RNNs. This is the best way to \n",
    "# make sure any further complexity you throw at the problem is legitimate \n",
    "# and delivers real benefits.\n",
    "\n",
    "# The following listing shows a fully connected model that starts by flattening \n",
    "# the data and then runs it through two Dense layers. Note the lack of \n",
    "# activation function on the last Dense layer, which is typical for a \n",
    "# regression problem. We use Mean Squared Error (MSE) as the loss, rather \n",
    "# than MAE, because unlike MAE, it’s smooth around zero, a useful property \n",
    "# for gradient descent. We will monitor MAE by adding it as a metric in compile().\n",
    "\n",
    "\n",
    "def listing10_10(data):\n",
    "    from tensorflow import keras\n",
    "    from tensorflow.keras import layers\n",
    "    import numpy as np\n",
    "\n",
    "    # get data\n",
    "    data = create_data(data)\n",
    "    sequence_length = data['sequence_length']\n",
    "    raw_data = data['raw_data']\n",
    "\n",
    "    with tpu_strategy.scope(): # creating the model in the TPUStrategy scope means we will train the model on the TPU\n",
    "\n",
    "        inputs = keras.Input(shape=(sequence_length, raw_data.shape[-1]))\n",
    "\n",
    "        x = layers.Flatten()(inputs)\n",
    "        x = layers.Dense(16, activation=\"relu\")(x)\n",
    "        outputs = layers.Dense(1)(x)\n",
    "        model = keras.Model(inputs, outputs)\n",
    "\n",
    "        # Use a callback to save the best performing model\n",
    "        model_file = \"jena_dense.keras\"\n",
    "        callbacks = [\n",
    "            keras.callbacks.ModelCheckpoint(\n",
    "                model_file,\n",
    "                save_best_only=True\n",
    "            )\n",
    "        ]\n",
    "        model.compile(\n",
    "            optimizer=\"rmsprop\", \n",
    "            loss=\"mse\", \n",
    "            metrics=[\"mae\"],\n",
    "            steps_per_execution=10,\n",
    "        )\n",
    "\n",
    "\n",
    "    history = model.fit(\n",
    "        data['train_dataset'],\n",
    "        epochs=10,\n",
    "        validation_data=data['val_dataset'],\n",
    "        callbacks=callbacks,\n",
    "    )\n",
    "    \n",
    "    print()\n",
    "\n",
    "    # Reload the best model and evaluate it on the test data\n",
    "    model = keras.models.load_model(model_file)\n",
    "\n",
    "    print(f\"Test MAE: {model.evaluate(data['test_dataset'])[1]:.2f}\")\n",
    "\n",
    "    print()\n",
    "    print(history.history.keys())\n",
    "    # dict_keys(['loss', 'mae', 'val_loss', 'val_mae'])\n",
    "\n",
    "    plot(history, results_naive['baseline_test_mae'], results_naive['baseline_vae_mae'], 'Densely connected model')\n",
    "\n",
    "    results['jena_dense.keras'] = history.history\n",
    "\n",
    "listing10_10(data)\n",
    "\n",
    "# Test MAE: 2.63"
   ]
  },
  {
   "cell_type": "code",
   "execution_count": 10,
   "metadata": {
    "colab": {
     "base_uri": "https://localhost:8080/",
     "height": 861
    },
    "id": "polXatP5OnQ0",
    "outputId": "6194e17b-4f85-4528-94db-458b98cfd24a"
   },
   "outputs": [
    {
     "name": "stdout",
     "output_type": "stream",
     "text": [
      "dict data exists\n",
      "Epoch 1/10\n",
      "819/819 [==============================] - 24s 30ms/step - loss: 21.9660 - mae: 3.6604 - val_loss: 14.8162 - val_mae: 3.0355\n",
      "Epoch 2/10\n",
      "819/819 [==============================] - 14s 17ms/step - loss: 15.6078 - mae: 3.1272 - val_loss: 14.3722 - val_mae: 2.9843\n",
      "Epoch 3/10\n",
      "819/819 [==============================] - 14s 17ms/step - loss: 14.3669 - mae: 2.9993 - val_loss: 15.0985 - val_mae: 3.0847\n",
      "Epoch 4/10\n",
      "819/819 [==============================] - 14s 17ms/step - loss: 13.6056 - mae: 2.9167 - val_loss: 15.2053 - val_mae: 3.0583\n",
      "Epoch 5/10\n",
      "819/819 [==============================] - 14s 17ms/step - loss: 13.0110 - mae: 2.8505 - val_loss: 13.9810 - val_mae: 2.9512\n",
      "Epoch 6/10\n",
      "819/819 [==============================] - 14s 17ms/step - loss: 12.5215 - mae: 2.7980 - val_loss: 13.6753 - val_mae: 2.9049\n",
      "Epoch 7/10\n",
      "819/819 [==============================] - 14s 17ms/step - loss: 12.0728 - mae: 2.7497 - val_loss: 14.1605 - val_mae: 2.9533\n",
      "Epoch 8/10\n",
      "819/819 [==============================] - 14s 18ms/step - loss: 11.6577 - mae: 2.7041 - val_loss: 18.4643 - val_mae: 3.3965\n",
      "Epoch 9/10\n",
      "819/819 [==============================] - 14s 17ms/step - loss: 11.2552 - mae: 2.6557 - val_loss: 14.3975 - val_mae: 2.9807\n",
      "Epoch 10/10\n",
      "819/819 [==============================] - 14s 17ms/step - loss: 10.8750 - mae: 2.6119 - val_loss: 14.7170 - val_mae: 3.0156\n",
      "------------------------------\n",
      "dict_keys(['loss', 'mae', 'val_loss', 'val_mae'])\n",
      "\n",
      "405/405 [==============================] - 6s 14ms/step - loss: 15.5196 - mae: 3.0979\n",
      "Test MAE: 3.10\n"
     ]
    },
    {
     "data": {
      "image/png": "[encoded data removed]",
      "text/plain": [
       "<Figure size 576x432 with 1 Axes>"
      ]
     },
     "metadata": {
      "needs_background": "light"
     },
     "output_type": "display_data"
    }
   ],
   "source": [
    "# 10.2.4 Trying a 1D convolutional model\n",
    "\n",
    "# Since our input sequences feature daily cycles, a convolutional model could \n",
    "# work. A temporal convnet could reuse the same representations across \n",
    "# different days, much like a spatial convnet can reuse the same representations\n",
    "# across different locations in an image.\n",
    "\n",
    "# The Conv1D layer relies on 1D windows that slide across input sequences.\n",
    "\n",
    "# Here we build 1D convnets, strictly analoguous to 2D convnets. They’re a \n",
    "# great fit for any sequence data that follows the translation invariance \n",
    "# assumption (meaning that if you slide a window over the sequence, the \n",
    "# content of the window should follow the same properties independently of the \n",
    "# location of the window).\n",
    "\n",
    "# RESULTS: Two things\n",
    "# 1. First, weather data doesn’t quite respect the translation invariance \n",
    "# assumption. While the data does feature daily cycles, data from a morning \n",
    "# follows different properties than data from an evening or from the middle of \n",
    "# the night. Weather data is only translation-invariant for a very specific \n",
    "# timescale.\n",
    "\n",
    "# 2. Second, order in our data matters — a lot. The recent past is far more \n",
    "# informative to predict the next day's temperature than data from five days \n",
    "# ago. A 1D convnet is not able to leverage this fact. In particular, our max \n",
    "# pooling and global average pooling layers are largely destroying order \n",
    "# information.\n",
    "\n",
    "def listing10_2_4(data):\n",
    "    from tensorflow import keras\n",
    "    from tensorflow.keras import layers\n",
    "    import numpy as np\n",
    "\n",
    "    # Get and prepare data\n",
    "    data = create_data(data)\n",
    "    \n",
    "    sequence_length = data['sequence_length']\n",
    "    raw_data = data['raw_data']\n",
    "\n",
    "    with tpu_strategy.scope(): \n",
    "    # creating the model in the TPUStrategy scope\n",
    "    # this means we train the model on the TPU\n",
    "\n",
    "        inputs = keras.Input(shape=(sequence_length, raw_data.shape[-1]))\n",
    "\n",
    "        # Pick an initial window length of 24, so that we look at 24 hours of data \n",
    "        # at a time (one cycle).\n",
    "        x = layers.Conv1D(8, 24, activation=\"relu\")(inputs)\n",
    "        x = layers.MaxPooling1D(2)(x)\n",
    "\n",
    "        # As we downsample the sequences (via MaxPooling2D layers), we’ll reduce \n",
    "        # the window size accordingly.\n",
    "        x = layers.Conv1D(8, 12, activation=\"relu\")(x)\n",
    "        x = layers.MaxPooling1D(2)(x)\n",
    "\n",
    "        x = layers.Conv1D(8, 6, activation=\"relu\")(x)\n",
    "        x = layers.GlobalAveragePooling1D()(x)\n",
    "\n",
    "        outputs = layers.Dense(1)(x)\n",
    "        model = keras.Model(inputs, outputs)\n",
    "\n",
    "        model_file = \"jena_conv.keras\"\n",
    "        callbacks = [\n",
    "            keras.callbacks.ModelCheckpoint(\n",
    "                model_file,\n",
    "                save_best_only=True\n",
    "            )\n",
    "        ]\n",
    "\n",
    "        model.compile(\n",
    "            optimizer=\"rmsprop\", \n",
    "            loss=\"mse\", \n",
    "            metrics=[\"mae\"],\n",
    "            steps_per_execution=10,\n",
    "        )\n",
    "\n",
    "    history = model.fit(\n",
    "        data['train_dataset'],\n",
    "        epochs=10,\n",
    "        validation_data=data['val_dataset'],\n",
    "        callbacks=callbacks,\n",
    "    )\n",
    "\n",
    "    print('------------------------------')\n",
    "\n",
    "    print(history.history.keys())\n",
    "    print()\n",
    "    model = keras.models.load_model(model_file)\n",
    "    print(f\"Test MAE: {model.evaluate(data['test_dataset'])[1]:.2f}\")\n",
    "\n",
    "    plot(history, results_naive['baseline_test_mae'], results_naive['baseline_vae_mae'], '1D convolutional model')\n",
    "\n",
    "    results['jena_conv.keras'] = history.history\n",
    "\n",
    "listing10_2_4(data)\n",
    "\n",
    "# Test MAE: 3.22"
   ]
  },
  {
   "cell_type": "markdown",
   "metadata": {
    "id": "nl81CNsH55sC"
   },
   "source": [
    "## Simple LSTM model"
   ]
  },
  {
   "cell_type": "code",
   "execution_count": 11,
   "metadata": {
    "colab": {
     "base_uri": "https://localhost:8080/",
     "height": 827
    },
    "id": "Le6DOnu8OnQ1",
    "outputId": "55bf82a6-70e4-4789-9c1c-319cd2ed4125"
   },
   "outputs": [
    {
     "name": "stdout",
     "output_type": "stream",
     "text": [
      "dict data exists\n",
      "Epoch 1/10\n",
      "819/819 [==============================] - 26s 32ms/step - loss: 39.7221 - mae: 4.5967 - val_loss: 12.3389 - val_mae: 2.6740\n",
      "Epoch 2/10\n",
      "819/819 [==============================] - 15s 18ms/step - loss: 10.8702 - mae: 2.5683 - val_loss: 9.9780 - val_mae: 2.4613\n",
      "Epoch 3/10\n",
      "819/819 [==============================] - 14s 17ms/step - loss: 9.8374 - mae: 2.4506 - val_loss: 9.7721 - val_mae: 2.4379\n",
      "Epoch 4/10\n",
      "819/819 [==============================] - 14s 17ms/step - loss: 9.4702 - mae: 2.4024 - val_loss: 10.0113 - val_mae: 2.4609\n",
      "Epoch 5/10\n",
      "819/819 [==============================] - 14s 17ms/step - loss: 9.2143 - mae: 2.3653 - val_loss: 10.0015 - val_mae: 2.4648\n",
      "Epoch 6/10\n",
      "819/819 [==============================] - 14s 18ms/step - loss: 8.9655 - mae: 2.3314 - val_loss: 9.9570 - val_mae: 2.4650\n",
      "Epoch 7/10\n",
      "819/819 [==============================] - 14s 17ms/step - loss: 8.7506 - mae: 2.3040 - val_loss: 9.9054 - val_mae: 2.4528\n",
      "Epoch 8/10\n",
      "819/819 [==============================] - 14s 17ms/step - loss: 8.6033 - mae: 2.2857 - val_loss: 9.8272 - val_mae: 2.4423\n",
      "Epoch 9/10\n",
      "819/819 [==============================] - 14s 17ms/step - loss: 8.4718 - mae: 2.2661 - val_loss: 9.9213 - val_mae: 2.4587\n",
      "Epoch 10/10\n",
      "819/819 [==============================] - 15s 18ms/step - loss: 8.3704 - mae: 2.2523 - val_loss: 9.8661 - val_mae: 2.4436\n",
      "------------------------------\n",
      "405/405 [==============================] - 11s 26ms/step - loss: 10.7949 - mae: 2.5808\n",
      "Test MAE: 2.58\n"
     ]
    },
    {
     "data": {
      "image/png": "[encoded data removed]",
      "text/plain": [
       "<Figure size 576x432 with 1 Axes>"
      ]
     },
     "metadata": {
      "needs_background": "light"
     },
     "output_type": "display_data"
    }
   ],
   "source": [
    "# Listing 10.12 A simple LSTM-based model\n",
    "\n",
    "# The densely-connected approach first flattened the timeseries, which removed \n",
    "# the notion of time from the input data. The convolutional approach treated \n",
    "# every segment of the data in the same way, even applying pooling, which \n",
    "# destroyed order information. Let’s instead look at the data as what it is: \n",
    "# a sequence, where causality and order matter.\n",
    "\n",
    "def listing10_12(data):\n",
    "    from tensorflow import keras\n",
    "    from tensorflow.keras import layers\n",
    "\n",
    "\n",
    "    # Get and prepare data\n",
    "    data = create_data(data)\n",
    "    \n",
    "    sequence_length = data['sequence_length']\n",
    "    raw_data = data['raw_data']\n",
    "\n",
    "    with tpu_strategy.scope(): \n",
    "    # creating the model in the TPUStrategy scope\n",
    "    # this means we train the model on the TPU\n",
    "        inputs = keras.Input(shape=(sequence_length, raw_data.shape[-1]))\n",
    "\n",
    "        x = layers.LSTM(16)(inputs)\n",
    "        outputs = layers.Dense(1)(x)\n",
    "        model = keras.Model(inputs, outputs)\n",
    "\n",
    "        model_file = \"jena_lstm.keras\"\n",
    "        callbacks = [\n",
    "            keras.callbacks.ModelCheckpoint(\n",
    "                model_file,\n",
    "                save_best_only=True\n",
    "            )\n",
    "        ]\n",
    "        model.compile(\n",
    "            optimizer=\"rmsprop\", \n",
    "            loss=\"mse\", \n",
    "            metrics=[\"mae\"],\n",
    "            steps_per_execution=10,\n",
    "        )\n",
    "\n",
    "\n",
    "    history = model.fit(\n",
    "        data['train_dataset'],\n",
    "        epochs=10,\n",
    "        validation_data=data['val_dataset'],\n",
    "        callbacks=callbacks\n",
    "    )\n",
    "\n",
    "    print('------------------------------')\n",
    "    model = keras.models.load_model(model_file)\n",
    "    print(f\"Test MAE: {model.evaluate(data['test_dataset'])[1]:.2f}\")\n",
    "\n",
    "    plot(history, results_naive['baseline_test_mae'], results_naive['baseline_vae_mae'], 'LSTM model')\n",
    "  \n",
    "    results['jena_lstm.keras'] = history.history\n",
    "\n",
    "listing10_12(data)\n",
    "\n",
    "# Test MAE: 2.58"
   ]
  },
  {
   "cell_type": "markdown",
   "metadata": {
    "id": "6KfmQv0sOnQ4"
   },
   "source": [
    "---\n",
    "\n",
    "In practice, you’ll rarely work with the SimpleRNN layer. It’s generally too simplistic to be of real use. In particular, SimpleRNN has a major issue: although it should theoretically be able to retain at time t information about inputs seen many timesteps before, in practice, such long-term dependencies prove impossible to learn. This is due to the vanishing gradient problem, an effect that is similar to what is observed with non-recurrent networks (feedforward networks) that are many layers deep: as you keep adding layers to a network, the network eventually becomes untrainable.\n"
   ]
  },
  {
   "cell_type": "markdown",
   "metadata": {
    "id": "1HsFTU0o5flZ"
   },
   "source": [
    "## SimpleRNN Example 1\n",
    "\n",
    "All recurrent layers in Keras (SimpleRNN, LSTM, and GRU) can be run in two different modes: \n",
    "\n",
    "1. They can return either full sequences of successive outputs for each timestep (a 3D tensor of shape (batch_size, timesteps, output_features)) \n",
    "\n",
    "2. They can return only the last output for each input sequence (a 2D tensor of shape (batch_size, output_features)). \n",
    "\n",
    "These two modes are controlled by the `return_sequences` constructor argument.\n",
    "\n",
    "Check here for more:\n",
    "* https://machinelearningmastery.com/return-sequences-and-return-states-for-lstms-in-keras/"
   ]
  },
  {
   "cell_type": "code",
   "execution_count": 12,
   "metadata": {
    "colab": {
     "base_uri": "https://localhost:8080/",
     "height": 844
    },
    "id": "JNPoL6Qs3KBD",
    "outputId": "070105b8-2d33-46a3-b253-9cc3dd201a2f"
   },
   "outputs": [
    {
     "name": "stdout",
     "output_type": "stream",
     "text": [
      "dict data exists\n",
      "outputs: KerasTensor(type_spec=TensorSpec(shape=(None, 16), dtype=tf.float32, name=None), name='lstm_1/PartitionedCall:0', description=\"created by layer 'lstm_1'\")\n",
      "Epoch 1/10\n",
      "819/819 [==============================] - 25s 31ms/step - loss: 138.4979 - mae: 9.6695 - val_loss: 143.8591 - val_mae: 9.8807\n",
      "Epoch 2/10\n",
      "819/819 [==============================] - 14s 17ms/step - loss: 136.5076 - mae: 9.5620 - val_loss: 143.7398 - val_mae: 9.8720\n",
      "Epoch 3/10\n",
      "819/819 [==============================] - 14s 17ms/step - loss: 136.4146 - mae: 9.5539 - val_loss: 143.7175 - val_mae: 9.8699\n",
      "Epoch 4/10\n",
      "819/819 [==============================] - 14s 17ms/step - loss: 136.3793 - mae: 9.5496 - val_loss: 143.6931 - val_mae: 9.8662\n",
      "Epoch 5/10\n",
      "819/819 [==============================] - 14s 18ms/step - loss: 136.3239 - mae: 9.5450 - val_loss: 143.7091 - val_mae: 9.8721\n",
      "Epoch 6/10\n",
      "819/819 [==============================] - 14s 17ms/step - loss: 136.3062 - mae: 9.5438 - val_loss: 143.6691 - val_mae: 9.8651\n",
      "Epoch 7/10\n",
      "819/819 [==============================] - 14s 17ms/step - loss: 136.3335 - mae: 9.5464 - val_loss: 143.6693 - val_mae: 9.8653\n",
      "Epoch 8/10\n",
      "819/819 [==============================] - 14s 17ms/step - loss: 136.3108 - mae: 9.5442 - val_loss: 143.6509 - val_mae: 9.8630\n",
      "Epoch 9/10\n",
      "819/819 [==============================] - 14s 17ms/step - loss: 136.3109 - mae: 9.5445 - val_loss: 143.6758 - val_mae: 9.8664\n",
      "Epoch 10/10\n",
      "819/819 [==============================] - 14s 17ms/step - loss: 136.3140 - mae: 9.5448 - val_loss: 143.6692 - val_mae: 9.8661\n",
      "------------------------------\n",
      "405/405 [==============================] - 12s 27ms/step - loss: 151.3117 - mae: 9.9245\n",
      "Test MAE: 9.92\n"
     ]
    },
    {
     "data": {
      "image/png": "[encoded data removed]",
      "text/plain": [
       "<Figure size 576x432 with 1 Axes>"
      ]
     },
     "metadata": {
      "needs_background": "light"
     },
     "output_type": "display_data"
    }
   ],
   "source": [
    "# Listing 10.16 A RNN layer that can process sequences of any length\n",
    "def listing10_16(data):\n",
    "    from tensorflow import keras\n",
    "    from tensorflow.keras import layers\n",
    "\n",
    "    # get data\n",
    "    data = create_data(data)\n",
    "    \n",
    "    sequence_length = data['sequence_length']\n",
    "    raw_data = data['raw_data']\n",
    "\n",
    "    #inputs = keras.Input(shape=(steps, num_features))\n",
    "\n",
    "\n",
    "\n",
    "    # SimpleRNN BREAKS WITH TPU\n",
    "    with tpu_strategy.scope(): \n",
    "        # creating the model in the TPUStrategy scope\n",
    "        # this means we train the model on the TPU\n",
    "\n",
    "        inputs = keras.Input(shape=(sequence_length, raw_data.shape[-1]))\n",
    "\n",
    "        #outputs = layers.SimpleRNN(16)(inputs)\n",
    "        # Try LSTM instead\n",
    "        outputs = layers.LSTM(16)(inputs)\n",
    "        # Test MAE: 9.93\n",
    "\n",
    "\n",
    "        # x = layers.LSTM(16)(inputs)\n",
    "        # outputs = layers.Dense(1)(x)\n",
    "        # Test MAE: 2.57\n",
    "\n",
    "\n",
    "        print(f'outputs: {outputs}')\n",
    "        model = keras.Model(inputs, outputs)\n",
    "\n",
    "        model_file = \"rnn_to_lstm_arbitrary_length.keras\"\n",
    "        callbacks = [\n",
    "            keras.callbacks.ModelCheckpoint(\n",
    "                model_file,\n",
    "                save_best_only=True\n",
    "            )\n",
    "        ]\n",
    "        model.compile(\n",
    "            optimizer=\"rmsprop\", \n",
    "            loss=\"mse\", \n",
    "            metrics=[\"mae\"],\n",
    "            steps_per_execution=10,\n",
    "        )\n",
    "\n",
    "\n",
    "    history = model.fit(\n",
    "        data['train_dataset'],\n",
    "        epochs=10,\n",
    "        validation_data=data['val_dataset'],\n",
    "        callbacks=callbacks\n",
    "    )\n",
    "\n",
    "    print('------------------------------')\n",
    "    model = keras.models.load_model(model_file)\n",
    "    print(f\"Test MAE: {model.evaluate(data['test_dataset'])[1]:.2f}\")\n",
    "\n",
    "    plot(history, results_naive['baseline_test_mae'], results_naive['baseline_vae_mae'], 'RNN layer processing sequences of any length')\n",
    "\n",
    "    results[model_file] = history.history\n",
    "\n",
    "\n",
    "listing10_16(data)\n",
    "\n",
    "# SimpleRNN Test MAE: 9.93"
   ]
  },
  {
   "cell_type": "markdown",
   "metadata": {
    "id": "--GyHZTx5j1C"
   },
   "source": [
    "## SimpleRNN Example 2"
   ]
  },
  {
   "cell_type": "code",
   "execution_count": 13,
   "metadata": {
    "colab": {
     "base_uri": "https://localhost:8080/",
     "height": 844
    },
    "id": "QPEiAauK3qhq",
    "outputId": "3e3239eb-e698-406a-b5bf-eacede1b4f31"
   },
   "outputs": [
    {
     "name": "stdout",
     "output_type": "stream",
     "text": [
      "dict data exists\n",
      "outputs: KerasTensor(type_spec=TensorSpec(shape=(None, 16), dtype=tf.float32, name=None), name='lstm_2/PartitionedCall:0', description=\"created by layer 'lstm_2'\")\n",
      "Epoch 1/10\n",
      "819/819 [==============================] - 24s 29ms/step - loss: 138.1191 - mae: 9.6508 - val_loss: 143.8679 - val_mae: 9.8815\n",
      "Epoch 2/10\n",
      "819/819 [==============================] - 14s 17ms/step - loss: 136.5268 - mae: 9.5634 - val_loss: 143.7974 - val_mae: 9.8793\n",
      "Epoch 3/10\n",
      "819/819 [==============================] - 14s 17ms/step - loss: 136.3309 - mae: 9.5471 - val_loss: 143.7171 - val_mae: 9.8701\n",
      "Epoch 4/10\n",
      "819/819 [==============================] - 13s 16ms/step - loss: 136.2536 - mae: 9.5397 - val_loss: 143.6537 - val_mae: 9.8648\n",
      "Epoch 5/10\n",
      "819/819 [==============================] - 14s 17ms/step - loss: 136.2321 - mae: 9.5373 - val_loss: 143.6678 - val_mae: 9.8664\n",
      "Epoch 6/10\n",
      "819/819 [==============================] - 14s 17ms/step - loss: 136.2291 - mae: 9.5371 - val_loss: 143.6540 - val_mae: 9.8643\n",
      "Epoch 7/10\n",
      "819/819 [==============================] - 14s 17ms/step - loss: 136.2251 - mae: 9.5363 - val_loss: 143.6351 - val_mae: 9.8636\n",
      "Epoch 8/10\n",
      "819/819 [==============================] - 14s 17ms/step - loss: 136.2281 - mae: 9.5370 - val_loss: 143.6938 - val_mae: 9.8704\n",
      "Epoch 9/10\n",
      "819/819 [==============================] - 14s 17ms/step - loss: 136.2336 - mae: 9.5368 - val_loss: 143.6759 - val_mae: 9.8698\n",
      "Epoch 10/10\n",
      "819/819 [==============================] - 14s 17ms/step - loss: 136.2236 - mae: 9.5357 - val_loss: 143.6430 - val_mae: 9.8637\n",
      "------------------------------\n",
      "405/405 [==============================] - 11s 25ms/step - loss: 151.2631 - mae: 9.9202\n",
      "Test MAE: 9.92\n"
     ]
    },
    {
     "data": {
      "image/png": "[encoded data removed]",
      "text/plain": [
       "<Figure size 576x432 with 1 Axes>"
      ]
     },
     "metadata": {
      "needs_background": "light"
     },
     "output_type": "display_data"
    }
   ],
   "source": [
    "\"\"\"\n",
    "1. Using SimpleRNN with TPU as here,\n",
    "    outputs = layers.SimpleRNN(16, return_sequences=False)(inputs)\n",
    "creates this error:\n",
    "\n",
    "(0) Internal: {{function_node __inference_train_function_208106}} RET_CHECK failure (third_party/tensorflow/compiler/xla/service/dynamic_dimension_inference.cc:1597) operand != nullptr \n",
    "\t [[{{node TPUReplicate/_compile/_18213887495136088311/_4}}]]\n",
    "\t [[TPUVariableReshard/last_iteration/_4422442012319361157/_7/_84]]\n",
    "\n",
    "2. Still using SimpleRNN with TPU, but without using callbacks, we get this error:\n",
    "WARNING:tensorflow:5 out of the last 824 calls to <function Model.make_train_function.<locals>.train_function at 0x7fc0b96a3320> triggered tf.function retracing. Tracing is expensive and the excessive number of tracings could be due to (1) creating @tf.function repeatedly in a loop, (2) passing tensors with different shapes, (3) passing Python objects instead of tensors. For (1), please define your @tf.function outside of the loop. For (2), @tf.function has experimental_relax_shapes=True option that relaxes argument shapes that can avoid unnecessary retracing. For (3), please refer to https://www.tensorflow.org/guide/function#controlling_retracing and https://www.tensorflow.org/api_docs/python/tf/function for  more details.\n",
    "\n",
    "3. However, simply replacing SimpleRNN with LSTM as here,\n",
    "    outputs = layers.LSTM(16, return_sequences=False)(inputs)\n",
    "results in a successful compilation.\n",
    "\"\"\"\n",
    "\n",
    "# Listing 10.17 A RNN layer that returns only its last output step\n",
    "def listing10_17(data):\n",
    "    from tensorflow import keras\n",
    "    from tensorflow.keras import layers\n",
    "\n",
    "    # get data\n",
    "    data = create_data(data)\n",
    "    \n",
    "    sequence_length = data['sequence_length']\n",
    "    raw_data = data['raw_data']\n",
    "\n",
    "    with tpu_strategy.scope(): \n",
    "        # creating the model in the TPUStrategy scope\n",
    "        # this means we train the model on the TPU\n",
    "\n",
    "        inputs = keras.Input(shape=(sequence_length, raw_data.shape[-1]))\n",
    "\n",
    "        #outputs = layers.SimpleRNN(16, return_sequences=False)(inputs)\n",
    "        outputs = layers.LSTM(16, return_sequences=False)(inputs)\n",
    "\n",
    "        print(f'outputs: {outputs}')\n",
    "        model = keras.Model(inputs, outputs)\n",
    "\n",
    "        model_file = \"rnn_to_lstm_return_only_last_output_step.keras\"\n",
    "        callbacks = [\n",
    "            keras.callbacks.ModelCheckpoint(\n",
    "                model_file,\n",
    "                save_best_only=True\n",
    "            )\n",
    "        ]\n",
    "        model.compile(\n",
    "            optimizer=\"rmsprop\", \n",
    "            loss=\"mse\", \n",
    "            metrics=[\"mae\"],\n",
    "            steps_per_execution=10, # default is steps_per_execution=None\n",
    "        )\n",
    "\n",
    "\n",
    "    history = model.fit(\n",
    "        data['train_dataset'],\n",
    "        epochs=10,\n",
    "        validation_data=data['val_dataset'],\n",
    "        callbacks=callbacks\n",
    "    )\n",
    "\n",
    "    print('------------------------------')\n",
    "    model = keras.models.load_model(model_file)\n",
    "    print(f\"Test MAE: {model.evaluate(data['test_dataset'])[1]:.2f}\")\n",
    "\n",
    "    plot(history, results_naive['baseline_test_mae'], results_naive['baseline_vae_mae'], 'RNN layer that returns only its last output step')\n",
    "\n",
    "    results[model_file] = history.history\n",
    "\n",
    "listing10_17(data)\n",
    "\n",
    "# SimpleRNN Test MAE: 9.92\n",
    "\n",
    "# LSTM Test MAE: 9.93"
   ]
  },
  {
   "cell_type": "markdown",
   "metadata": {
    "id": "BI5LxgzQ5rpA"
   },
   "source": [
    "## SimpleRNN Example 3"
   ]
  },
  {
   "cell_type": "code",
   "execution_count": 14,
   "metadata": {
    "id": "0JFCdIVZ4Cq0"
   },
   "outputs": [],
   "source": [
    "# Listing 10.18 A RNN layer that returns its full output sequence\n",
    "\n",
    "# A RNN layer can also return the entire sequence of outputs for each \n",
    "# sample (one vector per timestep per sample), if you set \n",
    "# return_sequences=True. The shape of this output is \n",
    "# https://www.tensorflow.org/guide/keras/rnn\n",
    "\n",
    "\n",
    "\n",
    "# NOT WORKING\n",
    "# InvalidArgumentError:  required broadcastable shapes at loc(unknown)\n",
    "\n",
    "\n",
    "def listing10_18(data):\n",
    "    from tensorflow import keras\n",
    "    from tensorflow.keras import layers\n",
    "\n",
    "    # get data\n",
    "    data = create_data(data)\n",
    "    \n",
    "    sequence_length = data['sequence_length']\n",
    "    raw_data = data['raw_data']\n",
    "\n",
    "    print(f'sequence_length, raw_data.shape[-1]: ({sequence_length}, {raw_data.shape[-1]})')\n",
    "    print()\n",
    "\n",
    "    with tpu_strategy.scope(): \n",
    "    # creating the model in the TPUStrategy scope\n",
    "    # this means we train the model on the TPU\n",
    "        #inputs = keras.Input(shape=(steps, num_features))\n",
    "        inputs = keras.Input(shape=(sequence_length, raw_data.shape[-1]))\n",
    "        \n",
    "\n",
    "\n",
    "        # GB Using return_sequences=True changes the shape of the data, \n",
    "        # hence this results in an error as-is\n",
    "\n",
    "\n",
    "        outputs = layers.LSTM(16, return_sequences=True)(inputs)\n",
    "        # outputs = layers.SimpleRNN(16, return_sequences=True)(inputs)\n",
    "\n",
    "        print(f'outputs.shape: {outputs.shape}')\n",
    "        print(f'outputs: {outputs}')\n",
    "        print()\n",
    "\n",
    "        model = keras.Model(inputs, outputs)\n",
    "\n",
    "        model_file = \"rnn_to_lstm_return_full_output.keras\"\n",
    "        callbacks = [\n",
    "            keras.callbacks.ModelCheckpoint(\n",
    "                model_file,\n",
    "                save_best_only=True\n",
    "            )\n",
    "        ]\n",
    "        model.compile(\n",
    "            optimizer=\"rmsprop\", \n",
    "            loss=\"mse\", \n",
    "            metrics=[\"mae\"],\n",
    "            steps_per_execution=10,\n",
    "        )\n",
    "\n",
    "\n",
    "    history = model.fit(\n",
    "        data['train_dataset'],\n",
    "        epochs=10,\n",
    "        validation_data=data['val_dataset'],\n",
    "        callbacks=callbacks\n",
    "    )\n",
    "\n",
    "    print('------------------------------')\n",
    "    model = keras.models.load_model(model_file)\n",
    "    print(f\"Test MAE: {model.evaluate(data['test_dataset'])[1]:.2f}\")\n",
    "\n",
    "    plot(history, results_naive['baseline_test_mae'], results_naive['baseline_vae_mae'], 'RNN layer that returns only its last output step')\n",
    "\n",
    "    results[model_file] = history.history\n",
    "\n",
    "#listing10_18(data)"
   ]
  },
  {
   "cell_type": "markdown",
   "metadata": {
    "id": "fnT0MXCz5uYp"
   },
   "source": [
    "## SimpleRNN Example 4"
   ]
  },
  {
   "cell_type": "code",
   "execution_count": 15,
   "metadata": {
    "colab": {
     "base_uri": "https://localhost:8080/",
     "height": 844
    },
    "id": "PYOWAAioOnQ4",
    "outputId": "769406f6-98a5-43f5-b35e-c28e97852a07"
   },
   "outputs": [
    {
     "name": "stdout",
     "output_type": "stream",
     "text": [
      "dict data exists\n",
      "outputs: KerasTensor(type_spec=TensorSpec(shape=(None, 16), dtype=tf.float32, name=None), name='lstm_5/PartitionedCall:0', description=\"created by layer 'lstm_5'\")\n",
      "Epoch 1/10\n",
      "819/819 [==============================] - 52s 64ms/step - loss: 137.3047 - mae: 9.5988 - val_loss: 143.6111 - val_mae: 9.8610\n",
      "Epoch 2/10\n",
      "819/819 [==============================] - 32s 39ms/step - loss: 135.9551 - mae: 9.5150 - val_loss: 143.5656 - val_mae: 9.8554\n",
      "Epoch 3/10\n",
      "819/819 [==============================] - 32s 39ms/step - loss: 135.8773 - mae: 9.5023 - val_loss: 143.5500 - val_mae: 9.8542\n",
      "Epoch 4/10\n",
      "819/819 [==============================] - 32s 39ms/step - loss: 135.8351 - mae: 9.4947 - val_loss: 143.5589 - val_mae: 9.8548\n",
      "Epoch 5/10\n",
      "819/819 [==============================] - 32s 40ms/step - loss: 135.7886 - mae: 9.4868 - val_loss: 143.6074 - val_mae: 9.8599\n",
      "Epoch 6/10\n",
      "819/819 [==============================] - 32s 39ms/step - loss: 135.7836 - mae: 9.4855 - val_loss: 143.6062 - val_mae: 9.8625\n",
      "Epoch 7/10\n",
      "819/819 [==============================] - 32s 39ms/step - loss: 135.7618 - mae: 9.4822 - val_loss: 143.5821 - val_mae: 9.8590\n",
      "Epoch 8/10\n",
      "819/819 [==============================] - 32s 39ms/step - loss: 135.7405 - mae: 9.4790 - val_loss: 143.5656 - val_mae: 9.8586\n",
      "Epoch 9/10\n",
      "819/819 [==============================] - 32s 39ms/step - loss: 135.7247 - mae: 9.4753 - val_loss: 143.5778 - val_mae: 9.8594\n",
      "Epoch 10/10\n",
      "819/819 [==============================] - 32s 39ms/step - loss: 135.7137 - mae: 9.4728 - val_loss: 143.5870 - val_mae: 9.8598\n",
      "------------------------------\n",
      "405/405 [==============================] - 25s 58ms/step - loss: 151.3473 - mae: 9.9305\n",
      "Test MAE: 9.93\n"
     ]
    },
    {
     "data": {
      "image/png": "[encoded data removed]",
      "text/plain": [
       "<Figure size 576x432 with 1 Axes>"
      ]
     },
     "metadata": {
      "needs_background": "light"
     },
     "output_type": "display_data"
    }
   ],
   "source": [
    "# Listing 10.19 Stacking RNN layers\n",
    "# It’s sometimes useful to stack several recurrent layers one after the other \n",
    "# in order to increase the representational power of a network. In such a \n",
    "# setup, you have to get all of the intermediate layers to return full \n",
    "# sequence of outputs.\n",
    "\n",
    "\n",
    "\"\"\"\n",
    "1. Using SimpleRNN with TPU as here,\n",
    "    outputs = layers.SimpleRNN(16, return_sequences=False)(inputs)\n",
    "creates this error:\n",
    "\n",
    "InternalError: 9 root error(s) found.\n",
    "  (0) Internal: {{function_node __inference_train_function_299048}} RET_CHECK failure (third_party/tensorflow/compiler/xla/service/dynamic_dimension_inference.cc:1597) operand != nullptr \n",
    "\t [[{{node TPUReplicate/_compile/_10349421270108926050/_4}}]]\n",
    "\t [[while/body/_1/while/strided_slice_23/_403]]\n",
    "\"\"\"\n",
    "\n",
    "\n",
    "def listing10_19(data):\n",
    "    from tensorflow import keras\n",
    "    from tensorflow.keras import layers\n",
    "\n",
    "    # get data\n",
    "    data = create_data(data)\n",
    "    \n",
    "    sequence_length = data['sequence_length']\n",
    "    raw_data = data['raw_data']\n",
    "\n",
    "    with tpu_strategy.scope(): \n",
    "        # creating the model in the TPUStrategy scope\n",
    "        # this means we train the model on the TPU\n",
    "\n",
    "        #inputs = keras.Input(shape=(steps, num_features))\n",
    "        inputs = keras.Input(shape=(sequence_length, raw_data.shape[-1]))\n",
    "        # x = layers.SimpleRNN(16, return_sequences=True)(inputs)\n",
    "        # x = layers.SimpleRNN(16, return_sequences=True)(x)\n",
    "        # outputs = layers.SimpleRNN(16)(x)\n",
    "\n",
    "        x = layers.LSTM(16, return_sequences=True)(inputs)\n",
    "        x = layers.LSTM(16, return_sequences=True)(x)\n",
    "        outputs = layers.LSTM(16)(x)\n",
    "\n",
    "        print(f'outputs: {outputs}')\n",
    "        model = keras.Model(inputs, outputs)\n",
    "\n",
    "        model_file = \"stacking_rnn_to_lstm_layers.keras\"\n",
    "        callbacks = [\n",
    "            keras.callbacks.ModelCheckpoint(\n",
    "                model_file,\n",
    "                save_best_only=True\n",
    "            )\n",
    "        ]\n",
    "\n",
    "        model.compile(\n",
    "            optimizer=\"rmsprop\", \n",
    "            loss=\"mse\", \n",
    "            metrics=[\"mae\"],\n",
    "            steps_per_execution=10,\n",
    "        )\n",
    "\n",
    "\n",
    "    history = model.fit(\n",
    "        data['train_dataset'],\n",
    "        epochs=10,\n",
    "        validation_data=data['val_dataset'],\n",
    "        callbacks=callbacks\n",
    "    )\n",
    "\n",
    "    print('------------------------------')\n",
    "    model = keras.models.load_model(model_file)\n",
    "    print(f\"Test MAE: {model.evaluate(data['test_dataset'])[1]:.2f}\")\n",
    "\n",
    "    plot(history, results_naive['baseline_test_mae'], results_naive['baseline_vae_mae'], 'RNN layer that returns only its last output step')\n",
    "\n",
    "    results[model_file] = history.history\n",
    "\n",
    "listing10_19(data)\n",
    "\n",
    "# LSTM Test MAE: 9.91"
   ]
  },
  {
   "cell_type": "markdown",
   "metadata": {
    "id": "X1ThlD51OnQ5"
   },
   "source": [
    "**Training and evaluating a dropout-regularized LSTM**"
   ]
  },
  {
   "cell_type": "code",
   "execution_count": 16,
   "metadata": {
    "colab": {
     "base_uri": "https://localhost:8080/",
     "height": 827
    },
    "id": "dNhfY6ZPFKkH",
    "outputId": "b8aa8be2-4aa0-4a41-d5b4-108de2107456"
   },
   "outputs": [
    {
     "name": "stdout",
     "output_type": "stream",
     "text": [
      "dict data exists\n",
      "Epoch 1/10\n",
      "819/819 [==============================] - 223s 272ms/step - loss: 28.1424 - mae: 3.9122 - val_loss: 9.6253 - val_mae: 2.4120\n",
      "Epoch 2/10\n",
      "819/819 [==============================] - 14s 17ms/step - loss: 15.0197 - mae: 3.0119 - val_loss: 9.0221 - val_mae: 2.3395\n",
      "Epoch 3/10\n",
      "819/819 [==============================] - 14s 17ms/step - loss: 14.2753 - mae: 2.9306 - val_loss: 9.0633 - val_mae: 2.3491\n",
      "Epoch 4/10\n",
      "819/819 [==============================] - 14s 17ms/step - loss: 13.7708 - mae: 2.8756 - val_loss: 9.0317 - val_mae: 2.3311\n",
      "Epoch 5/10\n",
      "819/819 [==============================] - 14s 17ms/step - loss: 13.4072 - mae: 2.8368 - val_loss: 9.1973 - val_mae: 2.3463\n",
      "Epoch 6/10\n",
      "819/819 [==============================] - 14s 17ms/step - loss: 13.0773 - mae: 2.8027 - val_loss: 9.2439 - val_mae: 2.3517\n",
      "Epoch 7/10\n",
      "819/819 [==============================] - 14s 17ms/step - loss: 12.8538 - mae: 2.7772 - val_loss: 9.2798 - val_mae: 2.3503\n",
      "Epoch 8/10\n",
      "819/819 [==============================] - 14s 17ms/step - loss: 12.6161 - mae: 2.7510 - val_loss: 9.1985 - val_mae: 2.3410\n",
      "Epoch 9/10\n",
      "819/819 [==============================] - 15s 19ms/step - loss: 12.4404 - mae: 2.7317 - val_loss: 9.2334 - val_mae: 2.3447\n",
      "Epoch 10/10\n",
      "819/819 [==============================] - 14s 17ms/step - loss: 12.2330 - mae: 2.7088 - val_loss: 9.1855 - val_mae: 2.3388\n",
      "------------------------------\n",
      "405/405 [==============================] - 16s 24ms/step - loss: 10.4036 - mae: 2.5197\n",
      "Test MAE: 2.52\n"
     ]
    },
    {
     "data": {
      "image/png": "[encoded data removed]",
      "text/plain": [
       "<Figure size 576x432 with 1 Axes>"
      ]
     },
     "metadata": {
      "needs_background": "light"
     },
     "output_type": "display_data"
    }
   ],
   "source": [
    "# Training and evaluating a dropout-regularized LSTM\n",
    "# GB: Reference:\n",
    "# https://www.tensorflow.org/api_docs/python/tf/keras/layers/GRU?version=nightly#used-in-the-notebooks_1\n",
    "# The requirements to use the cuDNN implementation are:\n",
    "# activation == tanh\n",
    "# recurrent_activation == sigmoid\n",
    "# recurrent_dropout == 0\n",
    "# unroll is False\n",
    "# use_bias is True\n",
    "# reset_after is True\n",
    "# Inputs, if use masking, are strictly right-padded.\n",
    "# Eager execution is enabled in the outermost context.\n",
    "\n",
    "# GB: Test using unroll=True\n",
    "# Listing 10.22 Training and evaluating a dropout-regularized LSTM\n",
    "# Used non-standard setting (`recurrent_dropout=0.5`), runs very slowly!\n",
    "\n",
    "def listing10_22(data):\n",
    "    from tensorflow import keras\n",
    "    from tensorflow.keras import layers\n",
    "\n",
    "\n",
    "    # Get and prepare data\n",
    "    data = create_data(data)\n",
    "    \n",
    "    sequence_length = data['sequence_length']\n",
    "    raw_data = data['raw_data']\n",
    "\n",
    "    with tpu_strategy.scope(): \n",
    "    # creating the model in the TPUStrategy scope\n",
    "    # this means we train the model on the TPU\n",
    "\n",
    "        inputs = keras.Input(shape=(sequence_length, raw_data.shape[-1]))\n",
    "\n",
    "        # OLD\n",
    "        # x = layers.LSTM(32, recurrent_dropout=0.25)(inputs)\n",
    "\n",
    "        # NEW\n",
    "        # Because we use a non-standard setting, we get this warning, and it \n",
    "        # runs very very slowly!\n",
    "        # WARNING:tensorflow:Layer lstm will not use cuDNN kernels since it \n",
    "        # doesn't meet the criteria. It will use a generic GPU kernel as \n",
    "        # fallback when running on GPU.\n",
    "\n",
    "        x = layers.LSTM(32, recurrent_dropout=0.2, unroll=True)(inputs)\n",
    "        x = layers.Dropout(0.5)(x)\n",
    "        outputs = layers.Dense(1)(x)\n",
    "        model = keras.Model(inputs, outputs)\n",
    "\n",
    "        model_file = \"jena_lstm_dropout.keras\"\n",
    "        callbacks = [\n",
    "            keras.callbacks.ModelCheckpoint(\n",
    "                model_file,\n",
    "                save_best_only=True\n",
    "            )\n",
    "        ]\n",
    "        \n",
    "        model.compile(\n",
    "            optimizer=\"rmsprop\", \n",
    "            loss=\"mse\", \n",
    "            metrics=[\"mae\"],\n",
    "            steps_per_execution=10,\n",
    "        )\n",
    "\n",
    "\n",
    "    history = model.fit(\n",
    "        data['train_dataset'],\n",
    "        epochs=10,\n",
    "        validation_data=data['val_dataset'],\n",
    "        callbacks=callbacks\n",
    "    )\n",
    "\n",
    "    print('------------------------------')\n",
    "    model = keras.models.load_model(model_file)\n",
    "    print(f\"Test MAE: {model.evaluate(data['test_dataset'])[1]:.2f}\")\n",
    "\n",
    "    plot(history, results_naive['baseline_test_mae'], results_naive['baseline_vae_mae'], 'LSTM model using recurrent dropout.')\n",
    "\n",
    "    results['jena_lstm_dropout.keras'] = history.history\n",
    "\n",
    "listing10_22(data)\n",
    "\n",
    "# Test MAE: 2.47"
   ]
  },
  {
   "cell_type": "code",
   "execution_count": 17,
   "metadata": {
    "colab": {
     "base_uri": "https://localhost:8080/"
    },
    "id": "2WkClmqIyY32",
    "outputId": "7e33a57b-83b6-41fd-a30e-ba2f276b3901"
   },
   "outputs": [
    {
     "data": {
      "text/plain": [
       "<function __main__.m11_1>"
      ]
     },
     "execution_count": 17,
     "metadata": {},
     "output_type": "execute_result"
    }
   ],
   "source": [
    "def m11_1():\n",
    "    print(\"test\")\n",
    "    \n",
    "m11_1 "
   ]
  },
  {
   "cell_type": "markdown",
   "metadata": {
    "id": "hL_KqtENOnQ6"
   },
   "source": [
    "**Training and evaluating a dropout-regularized, stacked GRU model**"
   ]
  },
  {
   "cell_type": "code",
   "execution_count": 18,
   "metadata": {
    "colab": {
     "base_uri": "https://localhost:8080/",
     "height": 827
    },
    "id": "Ard1IvIqOnQ6",
    "outputId": "d5dadb79-9c18-4008-f10e-e4102b75e469"
   },
   "outputs": [
    {
     "name": "stdout",
     "output_type": "stream",
     "text": [
      "dict data exists\n",
      "Epoch 1/10\n",
      "819/819 [==============================] - 253s 309ms/step - loss: 82.3408 - mae: 7.3358 - val_loss: 66.1386 - val_mae: 6.6926\n",
      "Epoch 2/10\n",
      "819/819 [==============================] - 13s 16ms/step - loss: 78.3031 - mae: 7.1639 - val_loss: 66.0815 - val_mae: 6.6902\n",
      "Epoch 3/10\n",
      "819/819 [==============================] - 14s 17ms/step - loss: 78.1057 - mae: 7.1556 - val_loss: 66.1050 - val_mae: 6.6912\n",
      "Epoch 4/10\n",
      "819/819 [==============================] - 14s 17ms/step - loss: 77.9494 - mae: 7.1488 - val_loss: 65.7095 - val_mae: 6.6722\n",
      "Epoch 5/10\n",
      "819/819 [==============================] - 14s 17ms/step - loss: 77.8143 - mae: 7.1429 - val_loss: 66.0148 - val_mae: 6.6869\n",
      "Epoch 6/10\n",
      "819/819 [==============================] - 13s 16ms/step - loss: 77.6859 - mae: 7.1375 - val_loss: 65.7953 - val_mae: 6.6762\n",
      "Epoch 7/10\n",
      "819/819 [==============================] - 15s 19ms/step - loss: 77.5662 - mae: 7.1322 - val_loss: 65.9368 - val_mae: 6.6831\n",
      "Epoch 8/10\n",
      "819/819 [==============================] - 14s 17ms/step - loss: 77.4611 - mae: 7.1277 - val_loss: 65.9258 - val_mae: 6.6826\n",
      "Epoch 9/10\n",
      "819/819 [==============================] - 14s 17ms/step - loss: 77.3570 - mae: 7.1232 - val_loss: 65.9042 - val_mae: 6.6815\n",
      "Epoch 10/10\n",
      "819/819 [==============================] - 14s 17ms/step - loss: 77.2615 - mae: 7.1192 - val_loss: 65.8626 - val_mae: 6.6795\n",
      "------------------------------\n",
      "405/405 [==============================] - 23s 32ms/step - loss: 66.6042 - mae: 6.6575\n",
      "Test MAE: 6.66\n"
     ]
    },
    {
     "data": {
      "image/png": "[encoded data removed]",
      "text/plain": [
       "<Figure size 576x432 with 1 Axes>"
      ]
     },
     "metadata": {
      "needs_background": "light"
     },
     "output_type": "display_data"
    }
   ],
   "source": [
    "# Listing 10.23 Training and evaluating a dropout-regularized, stacked GRU model\n",
    "# Used non-standard setting (`recurrent_dropout=0.5`), runs very slowly!\n",
    "def listing10_23(data):\n",
    "    from tensorflow import keras\n",
    "    from tensorflow.keras import layers\n",
    "\n",
    "    # Get and prepare data\n",
    "    data = create_data(data)\n",
    "\n",
    "\n",
    "    # when using unroll=True, sequence_length cannot be None\n",
    "    sequence_length = data['sequence_length']\n",
    "    raw_data = data['raw_data']\n",
    "\n",
    "\n",
    "    with tpu_strategy.scope(): \n",
    "    # creating the model in the TPUStrategy scope\n",
    "    # this means we train the model on the TPU\n",
    "\n",
    "        inputs = keras.Input(shape=(sequence_length, raw_data.shape[-1]))\n",
    "\n",
    "        x = layers.GRU(32, recurrent_dropout=0.5, return_sequences=True, unroll=True)(inputs)\n",
    "        x = layers.Dropout(0.5)(x)\n",
    "\n",
    "        outputs = layers.Dense(1)(x)\n",
    "        model = keras.Model(inputs, outputs)\n",
    "\n",
    "        model_file = \"jena_stacked_gru_dropout.keras\"\n",
    "        callbacks = [\n",
    "            keras.callbacks.ModelCheckpoint(\n",
    "                model_file,\n",
    "                save_best_only=True\n",
    "            )\n",
    "        ]\n",
    "\n",
    "        model.compile(\n",
    "            optimizer=\"rmsprop\", \n",
    "            loss=\"mse\", \n",
    "            metrics=[\"mae\"],\n",
    "            steps_per_execution=10,\n",
    "        )\n",
    "\n",
    "\n",
    "    history = model.fit(\n",
    "        data['train_dataset'],\n",
    "        epochs=10,\n",
    "        validation_data=data['val_dataset'],\n",
    "        callbacks=callbacks\n",
    "    )\n",
    "\n",
    "    print('------------------------------')\n",
    "    model = keras.models.load_model(model_file)\n",
    "    print(f\"Test MAE: {model.evaluate(data['test_dataset'])[1]:.2f}\")\n",
    "\n",
    "    plot(history, results_naive['baseline_test_mae'], results_naive['baseline_vae_mae'], 'Dropout-regularized, stacked GRU model')\n",
    "\n",
    "    results['jena_stacked_gru_dropout.keras'] = history.history\n",
    "\n",
    "listing10_23(data)\n",
    "\n",
    "# Test MAE: 3.81\n"
   ]
  },
  {
   "cell_type": "markdown",
   "metadata": {
    "id": "lJCs12yIOnQ6"
   },
   "source": [
    "### Using bidirectional RNNs"
   ]
  },
  {
   "cell_type": "markdown",
   "metadata": {
    "id": "-HVtH9p0OnQ7"
   },
   "source": [
    "**Training and evaluating a bidirectional LSTM**"
   ]
  },
  {
   "cell_type": "code",
   "execution_count": 19,
   "metadata": {
    "id": "87ooJ5m2OnQ7"
   },
   "outputs": [],
   "source": [
    "# Training and evaluating a bidirectional LSTM.\n",
    "# This doesn’t perform as well as the plain LSTM layer.\n",
    "# All the predictive capacity must come from the chronological half of the \n",
    "# network, because the antichronological half is known to be severely \n",
    "# underperforming on this task (again, because the recent past matters much \n",
    "# more than the distant past in this case). At the same time, the presence of \n",
    "# the antichronological half doubles the network’s capacity and causes it to \n",
    "# start overfitting much earlier.\n",
    "# However, bidirectional RNNs are a great fit for text data—or any other kind \n",
    "# of data where order matters, yet where which order you use doesn’t matter.\n",
    "\n",
    "\"\"\"\n",
    "Using TPU, get this error:\n",
    "\n",
    "UnimplementedError: 9 root error(s) found.\n",
    "  (0) Unimplemented: {{function_node __inference_train_function_714111}} Dynamic dimension propagation on reversed dimension is not supported %reverse.128 = f32[<=120,<=32,14]{2,0,1} reverse(f32[<=120,<=32,14]{2,0,1} %transpose.127), dimensions={0}, metadata={op_type=\"ReverseV2\" op_name=\"model_19/bidirectional/backward_lstm_4/PartitionedCall/ReverseV2\"}\n",
    "\t [[{{node TPUReplicate/_compile/_15713800203312439159/_4}}]]\n",
    "\t [[tpu_compile_succeeded_assert/_17412698179675911818/_5/_245]]\n",
    "\n",
    "\n",
    "    It is found that the first dimension batch_size of the data_set is \n",
    "    dynamically changed by None. It stands to reason that the batch_size is \n",
    "    specified, and the batch_size of the data_set should be fixed, so I \n",
    "    turned the official tensorflow document and found that \n",
    "    tf.data.Dataset.batch() has a drop_remainder option. Decide whether to \n",
    "    discard the part of the sequence whose tail length is less than batch_size,\n",
    "\n",
    "    So try to change data_set.batch(batch_size) to \n",
    "    data_set.batch(batch_size, drop_remainder=True),  \n",
    "\"\"\"\n",
    "\n",
    "\n",
    "def listing10_24(data):\n",
    "    from tensorflow import keras\n",
    "    from tensorflow.keras import layers\n",
    "\n",
    "    # Get and prepare data\n",
    "    data = create_data(data)\n",
    "\n",
    "    print(data.keys())\n",
    "    print(\"ORIGINAL:\", data['train_dataset'])\n",
    "    print(type(data['train_dataset']))\n",
    "    print()\n",
    "\n",
    "    data['train_dataset'] = data['train_dataset'].batch(32, drop_remainder=True)\n",
    "    print(\"NEW:\", data['train_dataset'])\n",
    "    \n",
    "    \n",
    "    # when using unroll=True, sequence_length cannot be None\n",
    "    sequence_length = data['sequence_length']\n",
    "    raw_data = data['raw_data']\n",
    "\n",
    "\n",
    "    # with tpu_strategy.scope(): \n",
    "    # creating the model in the TPUStrategy scope\n",
    "    # this means we train the model on the TPU\n",
    "\n",
    "    # OK:\n",
    "    # <class 'keras.engine.keras_tensor.KerasTensor'>\n",
    "    # KerasTensor(type_spec=TensorSpec(shape=(None, 32), dtype=tf.float16, name=None), name='bidirectional_3/concat:0', description=\"created by layer 'bidirectional_3'\")\n",
    "\n",
    "    # NOT WORKING:\n",
    "    # <class 'keras.engine.keras_tensor.KerasTensor'>\n",
    "    # KerasTensor(type_spec=TensorSpec(shape=(None, 32), dtype=tf.float32, name=None), name='bidirectional_11/concat:0', description=\"created by layer 'bidirectional_11'\")\n",
    "\n",
    "\n",
    "    inputs = keras.Input(shape=(sequence_length, raw_data.shape[-1]))\n",
    "    x = layers.Bidirectional(layers.LSTM(16))(inputs)\n",
    "    HR()\n",
    "    print(type(x))\n",
    "    print(f\"x: {x}\")\n",
    "    HR()\n",
    "\n",
    "    outputs = layers.Dense(1)(x)\n",
    "    model = keras.Model(inputs, outputs)\n",
    "\n",
    "    model_file = \"bidirectional_lstm.keras\" \n",
    "    callbacks = [\n",
    "        keras.callbacks.ModelCheckpoint(\n",
    "            model_file,\n",
    "            save_best_only=False\n",
    "        )\n",
    "    ]\n",
    "    model.compile(\n",
    "        optimizer=\"rmsprop\", \n",
    "        loss=\"mse\", \n",
    "        metrics=[\"mae\"]\n",
    "    )\n",
    "\n",
    "    history = model.fit(\n",
    "        data['train_dataset'],\n",
    "        epochs=10,\n",
    "        validation_data=data['val_dataset'],\n",
    "        callbacks=callbacks,\n",
    "    )\n",
    "\n",
    "    # Listing 10.11 Plotting results\n",
    "    # Display the loss curves for validation and training\n",
    "    print()\n",
    "    print(history.history.keys())\n",
    "    print()\n",
    "\n",
    "    print('------------------------------')\n",
    "    model = keras.models.load_model(model_file)\n",
    "    print(f\"Test MAE: {model.evaluate(data['test_dataset'])[1]:.2f}\")   \n",
    "    \n",
    "    plot(history, results['baseline_test_mae'], results['baseline_vae_mae'], 'Dropout-regularized, stacked GRU model')\n",
    "\n",
    "    results['bidirectional_lstm.keras'] = history.history\n",
    "\n",
    "# listing10_24(data)\n"
   ]
  },
  {
   "cell_type": "code",
   "execution_count": 20,
   "metadata": {
    "colab": {
     "base_uri": "https://localhost:8080/",
     "height": 655
    },
    "id": "C29qgD_a_Jew",
    "outputId": "52f8d2c3-a5c9-402b-eace-65b580cb10f5"
   },
   "outputs": [
    {
     "name": "stdout",
     "output_type": "stream",
     "text": [
      "'jena_dense.keras'\n",
      "'jena_conv.keras'\n",
      "'jena_lstm.keras'\n",
      "'rnn_to_lstm_arbitrary_length.keras'\n",
      "'rnn_to_lstm_return_only_last_output_step.keras'\n",
      "'stacking_rnn_to_lstm_layers.keras'\n",
      "'jena_lstm_dropout.keras'\n",
      "'jena_stacked_gru_dropout.keras'\n",
      "\n"
     ]
    },
    {
     "data": {
      "image/png": "[encoded data removed]",
      "text/plain": [
       "<Figure size 1008x576 with 1 Axes>"
      ]
     },
     "metadata": {
      "needs_background": "light"
     },
     "output_type": "display_data"
    }
   ],
   "source": [
    "# loss, val_loss, mae, val_mae\n",
    "\n",
    "# 'jena_dense.keras'\n",
    "# 'jena_conv.keras'\n",
    "# 'jena_lstm.keras'\n",
    "# 'rnn_arbitrary_length.keras'\n",
    "# 'rnn_return_only_last_output_step.keras'\n",
    "# 'jena_lstm_dropout.keras'\n",
    "# 'jena_stacked_gru_dropout.keras'\n",
    "\n",
    "#plt.plot(epochs, results['rnn_arbitrary_length.keras']['loss'], \"o\", color=cmap(3), label=\"RNN: Training\")\n",
    "#plt.plot(epochs, results['rnn_arbitrary_length.keras']['val_loss'], color=cmap(3), label=\"RNN: Validation\")\n",
    "\n",
    "#plt.plot(epochs, results['rnn_return_only_last_output_step.keras']['loss'], \"o\", color=cmap(4), label=\"RNN Return: Training\")\n",
    "#plt.plot(epochs, results['rnn_return_only_last_output_step.keras']['val_loss'], color=cmap(4), label=\"RNN Return: Validation\")\n",
    "\n",
    "def plot_all():\n",
    "    import matplotlib.pyplot as plt\n",
    "    import pprint; pp = pprint.PrettyPrinter(indent=4)\n",
    "    \n",
    "    for k in results:\n",
    "        pp.pprint(k)\n",
    "    print()\n",
    "\n",
    "    epochs = range(1, len(results['jena_dense.keras']['loss']) + 1)\n",
    "\n",
    "    plt.figure(figsize=(14,8))\n",
    "    \n",
    "    cmap = plt.get_cmap(\"tab20\")\n",
    "    #cmap = plt.get_cmap(\"tab10\")\n",
    "\n",
    "    lw = 7\n",
    "    ap = 0.5\n",
    "\n",
    "    #plt.plot(epochs, results['jena_lstm.keras']['mae'], \"-o\", linewidth=lw, color=cmap(3), alpha=ap, )\n",
    "    plt.plot(epochs, results['jena_lstm.keras']['val_mae'], linewidth=lw, color=cmap(3), alpha=ap, label=\"LSTM: Validation\")\n",
    "\n",
    "    #plt.plot(epochs, results['jena_lstm_dropout.keras']['mae'], \"-o\", linewidth=lw, color=cmap(5), alpha=ap, )\n",
    "    plt.plot(epochs, results['jena_lstm_dropout.keras']['val_mae'], linewidth=lw, color=cmap(5), alpha=ap, label=\"LSTM Dropout: Validation\")\n",
    "\n",
    "\n",
    "    #plt.plot(epochs, results['jena_dense.keras']['mae'], \"-o\",  linewidth=lw, color=cmap(0), alpha=ap, )\n",
    "    plt.plot(epochs, results['jena_dense.keras']['val_mae'], linewidth=lw, color=cmap(0), alpha=ap, label=\"Dense: Validation\")\n",
    "    \n",
    "    #plt.plot(epochs, results['jena_conv.keras']['mae'], \"-o\", linewidth=lw, color=cmap(1), alpha=ap, )\n",
    "    plt.plot(epochs, results['jena_conv.keras']['val_mae'], linewidth=lw, color=cmap(1), alpha=ap, label=\"Conv1D: Validation\")\n",
    "\n",
    "\n",
    "    #plt.plot(epochs, results['jena_stacked_gru_dropout.keras']['mae'], \"-o\", linewidth=lw, color=cmap(6), alpha=ap, )\n",
    "    plt.plot(epochs, results['jena_stacked_gru_dropout.keras']['val_mae'], linewidth=lw, color=cmap(6), alpha=ap, label=\"GRU Stacked: Validation\")\n",
    "\n",
    "\n",
    "    plt.axhline(y=results_naive['baseline_test_mae'], label=\"Baseline Test MAE\",  linewidth=0.8)\n",
    "    plt.axhline(y=results_naive['baseline_vae_mae'],  label=\"Baseline Val MAE\",  linewidth=0.8)\n",
    "    plt.title(\"Mean Absolute Error (MAE) (the lower the better)\")\n",
    "    plt.legend()\n",
    "    plt.show()\n",
    "\n",
    "plot_all()"
   ]
  },
  {
   "cell_type": "code",
   "execution_count": 20,
   "metadata": {
    "id": "jjYoJ-4QFJlk"
   },
   "outputs": [],
   "source": []
  }
 ],
 "metadata": {
  "accelerator": "TPU",
  "colab": {
   "collapsed_sections": [],
   "name": "chp10_dl_for_timeseries.ipynb",
   "provenance": []
  },
  "kernelspec": {
   "display_name": "Python 3 (ipykernel)",
   "language": "python",
   "name": "python3"
  },
  "language_info": {
   "codemirror_mode": {
    "name": "ipython",
    "version": 3
   },
   "file_extension": ".py",
   "mimetype": "text/x-python",
   "name": "python",
   "nbconvert_exporter": "python",
   "pygments_lexer": "ipython3",
   "version": "3.8.12"
  }
 },
 "nbformat": 4,
 "nbformat_minor": 4
}
