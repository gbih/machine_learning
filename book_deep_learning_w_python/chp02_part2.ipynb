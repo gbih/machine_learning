{
 "cells": [
  {
   "cell_type": "markdown",
   "metadata": {
    "id": "zbpr1p8hcuva"
   },
   "source": [
    "\n",
    "# Data representations for neural networks"
   ]
  },
  {
   "cell_type": "code",
   "execution_count": 1,
   "metadata": {
    "colab": {
     "base_uri": "https://localhost:8080/"
    },
    "executionInfo": {
     "elapsed": 162,
     "status": "ok",
     "timestamp": 1626002937168,
     "user": {
      "displayName": "George Baptista",
      "photoUrl": "https://lh3.googleusercontent.com/a-/AOh14GgSPpSfsW2MVJCfiHcd-wtEgNTenixcvSYXZ9Lo=s64",
      "userId": "16776465488006883803"
     },
     "user_tz": -540
    },
    "id": "yl32gJaMcuvb",
    "outputId": "787650c0-ad02-41db-9dff-6097bc2a8fee"
   },
   "outputs": [
    {
     "name": "stdout",
     "output_type": "stream",
     "text": [
      "Scalars (rank-0 tensors)\n",
      "x: 12\n",
      "x.ndim: 0\n",
      "\n",
      "Vectors (rank-1 tensors)\n",
      "x: [12  3  6 14  7]\n",
      "x.ndim: 1\n",
      "\n",
      "Matrices (rank-2 tensors)\n",
      "x:\n",
      "[[ 5 78  2 34  0]\n",
      " [ 6 79  3 35  1]\n",
      " [ 7 80  4 36  2]]\n",
      "x.ndim: 2\n",
      "\n",
      "Rank-3 tensors and higher-rank tensors\n",
      "x:\n",
      "[[[ 5 78  2 34  0]\n",
      "  [ 6 79  3 35  1]\n",
      "  [ 7 80  4 36  2]]\n",
      "\n",
      " [[ 5 78  2 34  0]\n",
      "  [ 6 79  3 35  1]\n",
      "  [ 7 80  4 36  2]]\n",
      "\n",
      " [[ 5 78  2 34  0]\n",
      "  [ 6 79  3 35  1]\n",
      "  [ 7 80  4 36  2]]]\n",
      "x.ndim: 3\n",
      "\n"
     ]
    }
   ],
   "source": [
    "def listing03():\n",
    "    import numpy as np\n",
    "\n",
    "    x = np.array(12)\n",
    "    print(\"Scalars (rank-0 tensors)\")\n",
    "    print(f\"x: {x}\")\n",
    "    print(f\"x.ndim: {x.ndim}\")\n",
    "    print()\n",
    "    \n",
    "    print(\"Vectors (rank-1 tensors)\")\n",
    "    x = np.array([12, 3, 6, 14, 7])\n",
    "    print(f\"x: {x}\")\n",
    "    print(f\"x.ndim: {x.ndim}\")\n",
    "    print()\n",
    "    \n",
    "    print(\"Matrices (rank-2 tensors)\")\n",
    "    x = np.array([[5, 78, 2, 34, 0],\n",
    "              [6, 79, 3, 35, 1],\n",
    "              [7, 80, 4, 36, 2]])\n",
    "    print(f\"x:\\n{x}\")\n",
    "    print(f\"x.ndim: {x.ndim}\")\n",
    "    print()\n",
    "    \n",
    "    \n",
    "    print(\"Rank-3 tensors and higher-rank tensors\")\n",
    "    x = np.array([[[5, 78, 2, 34, 0],\n",
    "               [6, 79, 3, 35, 1],\n",
    "               [7, 80, 4, 36, 2]],\n",
    "              [[5, 78, 2, 34, 0],\n",
    "               [6, 79, 3, 35, 1],\n",
    "               [7, 80, 4, 36, 2]],\n",
    "              [[5, 78, 2, 34, 0],\n",
    "               [6, 79, 3, 35, 1],\n",
    "               [7, 80, 4, 36, 2]]])\n",
    "    print(f\"x:\\n{x}\")\n",
    "    print(f\"x.ndim: {x.ndim}\")\n",
    "    print()\n",
    "    \n",
    "listing03()"
   ]
  },
  {
   "cell_type": "markdown",
   "metadata": {
    "id": "Ify2zojhcuvr"
   },
   "source": [
    "---\n",
    "### Key attributes"
   ]
  },
  {
   "cell_type": "code",
   "execution_count": 2,
   "metadata": {
    "executionInfo": {
     "elapsed": 33,
     "status": "ok",
     "timestamp": 1626002937173,
     "user": {
      "displayName": "George Baptista",
      "photoUrl": "https://lh3.googleusercontent.com/a-/AOh14GgSPpSfsW2MVJCfiHcd-wtEgNTenixcvSYXZ9Lo=s64",
      "userId": "16776465488006883803"
     },
     "user_tz": -540
    },
    "id": "mdi0ZFhAcuvs"
   },
   "outputs": [
    {
     "name": "stdout",
     "output_type": "stream",
     "text": [
      "train_images.ndim: 3\n",
      "train_images.shape: (60000, 28, 28)\n",
      "train_images.dtype: uint8\n",
      "Display 4th digit\n"
     ]
    },
    {
     "data": {
      "image/png": "[encoded data removed]",
      "text/plain": [
       "<Figure size 432x288 with 1 Axes>"
      ]
     },
     "metadata": {
      "needs_background": "light"
     },
     "output_type": "display_data"
    }
   ],
   "source": [
    "def listing04():\n",
    "    import tensorflow\n",
    "    import matplotlib.pyplot as plt\n",
    "    \n",
    "    from tensorflow.keras.datasets import mnist\n",
    "    (train_images, train_labels), (test_images, test_labels) = mnist.load_data()\n",
    "    \n",
    "    print(f\"train_images.ndim: {train_images.ndim}\")\n",
    "    print(f\"train_images.shape: {train_images.shape}\")\n",
    "    print(f\"train_images.dtype: {train_images.dtype}\")\n",
    "    \n",
    "    print(\"Display 4th digit\")\n",
    "    digit = train_images[4]\n",
    "    plt.imshow(digit, cmap=plt.cm.binary)\n",
    "    plt.show()\n",
    "    \n",
    "listing04()"
   ]
  },
  {
   "cell_type": "markdown",
   "metadata": {
    "id": "h57WGy2tcuvz"
   },
   "source": [
    "---\n",
    "### Manipulating tensors in NumPy"
   ]
  },
  {
   "cell_type": "code",
   "execution_count": 3,
   "metadata": {
    "colab": {
     "base_uri": "https://localhost:8080/"
    },
    "executionInfo": {
     "elapsed": 151,
     "status": "ok",
     "timestamp": 1626002937682,
     "user": {
      "displayName": "George Baptista",
      "photoUrl": "https://lh3.googleusercontent.com/a-/AOh14GgSPpSfsW2MVJCfiHcd-wtEgNTenixcvSYXZ9Lo=s64",
      "userId": "16776465488006883803"
     },
     "user_tz": -540
    },
    "id": "qdj1huTgcuvz",
    "outputId": "762767aa-b2e6-48b2-b681-d8fc19c6661f"
   },
   "outputs": [
    {
     "name": "stdout",
     "output_type": "stream",
     "text": [
      "(90, 28, 28)\n",
      "\n",
      "(90, 28, 28)\n",
      "\n",
      "(90, 28, 28)\n",
      "\n",
      "[[[240 253 253 ...   0   0   0]\n",
      "  [ 45 186 253 ...   0   0   0]\n",
      "  [  0  16  93 ...   0   0   0]\n",
      "  ...\n",
      "  [  0   0   0 ...   0   0   0]\n",
      "  [  0   0   0 ...   0   0   0]\n",
      "  [  0   0   0 ...   0   0   0]]\n",
      "\n",
      " [[  0   0   0 ...   0   0   0]\n",
      "  [  0   0   0 ...   0   0   0]\n",
      "  [  0   0   0 ...   0   0   0]\n",
      "  ...\n",
      "  [  0   0   0 ...   0   0   0]\n",
      "  [  0   0   0 ...   0   0   0]\n",
      "  [  0   0   0 ...   0   0   0]]\n",
      "\n",
      " [[241 243 234 ...   0   0   0]\n",
      "  [143  91  28 ...   0   0   0]\n",
      "  [  0   0   0 ...   0   0   0]\n",
      "  ...\n",
      "  [  0   0   0 ...   0   0   0]\n",
      "  [  0   0   0 ...   0   0   0]\n",
      "  [  0   0   0 ...   0   0   0]]\n",
      "\n",
      " ...\n",
      "\n",
      " [[253 254 253 ...   0   0   0]\n",
      "  [ 72 192 254 ...   0   0   0]\n",
      "  [  0   6 242 ...   0   0   0]\n",
      "  ...\n",
      "  [  0   0   0 ...   0   0   0]\n",
      "  [  0   0   0 ...   0   0   0]\n",
      "  [  0   0   0 ...   0   0   0]]\n",
      "\n",
      " [[  0  31 127 ...   0   0   0]\n",
      "  [ 27 218 252 ...   0   0   0]\n",
      "  [194 253 217 ...   0   0   0]\n",
      "  ...\n",
      "  [  0   0   0 ...   0   0   0]\n",
      "  [  0   0   0 ...   0   0   0]\n",
      "  [  0   0   0 ...   0   0   0]]\n",
      "\n",
      " [[ 97 254 252 ...   0   0   0]\n",
      "  [232 181  60 ...   0   0   0]\n",
      "  [ 46   0   0 ...   0   0   0]\n",
      "  ...\n",
      "  [  0   0   0 ...   0   0   0]\n",
      "  [  0   0   0 ...   0   0   0]\n",
      "  [  0   0   0 ...   0   0   0]]]\n",
      "\n",
      "[[[ 49 238 253 ...  93  82  82]\n",
      "  [ 18 219 253 ...   0   0   0]\n",
      "  [  0  80 156 ...   0   0   0]\n",
      "  ...\n",
      "  [  0   0   0 ... 253 207   2]\n",
      "  [  0   0   0 ... 250 182   0]\n",
      "  [  0   0   0 ...  78   0   0]]\n",
      "\n",
      " [[  0   0   0 ...  84 252 253]\n",
      "  [  0   0   0 ...  96 189 253]\n",
      "  [  0   0   0 ...  47  79 255]\n",
      "  ...\n",
      "  [252 145   0 ... 252 173   0]\n",
      "  [253 225   0 ... 162   0   0]\n",
      "  [252 249 146 ...  56   0   0]]\n",
      "\n",
      " [[  0   0   0 ...   0   2 153]\n",
      "  [  0   0   0 ...   0  27 254]\n",
      "  [  0   0   0 ...   0 183 254]\n",
      "  ...\n",
      "  [  0   0   0 ... 254  57   0]\n",
      "  [  0   0   0 ... 254  57   0]\n",
      "  [  0   0   0 ... 255  94   0]]\n",
      "\n",
      " ...\n",
      "\n",
      " [[  0   0   0 ... 223 159 131]\n",
      "  [  0   0   0 ...  27   0   0]\n",
      "  [  0   0  54 ...   0   0   0]\n",
      "  ...\n",
      "  [  0   0   0 ... 173   0   0]\n",
      "  [  0   0   0 ... 173   0   0]\n",
      "  [  0   0   0 ...  74   0   0]]\n",
      "\n",
      " [[  0   0   0 ...   0   0   0]\n",
      "  [  0   0   0 ...   0   0   0]\n",
      "  [  0   0   0 ...   0   0   0]\n",
      "  ...\n",
      "  [247 110   0 ... 146 163  63]\n",
      "  [236 128   0 ... 178  12   0]\n",
      "  [239 196 169 ...   0   0   0]]\n",
      "\n",
      " [[  0   0   0 ... 254 212  27]\n",
      "  [  0   0   0 ... 218 237 248]\n",
      "  [  0   0   0 ...   0  92 231]\n",
      "  ...\n",
      "  [  0 110 254 ...   0   0   0]\n",
      "  [131 254 154 ...   0   0   0]\n",
      "  [209 153  19 ...   0   0   0]]]\n",
      "\n"
     ]
    }
   ],
   "source": [
    "def listing05():\n",
    "    import tensorflow\n",
    "    import matplotlib.pyplot as plt\n",
    "    \n",
    "    from tensorflow.keras.datasets import mnist\n",
    "    (train_images, train_labels), (test_images, test_labels) = mnist.load_data()\n",
    "\n",
    "    my_slice = train_images[10:100]\n",
    "    print(my_slice.shape)\n",
    "    print()\n",
    "    \n",
    "    my_slice = train_images[10:100, :, :]\n",
    "    print(my_slice.shape)\n",
    "    print()\n",
    "    \n",
    "    my_slice = train_images[10:100, 0:28, 0:28]\n",
    "    print(my_slice.shape)\n",
    "    print()\n",
    "    \n",
    "    my_slice = train_images[:, 14:, 14:]\n",
    "    print(my_slice)\n",
    "    print()\n",
    "    \n",
    "    my_slice = train_images[:, 7:-7, 7:-7]\n",
    "    print(my_slice)\n",
    "    print()\n",
    "\n",
    "listing05()"
   ]
  },
  {
   "cell_type": "markdown",
   "metadata": {
    "id": "uiCy_WVgcuv1"
   },
   "source": [
    "---\n",
    "### The notion of data batches"
   ]
  },
  {
   "cell_type": "code",
   "execution_count": 4,
   "metadata": {
    "executionInfo": {
     "elapsed": 86,
     "status": "ok",
     "timestamp": 1626002937685,
     "user": {
      "displayName": "George Baptista",
      "photoUrl": "https://lh3.googleusercontent.com/a-/AOh14GgSPpSfsW2MVJCfiHcd-wtEgNTenixcvSYXZ9Lo=s64",
      "userId": "16776465488006883803"
     },
     "user_tz": -540
    },
    "id": "QsrzvKfkcuv1"
   },
   "outputs": [
    {
     "name": "stdout",
     "output_type": "stream",
     "text": [
      "(128, 28, 28)\n",
      "[0 0 0 0 0 0 0 0 0 0 0 0 0 0 0 0 0 0 0 0 0 0 0 0 0 0 0 0]\n",
      "\n",
      "(128, 28, 28)\n",
      "[0 0 0 0 0 0 0 0 0 0 0 0 0 0 0 0 0 0 0 0 0 0 0 0 0 0 0 0]\n",
      "\n",
      "(128, 28, 28)\n",
      "[0 0 0 0 0 0 0 0 0 0 0 0 0 0 0 0 0 0 0 0 0 0 0 0 0 0 0 0]\n",
      "\n"
     ]
    }
   ],
   "source": [
    "def listing06():\n",
    "    import tensorflow\n",
    "    import matplotlib.pyplot as plt\n",
    "    \n",
    "    from tensorflow.keras.datasets import mnist\n",
    "    (train_images, train_labels), (test_images, test_labels) = mnist.load_data()\n",
    "    \n",
    "    batch = train_images[:128]\n",
    "    print(batch.shape)\n",
    "    print(batch[0][0])\n",
    "    print()\n",
    "    \n",
    "    batch = train_images[128:256]\n",
    "    print(batch.shape)\n",
    "    print(batch[0][0])\n",
    "    print()\n",
    "    \n",
    "    n = 3\n",
    "    batch = train_images[128 * n:128 * (n + 1)]\n",
    "    print(batch.shape)\n",
    "    print(batch[0][0])\n",
    "    print()\n",
    "    \n",
    "\n",
    "listing06()"
   ]
  },
  {
   "cell_type": "markdown",
   "metadata": {
    "id": "Lh-JdL5bcuv5"
   },
   "source": [
    "---\n",
    "### Element-wise operations"
   ]
  },
  {
   "cell_type": "code",
   "execution_count": 5,
   "metadata": {
    "executionInfo": {
     "elapsed": 87,
     "status": "ok",
     "timestamp": 1626002937688,
     "user": {
      "displayName": "George Baptista",
      "photoUrl": "https://lh3.googleusercontent.com/a-/AOh14GgSPpSfsW2MVJCfiHcd-wtEgNTenixcvSYXZ9Lo=s64",
      "userId": "16776465488006883803"
     },
     "user_tz": -540
    },
    "id": "Ch-psxmmcuv5"
   },
   "outputs": [
    {
     "name": "stdout",
     "output_type": "stream",
     "text": [
      "Took: 0.01 s\n",
      "Took: 3.72 s\n"
     ]
    }
   ],
   "source": [
    "def listing07():\n",
    "    import time\n",
    "    import numpy as np\n",
    "\n",
    "    def naive_relu(x):\n",
    "        assert len(x.shape) == 2\n",
    "        x = x.copy()\n",
    "        for i in range(x.shape[0]):\n",
    "            for j in range(x.shape[1]):\n",
    "                x[i, j] = max(x[i, j], 0)\n",
    "        return x\n",
    "\n",
    "    def naive_add(x, y):\n",
    "        assert len(x.shape) == 2\n",
    "        assert x.shape == y.shape\n",
    "        x = x.copy()\n",
    "        for i in range(x.shape[0]):\n",
    "            for j in range(x.shape[1]):\n",
    "                x[i, j] += y[i, j]\n",
    "        return x\n",
    "    \n",
    "    #####\n",
    "    \n",
    "    x = np.random.random((20, 100))\n",
    "    y = np.random.random((20, 100))\n",
    "\n",
    "    t0 = time.time()\n",
    "\n",
    "    for _ in range(1000):\n",
    "        z = x + y\n",
    "        z = np.maximum(z, 0.)\n",
    "\n",
    "    print(\"Took: {0:.2f} s\".format(time.time() - t0))\n",
    "    \n",
    "    ######\n",
    "    \n",
    "    t0 = time.time()\n",
    "    for _ in range(1000):\n",
    "        z = naive_add(x, y)\n",
    "        z = naive_relu(z)\n",
    "    print(\"Took: {0:.2f} s\".format(time.time() - t0))\n",
    "\n",
    "    \n",
    "listing07()"
   ]
  },
  {
   "cell_type": "markdown",
   "metadata": {
    "id": "3NLFYuLncuv7"
   },
   "source": [
    "### Broadcasting"
   ]
  },
  {
   "cell_type": "code",
   "execution_count": 6,
   "metadata": {
    "executionInfo": {
     "elapsed": 85,
     "status": "ok",
     "timestamp": 1626002940139,
     "user": {
      "displayName": "George Baptista",
      "photoUrl": "https://lh3.googleusercontent.com/a-/AOh14GgSPpSfsW2MVJCfiHcd-wtEgNTenixcvSYXZ9Lo=s64",
      "userId": "16776465488006883803"
     },
     "user_tz": -540
    },
    "id": "zPrk9Qcecuv7"
   },
   "outputs": [],
   "source": [
    "def listing08():\n",
    "    import numpy as np\n",
    "    \n",
    "    X = np.random.random((32, 10))\n",
    "    y = np.random.random((10,))\n",
    "\n",
    "    y = np.expand_dims(y, axis=0)\n",
    "    print(y.shape)\n",
    "    print(y[0])\n",
    "    print()\n",
    "    \n",
    "    Y = np.concatenate([y] * 32, axis=0)\n",
    "    print(Y.shape)\n",
    "    print(Y[3])\n",
    "    print()\n",
    "    \n",
    "    def naive_add_matrix_and_vector(x, y):\n",
    "        assert len(x.shape) == 2\n",
    "        assert len(y.shape) == 1\n",
    "        assert x.shape[1] == y.shape[0]\n",
    "        x = x.copy()\n",
    "        for i in range(x.shape[0]):\n",
    "            for j in range(x.shape[1]):\n",
    "                x[i, j] += y[j]\n",
    "        return x\n",
    "    \n",
    "    \n",
    "    \n",
    "    x = np.random.random((64, 3, 32, 10))\n",
    "    print(x.shape)\n",
    "    print(x[0][0][0][0])\n",
    "    print()\n",
    "    \n",
    "    y = np.random.random((32, 10))\n",
    "    print(y.shape)\n",
    "    print(y[0][0])\n",
    "    print()\n",
    "    \n",
    "    z = np.maximum(x, y)\n",
    "    print(z.shape)\n",
    "    print(z[0][0][0])\n",
    "    \n",
    "\n",
    "    listing08()"
   ]
  },
  {
   "cell_type": "markdown",
   "metadata": {
    "id": "6EcW-bmNcuv9"
   },
   "source": [
    "---\n",
    "### Tensor product"
   ]
  },
  {
   "cell_type": "code",
   "execution_count": 9,
   "metadata": {
    "executionInfo": {
     "elapsed": 79,
     "status": "ok",
     "timestamp": 1626002940141,
     "user": {
      "displayName": "George Baptista",
      "photoUrl": "https://lh3.googleusercontent.com/a-/AOh14GgSPpSfsW2MVJCfiHcd-wtEgNTenixcvSYXZ9Lo=s64",
      "userId": "16776465488006883803"
     },
     "user_tz": -540
    },
    "id": "LskRF3r0cuv9"
   },
   "outputs": [],
   "source": [
    "import numpy as np\n",
    "x = np.random.random((32,))\n",
    "y = np.random.random((32,))\n",
    "z = np.dot(x, y)"
   ]
  },
  {
   "cell_type": "code",
   "execution_count": 10,
   "metadata": {
    "executionInfo": {
     "elapsed": 78,
     "status": "ok",
     "timestamp": 1626002940141,
     "user": {
      "displayName": "George Baptista",
      "photoUrl": "https://lh3.googleusercontent.com/a-/AOh14GgSPpSfsW2MVJCfiHcd-wtEgNTenixcvSYXZ9Lo=s64",
      "userId": "16776465488006883803"
     },
     "user_tz": -540
    },
    "id": "qMNmE3WLcuv9"
   },
   "outputs": [],
   "source": [
    "def naive_vector_dot(x, y):\n",
    "    assert len(x.shape) == 1\n",
    "    assert len(y.shape) == 1\n",
    "    assert x.shape[0] == y.shape[0]\n",
    "    z = 0.\n",
    "    for i in range(x.shape[0]):\n",
    "        z += x[i] * y[i]\n",
    "    return z"
   ]
  },
  {
   "cell_type": "code",
   "execution_count": 11,
   "metadata": {
    "executionInfo": {
     "elapsed": 79,
     "status": "ok",
     "timestamp": 1626002940142,
     "user": {
      "displayName": "George Baptista",
      "photoUrl": "https://lh3.googleusercontent.com/a-/AOh14GgSPpSfsW2MVJCfiHcd-wtEgNTenixcvSYXZ9Lo=s64",
      "userId": "16776465488006883803"
     },
     "user_tz": -540
    },
    "id": "-YQV0xb8cuv-"
   },
   "outputs": [],
   "source": [
    "def naive_matrix_vector_dot(x, y):\n",
    "    assert len(x.shape) == 2\n",
    "    assert len(y.shape) == 1\n",
    "    assert x.shape[1] == y.shape[0]\n",
    "    z = np.zeros(x.shape[0])\n",
    "    for i in range(x.shape[0]):\n",
    "        for j in range(x.shape[1]):\n",
    "            z[i] += x[i, j] * y[j]\n",
    "    return z"
   ]
  },
  {
   "cell_type": "code",
   "execution_count": 12,
   "metadata": {
    "executionInfo": {
     "elapsed": 78,
     "status": "ok",
     "timestamp": 1626002940142,
     "user": {
      "displayName": "George Baptista",
      "photoUrl": "https://lh3.googleusercontent.com/a-/AOh14GgSPpSfsW2MVJCfiHcd-wtEgNTenixcvSYXZ9Lo=s64",
      "userId": "16776465488006883803"
     },
     "user_tz": -540
    },
    "id": "G5WSt4npcuv-"
   },
   "outputs": [],
   "source": [
    "def naive_matrix_vector_dot(x, y):\n",
    "    z = np.zeros(x.shape[0])\n",
    "    for i in range(x.shape[0]):\n",
    "        z[i] = naive_vector_dot(x[i, :], y)\n",
    "    return z"
   ]
  },
  {
   "cell_type": "code",
   "execution_count": 13,
   "metadata": {
    "executionInfo": {
     "elapsed": 78,
     "status": "ok",
     "timestamp": 1626002940143,
     "user": {
      "displayName": "George Baptista",
      "photoUrl": "https://lh3.googleusercontent.com/a-/AOh14GgSPpSfsW2MVJCfiHcd-wtEgNTenixcvSYXZ9Lo=s64",
      "userId": "16776465488006883803"
     },
     "user_tz": -540
    },
    "id": "lfTt7B15cuv-"
   },
   "outputs": [],
   "source": [
    "def naive_matrix_dot(x, y):\n",
    "    assert len(x.shape) == 2\n",
    "    assert len(y.shape) == 2\n",
    "    assert x.shape[1] == y.shape[0]\n",
    "    z = np.zeros((x.shape[0], y.shape[1]))\n",
    "    for i in range(x.shape[0]):\n",
    "        for j in range(y.shape[1]):\n",
    "            row_x = x[i, :]\n",
    "            column_y = y[:, j]\n",
    "            z[i, j] = naive_vector_dot(row_x, column_y)\n",
    "    return z"
   ]
  },
  {
   "cell_type": "markdown",
   "metadata": {
    "id": "Jkos7cVqcuv_"
   },
   "source": [
    "### Tensor reshaping"
   ]
  },
  {
   "cell_type": "code",
   "execution_count": 14,
   "metadata": {
    "executionInfo": {
     "elapsed": 78,
     "status": "ok",
     "timestamp": 1626002940143,
     "user": {
      "displayName": "George Baptista",
      "photoUrl": "https://lh3.googleusercontent.com/a-/AOh14GgSPpSfsW2MVJCfiHcd-wtEgNTenixcvSYXZ9Lo=s64",
      "userId": "16776465488006883803"
     },
     "user_tz": -540
    },
    "id": "0RRtY73rcuwB"
   },
   "outputs": [
    {
     "ename": "NameError",
     "evalue": "name 'train_images' is not defined",
     "output_type": "error",
     "traceback": [
      "\u001b[0;31m---------------------------------------------------------------------------\u001b[0m",
      "\u001b[0;31mNameError\u001b[0m                                 Traceback (most recent call last)",
      "\u001b[0;32m<ipython-input-14-7bd7d80a3a8b>\u001b[0m in \u001b[0;36m<module>\u001b[0;34m\u001b[0m\n\u001b[0;32m----> 1\u001b[0;31m \u001b[0mtrain_images\u001b[0m \u001b[0;34m=\u001b[0m \u001b[0mtrain_images\u001b[0m\u001b[0;34m.\u001b[0m\u001b[0mreshape\u001b[0m\u001b[0;34m(\u001b[0m\u001b[0;34m(\u001b[0m\u001b[0;36m60000\u001b[0m\u001b[0;34m,\u001b[0m \u001b[0;36m28\u001b[0m \u001b[0;34m*\u001b[0m \u001b[0;36m28\u001b[0m\u001b[0;34m)\u001b[0m\u001b[0;34m)\u001b[0m\u001b[0;34m\u001b[0m\u001b[0;34m\u001b[0m\u001b[0m\n\u001b[0m",
      "\u001b[0;31mNameError\u001b[0m: name 'train_images' is not defined"
     ]
    }
   ],
   "source": [
    "train_images = train_images.reshape((60000, 28 * 28))"
   ]
  },
  {
   "cell_type": "code",
   "execution_count": null,
   "metadata": {
    "colab": {
     "base_uri": "https://localhost:8080/"
    },
    "executionInfo": {
     "elapsed": 78,
     "status": "ok",
     "timestamp": 1626002940144,
     "user": {
      "displayName": "George Baptista",
      "photoUrl": "https://lh3.googleusercontent.com/a-/AOh14GgSPpSfsW2MVJCfiHcd-wtEgNTenixcvSYXZ9Lo=s64",
      "userId": "16776465488006883803"
     },
     "user_tz": -540
    },
    "id": "4vM-S6HwcuwB",
    "outputId": "a893c1f5-8eeb-417c-e93f-ee7c428bbb13"
   },
   "outputs": [],
   "source": [
    "x = np.array([[0., 1.],\n",
    "             [2., 3.],\n",
    "             [4., 5.]])\n",
    "x.shape"
   ]
  },
  {
   "cell_type": "code",
   "execution_count": null,
   "metadata": {
    "colab": {
     "base_uri": "https://localhost:8080/"
    },
    "executionInfo": {
     "elapsed": 57,
     "status": "ok",
     "timestamp": 1626002940144,
     "user": {
      "displayName": "George Baptista",
      "photoUrl": "https://lh3.googleusercontent.com/a-/AOh14GgSPpSfsW2MVJCfiHcd-wtEgNTenixcvSYXZ9Lo=s64",
      "userId": "16776465488006883803"
     },
     "user_tz": -540
    },
    "id": "QO82xDnYcuwC",
    "outputId": "be8e475a-b64e-4b0a-c116-e762ee36bc4f"
   },
   "outputs": [],
   "source": [
    "x = x.reshape((6, 1))\n",
    "x"
   ]
  },
  {
   "cell_type": "code",
   "execution_count": null,
   "metadata": {
    "colab": {
     "base_uri": "https://localhost:8080/"
    },
    "executionInfo": {
     "elapsed": 38,
     "status": "ok",
     "timestamp": 1626002940145,
     "user": {
      "displayName": "George Baptista",
      "photoUrl": "https://lh3.googleusercontent.com/a-/AOh14GgSPpSfsW2MVJCfiHcd-wtEgNTenixcvSYXZ9Lo=s64",
      "userId": "16776465488006883803"
     },
     "user_tz": -540
    },
    "id": "nj1OSVjacuwC",
    "outputId": "3d947cc2-aa56-4418-c46c-3e36699b9fbb"
   },
   "outputs": [],
   "source": [
    "x = np.zeros((300, 20))\n",
    "x = np.transpose(x)\n",
    "x.shape"
   ]
  },
  {
   "cell_type": "markdown",
   "metadata": {
    "id": "pElG7OE2cuwF"
   },
   "source": [
    "---\n",
    "#### The Gradient Tape in TensorFlow"
   ]
  },
  {
   "cell_type": "code",
   "execution_count": null,
   "metadata": {
    "executionInfo": {
     "elapsed": 16,
     "status": "ok",
     "timestamp": 1626002940145,
     "user": {
      "displayName": "George Baptista",
      "photoUrl": "https://lh3.googleusercontent.com/a-/AOh14GgSPpSfsW2MVJCfiHcd-wtEgNTenixcvSYXZ9Lo=s64",
      "userId": "16776465488006883803"
     },
     "user_tz": -540
    },
    "id": "PXx2zFQHcuwF"
   },
   "outputs": [],
   "source": [
    "import tensorflow as tf\n",
    "x = tf.Variable(0.)\n",
    "with tf.GradientTape() as tape:\n",
    "    y = 2 * x + 3\n",
    "grad_of_y_wrt_x = tape.gradient(y, x)"
   ]
  },
  {
   "cell_type": "code",
   "execution_count": null,
   "metadata": {
    "executionInfo": {
     "elapsed": 15,
     "status": "ok",
     "timestamp": 1626002940145,
     "user": {
      "displayName": "George Baptista",
      "photoUrl": "https://lh3.googleusercontent.com/a-/AOh14GgSPpSfsW2MVJCfiHcd-wtEgNTenixcvSYXZ9Lo=s64",
      "userId": "16776465488006883803"
     },
     "user_tz": -540
    },
    "id": "A-CwtA63cuwG"
   },
   "outputs": [],
   "source": [
    "x = tf.Variable(tf.random.uniform((2, 2)))\n",
    "with tf.GradientTape() as tape:\n",
    "    y = 2 * x + 3\n",
    "grad_of_y_wrt_x = tape.gradient(y, x)"
   ]
  },
  {
   "cell_type": "code",
   "execution_count": null,
   "metadata": {
    "executionInfo": {
     "elapsed": 16,
     "status": "ok",
     "timestamp": 1626002940146,
     "user": {
      "displayName": "George Baptista",
      "photoUrl": "https://lh3.googleusercontent.com/a-/AOh14GgSPpSfsW2MVJCfiHcd-wtEgNTenixcvSYXZ9Lo=s64",
      "userId": "16776465488006883803"
     },
     "user_tz": -540
    },
    "id": "L7rhGck1cuwG"
   },
   "outputs": [],
   "source": [
    "W = tf.Variable(tf.random.uniform((2, 2)))\n",
    "b = tf.Variable(tf.zeros((2,)))\n",
    "x = tf.random.uniform((2, 2))\n",
    "with tf.GradientTape() as tape:\n",
    "    y = tf.matmul(x, W) + b\n",
    "grad_of_y_wrt_W_and_b = tape.gradient(y, [W, b])"
   ]
  },
  {
   "cell_type": "markdown",
   "metadata": {
    "id": "DzARoCqgcuwG"
   },
   "source": [
    "---\n",
    "## Looking back at our first example"
   ]
  },
  {
   "cell_type": "code",
   "execution_count": null,
   "metadata": {
    "executionInfo": {
     "elapsed": 380,
     "status": "ok",
     "timestamp": 1626002940511,
     "user": {
      "displayName": "George Baptista",
      "photoUrl": "https://lh3.googleusercontent.com/a-/AOh14GgSPpSfsW2MVJCfiHcd-wtEgNTenixcvSYXZ9Lo=s64",
      "userId": "16776465488006883803"
     },
     "user_tz": -540
    },
    "id": "5mIJUS_McuwG"
   },
   "outputs": [],
   "source": [
    "def listing20():\n",
    "    from tensorflow.keras.datasets import mnist\n",
    "    from tensorflow import keras\n",
    "    import tensorflow as tf\n",
    "\n",
    "    (train_images, train_labels), (test_images, test_labels) = mnist.load_data()\n",
    "    train_images = train_images.reshape((60000, 28 * 28))\n",
    "    train_images = train_images.astype(\"float32\") / 255\n",
    "    test_images = test_images.reshape((10000, 28 * 28))\n",
    "    test_images = test_images.astype(\"float32\") / 255\n",
    "    \n",
    "    model = keras.Sequential([\n",
    "        tf.keras.layers.Dense(512, activation=\"relu\"),\n",
    "        tf.keras.layers.Dense(10, activation=\"softmax\")\n",
    "    ])\n",
    "    \n",
    "    model.compile(optimizer=\"rmsprop\",\n",
    "              loss=\"sparse_categorical_crossentropy\",\n",
    "              metrics=[\"accuracy\"])\n",
    "    \n",
    "    model.fit(train_images, train_labels, epochs=5, batch_size=128)\n",
    "    \n",
    "    \n",
    "listing20()"
   ]
  },
  {
   "cell_type": "code",
   "execution_count": null,
   "metadata": {
    "colab": {
     "base_uri": "https://localhost:8080/"
    },
    "executionInfo": {
     "elapsed": 10672,
     "status": "ok",
     "timestamp": 1626002951180,
     "user": {
      "displayName": "George Baptista",
      "photoUrl": "https://lh3.googleusercontent.com/a-/AOh14GgSPpSfsW2MVJCfiHcd-wtEgNTenixcvSYXZ9Lo=s64",
      "userId": "16776465488006883803"
     },
     "user_tz": -540
    },
    "id": "tYMdmINscuwI",
    "outputId": "b7c9ea84-823e-4c18-db1b-ca67e4398a3e"
   },
   "outputs": [],
   "source": []
  },
  {
   "cell_type": "markdown",
   "metadata": {
    "id": "Zi-hddbzcuwJ"
   },
   "source": [
    "---\n",
    "### Reimplementing our first example from scratch in TensorFlow"
   ]
  },
  {
   "cell_type": "markdown",
   "metadata": {
    "id": "YjcE5RodcuwJ"
   },
   "source": [
    "#### A simple Dense class"
   ]
  },
  {
   "cell_type": "code",
   "execution_count": null,
   "metadata": {
    "executionInfo": {
     "elapsed": 13,
     "status": "ok",
     "timestamp": 1626002951180,
     "user": {
      "displayName": "George Baptista",
      "photoUrl": "https://lh3.googleusercontent.com/a-/AOh14GgSPpSfsW2MVJCfiHcd-wtEgNTenixcvSYXZ9Lo=s64",
      "userId": "16776465488006883803"
     },
     "user_tz": -540
    },
    "id": "_AT4xCgGcuwK"
   },
   "outputs": [],
   "source": [
    "import tensorflow as tf\n",
    "\n",
    "class NaiveDense:\n",
    "    def __init__(self, input_size, output_size, activation):\n",
    "        self.activation = activation\n",
    "\n",
    "        w_shape = (input_size, output_size)\n",
    "        w_initial_value = tf.random.uniform(w_shape, minval=0, maxval=1e-1)\n",
    "        self.W = tf.Variable(w_initial_value)\n",
    "\n",
    "        b_shape = (output_size,)\n",
    "        b_initial_value = tf.zeros(b_shape)\n",
    "        self.b = tf.Variable(b_initial_value)\n",
    "\n",
    "    def __call__(self, inputs):\n",
    "        return self.activation(tf.matmul(inputs, self.W) + self.b)\n",
    "\n",
    "    @property\n",
    "    def weights(self):\n",
    "        return [self.W, self.b]"
   ]
  },
  {
   "cell_type": "markdown",
   "metadata": {
    "id": "wYwJp5gkcuwK"
   },
   "source": [
    "#### A simple Sequential class"
   ]
  },
  {
   "cell_type": "code",
   "execution_count": null,
   "metadata": {
    "executionInfo": {
     "elapsed": 12,
     "status": "ok",
     "timestamp": 1626002951181,
     "user": {
      "displayName": "George Baptista",
      "photoUrl": "https://lh3.googleusercontent.com/a-/AOh14GgSPpSfsW2MVJCfiHcd-wtEgNTenixcvSYXZ9Lo=s64",
      "userId": "16776465488006883803"
     },
     "user_tz": -540
    },
    "id": "daN5o4zMcuwK"
   },
   "outputs": [],
   "source": [
    "class NaiveSequential:\n",
    "    def __init__(self, layers):\n",
    "        self.layers = layers\n",
    "\n",
    "    def __call__(self, inputs):\n",
    "        x = inputs\n",
    "        for layer in self.layers:\n",
    "           x = layer(x)\n",
    "        return x\n",
    "\n",
    "    @property\n",
    "    def weights(self):\n",
    "       weights = []\n",
    "       for layer in self.layers:\n",
    "           weights += layer.weights\n",
    "       return weights"
   ]
  },
  {
   "cell_type": "code",
   "execution_count": null,
   "metadata": {
    "executionInfo": {
     "elapsed": 11,
     "status": "ok",
     "timestamp": 1626002951181,
     "user": {
      "displayName": "George Baptista",
      "photoUrl": "https://lh3.googleusercontent.com/a-/AOh14GgSPpSfsW2MVJCfiHcd-wtEgNTenixcvSYXZ9Lo=s64",
      "userId": "16776465488006883803"
     },
     "user_tz": -540
    },
    "id": "HIq2RebacuwK"
   },
   "outputs": [],
   "source": [
    "model = NaiveSequential([\n",
    "    NaiveDense(input_size=28 * 28, output_size=512, activation=tf.nn.relu),\n",
    "    NaiveDense(input_size=512, output_size=10, activation=tf.nn.softmax)\n",
    "])\n",
    "assert len(model.weights) == 4"
   ]
  },
  {
   "cell_type": "markdown",
   "metadata": {
    "id": "qQ2XsCdDcuwL"
   },
   "source": [
    "#### A batch generator"
   ]
  },
  {
   "cell_type": "code",
   "execution_count": null,
   "metadata": {
    "executionInfo": {
     "elapsed": 11,
     "status": "ok",
     "timestamp": 1626002951182,
     "user": {
      "displayName": "George Baptista",
      "photoUrl": "https://lh3.googleusercontent.com/a-/AOh14GgSPpSfsW2MVJCfiHcd-wtEgNTenixcvSYXZ9Lo=s64",
      "userId": "16776465488006883803"
     },
     "user_tz": -540
    },
    "id": "uCK5tPGPcuwL"
   },
   "outputs": [],
   "source": [
    "import math\n",
    "\n",
    "class BatchGenerator:\n",
    "    def __init__(self, images, labels, batch_size=128):\n",
    "        assert len(images) == len(labels)\n",
    "        self.index = 0\n",
    "        self.images = images\n",
    "        self.labels = labels\n",
    "        self.batch_size = batch_size\n",
    "        self.num_batches = math.ceil(len(images) / batch_size)\n",
    "\n",
    "    def next(self):\n",
    "        images = self.images[self.index : self.index + self.batch_size]\n",
    "        labels = self.labels[self.index : self.index + self.batch_size]\n",
    "        self.index += self.batch_size\n",
    "        return images, labels"
   ]
  },
  {
   "cell_type": "markdown",
   "metadata": {
    "id": "dmz3KXIYcuwL"
   },
   "source": [
    "### Running one training step"
   ]
  },
  {
   "cell_type": "code",
   "execution_count": null,
   "metadata": {
    "executionInfo": {
     "elapsed": 10,
     "status": "ok",
     "timestamp": 1626002951182,
     "user": {
      "displayName": "George Baptista",
      "photoUrl": "https://lh3.googleusercontent.com/a-/AOh14GgSPpSfsW2MVJCfiHcd-wtEgNTenixcvSYXZ9Lo=s64",
      "userId": "16776465488006883803"
     },
     "user_tz": -540
    },
    "id": "wsOyRFBmcuwM"
   },
   "outputs": [],
   "source": [
    "def one_training_step(model, images_batch, labels_batch):\n",
    "    with tf.GradientTape() as tape:\n",
    "        predictions = model(images_batch)\n",
    "        per_sample_losses = tf.keras.losses.sparse_categorical_crossentropy(\n",
    "            labels_batch, predictions)\n",
    "        average_loss = tf.reduce_mean(per_sample_losses)\n",
    "    gradients = tape.gradient(average_loss, model.weights)\n",
    "    update_weights(gradients, model.weights)\n",
    "    return average_loss"
   ]
  },
  {
   "cell_type": "code",
   "execution_count": null,
   "metadata": {
    "executionInfo": {
     "elapsed": 10,
     "status": "ok",
     "timestamp": 1626002951183,
     "user": {
      "displayName": "George Baptista",
      "photoUrl": "https://lh3.googleusercontent.com/a-/AOh14GgSPpSfsW2MVJCfiHcd-wtEgNTenixcvSYXZ9Lo=s64",
      "userId": "16776465488006883803"
     },
     "user_tz": -540
    },
    "id": "vWopCQJ6cuwM"
   },
   "outputs": [],
   "source": [
    "learning_rate = 1e-3\n",
    "\n",
    "def update_weights(gradients, weights):\n",
    "    for g, w in zip(gradients, model.weights):\n",
    "        w.assign_sub(g * learning_rate)"
   ]
  },
  {
   "cell_type": "code",
   "execution_count": null,
   "metadata": {
    "executionInfo": {
     "elapsed": 9,
     "status": "ok",
     "timestamp": 1626002951183,
     "user": {
      "displayName": "George Baptista",
      "photoUrl": "https://lh3.googleusercontent.com/a-/AOh14GgSPpSfsW2MVJCfiHcd-wtEgNTenixcvSYXZ9Lo=s64",
      "userId": "16776465488006883803"
     },
     "user_tz": -540
    },
    "id": "KNOwO0URcuwM"
   },
   "outputs": [],
   "source": [
    "from tensorflow.keras import optimizers\n",
    "\n",
    "optimizer = optimizers.SGD(learning_rate=1e-3)\n",
    "\n",
    "def update_weights(gradients, weights):\n",
    "    optimizer.apply_gradients(zip(gradients, weights))"
   ]
  },
  {
   "cell_type": "markdown",
   "metadata": {
    "id": "8v0Zyl8McuwM"
   },
   "source": [
    "### The full training loop"
   ]
  },
  {
   "cell_type": "code",
   "execution_count": null,
   "metadata": {
    "executionInfo": {
     "elapsed": 10,
     "status": "ok",
     "timestamp": 1626002951184,
     "user": {
      "displayName": "George Baptista",
      "photoUrl": "https://lh3.googleusercontent.com/a-/AOh14GgSPpSfsW2MVJCfiHcd-wtEgNTenixcvSYXZ9Lo=s64",
      "userId": "16776465488006883803"
     },
     "user_tz": -540
    },
    "id": "t8i24OoUcuwN"
   },
   "outputs": [],
   "source": [
    "def fit(model, images, labels, epochs, batch_size=128):\n",
    "    for epoch_counter in range(epochs):\n",
    "        print(f\"Epoch {epoch_counter}\")\n",
    "        batch_generator = BatchGenerator(images, labels)\n",
    "        for batch_counter in range(batch_generator.num_batches):\n",
    "            images_batch, labels_batch = batch_generator.next()\n",
    "            loss = one_training_step(model, images_batch, labels_batch)\n",
    "            if batch_counter % 100 == 0:\n",
    "                print(f\"loss at batch {batch_counter}: {loss:.2f}\")"
   ]
  },
  {
   "cell_type": "code",
   "execution_count": null,
   "metadata": {
    "colab": {
     "base_uri": "https://localhost:8080/"
    },
    "executionInfo": {
     "elapsed": 21322,
     "status": "ok",
     "timestamp": 1626002972497,
     "user": {
      "displayName": "George Baptista",
      "photoUrl": "https://lh3.googleusercontent.com/a-/AOh14GgSPpSfsW2MVJCfiHcd-wtEgNTenixcvSYXZ9Lo=s64",
      "userId": "16776465488006883803"
     },
     "user_tz": -540
    },
    "id": "PEr3JrMocuwN",
    "outputId": "50e6adbc-ab5a-4105-a90a-6be5833e1b62"
   },
   "outputs": [],
   "source": [
    "from tensorflow.keras.datasets import mnist\n",
    "(train_images, train_labels), (test_images, test_labels) = mnist.load_data()\n",
    "\n",
    "train_images = train_images.reshape((60000, 28 * 28))\n",
    "train_images = train_images.astype(\"float32\") / 255\n",
    "test_images = test_images.reshape((10000, 28 * 28))\n",
    "test_images = test_images.astype(\"float32\") / 255\n",
    "\n",
    "fit(model, train_images, train_labels, epochs=10, batch_size=128)"
   ]
  },
  {
   "cell_type": "markdown",
   "metadata": {
    "id": "ObtFvL_IcuwO"
   },
   "source": [
    "### Evaluating the model"
   ]
  },
  {
   "cell_type": "code",
   "execution_count": null,
   "metadata": {
    "colab": {
     "base_uri": "https://localhost:8080/"
    },
    "executionInfo": {
     "elapsed": 45,
     "status": "ok",
     "timestamp": 1626002972498,
     "user": {
      "displayName": "George Baptista",
      "photoUrl": "https://lh3.googleusercontent.com/a-/AOh14GgSPpSfsW2MVJCfiHcd-wtEgNTenixcvSYXZ9Lo=s64",
      "userId": "16776465488006883803"
     },
     "user_tz": -540
    },
    "id": "RYUTTyP3cuwO",
    "outputId": "f356af35-7c33-4679-e24d-da7f7e92aa91"
   },
   "outputs": [],
   "source": [
    "predictions = model(test_images)\n",
    "predictions = predictions.numpy()\n",
    "predicted_labels = np.argmax(predictions, axis=1)\n",
    "matches = predicted_labels == test_labels\n",
    "print(f\"accuracy: {matches.mean():.2f}\")"
   ]
  }
 ],
 "metadata": {
  "accelerator": "GPU",
  "colab": {
   "collapsed_sections": [],
   "name": "Copy of chapter02_mathematical-building-blocks.ipynb",
   "provenance": [
    {
     "file_id": "1P5WMkl8-pdNxLQWVsee5B3-01Pvw7k-7",
     "timestamp": 1625738376153
    }
   ]
  },
  "kernelspec": {
   "display_name": "Python 3",
   "language": "python",
   "name": "python3"
  },
  "language_info": {
   "codemirror_mode": {
    "name": "ipython",
    "version": 3
   },
   "file_extension": ".py",
   "mimetype": "text/x-python",
   "name": "python",
   "nbconvert_exporter": "python",
   "pygments_lexer": "ipython3",
   "version": "3.8.6"
  }
 },
 "nbformat": 4,
 "nbformat_minor": 4
}
