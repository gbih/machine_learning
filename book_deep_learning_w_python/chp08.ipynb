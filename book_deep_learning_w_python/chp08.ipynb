{
 "cells": [
  {
   "cell_type": "markdown",
   "id": "6102cee9-8747-4c6f-945b-ed0d007d6f85",
   "metadata": {},
   "source": [
    "# Chapter 08: Introduction to deep learning for computer vision"
   ]
  },
  {
   "cell_type": "markdown",
   "id": "bdfe114e-637f-4c2b-b1f1-2ff64587414c",
   "metadata": {},
   "source": [
    "## Listing 8.1 Instantiating a small convnet"
   ]
  },
  {
   "cell_type": "code",
   "execution_count": 5,
   "id": "773b8929-30f0-4ecf-8f10-92b45780f018",
   "metadata": {},
   "outputs": [],
   "source": [
    "import tensorflow as tf\n",
    "from tensorflow import keras\n",
    "from tensorflow.keras import layers\n",
    "import matplotlib.pyplot as plt\n",
    "import numpy as np\n",
    "import pandas as pd"
   ]
  },
  {
   "cell_type": "code",
   "execution_count": 6,
   "id": "d47560a4-81ff-4cbb-af37-b848138546b0",
   "metadata": {},
   "outputs": [],
   "source": [
    "def HR():\n",
    "    print(\"-\" * 40)"
   ]
  },
  {
   "cell_type": "code",
   "execution_count": 9,
   "id": "8731da6f-3e8f-46c9-86f5-ca4ab5d5dd90",
   "metadata": {},
   "outputs": [
    {
     "name": "stdout",
     "output_type": "stream",
     "text": [
      "Model: \"model_1\"\n",
      "_________________________________________________________________\n",
      " Layer (type)                Output Shape              Param #   \n",
      "=================================================================\n",
      " input_4 (InputLayer)        [(None, 28, 28, 1)]       0         \n",
      "                                                                 \n",
      " conv2d_5 (Conv2D)           (None, 26, 26, 32)        320       \n",
      "                                                                 \n",
      " max_pooling2d_4 (MaxPooling  (None, 13, 13, 32)       0         \n",
      " 2D)                                                             \n",
      "                                                                 \n",
      " conv2d_6 (Conv2D)           (None, 11, 11, 64)        18496     \n",
      "                                                                 \n",
      " max_pooling2d_5 (MaxPooling  (None, 5, 5, 64)         0         \n",
      " 2D)                                                             \n",
      "                                                                 \n",
      " conv2d_7 (Conv2D)           (None, 3, 3, 128)         73856     \n",
      "                                                                 \n",
      " flatten_1 (Flatten)         (None, 1152)              0         \n",
      "                                                                 \n",
      " dense_1 (Dense)             (None, 10)                11530     \n",
      "                                                                 \n",
      "=================================================================\n",
      "Total params: 104,202\n",
      "Trainable params: 104,202\n",
      "Non-trainable params: 0\n",
      "_________________________________________________________________\n"
     ]
    }
   ],
   "source": [
    "# Listing 8.1 Instantiating a small convnet\n",
    "inputs = keras.Input(shape=(28, 28, 1))\n",
    "x = layers.Conv2D(filters=32, kernel_size=3, activation=\"relu\")(inputs)\n",
    "x = layers.MaxPooling2D(pool_size=2)(x)\n",
    "x = layers.Conv2D(filters=64, kernel_size=3, activation=\"relu\")(x)\n",
    "x = layers.MaxPooling2D(pool_size=2)(x)\n",
    "x = layers.Conv2D(filters=128, kernel_size=3, activation=\"relu\")(x)\n",
    "x = layers.Flatten()(x)\n",
    "\n",
    "outputs = layers.Dense(10, activation=\"softmax\")(x)\n",
    "\n",
    "model = keras.Model(inputs=inputs, outputs=outputs)\n",
    "\n",
    "# Listing 8.2 Displaying the model's summary\n",
    "model.summary()"
   ]
  },
  {
   "cell_type": "markdown",
   "id": "853a7aa2-b272-476b-a952-75d0f62897cf",
   "metadata": {},
   "source": [
    "## Listing 8.3 Training the convnet on MNIST images"
   ]
  },
  {
   "cell_type": "code",
   "execution_count": 10,
   "id": "5526d655-4de6-45d8-b774-3b51417c799e",
   "metadata": {},
   "outputs": [
    {
     "name": "stdout",
     "output_type": "stream",
     "text": [
      "Epoch 1/5\n",
      "12000/12000 [==============================] - 78s 6ms/step - loss: 0.1060 - accuracy: 0.9695\n",
      "Epoch 2/5\n",
      "12000/12000 [==============================] - 99s 8ms/step - loss: 0.0650 - accuracy: 0.9848\n",
      "Epoch 3/5\n",
      "12000/12000 [==============================] - 81s 7ms/step - loss: 0.0729 - accuracy: 0.9839\n",
      "Epoch 4/5\n",
      "12000/12000 [==============================] - 86s 7ms/step - loss: 0.0797 - accuracy: 0.9841\n",
      "Epoch 5/5\n",
      "12000/12000 [==============================] - 82s 7ms/step - loss: 0.0832 - accuracy: 0.9851\n"
     ]
    }
   ],
   "source": [
    "# Listing 8.3 Training the convnet on MNIST images\n",
    "from tensorflow.keras.datasets import mnist\n",
    "\n",
    "(train_images, train_labels), (test_images, test_labels) = mnist.load_data()\n",
    "\n",
    "train_images = train_images.reshape((60_000, 28, 28, 1))\n",
    "train_images = train_images.astype(\"float32\") / 255\n",
    "\n",
    "test_images = test_images.reshape((10_000, 28, 28, 1))\n",
    "test_images = test_images.astype(\"float32\") / 255\n",
    "\n",
    "model.compile(\n",
    "    optimizer=\"rmsprop\",\n",
    "    loss=\"sparse_categorical_crossentropy\",\n",
    "    metrics=[\"accuracy\"]\n",
    ")\n",
    "\n",
    "history = model.fit(\n",
    "    train_images,\n",
    "    train_labels,\n",
    "    epochs=5,\n",
    "    batch_size=5\n",
    ")"
   ]
  },
  {
   "cell_type": "markdown",
   "id": "91c893b5-b6bf-4bbb-8e3b-7a865a6da3c0",
   "metadata": {},
   "source": [
    "## Listing 8.4 Evaluating the convnet"
   ]
  },
  {
   "cell_type": "code",
   "execution_count": 13,
   "id": "5c929a5c-5bfb-4f97-8070-a0afbe50f962",
   "metadata": {},
   "outputs": [
    {
     "name": "stdout",
     "output_type": "stream",
     "text": [
      "313/313 [==============================] - 4s 14ms/step - loss: 0.0840 - accuracy: 0.9848\n",
      "Test accuracy: 0.985\n",
      "----------------------------------------\n",
      "Model: \"model_1\"\n",
      "_________________________________________________________________\n",
      " Layer (type)                Output Shape              Param #   \n",
      "=================================================================\n",
      " input_4 (InputLayer)        [(None, 28, 28, 1)]       0         \n",
      "                                                                 \n",
      " conv2d_5 (Conv2D)           (None, 26, 26, 32)        320       \n",
      "                                                                 \n",
      " max_pooling2d_4 (MaxPooling  (None, 13, 13, 32)       0         \n",
      " 2D)                                                             \n",
      "                                                                 \n",
      " conv2d_6 (Conv2D)           (None, 11, 11, 64)        18496     \n",
      "                                                                 \n",
      " max_pooling2d_5 (MaxPooling  (None, 5, 5, 64)         0         \n",
      " 2D)                                                             \n",
      "                                                                 \n",
      " conv2d_7 (Conv2D)           (None, 3, 3, 128)         73856     \n",
      "                                                                 \n",
      " flatten_1 (Flatten)         (None, 1152)              0         \n",
      "                                                                 \n",
      " dense_1 (Dense)             (None, 10)                11530     \n",
      "                                                                 \n",
      "=================================================================\n",
      "Total params: 104,202\n",
      "Trainable params: 104,202\n",
      "Non-trainable params: 0\n",
      "_________________________________________________________________\n"
     ]
    }
   ],
   "source": [
    "# Listing 8.4 Evaluating the convnet\n",
    "test_loss, test_acc = model.evaluate(\n",
    "    test_images,\n",
    "    test_labels\n",
    ")\n",
    "\n",
    "print(f\"Test accuracy: {test_acc:.3f}\")\n",
    "\n",
    "HR()\n",
    "\n",
    "model.summary()"
   ]
  },
  {
   "cell_type": "markdown",
   "id": "c3b08909-5e98-4b8f-ae13-a40434a27c8f",
   "metadata": {},
   "source": [
    "## Listing 8.5 An incorrectly structured convnet missing its max-pooling layers"
   ]
  },
  {
   "cell_type": "code",
   "execution_count": 16,
   "id": "46de7028-f5e3-4b54-9ff9-10886c72c2ee",
   "metadata": {},
   "outputs": [
    {
     "name": "stdout",
     "output_type": "stream",
     "text": [
      "Model: \"model_4\"\n",
      "_________________________________________________________________\n",
      " Layer (type)                Output Shape              Param #   \n",
      "=================================================================\n",
      " input_7 (InputLayer)        [(None, 28, 28, 1)]       0         \n",
      "                                                                 \n",
      " conv2d_14 (Conv2D)          (None, 26, 26, 32)        320       \n",
      "                                                                 \n",
      " conv2d_15 (Conv2D)          (None, 24, 24, 64)        18496     \n",
      "                                                                 \n",
      " conv2d_16 (Conv2D)          (None, 22, 22, 128)       73856     \n",
      "                                                                 \n",
      " flatten_4 (Flatten)         (None, 61952)             0         \n",
      "                                                                 \n",
      " dense_4 (Dense)             (None, 10)                619530    \n",
      "                                                                 \n",
      "=================================================================\n",
      "Total params: 712,202\n",
      "Trainable params: 712,202\n",
      "Non-trainable params: 0\n",
      "_________________________________________________________________\n"
     ]
    }
   ],
   "source": [
    "# Listing 8.5 An incorrectly structured convnet missing its max-pooling layers\n",
    "inputs = keras.Input(shape=(28, 28, 1))\n",
    "x = layers.Conv2D(filters=32, kernel_size=3, activation=\"relu\")(inputs)\n",
    "x = layers.Conv2D(filters=64, kernel_size=3, activation=\"relu\")(x)\n",
    "x = layers.Conv2D(filters=128, kernel_size=3, activation=\"relu\")(x)\n",
    "x = layers.Flatten()(x)\n",
    "outputs = layers.Dense(10, activation=\"softmax\")(x)\n",
    "model_no_max_pool = keras.Model(inputs=inputs, outputs=outputs)\n",
    "\n",
    "model_no_max_pool.summary()"
   ]
  },
  {
   "cell_type": "markdown",
   "id": "ee621db3-9c13-4853-bdd5-fdf8978b2b1a",
   "metadata": {},
   "source": [
    "## Listing 8.2.2 Downloading the data"
   ]
  },
  {
   "cell_type": "code",
   "execution_count": null,
   "id": "bada91e1-1c17-4a61-a7e8-c7abf8c526d0",
   "metadata": {},
   "outputs": [],
   "source": [
    "# Listing 8.2.2 Downloading the data\n",
    "!mkdir \n"
   ]
  }
 ],
 "metadata": {
  "kernelspec": {
   "display_name": "Python 3 (ipykernel)",
   "language": "python",
   "name": "python3"
  },
  "language_info": {
   "codemirror_mode": {
    "name": "ipython",
    "version": 3
   },
   "file_extension": ".py",
   "mimetype": "text/x-python",
   "name": "python",
   "nbconvert_exporter": "python",
   "pygments_lexer": "ipython3",
   "version": "3.8.12"
  }
 },
 "nbformat": 4,
 "nbformat_minor": 5
}
