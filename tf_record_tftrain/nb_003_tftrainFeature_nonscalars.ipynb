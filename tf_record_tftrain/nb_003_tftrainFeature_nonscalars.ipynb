{
 "cells": [
  {
   "cell_type": "markdown",
   "id": "3d76aa3e-212f-4567-a008-15febd108739",
   "metadata": {},
   "source": [
    "<a name=\"top\"></a><a id=\"top\">\n",
    "# Tests on tf.train.Feature data types (non-scalar inputs)\n",
    "   \n",
    "<a href=\"https://colab.research.google.com/github/gbih/ml-notes/blob/main/tf_record_tftrain/nb_003_tftrainFeature_nonscalars.ipynb\">\n",
    "<strong>View in Colab</strong>\n",
    "</a>"
   ]
  },
  {
   "cell_type": "markdown",
   "id": "24767ab0-98f8-4db1-ba63-76f8564063ee",
   "metadata": {},
   "source": [
    "1. [Setup](#setup)\n",
    "2. [Introduction](#2.0)\n",
    "3. [Handling non-scalar input via tf.io.serialize_tensor](#3.0)\n",
    "    * 3.1 [bytes](#3.1)\n",
    "    * 3.2 [floats](#3.2)\n",
    "    * 3.3 [int64s](#3.3)\n",
    "---\n",
    "**To-do**: \n",
    "\n",
    "Use the inverse operation `tf.io.parse_tensor` to transform the scalar string containing a serialized Tensor into a Tensor of a specified type."
   ]
  },
  {
   "cell_type": "markdown",
   "id": "0df99488-01c4-4105-88e4-e700c1af8e42",
   "metadata": {},
   "source": [
    "---\n",
    "<a id=\"setup\"></a><a name=\"setup\"></a>\n",
    "# 1. Setup\n",
    "<a href=\"#top\">[back to top]</a>"
   ]
  },
  {
   "cell_type": "code",
   "execution_count": 1,
   "id": "b48d13f5-ee31-403c-a5b2-4ccbcc1d881f",
   "metadata": {},
   "outputs": [
    {
     "name": "stdout",
     "output_type": "stream",
     "text": [
      "Libraries loaded..\n"
     ]
    }
   ],
   "source": [
    "#import glob\n",
    "import numpy as np\n",
    "import os\n",
    "import pprint as pp\n",
    "import tensorflow as tf\n",
    "\n",
    "# To make this notebook's output stable across runs\n",
    "tf.random.set_seed(42)\n",
    "np.random.seed(42)\n",
    "\n",
    "def HR():\n",
    "    print(\"-\"*40)\n",
    "    \n",
    "print(\"Libraries loaded..\")"
   ]
  },
  {
   "cell_type": "markdown",
   "id": "f7865f8a-77b6-4ec5-a64d-e86d5d624f86",
   "metadata": {
    "tags": []
   },
   "source": [
    "---\n",
    "<a id=\"2.0\"></a><a name=\"2.0\"></a>\n",
    "# 2. Introduction\n",
    "<a href=\"#top\">[back to top]</a>\n",
    "\n",
    "\n",
    "According to the [official documentation](https://www.tensorflow.org/tutorials/load_data/tfrecord), to handle non-scalar inputs, the simplest way to handle non-scalar features is to use `tf.io.serialize_tensor` to convert tensors to binary-strings (strings are scalars in TensorFlow).\n",
    "\n",
    "This is the technique we explore here.\n",
    "\n",
    "We want to test that each of the following sub-types that were previously passed to the appropriate Example proto, can now be processed with `tf.io.serialize_tensor` and then passed only to `tf.train.BytesList`\n",
    "\n",
    "\n",
    "1. `tf.train.BytesList` (since everything becomes a binary string, this is the sole Example proto that we use)\n",
    "    - `byte`\n",
    "    - `string`\n",
    "2. `tf.train.FloatList`\n",
    "    - `float` (`float32`)\n",
    "    - `double` (`float64`)\n",
    "3. `tf.train.Int64List`\n",
    "    - `bool`\n",
    "    - `enum`\n",
    "    - `int32`\n",
    "    - `uint32`\n",
    "    - `int64`\n",
    "    - `uint64`"
   ]
  },
  {
   "cell_type": "markdown",
   "id": "23f8ef1b-d472-4463-a533-e452ffb02842",
   "metadata": {},
   "source": [
    "---\n",
    "<a id=\"3.0\"></a><a name=\"3.0\"></a>\n",
    "# 3. Handling non-scalar input via tf.io.serialize_tensor\n",
    "<a href=\"#top\">[back to top]</a>\n",
    "\n",
    "Use `tf.io.serialize_tensor` to transform a Tensor into a serialized TensorProto proto. This operation transforms data in a `tf.Tensor` into a `tf.Tensor` of type `tf.string` containing the data in a binary string format. This operation can transform scalar data and linear arrays, but it is most useful in converting multidimensional arrays into a format accepted by binary storage formats such as a TFRecord or `tf.train.Example`."
   ]
  },
  {
   "cell_type": "code",
   "execution_count": 2,
   "id": "cfb3219c-9968-4307-bd8c-5b9e3dc8bdef",
   "metadata": {},
   "outputs": [],
   "source": [
    "# scalar bytes\n",
    "def bytes_feature(value):\n",
    "    \"\"\"Returns a bytes_list from a string / byte.\"\"\"\n",
    "    # tf.constant(0) is arbitrary, just use it to test for eager_tensor type\n",
    "    eager_tensor_type = type(tf.constant(0))\n",
    "    \n",
    "    if isinstance(value, eager_tensor_type):\n",
    "        value = value.numpy()\n",
    "    return tf.train.Feature(\n",
    "        bytes_list=tf.train.BytesList(value=[value])\n",
    "    )"
   ]
  },
  {
   "cell_type": "markdown",
   "id": "93eb900e-e674-491a-bfef-5381feb5f21d",
   "metadata": {},
   "source": [
    "<a id='3.1'></a><a name=\"3.1\"></a>\n",
    "## 3.1 bytes\n",
    "<a href=\"#top\">[back to top]</a>"
   ]
  },
  {
   "cell_type": "code",
   "execution_count": 22,
   "id": "bc0ca158-096e-4bc9-ab07-e0b208fa357e",
   "metadata": {},
   "outputs": [
    {
     "name": "stdout",
     "output_type": "stream",
     "text": [
      "tf.Tensor(b'\\x08\\x07\\x12\\x04\\x12\\x02\\x08\\x02B\\x1ethis is sentence1 of byte-typeB\\x1dthis is sentence2of byte-type', shape=(), dtype=string)\n",
      "bytes_list {\n",
      "  value: \"\\010\\007\\022\\004\\022\\002\\010\\002B\\036this is sentence1 of byte-typeB\\035this is sentence2of byte-type\"\n",
      "}\n",
      "\n",
      "----------------------------------------\n",
      "<class 'tensorflow.python.framework.ops.EagerTensor'>\n",
      "tf.Tensor(b'\\x08\\x07\\x12\\x04\\x12\\x02\\x08\\x03B\\x03oneB\\x03twoB\\x05three', shape=(), dtype=string)\n",
      "bytes_list {\n",
      "  value: \"\\010\\007\\022\\004\\022\\002\\010\\003B\\003oneB\\003twoB\\005three\"\n",
      "}\n",
      "\n",
      "----------------------------------------\n",
      "<class 'list'>\n",
      "tf.Tensor(b'\\x08\\x07\\x12\\x04\\x12\\x02\\x08\\x03B\\x02\\x97>B\\x03\\x82\\xa0\\xa0B\\x04\\x95\\x06E\\x05', shape=(), dtype=string)\n",
      "bytes_list {\n",
      "  value: \"\\010\\007\\022\\004\\022\\002\\010\\003B\\002\\227>B\\003\\202\\240\\240B\\004\\225\\006E\\005\"\n",
      "}\n",
      "\n",
      "----------------------------------------\n"
     ]
    }
   ],
   "source": [
    "bytes1 = [b'this is sentence1 of byte-type', b'this is sentence2of byte-type']\n",
    "assert isinstance(bytes1, list) # EagerTensor\n",
    "serialized_bytes1 = tf.io.serialize_tensor(bytes1)\n",
    "assert isinstance(serialized_bytes1, type(tf.constant(0)))\n",
    "print(serialized_bytes1)\n",
    "print(bytes_feature(serialized_bytes1))\n",
    "HR()\n",
    "\n",
    "\n",
    "bytes2 = tf.constant([\"one\", \"two\", \"three\"])\n",
    "print(type(bytes2))\n",
    "# This is an EagerTensor but it contains a list, and will fail if we don't serialize it\n",
    "serialized_bytes2 = tf.io.serialize_tensor(bytes2)\n",
    "assert isinstance(serialized_bytes2, type(tf.constant(0)))\n",
    "print(serialized_bytes2)\n",
    "print(bytes_feature(serialized_bytes2))\n",
    "HR()\n",
    "\n",
    "\n",
    "bytes3 = [np.random.bytes(2), np.random.bytes(3), np.random.bytes(4)]\n",
    "print(type(bytes3))\n",
    "serialized_bytes3 = tf.io.serialize_tensor(bytes3)\n",
    "assert isinstance(serialized_bytes3, type(tf.constant(0)))\n",
    "print(serialized_bytes3)\n",
    "print(bytes_feature(serialized_bytes3))\n",
    "HR()"
   ]
  },
  {
   "cell_type": "markdown",
   "id": "8db55974-899e-4fab-8f3d-359aa2390e3d",
   "metadata": {},
   "source": [
    "<a id='3.2'></a><a name=\"3.2\"></a>\n",
    "## 3.2 floats\n",
    "<a href=\"#top\">[back to top]</a>"
   ]
  },
  {
   "cell_type": "code",
   "execution_count": 25,
   "id": "562556f0-03c8-4ecd-a22e-3f21e7bde883",
   "metadata": {},
   "outputs": [
    {
     "name": "stdout",
     "output_type": "stream",
     "text": [
      "tf.Tensor(b'\\x08\\x01\\x12\\x04\\x12\\x02\\x08\\x02\"\\x08U\\xf8-@33\\x13@', shape=(), dtype=string)\n",
      "bytes_list {\n",
      "  value: \"\\010\\001\\022\\004\\022\\002\\010\\002\\\"\\010U\\370-@33\\023@\"\n",
      "}\n",
      "\n",
      "----------------------------------------\n",
      "tf.Tensor(b'\\x08\\x02\\x12\\x04\\x12\\x02\\x08\\x02\"\\x10iW\\x14\\x8b\\n\\xbf\\x05@\\x00\\x00\\x00\\x00\\x00\\x00\\x12@', shape=(), dtype=string)\n",
      "bytes_list {\n",
      "  value: \"\\010\\002\\022\\004\\022\\002\\010\\002\\\"\\020iW\\024\\213\\n\\277\\005@\\000\\000\\000\\000\\000\\000\\022@\"\n",
      "}\n",
      "\n"
     ]
    }
   ],
   "source": [
    "float32_1 = [np.exp(1, dtype=np.float32), 2.3]\n",
    "assert isinstance(float32_1, list) \n",
    "serialized_float32_1 = tf.io.serialize_tensor(float32_1)\n",
    "print(serialized_float32_1)\n",
    "print(bytes_feature(serialized_float32_1))\n",
    "HR()\n",
    "\n",
    "\n",
    "float64_1 = [np.exp(1, dtype=np.float64), 4.5]\n",
    "assert isinstance(float64_1, list) \n",
    "serialized_float64_1 = tf.io.serialize_tensor(float64_1)\n",
    "print(serialized_float64_1)\n",
    "print(bytes_feature(serialized_float64_1))"
   ]
  },
  {
   "cell_type": "markdown",
   "id": "f499626f-55cf-452b-8c85-e888e87ca78b",
   "metadata": {},
   "source": [
    "<a id='3.3'></a><a name=\"3.3\"></a>\n",
    "## 3.3 Int64s\n",
    "<a href=\"#top\">[back to top]</a>"
   ]
  },
  {
   "cell_type": "code",
   "execution_count": 32,
   "id": "af229e88-0f96-4ad9-b301-3c70cfd03362",
   "metadata": {},
   "outputs": [
    {
     "name": "stdout",
     "output_type": "stream",
     "text": [
      "tf.Tensor(b'\\x08\\n\\x12\\x04\\x12\\x02\\x08\\x02\"\\x02\\x01\\x00', shape=(), dtype=string)\n",
      "bytes_list {\n",
      "  value: \"\\010\\n\\022\\004\\022\\002\\010\\002\\\"\\002\\001\\000\"\n",
      "}\n",
      "\n",
      "----------------------------------------\n",
      "tf.Tensor(b'\\x08\\x03\\x12\\x04\\x12\\x02\\x08\\x02\"\\x08\\x01\\x00\\x00\\x00\\x03\\x00\\x00\\x00', shape=(), dtype=string)\n",
      "bytes_list {\n",
      "  value: \"\\010\\003\\022\\004\\022\\002\\010\\002\\\"\\010\\001\\000\\000\\000\\003\\000\\000\\000\"\n",
      "}\n",
      "\n",
      "----------------------------------------\n",
      "tf.Tensor(b'\\x08\\x03\\x12\\x04\\x12\\x02\\x08\\x02\"\\x08\\x00\\x00\\x00\\x80\\xff\\xff\\xff\\x7f', shape=(), dtype=string)\n",
      "bytes_list {\n",
      "  value: \"\\010\\003\\022\\004\\022\\002\\010\\002\\\"\\010\\000\\000\\000\\200\\377\\377\\377\\177\"\n",
      "}\n",
      "\n",
      "----------------------------------------\n",
      "tf.Tensor(b'\\x08\\x16\\x12\\x04\\x12\\x02\\x08\\x02\"\\x08\\x00\\x00\\x00\\x00\\xff\\xff\\xff\\xff', shape=(), dtype=string)\n",
      "bytes_list {\n",
      "  value: \"\\010\\026\\022\\004\\022\\002\\010\\002\\\"\\010\\000\\000\\000\\000\\377\\377\\377\\377\"\n",
      "}\n",
      "\n",
      "----------------------------------------\n",
      "tf.Tensor(b'\\x08\\t\\x12\\x04\\x12\\x02\\x08\\x02\"\\x10\\x00\\x00\\x00\\x00\\x00\\x00\\x00\\x80\\xff\\xff\\xff\\xff\\xff\\xff\\xff\\x7f', shape=(), dtype=string)\n",
      "bytes_list {\n",
      "  value: \"\\010\\t\\022\\004\\022\\002\\010\\002\\\"\\020\\000\\000\\000\\000\\000\\000\\000\\200\\377\\377\\377\\377\\377\\377\\377\\177\"\n",
      "}\n",
      "\n",
      "----------------------------------------\n",
      "tf.Tensor(b'\\x08\\x17\\x12\\x04\\x12\\x02\\x08\\x02\"\\x10\\x00\\x00\\x00\\x00\\x00\\x00\\x00\\x00\\xff\\xff\\xff\\xff\\xff\\xff\\xff\\xff', shape=(), dtype=string)\n",
      "bytes_list {\n",
      "  value: \"\\010\\027\\022\\004\\022\\002\\010\\002\\\"\\020\\000\\000\\000\\000\\000\\000\\000\\000\\377\\377\\377\\377\\377\\377\\377\\377\"\n",
      "}\n",
      "\n"
     ]
    }
   ],
   "source": [
    "bool_1 = np.array([True, False], dtype=bool)\n",
    "assert isinstance(bool_1, np.ndarray) \n",
    "serialized_bool_1 = tf.io.serialize_tensor(bool_1)\n",
    "print(serialized_bool_1)\n",
    "print(bytes_feature(serialized_bool_1))\n",
    "HR()\n",
    "\n",
    "\n",
    "# Different Enum types: EnumMeta, Enum, IntEnum, Flag, IntFlag, auto, unique\n",
    "import enum\n",
    "# Need to pass an enum which is a subclass of int, so it will be compatible with tf.train.Int64List\n",
    "class Color(enum.IntEnum):\n",
    "    RED = 1\n",
    "    GREEN = 2\n",
    "    BLUE = 3\n",
    "enum_list_1 = [Color.RED, Color.BLUE]    \n",
    "assert isinstance(Color.RED, enum.IntEnum)\n",
    "assert isinstance(enum_list_1, list)\n",
    "serialized_enum_1 = tf.io.serialize_tensor(enum_list_1)\n",
    "print(serialized_enum_1)\n",
    "print(bytes_feature(serialized_enum_1))\n",
    "HR()\n",
    "\n",
    "\n",
    "int32_1 = np.array([\n",
    "    np.int32(np.iinfo(np.int32).min), \n",
    "    np.int32(np.iinfo(np.int32).max)\n",
    "], dtype=np.int32)\n",
    "assert isinstance(int32_1, np.ndarray)\n",
    "serialized_int32_1 = tf.io.serialize_tensor(int32_1)\n",
    "print(serialized_int32_1)\n",
    "print(bytes_feature(serialized_int32_1))\n",
    "HR()\n",
    "\n",
    "\n",
    "uint32_1 = np.array([\n",
    "    np.uint32(np.iinfo(np.uint32).min), \n",
    "    np.uint32(np.iinfo(np.uint32).max)\n",
    "], dtype=np.uint32)\n",
    "assert isinstance(uint32_1, np.ndarray)\n",
    "serialized_uint32_1 = tf.io.serialize_tensor(uint32_1)\n",
    "print(serialized_uint32_1)\n",
    "print(bytes_feature(serialized_uint32_1))\n",
    "HR()\n",
    "\n",
    "\n",
    "int64_1 = np.array([\n",
    "    np.int64(np.iinfo(np.int64).min), \n",
    "    np.int64(np.iinfo(np.int64).max)\n",
    "], dtype=np.int64)\n",
    "assert isinstance(int64_1, np.ndarray)\n",
    "serialized_int64_1 = tf.io.serialize_tensor(int64_1)\n",
    "print(serialized_int64_1)\n",
    "print(bytes_feature(serialized_int64_1))\n",
    "HR()\n",
    "\n",
    "\n",
    "uint64_1 = np.array([\n",
    "    np.uint64(np.iinfo(np.uint64).min), \n",
    "    np.uint64(np.iinfo(np.uint64).max)\n",
    "], dtype=np.uint64)\n",
    "assert isinstance(uint64_1, np.ndarray)\n",
    "serialized_uint64_1 = tf.io.serialize_tensor(uint64_1)\n",
    "print(serialized_uint64_1)\n",
    "print(bytes_feature(serialized_uint64_1))"
   ]
  }
 ],
 "metadata": {
  "kernelspec": {
   "display_name": "Python 3 (ipykernel)",
   "language": "python",
   "name": "python3"
  },
  "language_info": {
   "codemirror_mode": {
    "name": "ipython",
    "version": 3
   },
   "file_extension": ".py",
   "mimetype": "text/x-python",
   "name": "python",
   "nbconvert_exporter": "python",
   "pygments_lexer": "ipython3",
   "version": "3.8.12"
  }
 },
 "nbformat": 4,
 "nbformat_minor": 5
}
