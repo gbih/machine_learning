{
 "cells": [
  {
   "cell_type": "markdown",
   "id": "3d76aa3e-212f-4567-a008-15febd108739",
   "metadata": {},
   "source": [
    "<a name=\"top\"></a><a id=\"top\">\n",
    "# Tests on tf.train.Feature data types\n",
    "   \n",
    "<a href=\"https://colab.research.google.com/github/gbih/ml-notes/blob/main/tf_record_tftrain/nb_002_tftrainFeature_non_scalars.ipynb\">\n",
    "<strong>View in Colab</strong>\n",
    "</a>"
   ]
  },
  {
   "cell_type": "markdown",
   "id": "24767ab0-98f8-4db1-ba63-76f8564063ee",
   "metadata": {},
   "source": [
    "1. [Setup](#setup)\n",
    "2. [Introduction](#2.0)\n",
    "3. [tf.train.BytesList](#3.0)\n",
    "    * 3.1 [byte](#3.1)\n",
    "        - 3.1.1 [image as byte](#3.1.1)\n",
    "    * 3.2 [string](#3.2)\n",
    "    * 3.3 [image](#3.3)\n",
    "4. [tf.train.FloatList](#4.0)\n",
    "    * 4.1 [float32](#4.1)\n",
    "    * 4.2 [float64](#4.2)\n",
    "5. [tf.train.Int64List](#5.0)\n",
    "    * 5.1 [bool](#5.1)\n",
    "    * 5.2 [enum](#5.2)\n",
    "    * 5.3 [int32](#5.3)\n",
    "    * 5.4 [uint32](#5.4)\n",
    "    * 5.5 [int64](#5.5)\n",
    "    * 5.6 [uint64](#5.6)"
   ]
  },
  {
   "cell_type": "markdown",
   "id": "0df99488-01c4-4105-88e4-e700c1af8e42",
   "metadata": {},
   "source": [
    "---\n",
    "<a id=\"setup\"></a><a name=\"setup\"></a>\n",
    "# 1. Setup\n",
    "<a href=\"#top\">[back to top]</a>"
   ]
  },
  {
   "cell_type": "code",
   "execution_count": 1,
   "id": "b48d13f5-ee31-403c-a5b2-4ccbcc1d881f",
   "metadata": {},
   "outputs": [
    {
     "name": "stdout",
     "output_type": "stream",
     "text": [
      "Libraries loaded..\n"
     ]
    }
   ],
   "source": [
    "import glob\n",
    "#import IPython.display as display\n",
    "# import matplotlib.pyplot as plt\n",
    "import numpy as np\n",
    "import os\n",
    "import pprint as pp\n",
    "import tensorflow as tf\n",
    "\n",
    "# To make this notebook's output stable across runs\n",
    "tf.random.set_seed(42)\n",
    "np.random.seed(42)\n",
    "\n",
    "def HR():\n",
    "    print(\"-\"*40)\n",
    "    \n",
    "print(\"Libraries loaded..\")"
   ]
  },
  {
   "cell_type": "markdown",
   "id": "f7865f8a-77b6-4ec5-a64d-e86d5d624f86",
   "metadata": {
    "tags": []
   },
   "source": [
    "---\n",
    "<a id=\"2.0\"></a><a name=\"2.0\"></a>\n",
    "# 2. Introduction\n",
    "<a href=\"#top\">[back to top]</a>\n",
    "\n",
    "According to the [official documentation](https://www.tensorflow.org/tutorials/load_data/tfrecord), the `tf.train.Feature` message type can accept one of the following three types. \n",
    "\n",
    "The `tf.train.Feature` message type can accept one of the following three types. Most other generic types can be coerced into one of these:\n",
    "\n",
    "1. `tf.train.BytesList` (the following types can be coerced)\n",
    "    - `byte`\n",
    "    - `string`\n",
    "2. `tf.train.FloatList` (the following types can be coerced)\n",
    "    - `float` (`float32`)\n",
    "    - `double` (`float64`)\n",
    "3. `tf.train.Int64List` (the following types can be coerced)\n",
    "    - `bool`\n",
    "    - `enum`\n",
    "    - `int32`\n",
    "    - `uint32`\n",
    "    - `int64`\n",
    "    - `uint64`\n",
    "\n",
    "**Note**: Each function here takes a scalar input value and returns a `tf.train.Feature` containing one of the three list types.\n",
    "\n"
   ]
  },
  {
   "cell_type": "markdown",
   "id": "9837db11-9903-44c8-b4cc-0e346de01c36",
   "metadata": {},
   "source": [
    "---\n",
    "<a id='3.0'></a><a name=\"3.0\"></a>\n",
    "# 3. tf.train.BytesList\n",
    "<a href=\"#top\">[back to top]</a>\n",
    "\n",
    "* 3.1 [byte](#3.1)\n",
    "* 3.2 [string](#3.2)\n",
    "* 3.3 [image](#3.3)\n",
    "\n",
    "Used in tf.train.Example protos. Holds a list of byte-strings.\n",
    "\n",
    "**Note**: If we pass a EagerTensor, tf.train.BytesList will not unpack a string, resulting in this error:\n",
    "   \n",
    "```python\n",
    "TypeError: <tf.Tensor: shape=(), dtype=int32, numpy=0> has type tensorflow.python.framework.ops.EagerTensor, but expected one of: byte\n",
    "```"
   ]
  },
  {
   "cell_type": "code",
   "execution_count": 2,
   "id": "90d48644-a095-488f-b671-87a2f0777a32",
   "metadata": {},
   "outputs": [],
   "source": [
    "# scalar bytes\n",
    "def bytes_feature(value):\n",
    "    \"\"\"Returns a bytes_list from a string / byte.\"\"\"\n",
    "    # tf.constant(0) is arbitrary, just use it to test for eager_tensor type\n",
    "    eager_tensor_type = type(tf.constant(0))\n",
    "    \n",
    "    if isinstance(value, eager_tensor_type):\n",
    "        value = value.numpy()\n",
    "    return tf.train.Feature(\n",
    "        bytes_list=tf.train.BytesList(value=[value])\n",
    "    )\n",
    "\n",
    "\n",
    "# variation w/o unpacking value from EagerTensor\n",
    "def bytes_feature_no_conversion(value):\n",
    "    \"\"\"Returns a bytes_list from a string / byte.\"\"\"\n",
    "    try:\n",
    "        return tf.train.Feature(\n",
    "            bytes_list=tf.train.BytesList(value=[value])\n",
    "        )\n",
    "    except Exception as e:\n",
    "        print(f\"Error: {e}\")"
   ]
  },
  {
   "cell_type": "markdown",
   "id": "be0ff665-0f80-4093-b419-c29ef1da02ca",
   "metadata": {
    "tags": []
   },
   "source": [
    "<a id='3.1'></a><a name=\"3.1\"></a>\n",
    "## 3.1 byte\n",
    "<a href=\"#top\">[back to top]</a>"
   ]
  },
  {
   "cell_type": "code",
   "execution_count": 36,
   "id": "761097b8-4a37-4e62-9e11-f11e7d00fb2c",
   "metadata": {},
   "outputs": [
    {
     "name": "stdout",
     "output_type": "stream",
     "text": [
      "bytes_list {\n",
      "  value: \"test_string as tf.Variable\"\n",
      "}\n",
      "\n",
      "----------------------------------------\n",
      "bytes_list {\n",
      "  value: \"test_string as tf.constant\"\n",
      "}\n",
      "\n",
      "----------------------------------------\n",
      "bytes_list {\n",
      "  value: \"this is sentence of byte-type\"\n",
      "}\n",
      "\n"
     ]
    }
   ],
   "source": [
    "bytes_byte1 = tf.Variable(\"test_string as tf.Variable\").value()\n",
    "assert isinstance(bytes_byte1, type(tf.constant(0))) # EagerTensor\n",
    "\n",
    "bytes_byte2 = tf.constant(\"test_string as tf.constant\")\n",
    "assert isinstance(bytes_byte2, type(tf.constant(0))) # EagerTensor\n",
    "\n",
    "bytes_byte3 = b'this is sentence of byte-type'\n",
    "assert isinstance(bytes_byte3, bytes) # EagerTensor\n",
    "\n",
    "print(bytes_feature(bytes_byte1))\n",
    "HR()\n",
    "\n",
    "print(bytes_feature(bytes_byte2))\n",
    "HR()\n",
    "\n",
    "print(bytes_feature(bytes_byte3))"
   ]
  },
  {
   "cell_type": "markdown",
   "id": "f1ec219f-bf97-4086-b7ad-ae03b28ac179",
   "metadata": {
    "tags": []
   },
   "source": [
    "<a id='3.3.1'></a><a name=\"3.3.1\"></a>\n",
    "### 3.3.1 image\n",
    "<a href=\"#top\">[back to top]</a>\n",
    "\n",
    "We can cast images as bytes.\n",
    "\n",
    "Use [`tf.io.encode_jpeg`](https://www.tensorflow.org/api_docs/python/tf/io/encode_jpeg) to JPEG-encode the data, so  it can be passed to `tf.train.BytesList`. The input is a 3-D uint8 Tensor of shape [height, width, channels].\n",
    "\n",
    "```python\n",
    "tf.io.encode_jpeg(\n",
    "    image,\n",
    "    format='',\n",
    "    quality=95,\n",
    "    progressive=False,\n",
    "    optimize_size=False,\n",
    "    chroma_downsampling=True,\n",
    "    density_unit='in',\n",
    "    x_density=300,\n",
    "    y_density=300,\n",
    "    xmp_metadata='',\n",
    "    name=None\n",
    ")\n",
    "```"
   ]
  },
  {
   "cell_type": "code",
   "execution_count": 4,
   "id": "50e265b8-a902-4ab1-a7eb-a3c5fda07483",
   "metadata": {},
   "outputs": [
    {
     "name": "stdout",
     "output_type": "stream",
     "text": [
      "Before reshaping image:\n",
      "(16384, 3)\n",
      "----------------------------------------\n",
      "After reshaping image:\n",
      "(128, 128, 3)\n",
      "----------------------------------------\n",
      "Sample of data:\n",
      "[[  0 100 200]\n",
      " [  0 100 200]\n",
      " [  0 100 200]\n",
      " [  0 100 200]\n",
      " [  0 100 200]]\n",
      "----------------------------------------\n",
      "bytes_list {\n",
      "  value: \"\\377\\330\\377\\340\\000\\020JFIF\\000\\001\\001\\001\\001,\\001,\\000\\000\\377\\333\\000C\\000\\002\\001\\001\\001\\001\\001\\002\\001\\001\\001\\002\\002\\002\\002\\002\\004\\003\\002\\002\\002\\002\\005\\004\\004\\003\\004\\006\\005\\006\\006\\006\\005\\006\\006\\006\\007\\t\\010\\006\\007\\t\\007\\006\\006\\010\\013\\010\\t\\n\\n\\n\\n\\n\\006\\010\\013\\014\\013\\n\\014\\t\\n\\n\\n\\377\\333\\000C\\001\\002\\002\\002\\002\\002\\002\\005\\003\\003\\005\\n\\007\\006\\007\\n\\n\\n\\n\\n\\n\\n\\n\\n\\n\\n\\n\\n\\n\\n\\n\\n\\n\\n\\n\\n\\n\\n\\n\\n\\n\\n\\n\\n\\n\\n\\n\\n\\n\\n\\n\\n\\n\\n\\n\\n\\n\\n\\n\\n\\n\\n\\n\\n\\n\\377\\300\\000\\021\\010\\000\\200\\000\\200\\003\\001\\\"\\000\\002\\021\\001\\003\\021\\001\\377\\304\\000\\037\\000\\000\\001\\005\\001\\001\\001\\001\\001\\001\\000\\000\\000\\000\\000\\000\\000\\000\\001\\002\\003\\004\\005\\006\\007\\010\\t\\n\\013\\377\\304\\000\\265\\020\\000\\002\\001\\003\\003\\002\\004\\003\\005\\005\\004\\004\\000\\000\\001}\\001\\002\\003\\000\\004\\021\\005\\022!1A\\006\\023Qa\\007\\\"q\\0242\\201\\221\\241\\010#B\\261\\301\\025R\\321\\360$3br\\202\\t\\n\\026\\027\\030\\031\\032%&\\'()*456789:CDEFGHIJSTUVWXYZcdefghijstuvwxyz\\203\\204\\205\\206\\207\\210\\211\\212\\222\\223\\224\\225\\226\\227\\230\\231\\232\\242\\243\\244\\245\\246\\247\\250\\251\\252\\262\\263\\264\\265\\266\\267\\270\\271\\272\\302\\303\\304\\305\\306\\307\\310\\311\\312\\322\\323\\324\\325\\326\\327\\330\\331\\332\\341\\342\\343\\344\\345\\346\\347\\350\\351\\352\\361\\362\\363\\364\\365\\366\\367\\370\\371\\372\\377\\304\\000\\037\\001\\000\\003\\001\\001\\001\\001\\001\\001\\001\\001\\001\\000\\000\\000\\000\\000\\000\\001\\002\\003\\004\\005\\006\\007\\010\\t\\n\\013\\377\\304\\000\\265\\021\\000\\002\\001\\002\\004\\004\\003\\004\\007\\005\\004\\004\\000\\001\\002w\\000\\001\\002\\003\\021\\004\\005!1\\006\\022AQ\\007aq\\023\\\"2\\201\\010\\024B\\221\\241\\261\\301\\t#3R\\360\\025br\\321\\n\\026$4\\341%\\361\\027\\030\\031\\032&\\'()*56789:CDEFGHIJSTUVWXYZcdefghijstuvwxyz\\202\\203\\204\\205\\206\\207\\210\\211\\212\\222\\223\\224\\225\\226\\227\\230\\231\\232\\242\\243\\244\\245\\246\\247\\250\\251\\252\\262\\263\\264\\265\\266\\267\\270\\271\\272\\302\\303\\304\\305\\306\\307\\310\\311\\312\\322\\323\\324\\325\\326\\327\\330\\331\\332\\342\\343\\344\\345\\346\\347\\350\\351\\352\\362\\363\\364\\365\\366\\367\\370\\371\\372\\377\\332\\000\\014\\003\\001\\000\\002\\021\\003\\021\\000?\\000\\371\\036\\212(\\257\\3640\\376\\027\\n(\\242\\200\\n(\\242\\200\\n(\\242\\200\\n(\\242\\200\\n(\\242\\200\\n(\\242\\200\\n(\\242\\200\\n(\\242\\200\\n(\\242\\200\\n(\\242\\200\\n(\\242\\200\\n(\\242\\200\\n(\\242\\200\\n(\\242\\200\\n(\\242\\200\\n(\\242\\200\\n(\\242\\200\\n(\\242\\200\\n(\\242\\200\\n(\\242\\200\\n(\\242\\200\\n(\\242\\200\\n(\\242\\200\\n(\\242\\200\\n(\\242\\200\\n(\\242\\200\\n(\\242\\200\\n(\\242\\200\\n(\\242\\200\\n(\\242\\200\\n(\\242\\200\\n(\\242\\200\\n(\\242\\200\\n(\\242\\200\\n(\\242\\200\\n(\\242\\200\\n(\\242\\200\\n(\\242\\200\\n(\\242\\200\\n(\\242\\200\\n(\\242\\200\\n(\\242\\200\\n(\\242\\200\\n(\\242\\200\\n(\\242\\200\\n(\\242\\200\\n(\\242\\200\\n(\\242\\200\\n(\\242\\200\\n(\\242\\200\\n(\\242\\200\\n(\\242\\200\\n(\\242\\200\\n(\\242\\200\\n(\\242\\200\\n(\\242\\200\\n(\\242\\200\\n(\\242\\200\\n(\\242\\200\\n(\\242\\200\\n(\\242\\200\\n(\\242\\200\\n(\\242\\200?\\377\\331\"\n",
      "}\n",
      "\n"
     ]
    }
   ],
   "source": [
    "def image_feature(value):\n",
    "    \"\"\"Returns a bytes_list from a string / byte\"\"\"\n",
    "    # tf.constant(0) is arbitrary, just use it to test for eager_tensor type\n",
    "    eager_tensor_type = type(tf.constant(0))\n",
    "    if isinstance(value, eager_tensor_type):\n",
    "        value = value.numpy() \n",
    "    return tf.train.Feature(\n",
    "        bytes_list = tf.train.BytesList(\n",
    "            value = [tf.io.encode_jpeg(value).numpy()]\n",
    "        )\n",
    "    )\n",
    "\n",
    "R = np.zeros([128 * 128])\n",
    "G = np.ones([128 * 128]) * 100\n",
    "B = np.ones([128 * 128]) * 200\n",
    "\n",
    "# w/o reshape, the shape is (16384, 3)\n",
    "data = np.array(list(zip(R, G, B)), dtype=np.uint8)\n",
    "print(\"Before reshaping image:\")\n",
    "print(data.shape)\n",
    "HR()\n",
    "\n",
    "# after reshape\n",
    "data = data.reshape(128, 128, 3)\n",
    "print(\"After reshaping image:\")\n",
    "print(data.shape)\n",
    "HR()\n",
    "\n",
    "# sample of data \n",
    "print(\"Sample of data:\")\n",
    "print(data[0][:5][:])\n",
    "HR()\n",
    "\n",
    "bytes_image1 = image_feature(data)\n",
    "print(bytes_image1)"
   ]
  },
  {
   "cell_type": "markdown",
   "id": "aac1f574-d182-4da1-aab5-cebaaa3fba9d",
   "metadata": {
    "tags": []
   },
   "source": [
    "<a id='3.2'></a><a name=\"3.2\"></a>\n",
    "## 3.2 string\n",
    "<a href=\"#top\">[back to top]</a>\n",
    "\n",
    "We cannot use strings directly, we have to first cast to type `bytes`"
   ]
  },
  {
   "cell_type": "code",
   "execution_count": 82,
   "id": "112daa7a-f258-417f-ad91-89ebf40a6724",
   "metadata": {},
   "outputs": [
    {
     "name": "stdout",
     "output_type": "stream",
     "text": [
      "Error: 'test_string as string' has type str, but expected one of: bytes\n",
      "----------------------------------------\n"
     ]
    }
   ],
   "source": [
    "bytes_str1 = \"test_string as string\"\n",
    "assert isinstance(bytes_str1, str) \n",
    "\n",
    "# Error when using string type w/o casting to bytes\n",
    "try:\n",
    "    print(bytes_feature(bytes_str1))\n",
    "except Exception as e:\n",
    "    print(f\"Error: {e}\")\n",
    "HR()\n",
    "\n",
    "# w/o encode, u'..' is a string; with encode, this becomes bytes\n",
    "bytes_str2 = u'test_bytes'.encode('utf-8')\n",
    "assert isinstance(bytes_str2, bytes)\n",
    "\n",
    "bytes_str3 = b'test_string'\n",
    "assert isinstance(bytes_str3, bytes)\n",
    "\n",
    "bytes_str4 = \"test_string\".encode()\n",
    "assert isinstance(bytes_str4, bytes)"
   ]
  },
  {
   "cell_type": "code",
   "execution_count": 83,
   "id": "84498be9-105c-41ca-b4fd-274f80349f46",
   "metadata": {},
   "outputs": [
    {
     "name": "stdout",
     "output_type": "stream",
     "text": [
      "Error: 'test_string as string' has type str, but expected one of: bytes\n",
      "None\n",
      "----------------------------------------\n",
      "bytes_list {\n",
      "  value: \"test_bytes\"\n",
      "}\n",
      "\n",
      "----------------------------------------\n",
      "bytes_list {\n",
      "  value: \"test_string\"\n",
      "}\n",
      "\n",
      "----------------------------------------\n",
      "bytes_list {\n",
      "  value: \"test_string\"\n",
      "}\n",
      "\n"
     ]
    }
   ],
   "source": [
    "# Test of function that does not handle eager-functions\n",
    "\n",
    "print(bytes_feature_no_conversion(bytes_str1))\n",
    "HR()\n",
    "\n",
    "print(bytes_feature_no_conversion(bytes_str2))\n",
    "HR()\n",
    "\n",
    "print(bytes_feature_no_conversion(bytes_str3))\n",
    "HR()\n",
    "\n",
    "print(bytes_feature_no_conversion(bytes_str4)) "
   ]
  },
  {
   "cell_type": "markdown",
   "id": "cbe57e2a-67b9-4635-a842-afc7040651a3",
   "metadata": {},
   "source": [
    "---\n",
    "<a id='4.0'></a><a name=\"4.0\"></a>\n",
    "# 4. [tf.train.FloatList](https://www.tensorflow.org/api_docs/python/tf/train/FloatList)\n",
    "<a href=\"#top\">[back to top]</a>\n",
    "\n",
    "Used in tf.train.Example protos. Holds a list of floats.\n",
    "\n",
    "* 4.1 [float32](#4.1)\n",
    "* 4.2 [float64](#4.2)"
   ]
  },
  {
   "cell_type": "code",
   "execution_count": 84,
   "id": "b0e18b51-d3e3-452c-bdf7-1b9e383bc2e1",
   "metadata": {},
   "outputs": [],
   "source": [
    "def float_feature(value):\n",
    "    \"\"\"Returns a float_list from a float / double.\"\"\"\n",
    "    return tf.train.Feature(\n",
    "        float_list=tf.train.FloatList(value=[value])\n",
    "    )"
   ]
  },
  {
   "cell_type": "markdown",
   "id": "fb682c26-8849-4baf-8b05-5dba19bd3504",
   "metadata": {},
   "source": [
    "<a id='4.1'></a><a name=\"4.1\"></a>\n",
    "## 4.1 float32\n",
    "<a href=\"#top\">[back to top]</a>\n",
    "\n",
    "32-bit floating-point number"
   ]
  },
  {
   "cell_type": "code",
   "execution_count": 79,
   "id": "b10a6efa-979e-40a4-9f86-ebdb060c9e46",
   "metadata": {},
   "outputs": [
    {
     "name": "stdout",
     "output_type": "stream",
     "text": [
      "-340282346638528859811704183484516925440.00\n",
      "340282346638528859811704183484516925440.00\n"
     ]
    }
   ],
   "source": [
    "float32_min = np.float32(np.finfo(np.float32).min)\n",
    "float32_max = np.float32(np.finfo(np.float32).max)\n",
    "print(f\"{float32_min:.2f}\")\n",
    "print(f\"{float32_max:.2f}\")"
   ]
  },
  {
   "cell_type": "code",
   "execution_count": 85,
   "id": "d986b8b3-c0ef-453c-8d7d-eb2f54ce1471",
   "metadata": {},
   "outputs": [
    {
     "name": "stdout",
     "output_type": "stream",
     "text": [
      "2.718282\n",
      "<class 'numpy.float32'>\n",
      "----------------------------------------\n",
      "33.9\n",
      "<class 'numpy.float32'>\n",
      "----------------------------------------\n",
      "3.4028235e+38\n",
      "<class 'numpy.float32'>\n",
      "----------------------------------------\n",
      "float_list {\n",
      "  value: 2.7182819843292236\n",
      "}\n",
      "\n",
      "----------------------------------------\n",
      "float_list {\n",
      "  value: 33.900001525878906\n",
      "}\n",
      "\n",
      "----------------------------------------\n",
      "float_list {\n",
      "  value: 3.4028234663852886e+38\n",
      "}\n",
      "\n",
      "----------------------------------------\n"
     ]
    }
   ],
   "source": [
    "float32_1 = np.exp(1, dtype=np.float32)\n",
    "print(float32_1)\n",
    "print(type(float32_1))\n",
    "assert isinstance(float32_1, np.float32) \n",
    "assert type(float32_1) == np.float32\n",
    "HR()\n",
    "\n",
    "float32_2 = np.float32(33.9)\n",
    "print(float32_2)\n",
    "print(type(float32_2))\n",
    "assert isinstance(float32_2, np.float32) \n",
    "assert type(float32_2) == np.float32\n",
    "HR()\n",
    "\n",
    "# np.float32 max\n",
    "float32_3 = np.float32(np.finfo(np.float32).max)\n",
    "print(float32_3 )\n",
    "print(type(float32_3))\n",
    "assert isinstance(float32_3, np.float32) \n",
    "assert type(float32_3) == np.float32\n",
    "HR()\n",
    "\n",
    "print(float_feature(float32_1))\n",
    "HR()\n",
    "\n",
    "print(float_feature(float32_2))\n",
    "HR()\n",
    "\n",
    "print(float_feature(float32_3))\n",
    "HR()"
   ]
  },
  {
   "cell_type": "markdown",
   "id": "e10c3382-39c5-4577-9a0f-3f1cccf0de3e",
   "metadata": {},
   "source": [
    "<a id='4.2'></a><a name=\"4.2\"></a>\n",
    "## 4.2 float64\n",
    "<a href=\"#top\">[back to top]</a>\n",
    "\n",
    "64-bit floating-point number"
   ]
  },
  {
   "cell_type": "code",
   "execution_count": 81,
   "id": "668ea2b2-5afb-479b-bd6c-096fd332a718",
   "metadata": {},
   "outputs": [
    {
     "name": "stdout",
     "output_type": "stream",
     "text": [
      "-179769313486231570814527423731704356798070567525844996598917476803157260780028538760589558632766878171540458953514382464234321326889464182768467546703537516986049910576551282076245490090389328944075868508455133942304583236903222948165808559332123348274797826204144723168738177180919299881250404026184124858368.00\n",
      "----------------------------------------\n",
      "179769313486231570814527423731704356798070567525844996598917476803157260780028538760589558632766878171540458953514382464234321326889464182768467546703537516986049910576551282076245490090389328944075868508455133942304583236903222948165808559332123348274797826204144723168738177180919299881250404026184124858368.00\n"
     ]
    }
   ],
   "source": [
    "float64_min = np.float64(np.finfo(np.float64).min)\n",
    "float64_max = np.float64(np.finfo(np.float64).max)\n",
    "print(f\"{float64_min:.2f}\")\n",
    "HR()\n",
    "print(f\"{float64_max:.2f}\")"
   ]
  },
  {
   "cell_type": "code",
   "execution_count": 86,
   "id": "5a8e9dda-abdd-4777-984f-2722ee2a8e6f",
   "metadata": {},
   "outputs": [
    {
     "name": "stdout",
     "output_type": "stream",
     "text": [
      "2.718281828459045\n",
      "<class 'numpy.float64'>\n",
      "----------------------------------------\n",
      "33.9\n",
      "<class 'numpy.float64'>\n",
      "----------------------------------------\n",
      "1.7976931348623157e+308\n",
      "<class 'numpy.float64'>\n",
      "----------------------------------------\n",
      "float_list {\n",
      "  value: 2.7182817459106445\n",
      "}\n",
      "\n",
      "----------------------------------------\n",
      "float_list {\n",
      "  value: 33.900001525878906\n",
      "}\n",
      "\n",
      "----------------------------------------\n",
      "float_list {\n",
      "  value: inf\n",
      "}\n",
      "\n"
     ]
    }
   ],
   "source": [
    "float64_1 = np.exp(1, dtype=np.float64)\n",
    "print(float64_1)\n",
    "print(type(float64_1))\n",
    "assert isinstance(float64_1, np.float64) \n",
    "assert type(float64_1) == np.float64\n",
    "HR()\n",
    "\n",
    "float64_2 = np.float64(33.9)\n",
    "print(float64_2)\n",
    "print(type(float64_2))\n",
    "assert isinstance(float64_2, np.float64) \n",
    "assert type(float64_2) == np.float64\n",
    "HR()\n",
    "\n",
    "# np.float64 max\n",
    "float64_3 = np.float64(np.finfo(np.float64).max)\n",
    "print(float64_3 )\n",
    "print(type(float64_3))\n",
    "assert isinstance(float64_3, np.float64) \n",
    "assert type(float64_3) == np.float64\n",
    "HR()\n",
    "\n",
    "\n",
    "print(float_feature(float64_1))\n",
    "HR()\n",
    "\n",
    "print(float_feature(float64_2))\n",
    "HR()\n",
    "\n",
    "print(float_feature(float64_3)) \n",
    "# TODO: check this result\n",
    "# float_list {\n",
    "#   value: inf\n",
    "# }"
   ]
  },
  {
   "cell_type": "markdown",
   "id": "2fb4edde-75f5-418e-91a1-26dc2e686acc",
   "metadata": {},
   "source": [
    "---\n",
    "<a id='5.0'></a><a name=\"5.0\"></a>\n",
    "# 5. [tf.train.Int64List](https://www.tensorflow.org/api_docs/python/tf/train/Int64List)\n",
    "<a href=\"#top\">[back to top]</a>\n",
    "\n",
    "Used in tf.train.Example protos. Holds a list of Int64s.\n",
    "\n",
    "* 5.1 [bool](#5.1)\n",
    "* 5.2 [enum](#5.2)\n",
    "* 5.3 [int32](#5.3)\n",
    "* 5.4 [uint32](#5.4)\n",
    "* 5.5 [int64](#5.5)\n",
    "* 5.6 [uint64](#5.6)\n",
    "\n",
    "\n",
    "**Note:**\n",
    "We wrap value with int, as in `value=[int(value)]`, to avoid this error when we pass in booleans:\n",
    "\n",
    "```python\n",
    "DeprecationWarning: In future, it will be an error for 'np.bool_' scalars to be interpreted as an index\n",
    "```"
   ]
  },
  {
   "cell_type": "code",
   "execution_count": 10,
   "id": "8b8099fe-d7de-43d1-ba19-4d793de7ffcc",
   "metadata": {},
   "outputs": [],
   "source": [
    "def int64_feature(value):\n",
    "    \"\"\"Returns an int64_list from a bool / enum / int / unit\"\"\"\n",
    "    return tf.train.Feature(int64_list=tf.train.Int64List(\n",
    "        value=[int(value)])\n",
    "    )"
   ]
  },
  {
   "cell_type": "markdown",
   "id": "aa5383d8-ca2a-4a92-aa2b-e65dbf2a57d6",
   "metadata": {},
   "source": [
    "<a id='5.1'></a><a name=\"5.1\"></a>\n",
    "## 5.1 bool\n",
    "<a href=\"#top\">[back to top]</a>"
   ]
  },
  {
   "cell_type": "code",
   "execution_count": 87,
   "id": "5b366bfb-e0f6-496f-8d29-7ba61066a1bc",
   "metadata": {},
   "outputs": [
    {
     "name": "stdout",
     "output_type": "stream",
     "text": [
      "<class 'numpy.bool_'>\n",
      "----------------------------------------\n",
      "<class 'bool'>\n",
      "----------------------------------------\n",
      "<class 'bool'>\n",
      "----------------------------------------\n",
      "int64_list {\n",
      "  value: 1\n",
      "}\n",
      "\n",
      "----------------------------------------\n",
      "int64_list {\n",
      "  value: 1\n",
      "}\n",
      "\n",
      "----------------------------------------\n",
      "int64_list {\n",
      "  value: 0\n",
      "}\n",
      "\n"
     ]
    }
   ],
   "source": [
    "bool_1 = np.ones(1, dtype=bool)[0]\n",
    "print(type(bool_1))\n",
    "assert type(bool_1) == np.bool_\n",
    "assert isinstance(bool_1, np.bool_) \n",
    "HR()\n",
    "\n",
    "bool_2 = bool(\"Hello\")\n",
    "print(type(bool_2))\n",
    "assert type(bool_2) == bool\n",
    "assert isinstance(bool_2, bool)\n",
    "HR()\n",
    "\n",
    "bool_3 = False\n",
    "print(type(bool_3))\n",
    "assert type(bool_3) == bool\n",
    "assert isinstance(bool_3, bool)\n",
    "HR()\n",
    "\n",
    "#####\n",
    "\n",
    "print(int64_feature(bool_1))\n",
    "HR()\n",
    "\n",
    "print(int64_feature(bool_2))\n",
    "HR()\n",
    "\n",
    "print(int64_feature(bool_3))"
   ]
  },
  {
   "cell_type": "markdown",
   "id": "53909eb0-f73e-4c04-8397-916a66ef18bd",
   "metadata": {},
   "source": [
    "<a id='5.2'></a><a name=\"5.2\"></a>\n",
    "## 5.2 enum\n",
    "<a href=\"#top\">[back to top]</a>"
   ]
  },
  {
   "cell_type": "code",
   "execution_count": 12,
   "id": "690a3d06-be16-44c7-a45e-e32812e759b3",
   "metadata": {},
   "outputs": [
    {
     "name": "stdout",
     "output_type": "stream",
     "text": [
      "type of Color.RED: <enum 'Color'>\n",
      "----------------------------------------\n",
      "int64_list {\n",
      "  value: 1\n",
      "}\n",
      "\n"
     ]
    }
   ],
   "source": [
    "# Different Enum types: EnumMeta, Enum, IntEnum, Flag, IntFlag, auto, unique\n",
    "import enum\n",
    "\n",
    "# Need to pass an enum which is a subclass of int, so it will be compatible with tf.train.Int64List\n",
    "class Color(enum.IntEnum):\n",
    "    RED = 1\n",
    "    GREEN = 2\n",
    "    BLUE = 3\n",
    "\n",
    "print(f\"type of Color.RED: {type(Color.RED)}\")\n",
    "\n",
    "assert str(type(Color.RED)) == \"<enum 'Color'>\"\n",
    "\n",
    "assert isinstance(Color.RED, enum.IntEnum)\n",
    "HR()\n",
    "\n",
    "print(int64_feature(Color.RED))"
   ]
  },
  {
   "cell_type": "code",
   "execution_count": 13,
   "id": "001d943d-880c-4a8b-82b9-ffd0e7ea10b8",
   "metadata": {},
   "outputs": [
    {
     "name": "stdout",
     "output_type": "stream",
     "text": [
      "type of Color2.RED: <enum 'Color2'>\n",
      "----------------------------------------\n",
      "TypeError : int() argument must be a string, a bytes-like object or a number, not 'Color2'\n"
     ]
    }
   ],
   "source": [
    "# Example of improper Enum type\n",
    "import enum\n",
    "\n",
    "# Need to pass an enum which is a subclass of int, so it will be compatible with tf.train.Int64List\n",
    "class Color2(enum.Enum):\n",
    "    RED = 1\n",
    "    GREEN = 2\n",
    "    BLUE = 3\n",
    "\n",
    "print(f\"type of Color2.RED: {type(Color2.RED)}\")\n",
    "\n",
    "assert str(type(Color2.RED)) == \"<enum 'Color2'>\"\n",
    "\n",
    "assert isinstance(Color2.RED, enum.Enum)\n",
    "HR()\n",
    "\n",
    "try:\n",
    "    print(int64_feature(Color2.RED))\n",
    "except Exception as e:\n",
    "    print(f\"{type(e).__name__} : {e}\")"
   ]
  },
  {
   "cell_type": "markdown",
   "id": "e24b8364-287d-441d-993d-6c6f94ffa6ab",
   "metadata": {},
   "source": [
    "<a id='5.3'></a><a name=\"5.3\"></a>\n",
    "## 5.3 int32\n",
    "<a href=\"#top\">[back to top]</a>\n",
    "\n",
    "int32: Signed integer"
   ]
  },
  {
   "cell_type": "code",
   "execution_count": 14,
   "id": "6d417c1e-b71e-47e7-b501-f3bc08fb213d",
   "metadata": {},
   "outputs": [
    {
     "name": "stdout",
     "output_type": "stream",
     "text": [
      "-2,147,483,648\n",
      "2,147,483,647\n"
     ]
    }
   ],
   "source": [
    "int32_min = np.int32(np.iinfo(np.int32).min)\n",
    "int32_max = np.int32(np.iinfo(np.int32).max)\n",
    "print(f\"{int32_min:,}\")\n",
    "print(f\"{int32_max:,}\")"
   ]
  },
  {
   "cell_type": "code",
   "execution_count": 88,
   "id": "a8ddbce4-6148-43cf-b653-46ce57737e46",
   "metadata": {},
   "outputs": [
    {
     "name": "stdout",
     "output_type": "stream",
     "text": [
      "8\n",
      "<class 'numpy.int32'>\n",
      "----------------------------------------\n",
      "100\n",
      "<class 'numpy.int32'>\n",
      "----------------------------------------\n",
      "2147483647\n",
      "<class 'numpy.int32'>\n",
      "----------------------------------------\n",
      "int64_list {\n",
      "  value: 8\n",
      "}\n",
      "\n",
      "----------------------------------------\n",
      "int64_list {\n",
      "  value: 100\n",
      "}\n",
      "\n",
      "----------------------------------------\n",
      "int64_list {\n",
      "  value: 2147483647\n",
      "}\n",
      "\n",
      "----------------------------------------\n"
     ]
    }
   ],
   "source": [
    "int32_1 = np.power(2, 3, dtype=np.int32)\n",
    "print(int32_1)\n",
    "print(type(int32_1))\n",
    "assert str(type(int32_1)) == \"<class 'numpy.int32'>\"\n",
    "assert type(int32_1) == np.int32\n",
    "assert isinstance(int32_1, np.int32) \n",
    "HR()\n",
    "\n",
    "int32_2 = np.int32(100)\n",
    "print(int32_2)\n",
    "print(type(int32_2))\n",
    "assert str(type(int32_2)) == \"<class 'numpy.int32'>\"\n",
    "assert type(int32_2) == np.int32\n",
    "assert isinstance(int32_2, np.int32)\n",
    "HR()\n",
    "\n",
    "# np.int32 max\n",
    "int32_3 = np.int32(np.iinfo(np.int32).max)\n",
    "print(int32_3 )\n",
    "print(type(int32_3))\n",
    "assert isinstance(int32_3, np.int32) \n",
    "assert type(int32_3) == np.int32\n",
    "HR()\n",
    "\n",
    "#####\n",
    "\n",
    "print(int64_feature(int32_1))\n",
    "HR()\n",
    "\n",
    "print(int64_feature(int32_2))\n",
    "HR()\n",
    "\n",
    "print(int64_feature(int32_3))\n",
    "HR()"
   ]
  },
  {
   "cell_type": "markdown",
   "id": "166ef3f8-e9f9-4327-ab3e-a4a3e7783fe0",
   "metadata": {},
   "source": [
    "<a id='5.4'></a><a name=\"5.4\"></a>\n",
    "## 5.4 uint32\n",
    "<a href=\"#top\">[back to top]</a>\n",
    "\n",
    "uint32: Unsigned integer"
   ]
  },
  {
   "cell_type": "code",
   "execution_count": 16,
   "id": "c85fe064-f202-4935-8ae8-660a0ebc7e78",
   "metadata": {},
   "outputs": [
    {
     "name": "stdout",
     "output_type": "stream",
     "text": [
      "0\n",
      "4,294,967,295\n"
     ]
    }
   ],
   "source": [
    "uint32_min = np.uint32(np.iinfo(np.uint32).min)\n",
    "uint32_max = np.uint32(np.iinfo(np.uint32).max)\n",
    "print(f\"{uint32_min:,}\")\n",
    "print(f\"{uint32_max:,}\")"
   ]
  },
  {
   "cell_type": "code",
   "execution_count": 89,
   "id": "13b925fe-ca74-4590-a24e-94ff7e4a4430",
   "metadata": {},
   "outputs": [
    {
     "name": "stdout",
     "output_type": "stream",
     "text": [
      "8\n",
      "<class 'numpy.uint32'>\n",
      "----------------------------------------\n",
      "100\n",
      "<class 'numpy.uint32'>\n",
      "----------------------------------------\n",
      "4294967295\n",
      "<class 'numpy.uint32'>\n",
      "----------------------------------------\n",
      "int64_list {\n",
      "  value: 8\n",
      "}\n",
      "\n",
      "----------------------------------------\n",
      "int64_list {\n",
      "  value: 100\n",
      "}\n",
      "\n",
      "----------------------------------------\n",
      "int64_list {\n",
      "  value: 4294967295\n",
      "}\n",
      "\n"
     ]
    }
   ],
   "source": [
    "uint32_1 = np.power(2, 3, dtype=np.uint32)\n",
    "print(uint32_1)\n",
    "print(type(uint32_1))\n",
    "assert type(uint32_1) == np.uint32\n",
    "assert str(type(uint32_1)) == \"<class 'numpy.uint32'>\"\n",
    "assert isinstance(uint32_1, np.uint32) \n",
    "\n",
    "HR()\n",
    "\n",
    "uint32_2 = np.uint32(100)\n",
    "print(uint32_2)\n",
    "print(type(uint32_2))\n",
    "assert type(uint32_2) == np.uint32\n",
    "assert str(type(uint32_2)) == \"<class 'numpy.uint32'>\"\n",
    "assert isinstance(uint32_2, np.uint32)\n",
    "HR()\n",
    "\n",
    "# max for Python int32\n",
    "uint32_3 = np.uint32(np.iinfo(np.uint32).max)\n",
    "print(uint32_3)\n",
    "print(type(uint32_3))\n",
    "assert type(uint32_3) == np.uint32\n",
    "assert str(type(uint32_3)) == \"<class 'numpy.uint32'>\"\n",
    "HR()\n",
    "\n",
    "#####\n",
    "\n",
    "print(int64_feature(uint32_1))\n",
    "HR()\n",
    "\n",
    "print(int64_feature(uint32_2))\n",
    "HR()\n",
    "\n",
    "print(int64_feature(uint32_3))"
   ]
  },
  {
   "cell_type": "markdown",
   "id": "e3678cba-dac5-413d-89f7-8f490c6244cb",
   "metadata": {},
   "source": [
    "<a id='5.5'></a><a name=\"5.5\"></a>\n",
    "## 5.5 int64\n",
    "<a href=\"#top\">[back to top]</a>\n",
    "\n",
    "int64: Signed integer"
   ]
  },
  {
   "cell_type": "code",
   "execution_count": 18,
   "id": "eec753ac-bd9d-431d-95cf-0819e9bc06c1",
   "metadata": {},
   "outputs": [
    {
     "name": "stdout",
     "output_type": "stream",
     "text": [
      "-9,223,372,036,854,775,808\n",
      "9,223,372,036,854,775,807\n"
     ]
    }
   ],
   "source": [
    "int64_min = np.int64(np.iinfo(np.int64).min)\n",
    "int64_max = np.int64(np.iinfo(np.int64).max)\n",
    "print(f\"{int64_min:,}\")\n",
    "print(f\"{int64_max:,}\")"
   ]
  },
  {
   "cell_type": "code",
   "execution_count": 90,
   "id": "7b4bae39-7d57-423e-aedb-d0a3958b0cef",
   "metadata": {},
   "outputs": [
    {
     "name": "stdout",
     "output_type": "stream",
     "text": [
      "8\n",
      "<class 'numpy.int64'>\n",
      "----------------------------------------\n",
      "100\n",
      "<class 'numpy.int64'>\n",
      "----------------------------------------\n",
      "9223372036854775807\n",
      "<class 'numpy.int64'>\n",
      "----------------------------------------\n",
      "int64_list {\n",
      "  value: 8\n",
      "}\n",
      "\n",
      "----------------------------------------\n",
      "int64_list {\n",
      "  value: 100\n",
      "}\n",
      "\n",
      "----------------------------------------\n",
      "int64_list {\n",
      "  value: 9223372036854775807\n",
      "}\n",
      "\n",
      "----------------------------------------\n"
     ]
    }
   ],
   "source": [
    "int64_1 = np.power(2, 3, dtype=np.int64)\n",
    "print(int64_1)\n",
    "print(type(int64_1))\n",
    "assert type(int64_1) == np.int64\n",
    "assert str(type(int64_1)) == \"<class 'numpy.int64'>\"\n",
    "assert isinstance(int64_1, np.int64) \n",
    "HR()\n",
    "\n",
    "int64_2 = np.int64(100)\n",
    "print(int64_2)\n",
    "print(type(int64_2))\n",
    "assert type(int64_2) == np.int64\n",
    "assert str(type(int64_2)) == \"<class 'numpy.int64'>\"\n",
    "assert isinstance(int64_2, np.int64)\n",
    "HR()\n",
    "\n",
    "# max for Python int64\n",
    "int64_3 = np.int64(np.iinfo(np.int64).max)\n",
    "print(int64_3)\n",
    "print(type(int64_3))\n",
    "assert type(int64_3) == np.int64\n",
    "assert str(type(int64_3)) == \"<class 'numpy.int64'>\"\n",
    "HR()\n",
    "\n",
    "#####\n",
    "\n",
    "print(int64_feature(int64_1))\n",
    "HR()\n",
    "\n",
    "print(int64_feature(int64_2))\n",
    "HR()\n",
    "\n",
    "print(int64_feature(int64_3))\n",
    "HR()"
   ]
  },
  {
   "cell_type": "markdown",
   "id": "08dbdafd-6df8-4fff-87ec-76268ab075df",
   "metadata": {},
   "source": [
    "<a id='5.6'></a><a name=\"5.6\"></a>\n",
    "## 5.6 uint64\n",
    "<a href=\"#top\">[back to top]</a>\n",
    "\n",
    "uint64: Unsigned integer\n",
    "\n",
    "**Note:**\n",
    "\n",
    "1. When we try to use `tf.train.Int64List` with a value exceeding `np.Int64` max (eg 9,223,372,036,854,775,807 + 1), we get this error:\n",
    "\n",
    "```python\n",
    "OverflowError\n",
    "Python int too large to convert to C long\n",
    "```\n",
    "\n",
    "2. When we try to use `tf.train.Int64List` with the max value of `UInt64`, we get this error:\n",
    "\n",
    "```python\n",
    "ValueError\n",
    "Value out of range: 18446744073709551615\n",
    "```"
   ]
  },
  {
   "cell_type": "code",
   "execution_count": 20,
   "id": "9a4c5582-977c-4fa9-81ac-bfb27c54849f",
   "metadata": {},
   "outputs": [
    {
     "name": "stdout",
     "output_type": "stream",
     "text": [
      "0\n",
      "18,446,744,073,709,551,615\n"
     ]
    }
   ],
   "source": [
    "uint64_min = np.uint64(np.iinfo(np.uint64).min)\n",
    "uint64_max = np.uint64(np.iinfo(np.uint64).max)\n",
    "print(f\"{uint64_min:,}\")\n",
    "print(f\"{uint64_max:,}\")"
   ]
  },
  {
   "cell_type": "code",
   "execution_count": 97,
   "id": "9c109f3d-3f6a-4732-9cd9-7965f9c75fc7",
   "metadata": {},
   "outputs": [
    {
     "name": "stdout",
     "output_type": "stream",
     "text": [
      "18446744073709551615\n",
      "<class 'numpy.uint64'>\n",
      "----------------------------------------\n",
      "Test using max np.int64:\n",
      "9,223,372,036,854,775,807\n",
      "\n",
      "int64_list {\n",
      "  value: 9223372036854775807\n",
      "}\n",
      "\n",
      "----------------------------------------\n",
      "Test using max np.int64+1:\n",
      "9,223,372,036,854,775,808\n",
      "\n",
      "OverflowError\n",
      "Python int too large to convert to C long\n",
      "----------------------------------------\n",
      "Test using max np.uint64:\n",
      "18,446,744,073,709,551,615\n",
      "\n",
      "ValueError\n",
      "Value out of range: 18446744073709551615\n"
     ]
    }
   ],
   "source": [
    "# uint64 max\n",
    "uint64_1 = np.uint64(np.iinfo(np.uint64).max)\n",
    "print(uint64_1)\n",
    "print(type(uint64_1))\n",
    "assert type(uint64_1) == np.uint64\n",
    "assert str(type(uint64_1)) == \"<class 'numpy.uint64'>\"\n",
    "HR()\n",
    "\n",
    "max_int64 = np.int64(np.iinfo(np.int64).max)\n",
    "print(f\"Test using max np.int64:\\n{max_int64:,}\\n\")\n",
    "try:\n",
    "    print(int64_feature(np.int64(np.iinfo(np.int64).max)))\n",
    "except Exception as e:\n",
    "    print(type(e).__name__)\n",
    "    print(e)\n",
    "    \n",
    "HR()\n",
    "\n",
    "max_int64_plus_one = np.uint64(np.iinfo(np.int64).max+1)\n",
    "print(f\"Test using max np.int64+1:\\n{max_int64_plus_one:,}\\n\")\n",
    "try:\n",
    "    print(int64_feature(np.int64(np.iinfo(np.int64).max+1)))\n",
    "except Exception as e:\n",
    "    print(type(e).__name__)\n",
    "    print(e)\n",
    "    \n",
    "HR()\n",
    "\n",
    "print(f\"Test using max np.uint64:\\n{uint64_1:,}\\n\")\n",
    "try:\n",
    "    print(int64_feature(uint64_1))\n",
    "except Exception as e:\n",
    "    print(type(e).__name__)\n",
    "    print(e)"
   ]
  },
  {
   "cell_type": "code",
   "execution_count": 23,
   "id": "c9cc337d-5c5e-4b91-9537-5cfb55a15d45",
   "metadata": {},
   "outputs": [
    {
     "name": "stdout",
     "output_type": "stream",
     "text": [
      "<class 'list'>\n",
      "----------------------------------------\n",
      "TypeError\n",
      "[b'test_string1', b'test_string2'] has type list, but expected one of: bytes\n"
     ]
    }
   ],
   "source": [
    "test_bytes_byte_list = [b'test_string1', b'test_string2']\n",
    "\n",
    "print(type(test_bytes_byte_list))\n",
    "HR()\n",
    "\n",
    "# type of outer container (list)\n",
    "assert isinstance(test_bytes_byte_list, list)\n",
    "\n",
    "# type of inner elements (bytes)\n",
    "assert set(map(type, test_bytes_byte_list)) == {bytes}\n",
    "\n",
    "#####\n",
    "\n",
    "try:\n",
    "    # Try using utility function bytes_feature()\n",
    "    print(bytes_feature(test_bytes_byte_list))\n",
    "except Exception as e:\n",
    "    print(type(e).__name__)\n",
    "    print(e)\n",
    "\n",
    "# Get this error:\n",
    "# TypeError\n",
    "# [b'test_string1', b'test_string2'] has type list, but expected one of: bytes\n",
    "\n",
    "# Need to treat this as a non-scalar feature (eg feature list)"
   ]
  },
  {
   "cell_type": "markdown",
   "id": "1525fa25-a48e-4756-ab04-a0541badeae9",
   "metadata": {},
   "source": [
    "---\n",
    "A simple way to handle non-scalar features is to use `tf.io.serialize_tensor` to convert tensors to binary strings. Then, use the utility wraps `tf.train.BytesList`, which here is `bytes_feature`.\n",
    "\n",
    "Use `tf.io.parse_tensor` to convert the binary-string back to a tensor."
   ]
  },
  {
   "cell_type": "code",
   "execution_count": 24,
   "id": "1ddec623-7878-4bc6-913e-d76686a63e6a",
   "metadata": {},
   "outputs": [
    {
     "name": "stdout",
     "output_type": "stream",
     "text": [
      "<class 'list'>\n",
      "<map object at 0x124f61070>\n",
      "{<class 'tensorflow.python.framework.ops.EagerTensor'>}\n",
      "True\n",
      "----------------------------------------\n",
      "[1, 2, 4]\n",
      "<map object at 0x124f61070>\n",
      "{<class 'int'>}\n",
      "True\n",
      "----------------------------------------\n",
      "{'test', 1}\n",
      "{<class 'int'>, <class 'str'>}\n",
      "True\n",
      "----------------------------------------\n"
     ]
    },
    {
     "data": {
      "text/plain": [
       "array([['one', 'two'],\n",
       "       ['three', 'four']], dtype='<U5')"
      ]
     },
     "execution_count": 24,
     "metadata": {},
     "output_type": "execute_result"
    }
   ],
   "source": [
    "# Detect the element type inside a list\n",
    "t1 = [tf.constant(\"tf.constant string 1\"), tf.constant(\"tf.constant string 2\")]\n",
    "\n",
    "print(type(t1))\n",
    "print(map(type, t1))\n",
    "print(set(map(type, t1))) \n",
    "print(set(map(type, t1)) == {type(tf.constant(0))})\n",
    "HR()\n",
    "\n",
    "g = [1,2,4]\n",
    "print(g)\n",
    "print(map(type, g))\n",
    "print(set(map(type, g)))\n",
    "print(set(map(type, g)) == {int})\n",
    "HR()\n",
    "\n",
    "i = set((1, \"test\", True))\n",
    "print(i)\n",
    "print(set(map(type, i)))\n",
    "print(set(map(type, i))=={int, str})\n",
    "HR()\n",
    "\n",
    "\n",
    "# Converts the ndarray to a Tensor.\n",
    "# TODO - how to detect type of items in +2D deeper lists\n",
    "numpy_original = np.array([[\"one\", \"two\"], [\"three\", \"four\"]])\n",
    "numpy_original"
   ]
  },
  {
   "cell_type": "code",
   "execution_count": 25,
   "id": "54c8234f-3857-498b-9563-09f73d4466f1",
   "metadata": {},
   "outputs": [
    {
     "name": "stdout",
     "output_type": "stream",
     "text": [
      "type(value):  <class 'list'>\n",
      "map(type, value): <map object at 0x12ddbbfa0>\n",
      "set(map(type, value)): {<class 'bytes'>}\n",
      "\n",
      "bytes_list {\n",
      "  value: \"test_string\"\n",
      "  value: \"test_string2\"\n",
      "}\n",
      "\n",
      "----------------------------------------\n",
      "type(value):  <class 'list'>\n",
      "map(type, value): <map object at 0x12ddbbdf0>\n",
      "set(map(type, value)): {<class 'tensorflow.python.framework.ops.EagerTensor'>}\n",
      "\n",
      "** PASSING AN EAGER-TENSOR value:\n",
      "[<tf.Tensor: shape=(), dtype=string, numpy=b'tf.constant string 1'>, <tf.Tensor: shape=(), dtype=string, numpy=b'tf.constant string 2'>]\n",
      "\n",
      "bytes_list {\n",
      "  value: \"tf.constant string 1\"\n",
      "  value: \"tf.constant string 2\"\n",
      "}\n",
      "\n",
      "tensor_from_numpy\n",
      "<class 'tensorflow.python.framework.ops.EagerTensor'>\n",
      "----------------------------------------\n",
      "True\n"
     ]
    }
   ],
   "source": [
    "def bytes_feature_list(value):\n",
    "    \"\"\"Returns a bytes_list from a string / byte.\"\"\"\n",
    "\n",
    "    # To check whether all elements in a list are integers\n",
    "    set(map(type, [1,2,3])) == {int}\n",
    "\n",
    "    # Check whether all elements in the list are \n",
    "    print(\"type(value): \", type(value))\n",
    "    print(\"map(type, value):\", map(type, value))\n",
    "    print(\"set(map(type, value)):\", set(map(type, value)))\n",
    "    print()\n",
    "    \n",
    "    if set(map(type, value)) == {type(tf.constant(0))}:\n",
    "        print(f\"** PASSING AN EAGER-TENSOR value:\\n{value}\\n\")\n",
    "        value = list(map(lambda t: t.numpy(), value))\n",
    "    return tf.train.Feature(bytes_list=tf.train.BytesList(value=value))\n",
    "   \n",
    "    \n",
    "test_bytes_list_1 = [b'test_string', b'test_string2']\n",
    "assert isinstance(test_bytes_list_1, list)\n",
    "assert set(map(type, test_bytes_list_1)) == {bytes}\n",
    "print(bytes_feature_list(test_bytes_list_1))\n",
    "HR()\n",
    "\n",
    "\n",
    "test_bytes_list_2 = [tf.constant(\"tf.constant string 1\"), tf.constant(\"tf.constant string 2\")]\n",
    "assert isinstance(test_bytes_list_2, list)\n",
    "assert set(map(type, test_bytes_list_2)) == {type(tf.constant(0))}\n",
    "print(bytes_feature_list(test_bytes_list_2))\n",
    "\n",
    "\n",
    "\n",
    "\n",
    "# Converts the given value to a Tensor.\n",
    "numpy_original = np.array([[\"one\", \"two\"], [\"three\", \"four\"]], dtype=str)\n",
    "tensor_from_numpy = tf.convert_to_tensor(\n",
    "    numpy_original,\n",
    "    dtype=tf.string\n",
    ")\n",
    "print(\"tensor_from_numpy\")\n",
    "print(type(tensor_from_numpy))\n",
    "HR()\n",
    "print(isinstance(tensor_from_numpy, tf.Tensor))\n",
    "assert set(map(type, tensor_from_numpy)) == {type(tf.constant(0))}"
   ]
  },
  {
   "cell_type": "code",
   "execution_count": 26,
   "id": "5a13f27a-9716-482d-a6d0-23b62d07af67",
   "metadata": {},
   "outputs": [
    {
     "name": "stdout",
     "output_type": "stream",
     "text": [
      "serialized_tensor:\n",
      "b'\\x08\\x07\\x12\\x04\\x12\\x02\\x08\\x02B\\x0ctest_string1B\\x0ctest_string2'\n",
      "----------------------------------------\n",
      "type of serialized_tensor:\n",
      "<class 'tensorflow.python.framework.ops.EagerTensor'>\n",
      "----------------------------------------\n",
      "tensor_proto:\n",
      "dtype: DT_STRING\n",
      "tensor_shape {\n",
      "  dim {\n",
      "    size: 2\n",
      "  }\n",
      "}\n",
      "string_val: \"test_string1\"\n",
      "string_val: \"test_string2\"\n",
      "\n",
      "\n",
      "type of tensor_proto:\n",
      "<class 'tensorflow.core.framework.tensor_pb2.TensorProto'>\n",
      "\n",
      "----------------------------------------\n",
      "Parse serialized protocol buffer data into this message., via tensor_proto.ParseFromString()\n",
      "\n",
      "----------------------------------------\n",
      "IsInitialized:\n",
      "True\n",
      "----------------------------------------\n",
      "ListFields:\n",
      "[(<google.protobuf.pyext._message.FieldDescriptor object at 0x12dff5400>, 7),\n",
      " (<google.protobuf.pyext._message.FieldDescriptor object at 0x1115c3370>,\n",
      "  dim {\n",
      "  size: 2\n",
      "}\n",
      "),\n",
      " (<google.protobuf.pyext._message.FieldDescriptor object at 0x12ddbbac0>,\n",
      "  [b'test_string1', b'test_string2'])]\n",
      "----------------------------------------\n",
      "dtype of tensor:\n",
      "<dtype: 'string'>\n",
      "----------------------------------------\n",
      "test_bytes_byte_list:\n",
      "[b'test_string1', b'test_string2']\n",
      "----------------------------------------\n",
      "tensor_parsed:\n",
      "tf.Tensor([b'test_string1' b'test_string2'], shape=(2,), dtype=string)\n",
      "----------------------------------------\n",
      "NameError\n",
      "name 'test_bytes_byte_list_wrapper' is not defined\n"
     ]
    }
   ],
   "source": [
    "# https://stackoverflow.com/questions/62348605/how-to-parse-tensor-without-giving-out-type-in-tensorflow\n",
    "\n",
    "# A scalar tf.string tensor containing the serialized input_tensor\n",
    "serialized_tensor = tf.io.serialize_tensor(test_bytes_byte_list)\n",
    "\n",
    "print(f\"serialized_tensor:\\n{serialized_tensor}\")\n",
    "HR()\n",
    "\n",
    "print(f\"type of serialized_tensor:\\n{type(serialized_tensor)}\")\n",
    "HR()\n",
    "\n",
    "\n",
    "# Representing a tensors as protos. \n",
    "# Create a TensorProto from serialized_tensor content\n",
    "# Inputs: python scalar, python list, numpy ndarray, numpy scalar\n",
    "# https://www.tensorflow.org/api_docs/python/tf/make_tensor_proto\n",
    "tensor_proto = tf.make_tensor_proto(test_bytes_byte_list)\n",
    "print(f\"tensor_proto:\\n{tensor_proto}\\n\")\n",
    "print(f\"type of tensor_proto:\\n{type(tensor_proto)}\\n\")\n",
    "HR()\n",
    "\n",
    "\n",
    "print(\"Parse serialized protocol buffer data into this message., via tensor_proto.ParseFromString()\\n\")\n",
    "# https://github.com/protocolbuffers/protobuf/blob/main/python/google/protobuf/message.py\n",
    "tensor_proto.ParseFromString(serialized_tensor.numpy())\n",
    "HR()\n",
    "\n",
    "\n",
    "print(\"IsInitialized:\")\n",
    "print(tensor_proto.IsInitialized())\n",
    "HR()\n",
    "\n",
    "\n",
    "print(\"ListFields:\")\n",
    "pp.pprint(tensor_proto.ListFields())\n",
    "HR()\n",
    "\n",
    "\n",
    "print(\"dtype of tensor:\")\n",
    "print(tf.dtypes.as_dtype(tensor_proto.dtype))\n",
    "HR()\n",
    "\n",
    "\n",
    "# Read data back from tensor proto\n",
    "tensor_parsed = tf.io.parse_tensor(\n",
    "    serialized_tensor.numpy(),\n",
    "    tf.dtypes.as_dtype(tensor_proto.dtype)\n",
    ")\n",
    "\n",
    "print(\"test_bytes_byte_list:\")\n",
    "print(test_bytes_byte_list)\n",
    "HR()\n",
    "\n",
    "print(\"tensor_parsed:\")\n",
    "print(tensor_parsed)\n",
    "HR()\n",
    "\n",
    "tf.debugging.assert_equal(\n",
    "    test_bytes_byte_list, tensor_parsed, message=\"Assert failed.\")\n",
    "\n",
    "\n",
    "try:\n",
    "    result = print(bytes_feature(test_bytes_byte_list_wrapper))\n",
    "except Exception as e:\n",
    "    print(type(e).__name__)\n",
    "    print(e)\n",
    "else:\n",
    "    print(\"*** Returned result from bytes_feature():\")\n",
    "    print(type(result))\n",
    "    print(result)\n",
    "    \n",
    "    "
   ]
  },
  {
   "cell_type": "code",
   "execution_count": 27,
   "id": "4348d04a-8e7c-4024-8c11-6b533227f43a",
   "metadata": {},
   "outputs": [
    {
     "name": "stdout",
     "output_type": "stream",
     "text": [
      "39.7 ms ± 2.56 ms per loop (mean ± std. dev. of 7 runs, 10 loops each)\n"
     ]
    }
   ],
   "source": [
    "# benchmark tool for single line, runs multiple times default:7) for average\n",
    "%timeit [x ** 2 for x in range(100000)] # 計測したい処理"
   ]
  },
  {
   "cell_type": "code",
   "execution_count": 28,
   "id": "537141c4-3246-4b1e-a5fc-7e5e9230a379",
   "metadata": {},
   "outputs": [
    {
     "name": "stdout",
     "output_type": "stream",
     "text": [
      "406 µs ± 32 µs per loop (mean ± std. dev. of 7 runs, 1000 loops each)\n"
     ]
    }
   ],
   "source": [
    "%timeit assert set(map(type, tensor_parsed)) == {type(tf.constant(0))}"
   ]
  }
 ],
 "metadata": {
  "kernelspec": {
   "display_name": "Python 3 (ipykernel)",
   "language": "python",
   "name": "python3"
  },
  "language_info": {
   "codemirror_mode": {
    "name": "ipython",
    "version": 3
   },
   "file_extension": ".py",
   "mimetype": "text/x-python",
   "name": "python",
   "nbconvert_exporter": "python",
   "pygments_lexer": "ipython3",
   "version": "3.8.12"
  }
 },
 "nbformat": 4,
 "nbformat_minor": 5
}
