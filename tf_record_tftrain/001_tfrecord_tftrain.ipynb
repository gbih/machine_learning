{
 "cells": [
  {
   "cell_type": "markdown",
   "metadata": {
    "id": "HQzaEQuJiW_d",
    "tags": []
   },
   "source": [
    "<a name=\"top\"></a><a id=\"top\">\n",
    "# [TFRecord and tf.train.Example](https://www.tensorflow.org/tutorials/load_data/tfrecord)"
   ]
  },
  {
   "cell_type": "markdown",
   "metadata": {},
   "source": [
    "0. [Setup](#setup)\n",
    "1. [Introduction](#1.1)\n",
    "2. [tf.train.Example](#2.0)\n",
    "    * 2.1 [Data types for tf.train.Example](#2.1)\n",
    "    * 2.2 [Creating a tf.train.Example message (w/o tf.data)](#2.2)\n",
    "        - 2.2.1 [Creating a single Example message](#2.2.1)\n",
    "        - 2.2.2 [Decoding a single Example message](#2.2.2)\n",
    "        - 2.2.3 [Creating multiple Example messages](#2.2.3)\n",
    "        - 2.2.4 [Decoding multiple Example messages](#2.2.4)\n",
    "    * 2.3 [Operations on Examples: TFRecord saving, loading, reading](#2.3)\n",
    "        - 2.3.1 [Saving a single record](#2.3.1)\n",
    "        - 2.3.2 [Saving multiple records](#2.3.2)\n",
    "        - 2.3.3 [Loading and reading a single record](#2.3.3)\n",
    "        - 2.3.4 [Loading and reading multiple records](#2.3.4)\n",
    "3. [TFRecord format details](#3.0)\n",
    "4. [TFRecord files using tf.data](#4.0)\n",
    "    * 4.1 [Writing a TFRecord file](#4.1)\n",
    "        - 4.1.1 [tf.data.from_tensor_slices applied to an array](#4.1.1)\n",
    "        - 4.1.2 [tf.data.from_tensor_slices applied to a tuple of arrays](#4.1.2)\n",
    "        - 4.1.3 [Using tf.data.Dataset.map on a Dataset](#4.1.3)\n",
    "            * 4.1.3.1 [Using tf.data.Dataset.map with tf.py_function](#4.1.3.1)\n",
    "            * 4.1.3.2 [Create and save TFRecord (using tf.data.Dataset.map with tf.data.Dataset.from_generator)](#4.1.3.2)\n",
    "            * 4.1.3.3 [Loading TFRecord files created via tf.data.Dataset.from_generator](#4.1.3.3)\n",
    "    * 4.2 [Reading a TFRecord file](#4.2)\n",
    "5. [TFRecord files in Python](#5.0)\n",
    "    * 5.1 [Writing a TFRecord file](#5.1)\n",
    "    * 5.2 [Reading a TFRecord file](#5.2)\n",
    "6. [Walkthrough: Reading and writing image data](#6.0)\n",
    "    * 6.1 [Fetch the images](#6.1)\n",
    "    * 6.2 [Write the TFRecord file](#6.2)\n",
    "    * 6.3 [Read the TFRecord file](#6.3)"
   ]
  },
  {
   "cell_type": "markdown",
   "metadata": {
    "id": "WkRreBf1eDVc",
    "tags": []
   },
   "source": [
    "---\n",
    "<a id=\"setup\"></a><a name=\"setup\"></a>\n",
    "# 0. Setup\n",
    "<a href=\"#top\">[back to top]</a>"
   ]
  },
  {
   "cell_type": "code",
   "execution_count": 1,
   "metadata": {
    "id": "Ja7sezsmnXph"
   },
   "outputs": [
    {
     "name": "stdout",
     "output_type": "stream",
     "text": [
      "CPU times: user 6.33 s, sys: 1.34 s, total: 7.67 s\n",
      "Wall time: 19.9 s\n"
     ]
    }
   ],
   "source": [
    "%%time\n",
    "import glob\n",
    "import IPython.display as display\n",
    "import matplotlib.pyplot as plt\n",
    "import numpy as np\n",
    "import os\n",
    "import pprint as pp\n",
    "import tensorflow as tf\n",
    "\n",
    "# To make this notebook's output stable across runs\n",
    "tf.random.set_seed(42)\n",
    "np.random.seed(42)\n",
    "\n",
    "def HR():\n",
    "    print(\"-\"*40)\n",
    "    \n",
    "#print(\"Libraries loaded..\")"
   ]
  },
  {
   "cell_type": "markdown",
   "metadata": {
    "id": "3pkUd_9IZCFO",
    "tags": []
   },
   "source": [
    "---\n",
    "<a id=\"1.1\"></a><a name=\"1.1\"></a>\n",
    "# 1. Introduction\n",
    "<a href=\"#top\">[back to top]</a>\n",
    "\n",
    "Conceptually, we want to explore four-interrelated APIs and the respective functionality provided.\n",
    "\n",
    "1. **TFRecord** is a simple format for storing a sequence of binary records.\n",
    "\n",
    "2. **[Protocol Buffers](https://developers.google.com/protocol-buffers/?hl=en)** (or *protobufs*), are what TensorFlow's file formats are based on. Protobufs are a cross-platform, cross-language library for efficient serialization of structured data. Protocol messages are defined by `.proto` files, which are often the easiest way to understand a message type. We define data structures in text files, and the [protobuf tools](https://chromium.googlesource.com/external/github.com/tensorflow/tensorflow/+/r0.10/tensorflow/g3doc/how_tos/tool_developers/index.md) use those to generate classes in Python (and other languages) that can load, save, and access data. \n",
    "\n",
    "3. **`tf.train.Example`** protobuf is a flexible message type that represents a `{\"string\": value}` mapping. It is designed for use with TensorFlow and is used throughout the higher-level APIs such as [TFX](https://www.tensorflow.org/tfx/). An Example is a standard protobuf-message that stores data for training and inference. `tf.train.Example` contains a key-value store `Example.features` where each key (string) maps to a `tf.train.Feature` message which contains a fixed-type list. This flexible and compact format allows the storage of large amounts of typed data, but requires that the data shape and use be determined by the configuration files and parsers that are used to read and write this format. A `tf.train.Example` proto is a representation of the following python type:\n",
    "\n",
    "```\n",
    "Dict[str,\n",
    "     Union[List[bytes],\n",
    "           List[int64],\n",
    "           List[float]]]\n",
    "```\n",
    "    \n",
    "4. **`tf.data API`** provides rich functionality for dataset manipulation, to enable descriptive and efficient input pipelines.\n",
    "\n",
    "In summary, think of **TFRecord** as providing a high-performance binary storage format, **Protocol buffers** as the underlying mechanism for serializing structured data, **tf.train.Example** as providing a typed data-structure for storing Protocol buffers for training and inference, and **tf.data** as enabling rich functionality for dataset manipulation."
   ]
  },
  {
   "cell_type": "markdown",
   "metadata": {
    "id": "Ac83J0QxjhFt"
   },
   "source": [
    "---\n",
    "In terms of workflow, this notebook demonstrates:\n",
    "\n",
    "* How to create, parse, and use `tf.train.Example` messages.\n",
    "* How to serialize, write, and read `tf.train.Example` messages to and from `.tfrecord` files.\n",
    "\n",
    "Note 1: While useful, these structures are optional. There is no need to convert existing code to use TFRecords, unless you are [using tf.data](https://www.tensorflow.org/guide/data) and reading data is still the bottleneck to training. You can refer to [Better performance with the tf.data API](https://www.tensorflow.org/guide/data_performance) for dataset performance tips.\n",
    "\n",
    "Note 2: In general, you should shard your data across multiple files so that you can parallelize I/O (within a single host or across multiple hosts). The rule of thumb is to *have at least 10 times as many files as there will be hosts reading data*. Also, each file should be large enough (at least 10 MB+, ideally 100 MB+) so that you can benefit from I/O prefetching. For example, say you have `X` GB of data and you plan to train on up to `N` hosts. Ideally, you should shard the data to ~ `10*N` files, as long as ~ `X/(10*N)` is 10 MB+ (ideally 100 MB+). If it is less than that, you might need to create fewer shards to balance parallelism vs. I/O prefetching benefits."
   ]
  },
  {
   "cell_type": "markdown",
   "metadata": {},
   "source": [
    "---\n",
    "<a id='2.0'></a><a name=\"2.0\"></a>\n",
    "# 2. tf.train.Example\n",
    "<a href=\"#top\">[back to top]</a>"
   ]
  },
  {
   "cell_type": "markdown",
   "metadata": {},
   "source": [
    "<a id='2.1'></a><a name=\"2.1\"></a>\n",
    "## 2.1 Data types for tf.train.Example\n",
    "<a href=\"#top\">[back to top]</a>\n",
    "\n",
    "Fundamentally, a `tf.train.Example` is a `{\"string\": tf.train.Feature}` mapping.\n",
    "\n",
    "The `tf.train.Feature` message type can accept one of the following three types ([See the .proto file for reference](https://github.com/tensorflow/tensorflow/blob/master/tensorflow/core/example/feature.proto)). Most other generic types can be coerced into one of these List-types:\n",
    "\n",
    "1. `tf.train.BytesList` (the following types can be coerced)\n",
    "    - `string`\n",
    "    - `byte`\n",
    "2. `tf.train.FloatList` (the following types can be coerced)\n",
    "    - `float` (`float32`)\n",
    "    - `double` (`float64`)\n",
    "3. `tf.train.Int64List` (the following types can be coerced)\n",
    "    - `bool`\n",
    "    - `enum`\n",
    "    - `int32`\n",
    "    - `uint32`\n",
    "    - `int64`\n",
    "    - `uint64`\n",
    "  \n",
    "In order to convert a standard TensorFlow type to a `tf.train.Example`-compatible `tf.train.Feature`, you can use the shortcut functions below. \n",
    "\n",
    "Note: each function takes a scalar input value and returns a `tf.train.Feature` containing one of the three list types:"
   ]
  },
  {
   "cell_type": "code",
   "execution_count": 2,
   "metadata": {
    "id": "mbsPOUpVtYxA"
   },
   "outputs": [],
   "source": [
    "# The following functions can be used to convert a value to a type compatible\n",
    "# with tf.train.Example.\n",
    "\n",
    "def _bytes_feature(value):\n",
    "    \"\"\"Returns a bytes_list from a string / byte.\"\"\"\n",
    "    if isinstance(value, type(tf.constant(0))):\n",
    "        value = value.numpy() # BytesList won't unpack a string from an EagerTensor.\n",
    "    return tf.train.Feature(bytes_list=tf.train.BytesList(value=[value]))\n",
    "\n",
    "\n",
    "def _float_feature(value):\n",
    "    \"\"\"Returns a float_list from a float / double.\"\"\"\n",
    "    return tf.train.Feature(float_list=tf.train.FloatList(value=[value]))\n",
    "\n",
    "\n",
    "def _int64_feature(value):\n",
    "    \"\"\"Returns an int64_list from a bool / enum / int / uint.\"\"\"\n",
    "    # To avoid this warning, may need to cast boolean to int, via `int(value)`:\n",
    "    # DeprecationWarning: In future, it will be an error for 'np.bool_' scalars to be \n",
    "    # interpreted as an index\n",
    "    return tf.train.Feature(int64_list=tf.train.Int64List(value=[int(value)]))"
   ]
  },
  {
   "cell_type": "markdown",
   "metadata": {
    "id": "Wst0v9O8hgzy"
   },
   "source": [
    "* **Note:** To stay simple, this example only uses scalar inputs. The simplest way to handle non-scalar features is to use `tf.io.serialize_tensor` to convert tensors to binary-strings. Strings are scalars in TensorFlow. Use `tf.io.parse_tensor` to convert the binary-string back to a tensor."
   ]
  },
  {
   "cell_type": "markdown",
   "metadata": {
    "id": "vsMbkkC8xxtB"
   },
   "source": [
    "Below are some examples of how these functions work. Note the varying input types and the standardized output types. If the input type for a function does not match one of the coercible types stated above, the function will raise an exception. For example, `_int64_feature(1.0)` will error out because `1.0` is a float—therefore, it should be used with the `_float_feature` function instead:"
   ]
  },
  {
   "cell_type": "code",
   "execution_count": 3,
   "metadata": {
    "colab": {
     "base_uri": "https://localhost:8080/"
    },
    "id": "hZzyLGr0u73y",
    "outputId": "639e250f-45e7-4f99-951a-fe366b09e341"
   },
   "outputs": [
    {
     "name": "stdout",
     "output_type": "stream",
     "text": [
      "Note: all of the below proto messages share this type:\n",
      "<class 'tensorflow.core.example.feature_pb2.Feature'>\n",
      "----------------------------------------\n",
      "bytes_list {\n",
      "  value: \"test_string\"\n",
      "}\n",
      "\n",
      "bytes_list {\n",
      "  value: \"test_bytes\"\n",
      "}\n",
      "\n",
      "float_list {\n",
      "  value: 2.7182817459106445\n",
      "}\n",
      "\n",
      "int64_list {\n",
      "  value: 1\n",
      "}\n",
      "\n",
      "int64_list {\n",
      "  value: 1\n",
      "}\n",
      "\n"
     ]
    },
    {
     "name": "stderr",
     "output_type": "stream",
     "text": [
      "2022-07-20 22:52:29.651780: I tensorflow/core/platform/cpu_feature_guard.cc:151] This TensorFlow binary is optimized with oneAPI Deep Neural Network Library (oneDNN) to use the following CPU instructions in performance-critical operations:  AVX2 FMA\n",
      "To enable them in other operations, rebuild TensorFlow with the appropriate compiler flags.\n"
     ]
    }
   ],
   "source": [
    "print(\"Note: all of the below proto messages share this type:\")\n",
    "print(type(_bytes_feature(b'test_string')))\n",
    "HR()\n",
    "\n",
    "print(_bytes_feature(b'test_string'))\n",
    "print(_bytes_feature(u'test_bytes'.encode('utf-8')))\n",
    "\n",
    "print(_float_feature(np.exp(1)))\n",
    "\n",
    "print(_int64_feature(True))\n",
    "print(_int64_feature(1))"
   ]
  },
  {
   "cell_type": "markdown",
   "metadata": {
    "id": "nj1qpfQU5qmi"
   },
   "source": [
    "All proto messages can be serialized to a binary-string using the `.SerializeToString` method:"
   ]
  },
  {
   "cell_type": "code",
   "execution_count": 4,
   "metadata": {
    "colab": {
     "base_uri": "https://localhost:8080/"
    },
    "id": "5afZkORT5pjm",
    "outputId": "77ddff5b-0656-4bf8-d6fc-b088440b82e7",
    "tags": []
   },
   "outputs": [
    {
     "name": "stdout",
     "output_type": "stream",
     "text": [
      "<class 'tensorflow.core.example.feature_pb2.Feature'>\n"
     ]
    },
    {
     "data": {
      "text/plain": [
       "b'\\x12\\x06\\n\\x04T\\xf8-@'"
      ]
     },
     "execution_count": 4,
     "metadata": {},
     "output_type": "execute_result"
    }
   ],
   "source": [
    "feature = _float_feature(np.exp(1))\n",
    "\n",
    "print(type(feature))\n",
    "\n",
    "# Serializes the message to a string, only for initialized messages.\n",
    "feature.SerializeToString()"
   ]
  },
  {
   "cell_type": "markdown",
   "metadata": {
    "id": "laKnw9F3hL-W"
   },
   "source": [
    "<a id='2.2'></a><a name=\"2.2\"></a>\n",
    "## 2.2 Creating a tf.train.Example message (w/o tf.data)\n",
    "<a href=\"#top\">[back to top]</a>\n",
    "\n",
    "This is the procedure for creating a `tf.train.Example` message from a single observation, for existing data (or any other dataset location).\n",
    "\n",
    "1. Within each observation, each value needs to be converted to a `tf.train.Feature` containing one of the 3 compatible types, using one of the functions above.\n",
    "\n",
    "2. Create a map (dictionary) from the feature name string to the encoded feature value produced in #1.\n",
    "\n",
    "3. The map produced in step 2 is converted to a [`Features` message](https://github.com/tensorflow/tensorflow/blob/master/tensorflow/core/example/feature.proto#L85).\n",
    "\n",
    "---\n",
    "\n",
    "In this notebook, you will create a dataset using NumPy.\n",
    "\n",
    "This dataset will have 4 features:\n",
    "\n",
    "1. Boolean feature, `False` or `True` with equal probability\n",
    "2. Integer feature uniformly randomly chosen from `[0, 5]`\n",
    "3. String feature generated from a string table by using the integer feature as an index\n",
    "4. Float feature from a standard normal distribution\n",
    "\n",
    "Create a sample of 10,000 i.i.d observations from each of the above distributions:"
   ]
  },
  {
   "cell_type": "code",
   "execution_count": 5,
   "metadata": {
    "colab": {
     "base_uri": "https://localhost:8080/"
    },
    "id": "CnrguFAy3YQv",
    "outputId": "d6c3bdbf-4fbd-4bcf-a060-f2bbe181a6bd"
   },
   "outputs": [
    {
     "name": "stdout",
     "output_type": "stream",
     "text": [
      "dtype('bool')\n",
      "[False  True False False False]\n",
      "----------------------------------------\n",
      "dtype('int64')\n",
      "[2 2 3 2 4]\n",
      "----------------------------------------\n",
      "dtype('S7')\n",
      "dtype('S7')\n",
      "[b'chicken' b'chicken' b'horse' b'chicken' b'goat']\n",
      "7\n",
      "----------------------------------------\n",
      "dtype('float64')\n",
      "[ 0.14140815  0.16677411 -0.84976487  0.70329666 -0.27729789]\n"
     ]
    }
   ],
   "source": [
    "# The number of observations in the dataset.\n",
    "n_observations = int(10_000)\n",
    "\n",
    "# Boolean feature, encoded as False or True.\n",
    "feature0 = np.random.choice([False, True], n_observations)\n",
    "print(repr(feature0.dtype))\n",
    "print(feature0[:5])\n",
    "HR()\n",
    "\n",
    "# Integer feature, random from 0 to 4.\n",
    "feature1 = np.random.randint(0, 5, n_observations)\n",
    "print(repr(feature1.dtype))\n",
    "print(feature1[:5])\n",
    "HR()\n",
    "\n",
    "# String feature.\n",
    "strings = np.array([b'cat', b'dog', b'chicken', b'horse', b'goat'])\n",
    "feature2 = strings[feature1]\n",
    "print(repr(strings.dtype))\n",
    "print(repr(feature2.dtype))\n",
    "print(feature2[:5])\n",
    "# dtype('S7'): 'S7' means the object is a string and it contains 7 bytes. \n",
    "# Confirm via the 'itemsize' attribute.\n",
    "print(feature2.itemsize)\n",
    "\n",
    "HR()\n",
    "\n",
    "# Float feature, from a standard normal distribution.\n",
    "feature3 = np.random.randn(n_observations)\n",
    "print(repr(feature3.dtype))\n",
    "print(feature3[:5])"
   ]
  },
  {
   "cell_type": "markdown",
   "metadata": {
    "id": "aGrscehJr7Jd"
   },
   "source": [
    "---\n",
    "Each of these features can be coerced into a `tf.train.Example`-compatible type using one of these user-defined functions:\n",
    "\n",
    "* `_bytes_feature`\n",
    "* `_float_feature` \n",
    "* `_int64_feature` \n",
    "\n",
    "We then wrap the resulting encoded-features in a `tf.train.Example` message."
   ]
  },
  {
   "cell_type": "code",
   "execution_count": 6,
   "metadata": {
    "id": "_4S-jHeMNX6G"
   },
   "outputs": [],
   "source": [
    "def serialize_example(feature0, feature1, feature2, feature3, debug=False):\n",
    "    \"\"\"\n",
    "    Creates a tf.train.Example message ready to be written to a file.\n",
    "    \"\"\"\n",
    "\n",
    "    # Create a Example datatype via a dictionary mapping the feature name \n",
    "    # to the tf.train.Example data type.\n",
    "    record_bytes = (\n",
    "        tf.train.Example(features=tf.train.Features(\n",
    "            feature={\n",
    "            'feature0': _int64_feature(feature0),\n",
    "            'feature1': _int64_feature(feature1),\n",
    "            'feature2': _bytes_feature(feature2),\n",
    "            'feature3': _float_feature(feature3),\n",
    "            }))\n",
    "        # .SerializeToString()\n",
    "    )\n",
    "    \n",
    "    if debug==True:\n",
    "        print(\"INSIDE SERIALIZE_EXAMPLE\")\n",
    "        print(record_bytes)\n",
    "        print(type(record_bytes))\n",
    "        HR()\n",
    "        \n",
    "    # Serialize the Example, so we can pass a `bytes` or \n",
    "    # `bytearray` transformation to tf.io.TFRecordWriter.\n",
    "    # SerializeToString is a protobuf method\n",
    "    record_bytes_serialized = record_bytes.SerializeToString()\n",
    "    \n",
    "    if debug:\n",
    "        print(\"INSIDE SERIALIZE_EXAMPLE\")\n",
    "        print(record_bytes_serialized)\n",
    "        print(type(record_bytes_serialized))\n",
    "        HR()\n",
    "\n",
    "    return record_bytes_serialized"
   ]
  },
  {
   "cell_type": "code",
   "execution_count": 7,
   "metadata": {},
   "outputs": [],
   "source": [
    "# Variation: Automatically detect value-type and define feature\n",
    "def serialize_example_auto(*input, debug=False):\n",
    "    features = dict()\n",
    "    \n",
    "    # Passing in values via variable length *args\n",
    "    for i, value in enumerate(input):\n",
    "        feature_name = f\"feature_{i}\"\n",
    "    \n",
    "        if isinstance(value, int):\n",
    "            features[feature_name] = _int64_feature(value)\n",
    "        elif isinstance(value, float):\n",
    "            features[feature_name] = _float_feature(value)\n",
    "        elif isinstance(value, bytes):\n",
    "            features[feature_name] = _bytes_feature(value)\n",
    "        else:\n",
    "            raise ValueError(f\"Value for {value} is not a recognized type: {str(value)}: {str(type(value))}\")\n",
    "    \n",
    "    example = tf.train.Example(features=tf.train.Features(feature=features)).SerializeToString() \n",
    "\n",
    "    return example"
   ]
  },
  {
   "cell_type": "markdown",
   "metadata": {
    "id": "XftzX9CN_uGT"
   },
   "source": [
    "---\n",
    "For example, suppose you have a single observation from the dataset, \n",
    "\n",
    "`[False, 4, bytes('goat'), 0.9876]`\n",
    "\n",
    "You can create and print the `tf.train.Example` message for this observation using `create_message()`. \n",
    "\n",
    "Each single observation will be written as a `Features` message as per the above. \n",
    "\n",
    "Note that the `tf.train.Example` [message](https://github.com/tensorflow/tensorflow/blob/master/tensorflow/core/example/example.proto#L88) is just a wrapper around the `Features` message:"
   ]
  },
  {
   "cell_type": "markdown",
   "metadata": {},
   "source": [
    "<a id=\"2.2.1\"></a><a name=\"2.2.1\"></a>\n",
    "### 2.2.1 Creating a single Example message\n",
    "<a href=\"#top\">[back to top]</a>"
   ]
  },
  {
   "cell_type": "code",
   "execution_count": 8,
   "metadata": {
    "colab": {
     "base_uri": "https://localhost:8080/"
    },
    "id": "N8BtSx2RjYcb",
    "outputId": "91d16856-1ae4-4ee4-bf35-e58a54406c7d"
   },
   "outputs": [
    {
     "name": "stdout",
     "output_type": "stream",
     "text": [
      "INSIDE SERIALIZE_EXAMPLE\n",
      "features {\n",
      "  feature {\n",
      "    key: \"feature0\"\n",
      "    value {\n",
      "      int64_list {\n",
      "        value: 0\n",
      "      }\n",
      "    }\n",
      "  }\n",
      "  feature {\n",
      "    key: \"feature1\"\n",
      "    value {\n",
      "      int64_list {\n",
      "        value: 111\n",
      "      }\n",
      "    }\n",
      "  }\n",
      "  feature {\n",
      "    key: \"feature2\"\n",
      "    value {\n",
      "      bytes_list {\n",
      "        value: \"goat_single\"\n",
      "      }\n",
      "    }\n",
      "  }\n",
      "  feature {\n",
      "    key: \"feature3\"\n",
      "    value {\n",
      "      float_list {\n",
      "        value: 0.11110000312328339\n",
      "      }\n",
      "    }\n",
      "  }\n",
      "}\n",
      "\n",
      "<class 'tensorflow.core.example.example_pb2.Example'>\n",
      "----------------------------------------\n",
      "INSIDE SERIALIZE_EXAMPLE\n",
      "b'\\nY\\n\\x11\\n\\x08feature1\\x12\\x05\\x1a\\x03\\n\\x01o\\n\\x14\\n\\x08feature3\\x12\\x08\\x12\\x06\\n\\x04f\\x88\\xe3=\\n\\x11\\n\\x08feature0\\x12\\x05\\x1a\\x03\\n\\x01\\x00\\n\\x1b\\n\\x08feature2\\x12\\x0f\\n\\r\\n\\x0bgoat_single'\n",
      "<class 'bytes'>\n",
      "----------------------------------------\n",
      "<class 'bytes'>\n",
      "----------------------------------------\n",
      "b'\\nY\\n\\x11\\n\\x08feature1\\x12\\x05\\x1a\\x03\\n\\x01o\\n\\x14\\n\\x08feature3\\x12\\x08\\x12\\x06\\n\\x04f\\x88\\xe3=\\n\\x11\\n\\x08feature0\\x12\\x05\\x1a\\x03\\n\\x01\\x00\\n\\x1b\\n\\x08feature2\\x12\\x0f\\n\\r\\n\\x0bgoat_single'\n"
     ]
    }
   ],
   "source": [
    "# Example observation, created manually\n",
    "serialized_example_single = serialize_example(\n",
    "    False, \n",
    "    111, \n",
    "    b'goat_single', \n",
    "    0.1111, \n",
    "    debug=True\n",
    ")\n",
    "\n",
    "print(type(serialized_example_single))\n",
    "HR()\n",
    "\n",
    "print(serialized_example_single)"
   ]
  },
  {
   "cell_type": "code",
   "execution_count": 9,
   "metadata": {},
   "outputs": [
    {
     "name": "stdout",
     "output_type": "stream",
     "text": [
      "b'\\nc\\n\\x13\\n\\tfeature_1\\x12\\x06\\x1a\\x04\\n\\x02\\xe7\\x07\\n\\x15\\n\\tfeature_3\\x12\\x08\\x12\\x06\\n\\x04$\\xb9\\xfc=\\n\\x12\\n\\tfeature_0\\x12\\x05\\x1a\\x03\\n\\x01\\x01\\n!\\n\\tfeature_2\\x12\\x14\\n\\x12\\n\\x10goat_single_auto'\n"
     ]
    }
   ],
   "source": [
    "# Example observation, created automatically\n",
    "serialized_example_auto = serialize_example_auto(\n",
    "    True, \n",
    "    999, \n",
    "    b'goat_single_auto', \n",
    "    0.1234, \n",
    "    debug=True\n",
    ")\n",
    "\n",
    "print(serialized_example_auto)"
   ]
  },
  {
   "cell_type": "markdown",
   "metadata": {
    "id": "_pbGATlG6u-4"
   },
   "source": [
    "<a id=\"2.2.2\"></a><a name=\"2.2.2\"></a>\n",
    "### 2.2.2 Decoding a single Example message\n",
    "<a href=\"#top\">[back to top]</a>\n",
    "\n",
    "To decode a single message, use `tf.train.Example.FromString`."
   ]
  },
  {
   "cell_type": "code",
   "execution_count": 10,
   "metadata": {},
   "outputs": [
    {
     "data": {
      "text/plain": [
       "features {\n",
       "  feature {\n",
       "    key: \"feature0\"\n",
       "    value {\n",
       "      int64_list {\n",
       "        value: 0\n",
       "      }\n",
       "    }\n",
       "  }\n",
       "  feature {\n",
       "    key: \"feature1\"\n",
       "    value {\n",
       "      int64_list {\n",
       "        value: 111\n",
       "      }\n",
       "    }\n",
       "  }\n",
       "  feature {\n",
       "    key: \"feature2\"\n",
       "    value {\n",
       "      bytes_list {\n",
       "        value: \"goat_single\"\n",
       "      }\n",
       "    }\n",
       "  }\n",
       "  feature {\n",
       "    key: \"feature3\"\n",
       "    value {\n",
       "      float_list {\n",
       "        value: 0.11110000312328339\n",
       "      }\n",
       "    }\n",
       "  }\n",
       "}"
      ]
     },
     "execution_count": 10,
     "metadata": {},
     "output_type": "execute_result"
    }
   ],
   "source": [
    "# Decode manually created message\n",
    "example_proto = tf.train.Example.FromString(serialized_example_single)\n",
    "example_proto"
   ]
  },
  {
   "cell_type": "code",
   "execution_count": 11,
   "metadata": {
    "colab": {
     "base_uri": "https://localhost:8080/"
    },
    "id": "dGim-mEm6vit",
    "outputId": "9b110ec8-ffb3-43f2-a63e-db5f867597d0"
   },
   "outputs": [
    {
     "data": {
      "text/plain": [
       "features {\n",
       "  feature {\n",
       "    key: \"feature_0\"\n",
       "    value {\n",
       "      int64_list {\n",
       "        value: 1\n",
       "      }\n",
       "    }\n",
       "  }\n",
       "  feature {\n",
       "    key: \"feature_1\"\n",
       "    value {\n",
       "      int64_list {\n",
       "        value: 999\n",
       "      }\n",
       "    }\n",
       "  }\n",
       "  feature {\n",
       "    key: \"feature_2\"\n",
       "    value {\n",
       "      bytes_list {\n",
       "        value: \"goat_single_auto\"\n",
       "      }\n",
       "    }\n",
       "  }\n",
       "  feature {\n",
       "    key: \"feature_3\"\n",
       "    value {\n",
       "      float_list {\n",
       "        value: 0.1234000027179718\n",
       "      }\n",
       "    }\n",
       "  }\n",
       "}"
      ]
     },
     "execution_count": 11,
     "metadata": {},
     "output_type": "execute_result"
    }
   ],
   "source": [
    "# Decode automatically created message\n",
    "example_proto_auto = tf.train.Example.FromString(serialized_example_auto)\n",
    "example_proto_auto"
   ]
  },
  {
   "cell_type": "markdown",
   "metadata": {
    "id": "6u1alzdyz0d_"
   },
   "source": [
    "<a id=\"2.2.3\"></a><a name=\"2.2.3\"></a>\n",
    "### 2.2.3 Creating multiple Example messages\n",
    "<a href=\"#top\">[back to top]</a>"
   ]
  },
  {
   "cell_type": "code",
   "execution_count": 12,
   "metadata": {
    "colab": {
     "base_uri": "https://localhost:8080/"
    },
    "id": "FjKchUoTydZ5",
    "outputId": "c0e4dc4a-8af1-4f06-afca-4da4412de74e"
   },
   "outputs": [
    {
     "name": "stdout",
     "output_type": "stream",
     "text": [
      "[b'\\nS\\n\\x15\\n\\x08feature2\\x12\\t\\n\\x07\\n\\x05goat1\\n\\x11\\n\\x08feature'\n",
      " b'0\\x12\\x05\\x1a\\x03\\n\\x01\\x00\\n\\x11\\n\\x08feature1\\x12\\x05\\x1a\\x03\\n\\x01\\x01\\n'\n",
      " b'\\x14\\n\\x08feature3\\x12\\x08\\x12\\x06\\n\\x04[\\xd3|?',\n",
      " b'\\nS\\n\\x14\\n\\x08feature3\\x12\\x08\\x12\\x06\\n\\x04ff\\xa6?\\n\\x11\\n\\x08feature0'\n",
      " b'\\x12\\x05\\x1a\\x03\\n\\x01\\x01\\n\\x15\\n\\x08feature2\\x12\\t\\n\\x07\\n\\x05goat2\\n\\x11'\n",
      " b'\\n\\x08feature1\\x12\\x05\\x1a\\x03\\n\\x01\\x02',\n",
      " b'\\nS\\n\\x15\\n\\x08feature2\\x12\\t\\n\\x07\\n\\x05goat3\\n\\x11\\n\\x08feature'\n",
      " b'1\\x12\\x05\\x1a\\x03\\n\\x01\\x03\\n\\x11\\n\\x08feature0\\x12\\x05\\x1a\\x03\\n\\x01\\x00\\n'\n",
      " b'\\x14\\n\\x08feature3\\x12\\x08\\x12\\x06\\n\\x04\\n\\xd7\\xa3<',\n",
      " b'\\nS\\n\\x15\\n\\x08feature2\\x12\\t\\n\\x07\\n\\x05goat4\\n\\x11\\n\\x08feature'\n",
      " b'1\\x12\\x05\\x1a\\x03\\n\\x01\\x04\\n\\x11\\n\\x08feature0\\x12\\x05\\x1a\\x03\\n\\x01\\x00\\n'\n",
      " b'\\x14\\n\\x08feature3\\x12\\x08\\x12\\x06\\n\\x04[\\xd3|?',\n",
      " b'\\nS\\n\\x15\\n\\x08feature2\\x12\\t\\n\\x07\\n\\x05goat5\\n\\x11\\n\\x08feature'\n",
      " b'1\\x12\\x05\\x1a\\x03\\n\\x01\\x05\\n\\x11\\n\\x08feature0\\x12\\x05\\x1a\\x03\\n\\x01\\x01\\n'\n",
      " b'\\x14\\n\\x08feature3\\x12\\x08\\x12\\x06\\n\\x04ff\\xa6?',\n",
      " b'\\nS\\n\\x11\\n\\x08feature1\\x12\\x05\\x1a\\x03\\n\\x01\\x06\\n\\x11\\n\\x08feature'\n",
      " b'0\\x12\\x05\\x1a\\x03\\n\\x01\\x00\\n\\x14\\n\\x08feature3\\x12\\x08\\x12\\x06\\n\\x04\\n\\xd7'\n",
      " b'\\xa3<\\n\\x15\\n\\x08feature2\\x12\\t\\n\\x07\\n\\x05goat6',\n",
      " b'\\nS\\n\\x11\\n\\x08feature0\\x12\\x05\\x1a\\x03\\n\\x01\\x00\\n\\x11\\n\\x08feature'\n",
      " b'1\\x12\\x05\\x1a\\x03\\n\\x01\\x07\\n\\x14\\n\\x08feature3\\x12\\x08\\x12\\x06\\n\\x04[\\xd3'\n",
      " b'|?\\n\\x15\\n\\x08feature2\\x12\\t\\n\\x07\\n\\x05goat7',\n",
      " b'\\nS\\n\\x11\\n\\x08feature1\\x12\\x05\\x1a\\x03\\n\\x01\\x08\\n\\x14\\n\\x08feature'\n",
      " b'3\\x12\\x08\\x12\\x06\\n\\x04ff\\xa6?\\n\\x15\\n\\x08feature2\\x12\\t\\n\\x07\\n\\x05goa'\n",
      " b't8\\n\\x11\\n\\x08feature0\\x12\\x05\\x1a\\x03\\n\\x01\\x01',\n",
      " b'\\nS\\n\\x11\\n\\x08feature1\\x12\\x05\\x1a\\x03\\n\\x01\\t\\n\\x15\\n\\x08feature2\\x12\\t\\n'\n",
      " b'\\x07\\n\\x05goat9\\n\\x14\\n\\x08feature3\\x12\\x08\\x12\\x06\\n\\x04\\n\\xd7\\xa3<\\n\\x11'\n",
      " b'\\n\\x08feature0\\x12\\x05\\x1a\\x03\\n\\x01\\x00']\n"
     ]
    }
   ],
   "source": [
    "# Create multiple Features message\n",
    "serialized_example_multiple = [\n",
    "    serialize_example(False, 1, b'goat1', 0.9876, debug=False),\n",
    "    serialize_example(True, 2, b'goat2', 1.3, debug=False),            \n",
    "    serialize_example(False, 3, b'goat3', 0.02, debug=False),\n",
    "    serialize_example(False, 4, b'goat4', 0.9876, debug=False),\n",
    "    serialize_example(True, 5, b'goat5', 1.3, debug=False),            \n",
    "    serialize_example(False, 6, b'goat6', 0.02, debug=False),\n",
    "    serialize_example(False, 7, b'goat7', 0.9876, debug=False),\n",
    "    serialize_example(True, 8, b'goat8', 1.3, debug=False),            \n",
    "    serialize_example(False, 9, b'goat9', 0.02, debug=False),\n",
    "]\n",
    "\n",
    "pp.pprint(serialized_example_multiple)"
   ]
  },
  {
   "cell_type": "code",
   "execution_count": 13,
   "metadata": {},
   "outputs": [
    {
     "name": "stdout",
     "output_type": "stream",
     "text": [
      "[b'\\nW\\n\\x12\\n\\tfeature_1\\x12\\x05\\x1a\\x03\\n\\x01\\x01\\n\\x15\\n\\tfeature_3\\x12'\n",
      " b'\\x08\\x12\\x06\\n\\x04[\\xd3|?\\n\\x12\\n\\tfeature_0\\x12\\x05\\x1a\\x03\\n\\x01'\n",
      " b'\\x00\\n\\x16\\n\\tfeature_2\\x12\\t\\n\\x07\\n\\x05goat1',\n",
      " b'\\nW\\n\\x15\\n\\tfeature_3\\x12\\x08\\x12\\x06\\n\\x04ff\\xa6?\\n\\x12\\n\\tfeature'\n",
      " b'_0\\x12\\x05\\x1a\\x03\\n\\x01\\x01\\n\\x12\\n\\tfeature_1\\x12\\x05\\x1a\\x03\\n\\x01'\n",
      " b'\\x02\\n\\x16\\n\\tfeature_2\\x12\\t\\n\\x07\\n\\x05goat2',\n",
      " b'\\nW\\n\\x12\\n\\tfeature_1\\x12\\x05\\x1a\\x03\\n\\x01\\x03\\n\\x12\\n\\tfeature_0\\x12'\n",
      " b'\\x05\\x1a\\x03\\n\\x01\\x00\\n\\x15\\n\\tfeature_3\\x12\\x08\\x12\\x06\\n\\x04\\n\\xd7\\xa3'\n",
      " b'<\\n\\x16\\n\\tfeature_2\\x12\\t\\n\\x07\\n\\x05goat3',\n",
      " b'\\nW\\n\\x12\\n\\tfeature_0\\x12\\x05\\x1a\\x03\\n\\x01\\x00\\n\\x12\\n\\tfeature_1\\x12'\n",
      " b'\\x05\\x1a\\x03\\n\\x01\\x04\\n\\x16\\n\\tfeature_2\\x12\\t\\n\\x07\\n\\x05goat4\\n\\x15\\n\\tfe'\n",
      " b'ature_3\\x12\\x08\\x12\\x06\\n\\x04[\\xd3|?',\n",
      " b'\\nW\\n\\x15\\n\\tfeature_3\\x12\\x08\\x12\\x06\\n\\x04ff\\xa6?\\n\\x12\\n\\tfeature'\n",
      " b'_1\\x12\\x05\\x1a\\x03\\n\\x01\\x05\\n\\x16\\n\\tfeature_2\\x12\\t\\n\\x07\\n\\x05goat'\n",
      " b'5\\n\\x12\\n\\tfeature_0\\x12\\x05\\x1a\\x03\\n\\x01\\x01',\n",
      " b'\\nW\\n\\x12\\n\\tfeature_0\\x12\\x05\\x1a\\x03\\n\\x01\\x00\\n\\x12\\n\\tfeature_1\\x12'\n",
      " b'\\x05\\x1a\\x03\\n\\x01\\x06\\n\\x16\\n\\tfeature_2\\x12\\t\\n\\x07\\n\\x05goat6\\n\\x15\\n\\tfe'\n",
      " b'ature_3\\x12\\x08\\x12\\x06\\n\\x04\\n\\xd7\\xa3<',\n",
      " b'\\nW\\n\\x16\\n\\tfeature_2\\x12\\t\\n\\x07\\n\\x05goat7\\n\\x12\\n\\tfeature_1\\x12'\n",
      " b'\\x05\\x1a\\x03\\n\\x01\\x07\\n\\x12\\n\\tfeature_0\\x12\\x05\\x1a\\x03\\n\\x01\\x00\\n\\x15'\n",
      " b'\\n\\tfeature_3\\x12\\x08\\x12\\x06\\n\\x04[\\xd3|?',\n",
      " b'\\nW\\n\\x15\\n\\tfeature_3\\x12\\x08\\x12\\x06\\n\\x04ff\\xa6?\\n\\x12\\n\\tfeature'\n",
      " b'_1\\x12\\x05\\x1a\\x03\\n\\x01\\x08\\n\\x12\\n\\tfeature_0\\x12\\x05\\x1a\\x03\\n\\x01'\n",
      " b'\\x01\\n\\x16\\n\\tfeature_2\\x12\\t\\n\\x07\\n\\x05goat8',\n",
      " b'\\nW\\n\\x16\\n\\tfeature_2\\x12\\t\\n\\x07\\n\\x05goat9\\n\\x12\\n\\tfeature_0\\x12'\n",
      " b'\\x05\\x1a\\x03\\n\\x01\\x00\\n\\x15\\n\\tfeature_3\\x12\\x08\\x12\\x06\\n\\x04\\n\\xd7\\xa3'\n",
      " b'<\\n\\x12\\n\\tfeature_1\\x12\\x05\\x1a\\x03\\n\\x01\\t']\n"
     ]
    }
   ],
   "source": [
    "# Create multiple Features message\n",
    "serialized_example_multiple_auto = [\n",
    "    serialize_example_auto(False, 1, b'goat1', 0.9876, debug=False),\n",
    "    serialize_example_auto(True, 2, b'goat2', 1.3, debug=False),            \n",
    "    serialize_example_auto(False, 3, b'goat3', 0.02, debug=False),\n",
    "    serialize_example_auto(False, 4, b'goat4', 0.9876, debug=False),\n",
    "    serialize_example_auto(True, 5, b'goat5', 1.3, debug=False),            \n",
    "    serialize_example_auto(False, 6, b'goat6', 0.02, debug=False),\n",
    "    serialize_example_auto(False, 7, b'goat7', 0.9876, debug=False),\n",
    "    serialize_example_auto(True, 8, b'goat8', 1.3, debug=False),            \n",
    "    serialize_example_auto(False, 9, b'goat9', 0.02, debug=False),\n",
    "]\n",
    "\n",
    "pp.pprint(serialized_example_multiple_auto)"
   ]
  },
  {
   "cell_type": "markdown",
   "metadata": {
    "id": "xkXmP5dzz5fn"
   },
   "source": [
    "<a id=\"2.2.4\"></a><a name=\"2.2.4\"></a>\n",
    "### 2.2.4 Decoding multiple Example messages\n",
    "<a href=\"#top\">[back to top]</a>\n",
    "\n",
    "To decode multiple messages, also use `tf.train.Example.FromString`."
   ]
  },
  {
   "cell_type": "code",
   "execution_count": 14,
   "metadata": {
    "colab": {
     "base_uri": "https://localhost:8080/"
    },
    "id": "PaqXkaLdz98W",
    "outputId": "887cc99f-3123-4c5a-8b4d-5e4f48a5fa6e"
   },
   "outputs": [
    {
     "data": {
      "text/plain": [
       "[features {\n",
       "   feature {\n",
       "     key: \"feature0\"\n",
       "     value {\n",
       "       int64_list {\n",
       "         value: 0\n",
       "       }\n",
       "     }\n",
       "   }\n",
       "   feature {\n",
       "     key: \"feature1\"\n",
       "     value {\n",
       "       int64_list {\n",
       "         value: 1\n",
       "       }\n",
       "     }\n",
       "   }\n",
       "   feature {\n",
       "     key: \"feature2\"\n",
       "     value {\n",
       "       bytes_list {\n",
       "         value: \"goat1\"\n",
       "       }\n",
       "     }\n",
       "   }\n",
       "   feature {\n",
       "     key: \"feature3\"\n",
       "     value {\n",
       "       float_list {\n",
       "         value: 0.9876000285148621\n",
       "       }\n",
       "     }\n",
       "   }\n",
       " },\n",
       " features {\n",
       "   feature {\n",
       "     key: \"feature0\"\n",
       "     value {\n",
       "       int64_list {\n",
       "         value: 1\n",
       "       }\n",
       "     }\n",
       "   }\n",
       "   feature {\n",
       "     key: \"feature1\"\n",
       "     value {\n",
       "       int64_list {\n",
       "         value: 2\n",
       "       }\n",
       "     }\n",
       "   }\n",
       "   feature {\n",
       "     key: \"feature2\"\n",
       "     value {\n",
       "       bytes_list {\n",
       "         value: \"goat2\"\n",
       "       }\n",
       "     }\n",
       "   }\n",
       "   feature {\n",
       "     key: \"feature3\"\n",
       "     value {\n",
       "       float_list {\n",
       "         value: 1.2999999523162842\n",
       "       }\n",
       "     }\n",
       "   }\n",
       " },\n",
       " features {\n",
       "   feature {\n",
       "     key: \"feature0\"\n",
       "     value {\n",
       "       int64_list {\n",
       "         value: 0\n",
       "       }\n",
       "     }\n",
       "   }\n",
       "   feature {\n",
       "     key: \"feature1\"\n",
       "     value {\n",
       "       int64_list {\n",
       "         value: 3\n",
       "       }\n",
       "     }\n",
       "   }\n",
       "   feature {\n",
       "     key: \"feature2\"\n",
       "     value {\n",
       "       bytes_list {\n",
       "         value: \"goat3\"\n",
       "       }\n",
       "     }\n",
       "   }\n",
       "   feature {\n",
       "     key: \"feature3\"\n",
       "     value {\n",
       "       float_list {\n",
       "         value: 0.019999999552965164\n",
       "       }\n",
       "     }\n",
       "   }\n",
       " },\n",
       " features {\n",
       "   feature {\n",
       "     key: \"feature0\"\n",
       "     value {\n",
       "       int64_list {\n",
       "         value: 0\n",
       "       }\n",
       "     }\n",
       "   }\n",
       "   feature {\n",
       "     key: \"feature1\"\n",
       "     value {\n",
       "       int64_list {\n",
       "         value: 4\n",
       "       }\n",
       "     }\n",
       "   }\n",
       "   feature {\n",
       "     key: \"feature2\"\n",
       "     value {\n",
       "       bytes_list {\n",
       "         value: \"goat4\"\n",
       "       }\n",
       "     }\n",
       "   }\n",
       "   feature {\n",
       "     key: \"feature3\"\n",
       "     value {\n",
       "       float_list {\n",
       "         value: 0.9876000285148621\n",
       "       }\n",
       "     }\n",
       "   }\n",
       " },\n",
       " features {\n",
       "   feature {\n",
       "     key: \"feature0\"\n",
       "     value {\n",
       "       int64_list {\n",
       "         value: 1\n",
       "       }\n",
       "     }\n",
       "   }\n",
       "   feature {\n",
       "     key: \"feature1\"\n",
       "     value {\n",
       "       int64_list {\n",
       "         value: 5\n",
       "       }\n",
       "     }\n",
       "   }\n",
       "   feature {\n",
       "     key: \"feature2\"\n",
       "     value {\n",
       "       bytes_list {\n",
       "         value: \"goat5\"\n",
       "       }\n",
       "     }\n",
       "   }\n",
       "   feature {\n",
       "     key: \"feature3\"\n",
       "     value {\n",
       "       float_list {\n",
       "         value: 1.2999999523162842\n",
       "       }\n",
       "     }\n",
       "   }\n",
       " },\n",
       " features {\n",
       "   feature {\n",
       "     key: \"feature0\"\n",
       "     value {\n",
       "       int64_list {\n",
       "         value: 0\n",
       "       }\n",
       "     }\n",
       "   }\n",
       "   feature {\n",
       "     key: \"feature1\"\n",
       "     value {\n",
       "       int64_list {\n",
       "         value: 6\n",
       "       }\n",
       "     }\n",
       "   }\n",
       "   feature {\n",
       "     key: \"feature2\"\n",
       "     value {\n",
       "       bytes_list {\n",
       "         value: \"goat6\"\n",
       "       }\n",
       "     }\n",
       "   }\n",
       "   feature {\n",
       "     key: \"feature3\"\n",
       "     value {\n",
       "       float_list {\n",
       "         value: 0.019999999552965164\n",
       "       }\n",
       "     }\n",
       "   }\n",
       " },\n",
       " features {\n",
       "   feature {\n",
       "     key: \"feature0\"\n",
       "     value {\n",
       "       int64_list {\n",
       "         value: 0\n",
       "       }\n",
       "     }\n",
       "   }\n",
       "   feature {\n",
       "     key: \"feature1\"\n",
       "     value {\n",
       "       int64_list {\n",
       "         value: 7\n",
       "       }\n",
       "     }\n",
       "   }\n",
       "   feature {\n",
       "     key: \"feature2\"\n",
       "     value {\n",
       "       bytes_list {\n",
       "         value: \"goat7\"\n",
       "       }\n",
       "     }\n",
       "   }\n",
       "   feature {\n",
       "     key: \"feature3\"\n",
       "     value {\n",
       "       float_list {\n",
       "         value: 0.9876000285148621\n",
       "       }\n",
       "     }\n",
       "   }\n",
       " },\n",
       " features {\n",
       "   feature {\n",
       "     key: \"feature0\"\n",
       "     value {\n",
       "       int64_list {\n",
       "         value: 1\n",
       "       }\n",
       "     }\n",
       "   }\n",
       "   feature {\n",
       "     key: \"feature1\"\n",
       "     value {\n",
       "       int64_list {\n",
       "         value: 8\n",
       "       }\n",
       "     }\n",
       "   }\n",
       "   feature {\n",
       "     key: \"feature2\"\n",
       "     value {\n",
       "       bytes_list {\n",
       "         value: \"goat8\"\n",
       "       }\n",
       "     }\n",
       "   }\n",
       "   feature {\n",
       "     key: \"feature3\"\n",
       "     value {\n",
       "       float_list {\n",
       "         value: 1.2999999523162842\n",
       "       }\n",
       "     }\n",
       "   }\n",
       " },\n",
       " features {\n",
       "   feature {\n",
       "     key: \"feature0\"\n",
       "     value {\n",
       "       int64_list {\n",
       "         value: 0\n",
       "       }\n",
       "     }\n",
       "   }\n",
       "   feature {\n",
       "     key: \"feature1\"\n",
       "     value {\n",
       "       int64_list {\n",
       "         value: 9\n",
       "       }\n",
       "     }\n",
       "   }\n",
       "   feature {\n",
       "     key: \"feature2\"\n",
       "     value {\n",
       "       bytes_list {\n",
       "         value: \"goat9\"\n",
       "       }\n",
       "     }\n",
       "   }\n",
       "   feature {\n",
       "     key: \"feature3\"\n",
       "     value {\n",
       "       float_list {\n",
       "         value: 0.019999999552965164\n",
       "       }\n",
       "     }\n",
       "   }\n",
       " }]"
      ]
     },
     "execution_count": 14,
     "metadata": {},
     "output_type": "execute_result"
    }
   ],
   "source": [
    "# Decode manually create message\n",
    "result = list(map(lambda x: tf.train.Example.FromString(x), serialized_example_multiple))\n",
    "result"
   ]
  },
  {
   "cell_type": "code",
   "execution_count": 15,
   "metadata": {},
   "outputs": [
    {
     "data": {
      "text/plain": [
       "[features {\n",
       "   feature {\n",
       "     key: \"feature_0\"\n",
       "     value {\n",
       "       int64_list {\n",
       "         value: 0\n",
       "       }\n",
       "     }\n",
       "   }\n",
       "   feature {\n",
       "     key: \"feature_1\"\n",
       "     value {\n",
       "       int64_list {\n",
       "         value: 1\n",
       "       }\n",
       "     }\n",
       "   }\n",
       "   feature {\n",
       "     key: \"feature_2\"\n",
       "     value {\n",
       "       bytes_list {\n",
       "         value: \"goat1\"\n",
       "       }\n",
       "     }\n",
       "   }\n",
       "   feature {\n",
       "     key: \"feature_3\"\n",
       "     value {\n",
       "       float_list {\n",
       "         value: 0.9876000285148621\n",
       "       }\n",
       "     }\n",
       "   }\n",
       " },\n",
       " features {\n",
       "   feature {\n",
       "     key: \"feature_0\"\n",
       "     value {\n",
       "       int64_list {\n",
       "         value: 1\n",
       "       }\n",
       "     }\n",
       "   }\n",
       "   feature {\n",
       "     key: \"feature_1\"\n",
       "     value {\n",
       "       int64_list {\n",
       "         value: 2\n",
       "       }\n",
       "     }\n",
       "   }\n",
       "   feature {\n",
       "     key: \"feature_2\"\n",
       "     value {\n",
       "       bytes_list {\n",
       "         value: \"goat2\"\n",
       "       }\n",
       "     }\n",
       "   }\n",
       "   feature {\n",
       "     key: \"feature_3\"\n",
       "     value {\n",
       "       float_list {\n",
       "         value: 1.2999999523162842\n",
       "       }\n",
       "     }\n",
       "   }\n",
       " },\n",
       " features {\n",
       "   feature {\n",
       "     key: \"feature_0\"\n",
       "     value {\n",
       "       int64_list {\n",
       "         value: 0\n",
       "       }\n",
       "     }\n",
       "   }\n",
       "   feature {\n",
       "     key: \"feature_1\"\n",
       "     value {\n",
       "       int64_list {\n",
       "         value: 3\n",
       "       }\n",
       "     }\n",
       "   }\n",
       "   feature {\n",
       "     key: \"feature_2\"\n",
       "     value {\n",
       "       bytes_list {\n",
       "         value: \"goat3\"\n",
       "       }\n",
       "     }\n",
       "   }\n",
       "   feature {\n",
       "     key: \"feature_3\"\n",
       "     value {\n",
       "       float_list {\n",
       "         value: 0.019999999552965164\n",
       "       }\n",
       "     }\n",
       "   }\n",
       " },\n",
       " features {\n",
       "   feature {\n",
       "     key: \"feature_0\"\n",
       "     value {\n",
       "       int64_list {\n",
       "         value: 0\n",
       "       }\n",
       "     }\n",
       "   }\n",
       "   feature {\n",
       "     key: \"feature_1\"\n",
       "     value {\n",
       "       int64_list {\n",
       "         value: 4\n",
       "       }\n",
       "     }\n",
       "   }\n",
       "   feature {\n",
       "     key: \"feature_2\"\n",
       "     value {\n",
       "       bytes_list {\n",
       "         value: \"goat4\"\n",
       "       }\n",
       "     }\n",
       "   }\n",
       "   feature {\n",
       "     key: \"feature_3\"\n",
       "     value {\n",
       "       float_list {\n",
       "         value: 0.9876000285148621\n",
       "       }\n",
       "     }\n",
       "   }\n",
       " },\n",
       " features {\n",
       "   feature {\n",
       "     key: \"feature_0\"\n",
       "     value {\n",
       "       int64_list {\n",
       "         value: 1\n",
       "       }\n",
       "     }\n",
       "   }\n",
       "   feature {\n",
       "     key: \"feature_1\"\n",
       "     value {\n",
       "       int64_list {\n",
       "         value: 5\n",
       "       }\n",
       "     }\n",
       "   }\n",
       "   feature {\n",
       "     key: \"feature_2\"\n",
       "     value {\n",
       "       bytes_list {\n",
       "         value: \"goat5\"\n",
       "       }\n",
       "     }\n",
       "   }\n",
       "   feature {\n",
       "     key: \"feature_3\"\n",
       "     value {\n",
       "       float_list {\n",
       "         value: 1.2999999523162842\n",
       "       }\n",
       "     }\n",
       "   }\n",
       " },\n",
       " features {\n",
       "   feature {\n",
       "     key: \"feature_0\"\n",
       "     value {\n",
       "       int64_list {\n",
       "         value: 0\n",
       "       }\n",
       "     }\n",
       "   }\n",
       "   feature {\n",
       "     key: \"feature_1\"\n",
       "     value {\n",
       "       int64_list {\n",
       "         value: 6\n",
       "       }\n",
       "     }\n",
       "   }\n",
       "   feature {\n",
       "     key: \"feature_2\"\n",
       "     value {\n",
       "       bytes_list {\n",
       "         value: \"goat6\"\n",
       "       }\n",
       "     }\n",
       "   }\n",
       "   feature {\n",
       "     key: \"feature_3\"\n",
       "     value {\n",
       "       float_list {\n",
       "         value: 0.019999999552965164\n",
       "       }\n",
       "     }\n",
       "   }\n",
       " },\n",
       " features {\n",
       "   feature {\n",
       "     key: \"feature_0\"\n",
       "     value {\n",
       "       int64_list {\n",
       "         value: 0\n",
       "       }\n",
       "     }\n",
       "   }\n",
       "   feature {\n",
       "     key: \"feature_1\"\n",
       "     value {\n",
       "       int64_list {\n",
       "         value: 7\n",
       "       }\n",
       "     }\n",
       "   }\n",
       "   feature {\n",
       "     key: \"feature_2\"\n",
       "     value {\n",
       "       bytes_list {\n",
       "         value: \"goat7\"\n",
       "       }\n",
       "     }\n",
       "   }\n",
       "   feature {\n",
       "     key: \"feature_3\"\n",
       "     value {\n",
       "       float_list {\n",
       "         value: 0.9876000285148621\n",
       "       }\n",
       "     }\n",
       "   }\n",
       " },\n",
       " features {\n",
       "   feature {\n",
       "     key: \"feature_0\"\n",
       "     value {\n",
       "       int64_list {\n",
       "         value: 1\n",
       "       }\n",
       "     }\n",
       "   }\n",
       "   feature {\n",
       "     key: \"feature_1\"\n",
       "     value {\n",
       "       int64_list {\n",
       "         value: 8\n",
       "       }\n",
       "     }\n",
       "   }\n",
       "   feature {\n",
       "     key: \"feature_2\"\n",
       "     value {\n",
       "       bytes_list {\n",
       "         value: \"goat8\"\n",
       "       }\n",
       "     }\n",
       "   }\n",
       "   feature {\n",
       "     key: \"feature_3\"\n",
       "     value {\n",
       "       float_list {\n",
       "         value: 1.2999999523162842\n",
       "       }\n",
       "     }\n",
       "   }\n",
       " },\n",
       " features {\n",
       "   feature {\n",
       "     key: \"feature_0\"\n",
       "     value {\n",
       "       int64_list {\n",
       "         value: 0\n",
       "       }\n",
       "     }\n",
       "   }\n",
       "   feature {\n",
       "     key: \"feature_1\"\n",
       "     value {\n",
       "       int64_list {\n",
       "         value: 9\n",
       "       }\n",
       "     }\n",
       "   }\n",
       "   feature {\n",
       "     key: \"feature_2\"\n",
       "     value {\n",
       "       bytes_list {\n",
       "         value: \"goat9\"\n",
       "       }\n",
       "     }\n",
       "   }\n",
       "   feature {\n",
       "     key: \"feature_3\"\n",
       "     value {\n",
       "       float_list {\n",
       "         value: 0.019999999552965164\n",
       "       }\n",
       "     }\n",
       "   }\n",
       " }]"
      ]
     },
     "execution_count": 15,
     "metadata": {},
     "output_type": "execute_result"
    }
   ],
   "source": [
    "# Decode manually create message\n",
    "result_auto = list(map(lambda x: tf.train.Example.FromString(x), serialized_example_multiple_auto))\n",
    "result_auto"
   ]
  },
  {
   "cell_type": "markdown",
   "metadata": {},
   "source": [
    "<a id='2.3'></a><a name=\"2.3\"></a>\n",
    "## 2.3 Operations on Examples: TFRecord saving, loading, reading\n",
    "<a href=\"#top\">[back to top]</a>\n",
    "\n",
    "**Note:**\n",
    "\n",
    "We can create a utility to check our input is either type `bytes` or `bytearray` before calling `tf.io.TFRecordWriter.write`"
   ]
  },
  {
   "cell_type": "code",
   "execution_count": null,
   "metadata": {},
   "outputs": [],
   "source": [
    "# Utility to help debug type-related errors when using tf.io.TFRecordWriter.write\n",
    "def input_sanity_check(input):\n",
    "    if isinstance(input, (bytes, bytearray)):\n",
    "        return input\n",
    "    else:\n",
    "        raise TypeError(f\"Expected binary or unicode string, got {repr(input)}\")\n",
    "\n",
    "# Note: If we were running Mypy, or if Python were statically-typed, \n",
    "# we could code in this style for the same effect:\n",
    "#\n",
    "# from typing import Union,TypeVar\n",
    "# T = TypeVar('T', bytes, bytearray)\n",
    "# def input_sanity_check(x:T) -> Union[bytes, bytearray]:\n",
    "#     if x:\n",
    "#         return x\n",
    "#     else:\n",
    "#         raise TypeError(f\"Expected binary or unicode string, got {repr(input)}\")\n"
   ]
  },
  {
   "cell_type": "markdown",
   "metadata": {
    "id": "q2FClm_cRr_g"
   },
   "source": [
    "<a id=\"2.3.1\"></a><a name=\"2.3.1\"></a>\n",
    "### 2.3.1 Saving a single record\n",
    "<a href=\"#top\">[back to top]</a>"
   ]
  },
  {
   "cell_type": "code",
   "execution_count": 58,
   "metadata": {
    "colab": {
     "base_uri": "https://localhost:8080/"
    },
    "id": "FkUnA_iURwP_",
    "outputId": "d94f9fe9-d449-49f1-d9dc-0a5fdf61f1f4"
   },
   "outputs": [
    {
     "name": "stdout",
     "output_type": "stream",
     "text": [
      "tfrecords_dir1: data_tfrecords1\n",
      "example_path1: data_tfrecords1/example_single.tfrecords\n",
      "----------------------------------------\n",
      "b'\\nY\\n\\x11\\n\\x08feature1\\x12\\x05\\x1a\\x03\\n\\x01o\\n\\x14\\n\\x08feature3\\x12\\x08\\x12\\x06\\n\\x04f\\x88\\xe3=\\n\\x11\\n\\x08feature0\\x12\\x05\\x1a\\x03\\n\\x01\\x00\\n\\x1b\\n\\x08feature2\\x12\\x0f\\n\\r\\n\\x0bgoat_single'\n",
      "----------------------------------------\n",
      "4.0K\tdata_tfrecords1/example_single.tfrecords\n"
     ]
    }
   ],
   "source": [
    "tfrecords_dir1 = \"data_tfrecords1\"\n",
    "\n",
    "os.makedirs(tfrecords_dir1, exist_ok=True)  # creating TFRecords output folder\n",
    "print(f\"tfrecords_dir1: {tfrecords_dir1}\")\n",
    "\n",
    "example_path1 = os.path.join(tfrecords_dir1, \"example_single.tfrecords\")\n",
    "print(f\"example_path1: {example_path1}\")\n",
    "HR()\n",
    "\n",
    "with tf.io.TFRecordWriter(\n",
    "    example_path1\n",
    ") as file_writer:\n",
    "    print(serialized_example_single)\n",
    "    HR()\n",
    "    \n",
    "    input_bytes = input_sanity_check(serialized_example_single)\n",
    "    file_writer.write(input_bytes)\n",
    "    \n",
    "!du -h {example_path1}"
   ]
  },
  {
   "cell_type": "markdown",
   "metadata": {
    "id": "lE2ktIEIKayy"
   },
   "source": [
    "<a id=\"2.3.2\"></a><a name=\"2.3.2\"></a>\n",
    "### 2.3.2 Saving multiple records\n",
    "<a href=\"#top\">[back to top]</a>"
   ]
  },
  {
   "cell_type": "code",
   "execution_count": 60,
   "metadata": {
    "colab": {
     "base_uri": "https://localhost:8080/"
    },
    "id": "jR63FFPBIgY3",
    "outputId": "baf8b65a-7b2d-458b-ef24-7d7192a06f8a"
   },
   "outputs": [
    {
     "name": "stdout",
     "output_type": "stream",
     "text": [
      "tfrecords_dir2: data_tfrecords2\n",
      "example_path2: data_tfrecords2\n",
      "----------------------------------------\n",
      "len(serialized_example_multiple): 9\n",
      "num_tfrecords: 1\n",
      "leftover: num_tfrecords: 2\n",
      "----------------------------------------\n",
      "tfrec_num: 0\n",
      "samples: [b'\\nS\\n\\x15\\n\\x08feature2\\x12\\t\\n\\x07\\n\\x05goat1\\n\\x11\\n\\x08feature0\\x12\\x05\\x1a\\x03\\n\\x01\\x00\\n\\x11\\n\\x08feature1\\x12\\x05\\x1a\\x03\\n\\x01\\x01\\n\\x14\\n\\x08feature3\\x12\\x08\\x12\\x06\\n\\x04[\\xd3|?', b'\\nS\\n\\x14\\n\\x08feature3\\x12\\x08\\x12\\x06\\n\\x04ff\\xa6?\\n\\x11\\n\\x08feature0\\x12\\x05\\x1a\\x03\\n\\x01\\x01\\n\\x15\\n\\x08feature2\\x12\\t\\n\\x07\\n\\x05goat2\\n\\x11\\n\\x08feature1\\x12\\x05\\x1a\\x03\\n\\x01\\x02', b'\\nS\\n\\x15\\n\\x08feature2\\x12\\t\\n\\x07\\n\\x05goat3\\n\\x11\\n\\x08feature1\\x12\\x05\\x1a\\x03\\n\\x01\\x03\\n\\x11\\n\\x08feature0\\x12\\x05\\x1a\\x03\\n\\x01\\x00\\n\\x14\\n\\x08feature3\\x12\\x08\\x12\\x06\\n\\x04\\n\\xd7\\xa3<', b'\\nS\\n\\x15\\n\\x08feature2\\x12\\t\\n\\x07\\n\\x05goat4\\n\\x11\\n\\x08feature1\\x12\\x05\\x1a\\x03\\n\\x01\\x04\\n\\x11\\n\\x08feature0\\x12\\x05\\x1a\\x03\\n\\x01\\x00\\n\\x14\\n\\x08feature3\\x12\\x08\\x12\\x06\\n\\x04[\\xd3|?', b'\\nS\\n\\x15\\n\\x08feature2\\x12\\t\\n\\x07\\n\\x05goat5\\n\\x11\\n\\x08feature1\\x12\\x05\\x1a\\x03\\n\\x01\\x05\\n\\x11\\n\\x08feature0\\x12\\x05\\x1a\\x03\\n\\x01\\x01\\n\\x14\\n\\x08feature3\\x12\\x08\\x12\\x06\\n\\x04ff\\xa6?']\n",
      "----------------------------------------\n",
      "data_tfrecords2/file_0_9.tfrec\n",
      "----------------------------------------\n",
      "tfrec_num: 1\n",
      "samples: [b'\\nS\\n\\x11\\n\\x08feature1\\x12\\x05\\x1a\\x03\\n\\x01\\x06\\n\\x11\\n\\x08feature0\\x12\\x05\\x1a\\x03\\n\\x01\\x00\\n\\x14\\n\\x08feature3\\x12\\x08\\x12\\x06\\n\\x04\\n\\xd7\\xa3<\\n\\x15\\n\\x08feature2\\x12\\t\\n\\x07\\n\\x05goat6', b'\\nS\\n\\x11\\n\\x08feature0\\x12\\x05\\x1a\\x03\\n\\x01\\x00\\n\\x11\\n\\x08feature1\\x12\\x05\\x1a\\x03\\n\\x01\\x07\\n\\x14\\n\\x08feature3\\x12\\x08\\x12\\x06\\n\\x04[\\xd3|?\\n\\x15\\n\\x08feature2\\x12\\t\\n\\x07\\n\\x05goat7', b'\\nS\\n\\x11\\n\\x08feature1\\x12\\x05\\x1a\\x03\\n\\x01\\x08\\n\\x14\\n\\x08feature3\\x12\\x08\\x12\\x06\\n\\x04ff\\xa6?\\n\\x15\\n\\x08feature2\\x12\\t\\n\\x07\\n\\x05goat8\\n\\x11\\n\\x08feature0\\x12\\x05\\x1a\\x03\\n\\x01\\x01', b'\\nS\\n\\x11\\n\\x08feature1\\x12\\x05\\x1a\\x03\\n\\x01\\t\\n\\x15\\n\\x08feature2\\x12\\t\\n\\x07\\n\\x05goat9\\n\\x14\\n\\x08feature3\\x12\\x08\\x12\\x06\\n\\x04\\n\\xd7\\xa3<\\n\\x11\\n\\x08feature0\\x12\\x05\\x1a\\x03\\n\\x01\\x00']\n",
      "----------------------------------------\n",
      "data_tfrecords2/file_1_9.tfrec\n",
      "----------------------------------------\n",
      "4.0K\tdata_tfrecords2/file_0_9.tfrec\n",
      "4.0K\tdata_tfrecords2/file_1_9.tfrec\n"
     ]
    }
   ],
   "source": [
    "tfrecords_dir2 = \"data_tfrecords2\"\n",
    "\n",
    "os.makedirs(tfrecords_dir2, exist_ok=True)  # creating TFRecords output folder\n",
    "print(f\"tfrecords_dir2: {tfrecords_dir2}\")\n",
    "\n",
    "example_path2 = os.path.join(tfrecords_dir2)\n",
    "print(f\"example_path2: {example_path2}\")\n",
    "HR()\n",
    "\n",
    "num_samples = 5 # records per TFRecord file\n",
    "num_tfrecords = len(serialized_example_multiple) // num_samples\n",
    "print(f\"len(serialized_example_multiple): {len(serialized_example_multiple)}\")\n",
    "print(f\"num_tfrecords: {num_tfrecords}\")\n",
    "\n",
    "if len(serialized_example_multiple) % num_samples:\n",
    "    num_tfrecords += 1 \n",
    "    print(f\"leftover: num_tfrecords: {num_tfrecords}\")\n",
    "\n",
    "HR()\n",
    "\n",
    "for tfrec_num in range(num_tfrecords):\n",
    "    # Do a slice from the list (start:end) per batch\n",
    "    samples = serialized_example_multiple[(tfrec_num * num_samples) : ((tfrec_num + 1) * num_samples)]\n",
    "    print(f\"tfrec_num: {tfrec_num}\")\n",
    "    print(f\"samples: {samples}\")\n",
    "    HR()\n",
    "    \n",
    "    with tf.io.TFRecordWriter(  \n",
    "        f\"{example_path2}/file_{tfrec_num}_{len(serialized_example_multiple)}.tfrec\"          \n",
    "    ) as file_writer:\n",
    "        print(f\"{example_path2}/file_{tfrec_num}_{len(serialized_example_multiple)}.tfrec\" )\n",
    "        HR()\n",
    "        for sample in samples:\n",
    "            input_bytes = input_sanity_check(sample)\n",
    "            file_writer.write(input_bytes)\n",
    "               \n",
    "!du -h {tfrecords_dir2}/*"
   ]
  },
  {
   "cell_type": "markdown",
   "metadata": {
    "id": "gFWhMMIkXYIM"
   },
   "source": [
    "<a id=\"2.3.3\"></a><a name=\"2.3.3\"></a>\n",
    "### 2.3.3 Loading and reading a single record\n",
    "<a href=\"#top\">[back to top]</a>\n",
    "\n",
    "Use `tf.io.parse_single_example` for a quick check of a single example."
   ]
  },
  {
   "cell_type": "code",
   "execution_count": 18,
   "metadata": {
    "colab": {
     "base_uri": "https://localhost:8080/"
    },
    "id": "S6q03yhDUDX8",
    "outputId": "34e0643d-5932-4d35-b164-954f364dcbce"
   },
   "outputs": [
    {
     "name": "stdout",
     "output_type": "stream",
     "text": [
      "Reading saved records from pathway:\n",
      "data_tfrecords1/example_single.tfrecords\n",
      "----------------------------------------\n",
      "feature0 = 0\n",
      "feature1 = 111\n",
      "feature2 = b'goat_single'\n",
      "feature3 = 0.11110000312328339\n"
     ]
    }
   ],
   "source": [
    "def decode_single_fn(record_bytes):\n",
    "    return tf.io.parse_single_example(\n",
    "        # Data\n",
    "        record_bytes,\n",
    "        \n",
    "        # Schema\n",
    "        {\n",
    "            'feature0': tf.io.FixedLenFeature([], tf.int64, default_value=0),\n",
    "            'feature1': tf.io.FixedLenFeature([], tf.int64, default_value=0),\n",
    "            'feature2': tf.io.FixedLenFeature([], tf.string, default_value=''),\n",
    "            'feature3': tf.io.FixedLenFeature([], tf.float32, default_value=0.0),\n",
    "        }\n",
    "    )\n",
    "\n",
    "print(f\"Reading saved records from pathway:\\n{example_path1}\")\n",
    "HR()\n",
    "\n",
    "for batch in tf.data.TFRecordDataset([example_path1]).map(decode_single_fn):\n",
    "    print(f\"feature0 = {batch['feature0'].numpy()}\")\n",
    "    print(f\"feature1 = {batch['feature1'].numpy()}\")\n",
    "    print(f\"feature2 = {batch['feature2'].numpy()}\")\n",
    "    print(f\"feature3 = {batch['feature3'].numpy()}\")"
   ]
  },
  {
   "cell_type": "markdown",
   "metadata": {
    "id": "gFcXNHCKv-OB"
   },
   "source": [
    "<a id=\"2.3.4\"></a><a name=\"2.3.4\"></a>\n",
    "### 2.3.4 Loading and reading multiple records\n",
    "<a href=\"#top\">[back to top]</a>\n",
    "\n",
    "Use `tf.io.parse` to parses Example protos into a dict of tensors."
   ]
  },
  {
   "cell_type": "code",
   "execution_count": 19,
   "metadata": {
    "colab": {
     "base_uri": "https://localhost:8080/"
    },
    "id": "-aB0T2yTv90x",
    "outputId": "cbc1ca01-c2ae-44e9-8369-3ac5b6954623"
   },
   "outputs": [
    {
     "name": "stdout",
     "output_type": "stream",
     "text": [
      "Loading and reading saved records from directory data_tfrecords2:\n",
      "\n",
      "data_tfrecords2/file_1_9.tfrec\n",
      "data_tfrecords2/file_0_9.tfrec\n",
      "----------------------------------------\n",
      "feature0 = 0\n",
      "feature1 = 6\n",
      "feature2 = b'goat6'\n",
      "feature3 = 0.019999999552965164\n",
      "----------------------------------------\n",
      "feature0 = 0\n",
      "feature1 = 7\n",
      "feature2 = b'goat7'\n",
      "feature3 = 0.9876000285148621\n",
      "----------------------------------------\n",
      "feature0 = 1\n",
      "feature1 = 8\n",
      "feature2 = b'goat8'\n",
      "feature3 = 1.2999999523162842\n",
      "----------------------------------------\n",
      "feature0 = 0\n",
      "feature1 = 9\n",
      "feature2 = b'goat9'\n",
      "feature3 = 0.019999999552965164\n",
      "----------------------------------------\n",
      "feature0 = 0\n",
      "feature1 = 1\n",
      "feature2 = b'goat1'\n",
      "feature3 = 0.9876000285148621\n",
      "----------------------------------------\n",
      "feature0 = 1\n",
      "feature1 = 2\n",
      "feature2 = b'goat2'\n",
      "feature3 = 1.2999999523162842\n",
      "----------------------------------------\n",
      "feature0 = 0\n",
      "feature1 = 3\n",
      "feature2 = b'goat3'\n",
      "feature3 = 0.019999999552965164\n",
      "----------------------------------------\n",
      "feature0 = 0\n",
      "feature1 = 4\n",
      "feature2 = b'goat4'\n",
      "feature3 = 0.9876000285148621\n",
      "----------------------------------------\n",
      "feature0 = 1\n",
      "feature1 = 5\n",
      "feature2 = b'goat5'\n",
      "feature3 = 1.2999999523162842\n",
      "----------------------------------------\n"
     ]
    }
   ],
   "source": [
    "def decode_fn(record_bytes):\n",
    "    return tf.io.parse_example(\n",
    "        # Data\n",
    "        record_bytes,\n",
    "        \n",
    "        # Schema\n",
    "        {\n",
    "            'feature0': tf.io.FixedLenFeature([], tf.int64, default_value=0),\n",
    "            'feature1': tf.io.FixedLenFeature([], tf.int64, default_value=0),\n",
    "            'feature2': tf.io.FixedLenFeature([], tf.string, default_value=''),\n",
    "            'feature3': tf.io.FixedLenFeature([], tf.float32, default_value=0.0),\n",
    "        }\n",
    "    )\n",
    "\n",
    "\n",
    "# Create list of appropriate TFRecord files via glob.glob\n",
    "tfrecord_files = glob.glob(example_path2 + \"/*.tfrec\")\n",
    "print(f\"Loading and reading saved records from directory {example_path2}:\\n\")\n",
    "\n",
    "for x in tfrecord_files:\n",
    "    print(x)\n",
    "    \n",
    "HR()\n",
    "\n",
    "for batch in tf.data.TFRecordDataset(tfrecord_files).map(decode_fn):\n",
    "    print(f\"feature0 = {batch['feature0'].numpy()}\")\n",
    "    print(f\"feature1 = {batch['feature1'].numpy()}\")\n",
    "    print(f\"feature2 = {batch['feature2'].numpy()}\")\n",
    "    print(f\"feature3 = {batch['feature3'].numpy()}\")\n",
    "    HR()"
   ]
  },
  {
   "cell_type": "markdown",
   "metadata": {
    "id": "o6qxofy89obI"
   },
   "source": [
    "---\n",
    "<a id=\"3.0\"></a><a name=\"3.0\"></a>\n",
    "# 3. TFRecord format details\n",
    "<a href=\"#top\">[back to top]</a>\n",
    "\n",
    "A TFRecord file contains a sequence of records. The file can only be read sequentially.\n",
    "\n",
    "Each record contains a byte-string, for the data-payload, plus the data-length, and  CRC-32C ([32-bit CRC](https://en.wikipedia.org/wiki/Cyclic_redundancy_check#CRC-32_algorithm) using the [Castagnoli polynomial](https://en.wikipedia.org/wiki/Cyclic_redundancy_check#Standards_and_common_use)) hashes for integrity checking.\n",
    "\n",
    "Each record is stored in the following formats:\n",
    "\n",
    "<sub>\n",
    "\n",
    "```\n",
    "    uint64 length\n",
    "    uint32 masked_crc32_of_length\n",
    "    byte   data[length]\n",
    "    uint32 masked_crc32_of_data\n",
    "```\n",
    "<br>\n",
    "</sub>\n",
    "\n",
    "The records are concatenated together to produce the file. CRCs are\n",
    "[described here](https://en.wikipedia.org/wiki/Cyclic_redundancy_check), and\n",
    "the mask of a CRC is:\n",
    "\n",
    "<sub>\n",
    "\n",
    "```\n",
    "    masked_crc = ((crc >> 15) | (crc << 17)) + 0xa282ead8ul\n",
    "```\n",
    "<br>\n",
    "</sub>\n",
    "\n",
    "---\n",
    "Note: There is no requirement to use `tf.train.Example` in TFRecord files. `tf.train.Example` is just a method of serializing dictionaries to **byte-strings**. \n",
    "\n",
    "Any byte-string that can be decoded in TensorFlow can be stored in a TFRecord file. Examples include: \n",
    "\n",
    "* lines of text, JSON (using `tf.io.decode_json_example`)\n",
    "* encoded image data\n",
    "* serialized `tf.Tensors` (using `tf.io.serialize_tensor`/`tf.io.parse_tensor`)\n",
    "\n",
    "See the `tf.io` module for more options."
   ]
  },
  {
   "cell_type": "markdown",
   "metadata": {
    "id": "rw8DW2GTISAf",
    "tags": []
   },
   "source": [
    "---\n",
    "**Note: Quick intro to [tf.data.TFRecordDataset API](https://www.tensorflow.org/api_docs/python/tf/data/TFRecordDataset)**\n",
    "\n",
    "`tf.data.TFRecordDataset` creates a `Dataset` comprising records from one or more TFRecord files.\n",
    "\n",
    "```\n",
    "tf.data.TFRecordDataset(\n",
    "    filenames,\n",
    "    compression_type=None,\n",
    "    buffer_size=None,\n",
    "    num_parallel_reads=None,\n",
    "    name=None\n",
    ")\n",
    "```\n",
    "\n",
    "The `TFRecordDataset` method loads TFRecords from files as bytes as-is, without any parsing or decoding. \n",
    "\n",
    "When necessary, parsing and decoding can be done by applying `Dataset.map` transformations on the `TFRecordDataset`."
   ]
  },
  {
   "cell_type": "code",
   "execution_count": 61,
   "metadata": {
    "id": "u2z6yhw9ISDs"
   },
   "outputs": [
    {
     "name": "stdout",
     "output_type": "stream",
     "text": [
      "tfrecords_dir3: data_tfrecords3\n",
      "example_path3: data_tfrecords3\n",
      "----------------------------------------\n",
      "4.0K\tdata_tfrecords3\n",
      "----------------------------------------\n",
      "Loading and reading saved records from directory data_tfrecords3:\n",
      "data_tfrecords3/file3.tfrec\n",
      "----------------------------------------\n",
      "x = 0.9652, y = 0.4255\n",
      "x = 0.5984, y = 0.2792\n",
      "x = 0.7584, y = 0.1968\n",
      "x = 0.7869, y = 0.2306\n"
     ]
    }
   ],
   "source": [
    "tfrecords_dir3 = \"data_tfrecords3\"\n",
    "!rm -fr {tfrecords_dir3}\n",
    "\n",
    "os.makedirs(tfrecords_dir3, exist_ok=True)  # creating TFRecords output folder\n",
    "print(f\"tfrecords_dir3: {tfrecords_dir3}\")\n",
    "\n",
    "example_path3 = os.path.join(tfrecords_dir3)\n",
    "print(f\"example_path3: {example_path3}\")\n",
    "HR()\n",
    "\n",
    "# Write the records to a file\n",
    "with tf.io.TFRecordWriter(\n",
    "    f\"{example_path3}/file3.tfrec\" \n",
    ") as file_writer:\n",
    "    for _ in range(4):\n",
    "        x, y = np.random.random(), np.random.random()\n",
    "        \n",
    "        record_bytes = tf.train.Example(\n",
    "            features=tf.train.Features(\n",
    "                feature={\n",
    "                    \"x\": tf.train.Feature(float_list=tf.train.FloatList(value=[x])),\n",
    "                    \"y\": tf.train.Feature(float_list=tf.train.FloatList(value=[y])),\n",
    "                }\n",
    "            )\n",
    "        ).SerializeToString()\n",
    "        \n",
    "        input_bytes = input_sanity_check(record_bytes)\n",
    "        file_writer.write(input_bytes)\n",
    "\n",
    "        \n",
    "\n",
    "!du -hs {example_path3}\n",
    "HR()\n",
    "        \n",
    "# Read the data back out\n",
    "def decode_fn(record_bytes):\n",
    "    return tf.io.parse_single_example(\n",
    "        \n",
    "        # Data: a scalar string Tensor, a single serialized Example\n",
    "        record_bytes, \n",
    "        \n",
    "        # Schema\n",
    "        {\n",
    "            \"x\": tf.io.FixedLenFeature([], dtype=tf.float32),\n",
    "            \"y\": tf.io.FixedLenFeature([], dtype=tf.float32)\n",
    "        }\n",
    "    )\n",
    "\n",
    "tfrecord_files3 = glob.glob(example_path3 + \"/*.tfrec\")\n",
    "print(f\"Loading and reading saved records from directory {example_path3}:\")\n",
    "\n",
    "for x in tfrecord_files3:\n",
    "    print(x)\n",
    "    \n",
    "HR()\n",
    "\n",
    "for batch in tf.data.TFRecordDataset([tfrecord_files3]).map(decode_fn):\n",
    "    print(f\"x = {batch['x']:.4f}, y = {batch['y']:.4f}\")"
   ]
  },
  {
   "cell_type": "markdown",
   "metadata": {
    "id": "GmehkCCT81Ez"
   },
   "source": [
    "---\n",
    "<a id=\"4.0\"></a><a name=\"4.0\"></a>\n",
    "# 4. TFRecord files using tf.data\n",
    "<a href=\"#top\">[back to top]</a>\n",
    "\n",
    "The [`tf.data` module](https://www.tensorflow.org/api_docs/python/tf/data) also provides tools for reading and writing data in TensorFlow."
   ]
  },
  {
   "cell_type": "markdown",
   "metadata": {
    "id": "1FISEuz8ubu3",
    "tags": []
   },
   "source": [
    "<a id=\"4.1\"></a><a name=\"4.1\"></a>\n",
    "## 4.1. Writing a TFRecord file\n",
    "<a href=\"#top\">[back to top]</a>\n",
    "\n",
    "The easiest way to get the data into a dataset is to use the `tf.data.from_tensor_slices` method."
   ]
  },
  {
   "cell_type": "markdown",
   "metadata": {},
   "source": [
    "<a id=\"4.1.1\"></a><a name=\"4.1.1\"></a>\n",
    "### 4.1.1 tf.data.from_tensor_slices applied to an array\n",
    "<a href=\"#top\">[back to top]</a>\n",
    "\n",
    "Applied to an array, it returns a `tf.data.Dataset` of scalars:"
   ]
  },
  {
   "cell_type": "code",
   "execution_count": 21,
   "metadata": {
    "colab": {
     "base_uri": "https://localhost:8080/"
    },
    "id": "mXeaukvwu5_-",
    "outputId": "34e26ee6-d38a-43ee-af36-328dd82b6568"
   },
   "outputs": [
    {
     "name": "stdout",
     "output_type": "stream",
     "text": [
      "<TensorSliceDataset element_spec=TensorSpec(shape=(), dtype=tf.int64, name=None)>\n",
      "----------------------------------------\n",
      "tf.Tensor(10000, shape=(), dtype=int64)\n",
      "----------------------------------------\n",
      "{'_tensors': [<tf.Tensor: shape=(10000,), dtype=int64, numpy=array([2, 2, 3, ..., 1, 1, 1])>], '_structure': TensorSpec(shape=(), dtype=tf.int64, name=None), '_metadata': , '_variant_tensor_attr': <tf.Tensor: shape=(), dtype=variant, value=<TensorSliceDatasetOp::Dataset>>, '_graph_attr': <tensorflow.python.framework.ops.Graph object at 0x12c667640>, '_options_attr': <tensorflow.python.data.ops.options.Options object at 0x12c73b730>}\n"
     ]
    }
   ],
   "source": [
    "feature_dataset = tf.data.Dataset.from_tensor_slices(feature1)\n",
    "\n",
    "print(feature_dataset)\n",
    "HR()\n",
    "print(feature_dataset.cardinality())\n",
    "HR()\n",
    "print(feature_dataset.__dict__)"
   ]
  },
  {
   "cell_type": "code",
   "execution_count": 22,
   "metadata": {},
   "outputs": [
    {
     "name": "stdout",
     "output_type": "stream",
     "text": [
      "tf.Tensor(2, shape=(), dtype=int64)\n"
     ]
    }
   ],
   "source": [
    "# Use `take(1)` to only pull one example from the dataset.\n",
    "for feature in feature_dataset.take(1):\n",
    "    print(feature)"
   ]
  },
  {
   "cell_type": "markdown",
   "metadata": {
    "id": "f-q0VKyZvcad"
   },
   "source": [
    "<a id=\"4.1.2\"></a><a name=\"4.1.2\"></a>\n",
    "### 4.1.2 tf.data.from_tensor_slices applied to a tuple of arrays\n",
    "<a href=\"#top\">[back to top]</a>\n",
    "\n",
    "Applied to a tuple of arrays, it returns a dataset of tuples."
   ]
  },
  {
   "cell_type": "code",
   "execution_count": 23,
   "metadata": {
    "colab": {
     "base_uri": "https://localhost:8080/"
    },
    "id": "H5sWyu1kxnvg",
    "outputId": "2b17769a-9e54-4e01-f1cb-d743d464b06d"
   },
   "outputs": [
    {
     "name": "stdout",
     "output_type": "stream",
     "text": [
      "<TensorSliceDataset element_spec=(TensorSpec(shape=(), dtype=tf.bool, name=None), TensorSpec(shape=(), dtype=tf.int64, name=None), TensorSpec(shape=(), dtype=tf.string, name=None), TensorSpec(shape=(), dtype=tf.float64, name=None))>\n",
      "----------------------------------------\n",
      "tf.Tensor(10000, shape=(), dtype=int64)\n",
      "----------------------------------------\n",
      "{'_tensors': [<tf.Tensor: shape=(10000,), dtype=bool, numpy=array([False,  True, False, ...,  True,  True, False])>, <tf.Tensor: shape=(10000,), dtype=int64, numpy=array([2, 2, 3, ..., 1, 1, 1])>, <tf.Tensor: shape=(10000,), dtype=string, numpy=\n",
      "array([b'chicken', b'chicken', b'horse', ..., b'dog', b'dog', b'dog'],\n",
      "      dtype=object)>, <tf.Tensor: shape=(10000,), dtype=float64, numpy=\n",
      "array([ 0.14140815,  0.16677411, -0.84976487, ...,  0.15359299,\n",
      "       -0.25489251, -0.53782559])>], '_structure': (TensorSpec(shape=(), dtype=tf.bool, name=None), TensorSpec(shape=(), dtype=tf.int64, name=None), TensorSpec(shape=(), dtype=tf.string, name=None), TensorSpec(shape=(), dtype=tf.float64, name=None)), '_metadata': , '_variant_tensor_attr': <tf.Tensor: shape=(), dtype=variant, value=<TensorSliceDatasetOp::Dataset>>, '_graph_attr': <tensorflow.python.framework.ops.Graph object at 0x12c667640>, '_options_attr': <tensorflow.python.data.ops.options.Options object at 0x12c6565e0>}\n"
     ]
    }
   ],
   "source": [
    "features_dataset = tf.data.Dataset.from_tensor_slices(\n",
    "    (feature0, feature1, feature2, feature3)\n",
    ")\n",
    "\n",
    "print(features_dataset)\n",
    "HR()\n",
    "print(features_dataset.cardinality())\n",
    "HR()\n",
    "print(features_dataset.__dict__)"
   ]
  },
  {
   "cell_type": "code",
   "execution_count": 24,
   "metadata": {
    "colab": {
     "base_uri": "https://localhost:8080/"
    },
    "id": "m1C-t71Nywze",
    "outputId": "73fe8f6a-88b5-4c70-a019-b50cc8332897"
   },
   "outputs": [
    {
     "name": "stdout",
     "output_type": "stream",
     "text": [
      "tf.Tensor(False, shape=(), dtype=bool)\n",
      "tf.Tensor(2, shape=(), dtype=int64)\n",
      "tf.Tensor(b'chicken', shape=(), dtype=string)\n",
      "tf.Tensor(0.14140815300503426, shape=(), dtype=float64)\n"
     ]
    }
   ],
   "source": [
    "# Use `take(1)` to only pull one example from the dataset.\n",
    "for f0,f1,f2,f3 in features_dataset.take(1):\n",
    "    print(f0)\n",
    "    print(f1)\n",
    "    print(f2)\n",
    "    print(f3)"
   ]
  },
  {
   "cell_type": "markdown",
   "metadata": {
    "id": "mhIe63awyZYd"
   },
   "source": [
    "---\n",
    "\n",
    "<a id=\"4.1.3\"></a><a name=\"4.1.3\"></a>\n",
    "### 4.1.3 Using tf.data.Dataset.map on a Dataset\n",
    "<a href=\"#top\">[back to top]</a>\n",
    "\n",
    "Use the `tf.data.Dataset.map` method to apply a function to each element of a `Dataset`.\n",
    "\n",
    "The mapped function must operate in TensorFlow graph mode — it must operate on and return `tf.Tensors`. \n",
    "\n",
    "A non-tensor function, like `serialize_example`, can be wrapped with `tf.py_function` to make it compatible."
   ]
  },
  {
   "cell_type": "markdown",
   "metadata": {},
   "source": [
    "<a id=\"4.1.3.1\"></a><a name=\"4.1.3.1\"></a>\n",
    "#### 4.1.3.1 Using tf.data.Dataset.map with tf.py_function\n",
    "<a href=\"#top\">[back to top]</a>"
   ]
  },
  {
   "cell_type": "code",
   "execution_count": 25,
   "metadata": {},
   "outputs": [
    {
     "name": "stdout",
     "output_type": "stream",
     "text": [
      "Original dataset:\n",
      "\n",
      "tf.Tensor(False, shape=(), dtype=bool)\n",
      "tf.Tensor(2, shape=(), dtype=int64)\n",
      "tf.Tensor(b'chicken', shape=(), dtype=string)\n",
      "tf.Tensor(0.14140815300503426, shape=(), dtype=float64)\n",
      "----------------------------------------\n",
      "Dataset after mapping to new values:\n",
      "\n",
      "tf.Tensor(True, shape=(), dtype=bool)\n",
      "tf.Tensor(12, shape=(), dtype=int64)\n",
      "tf.Tensor(b'CHICKEN', shape=(), dtype=string)\n",
      "tf.Tensor(1.4140815300503427e-05, shape=(), dtype=float64)\n"
     ]
    }
   ],
   "source": [
    "def map1(x1, x2, x3, x4):\n",
    "    if x1 == False: \n",
    "        x1 = True\n",
    "    elif x1 == True:\n",
    "        x1 = False\n",
    "    if x2 < 5:\n",
    "        x2 += 10\n",
    "    if x3.numpy().islower():\n",
    "        x3 = tf.strings.upper(x3)\n",
    "    x4 *= .0001\n",
    "    return x1, x2, x3, x4\n",
    "\n",
    "\n",
    "def tf_serialize_example(x1,x2,x3,x4):    \n",
    "    tf_string = tf.py_function(\n",
    "        map1,\n",
    "        inp=(x1,x2,x3,x4),  # Pass these args to the above function.\n",
    "        Tout=(tf.bool, tf.int64, tf.string, tf.float64)) # Return types\n",
    "    return tf_string\n",
    "\n",
    "\n",
    "# Apply this function to each element in the dataset:\n",
    "serialized_features_dataset = features_dataset.map(tf_serialize_example)\n",
    "\n",
    "\n",
    "print(\"Original dataset:\\n\")\n",
    "for f0,f1,f2,f3 in features_dataset.take(1):\n",
    "    print(f0)\n",
    "    print(f1)\n",
    "    print(f2)\n",
    "    print(f3)\n",
    "    HR()\n",
    "\n",
    "\n",
    "print(\"Dataset after mapping to new values:\\n\")\n",
    "for f0,f1,f2,f3 in serialized_features_dataset.take(1):\n",
    "    print(f0)\n",
    "    print(f1)\n",
    "    print(f2)\n",
    "    print(f3)"
   ]
  },
  {
   "cell_type": "markdown",
   "metadata": {},
   "source": [
    "<a id=\"4.1.3.2\"></a><a name=\"4.1.3.2\"></a>\n",
    "#### 4.1.3.2 Create and save TFRecord file (using tf.data.Dataset.map with tf.data.Dataset.from_generator)\n",
    "<a href=\"#top\">[back to top]</a>\n",
    "\n",
    "**Note: tf.data.Dataset.from_generator**\n",
    "\n",
    "The body of generator will [not be serialized in a GraphDef](https://www.tensorflow.org/api_docs/python/tf/data/Dataset#from_generator), and you should not \n",
    "use this method if you need to serialize your model and restore it in a different environment. -- Need to double-check this.\n"
   ]
  },
  {
   "cell_type": "code",
   "execution_count": 26,
   "metadata": {
    "id": "DlDfuh46bRf6"
   },
   "outputs": [
    {
     "name": "stdout",
     "output_type": "stream",
     "text": [
      "<FlatMapDataset element_spec=TensorSpec(shape=<unknown>, dtype=tf.string, name=None)>\n"
     ]
    }
   ],
   "source": [
    "def serialize_generator_example(feature0, feature1, feature2, feature3, debug=False):\n",
    "    \"\"\"\n",
    "    Creates a tf.train.Example message ready to be written to a file.\n",
    "    \"\"\"\n",
    "    feature = {\n",
    "        'feature0': _int64_feature(feature0),\n",
    "        'feature1': _int64_feature(feature1),\n",
    "        'feature2': _bytes_feature(feature2),\n",
    "        'feature3': _float_feature(feature3),\n",
    "    }\n",
    "    example_proto = tf.train.Example(features=tf.train.Features(feature=feature))\n",
    "    return example_proto.SerializeToString()\n",
    "\n",
    "\n",
    "def generator():\n",
    "    for features in features_dataset:\n",
    "    # for features in features_dataset.take(5): # for debug\n",
    "        # Passing a Function using an arbitrary number of positional argument\n",
    "        # By using (*features) in the function parameter, we can pass an \n",
    "        # arbitrary number of positional arguments, which here is \n",
    "        # 'feature1', 'feature2', and 'feature3'\n",
    "        yield serialize_generator_example(*features)\n",
    "        \n",
    "   \n",
    "dataset_from_generator = tf.data.Dataset.from_generator(\n",
    "    generator,    \n",
    "    output_types = tf.string\n",
    ")\n",
    "\n",
    "print(dataset_from_generator)     "
   ]
  },
  {
   "cell_type": "code",
   "execution_count": 27,
   "metadata": {},
   "outputs": [
    {
     "name": "stdout",
     "output_type": "stream",
     "text": [
      "10000\n",
      "CPU times: user 11.8 s, sys: 683 ms, total: 12.5 s\n",
      "Wall time: 41 s\n"
     ]
    }
   ],
   "source": [
    "%%time\n",
    "\n",
    "# This is necessary to transform our generator-based dataset into something \n",
    "# we can use with tf.io.TFRecordWriter, which is a bytes or bytearray. We have to extract\n",
    "# contents of the tf.data.FlatMapDataset, which is a list of tensors that are already\n",
    "# serialized to bytes / bytearray, and finally string format.\n",
    "dummy = [y.numpy() for y in dataset_from_generator]\n",
    "pp.pprint(len(dummy))"
   ]
  },
  {
   "cell_type": "markdown",
   "metadata": {
    "id": "p6lw5VYpjZZC"
   },
   "source": [
    "---\n",
    "Write the dataset-from-generator to a TFRecord file:"
   ]
  },
  {
   "cell_type": "code",
   "execution_count": 62,
   "metadata": {
    "colab": {
     "base_uri": "https://localhost:8080/"
    },
    "id": "vP1VgTO44UIE",
    "outputId": "05cc8745-3b37-4bbc-879e-5f5eb00c4392"
   },
   "outputs": [
    {
     "name": "stdout",
     "output_type": "stream",
     "text": [
      "len(dummy): 10000\n",
      "num_tfrecords: 10\n",
      "----------------------------------------\n",
      "tfrecords_dir4: data_tfrecords4\n",
      "example_path4: data_tfrecords4\n",
      "----------------------------------------\n",
      "100K\tdata_tfrecords4/file_0_10000.tfrec\n",
      "100K\tdata_tfrecords4/file_1_10000.tfrec\n",
      "100K\tdata_tfrecords4/file_2_10000.tfrec\n",
      "100K\tdata_tfrecords4/file_3_10000.tfrec\n",
      "100K\tdata_tfrecords4/file_4_10000.tfrec\n",
      "100K\tdata_tfrecords4/file_5_10000.tfrec\n",
      "100K\tdata_tfrecords4/file_6_10000.tfrec\n",
      "100K\tdata_tfrecords4/file_7_10000.tfrec\n",
      "100K\tdata_tfrecords4/file_8_10000.tfrec\n",
      "100K\tdata_tfrecords4/file_9_10000.tfrec\n"
     ]
    }
   ],
   "source": [
    "num_samples = 1000 # records per TFRecord file\n",
    "num_tfrecords = len(dummy) // num_samples\n",
    "\n",
    "print(f\"len(dummy): {len(dummy)}\")\n",
    "print(f\"num_tfrecords: {num_tfrecords}\")\n",
    "\n",
    "if len(dummy) % num_samples:\n",
    "    num_tfrecords += 1 \n",
    "    print(f\"leftover: num_tfrecords: {num_tfrecords}\")\n",
    "\n",
    "HR()\n",
    "\n",
    "tfrecords_dir4 = \"data_tfrecords4\"\n",
    "!rm -fr {tfrecords_dir4}\n",
    "\n",
    "os.makedirs(tfrecords_dir4, exist_ok=True)  # creating TFRecords output folder\n",
    "print(f\"tfrecords_dir4: {tfrecords_dir4}\")\n",
    "\n",
    "example_path4 = os.path.join(tfrecords_dir4)\n",
    "print(f\"example_path4: {example_path4}\")\n",
    "HR()\n",
    "\n",
    "\n",
    "for tfrec_num in range(num_tfrecords):\n",
    "\n",
    "    # Do a slice from the list (start:end) per batch\n",
    "    samples = dummy[(tfrec_num * num_samples) : ((tfrec_num + 1) * num_samples)]\n",
    "    \n",
    "    with tf.io.TFRecordWriter(  \n",
    "        f\"{example_path4}/file_{tfrec_num}_{len(dummy)}.tfrec\"          \n",
    "    ) as file_writer:\n",
    "        for sample in samples:\n",
    "            \n",
    "            input_bytes = input_sanity_check(sample)\n",
    "            file_writer.write(input_bytes)\n",
    "            \n",
    "            \n",
    "!du -h {example_path4}/*"
   ]
  },
  {
   "cell_type": "markdown",
   "metadata": {},
   "source": [
    "<a id=\"4.1.3.3\"></a><a name=\"4.1.3.3\"></a>\n",
    "#### 4.1.3.3 Loading TFRecord files created via tf.data.Dataset.from_generator\n",
    "<a href=\"#top\">[back to top]</a>"
   ]
  },
  {
   "cell_type": "code",
   "execution_count": 29,
   "metadata": {
    "id": "ax5hHuPCIRwq"
   },
   "outputs": [
    {
     "name": "stdout",
     "output_type": "stream",
     "text": [
      "Loading and reading saved records from directory data_tfrecords4:\n",
      "data_tfrecords4/file_0_10000.tfrec\n",
      "data_tfrecords4/file_9_10000.tfrec\n",
      "data_tfrecords4/file_5_10000.tfrec\n",
      "data_tfrecords4/file_6_10000.tfrec\n",
      "data_tfrecords4/file_3_10000.tfrec\n",
      "data_tfrecords4/file_4_10000.tfrec\n",
      "data_tfrecords4/file_8_10000.tfrec\n",
      "data_tfrecords4/file_1_10000.tfrec\n",
      "data_tfrecords4/file_2_10000.tfrec\n",
      "data_tfrecords4/file_7_10000.tfrec\n",
      "----------------------------------------\n",
      "feature0 = 0\n",
      "feature1 = 2\n",
      "feature2 = b'chicken'\n",
      "feature3 = 0.14140816032886505\n",
      "----------------------------------------\n",
      "feature0 = 1\n",
      "feature1 = 2\n",
      "feature2 = b'chicken'\n",
      "feature3 = 0.16677410900592804\n",
      "----------------------------------------\n",
      "feature0 = 0\n",
      "feature1 = 3\n",
      "feature2 = b'horse'\n",
      "feature3 = -0.849764883518219\n",
      "----------------------------------------\n"
     ]
    }
   ],
   "source": [
    "def decode_fn(record_bytes):\n",
    "    return tf.io.parse_example(\n",
    "        # Data\n",
    "        record_bytes,\n",
    "        \n",
    "        # Schema\n",
    "        {\n",
    "            'feature0': tf.io.FixedLenFeature([], tf.int64, default_value=0),\n",
    "            'feature1': tf.io.FixedLenFeature([], tf.int64, default_value=0),\n",
    "            'feature2': tf.io.FixedLenFeature([], tf.string, default_value=''),\n",
    "            'feature3': tf.io.FixedLenFeature([], tf.float32, default_value=0.0),\n",
    "        }\n",
    "    )\n",
    "\n",
    "# Create list of appropriate TFRecord files via glob.glob\n",
    "tfrecord_files4 = glob.glob(example_path4 + \"/*.tfrec\")\n",
    "print(f\"Loading and reading saved records from directory {example_path4}:\")\n",
    "for x in tfrecord_files4:\n",
    "    print(x)\n",
    "HR()\n",
    "\n",
    "for batch in tf.data.TFRecordDataset(tfrecord_files4).map(decode_fn).take(3):\n",
    "    #print(batch)\n",
    "    print(f\"feature0 = {batch['feature0'].numpy()}\")\n",
    "    print(f\"feature1 = {batch['feature1'].numpy()}\")\n",
    "    print(f\"feature2 = {batch['feature2'].numpy()}\")\n",
    "    print(f\"feature3 = {batch['feature3'].numpy()}\")\n",
    "    HR()"
   ]
  },
  {
   "cell_type": "markdown",
   "metadata": {
    "id": "o3J5D4gcSy8N"
   },
   "source": [
    "<a id=\"4.2\"></a><a name=\"4.2\"></a>\n",
    "## 4.2 Reading a TFRecord file\n",
    "<a href=\"#top\">[back to top]</a>\n",
    "\n",
    "You can also read the TFRecord file using the `tf.data.TFRecordDataset` class.\n",
    "\n",
    "More information on consuming TFRecord files using `tf.data` can be found in the [tf.data: Build TensorFlow input pipelines](https://www.tensorflow.org/guide/data#consuming_tfrecord_data) guide.\n",
    "\n",
    "* https://www.tensorflow.org/guide/data#consuming_tfrecord_data\n",
    "* https://www.tensorflow.org/api_docs/python/tf/data/TFRecordDataset\n",
    "\n",
    "\n",
    "Using `TFRecordDataset`s can be useful for standardizing input data and optimizing performance."
   ]
  },
  {
   "cell_type": "code",
   "execution_count": 30,
   "metadata": {
    "colab": {
     "base_uri": "https://localhost:8080/"
    },
    "id": "6OjX6UZl-bHC",
    "outputId": "a60ef8bd-6f2b-4838-bd57-0cb8fa281aba"
   },
   "outputs": [
    {
     "name": "stdout",
     "output_type": "stream",
     "text": [
      "data_tfrecords4\n",
      "----------------------------------------\n",
      "tfrecord: ['data_tfrecords4/file_0_10000.tfrec', 'data_tfrecords4/file_9_10000.tfrec', 'data_tfrecords4/file_5_10000.tfrec', 'data_tfrecords4/file_6_10000.tfrec', 'data_tfrecords4/file_3_10000.tfrec', 'data_tfrecords4/file_4_10000.tfrec', 'data_tfrecords4/file_8_10000.tfrec', 'data_tfrecords4/file_1_10000.tfrec', 'data_tfrecords4/file_2_10000.tfrec', 'data_tfrecords4/file_7_10000.tfrec']\n",
      "----------------------------------------\n",
      "<tf.Tensor: shape=(), dtype=string, numpy=b'\\nU\\n\\x17\\n\\x08feature2\\x12\\x0b\\n\\t\\n\\x07chicken\\n\\x11\\n\\x08feature1\\x12\\x05\\x1a\\x03\\n\\x01\\x02\\n\\x11\\n\\x08feature0\\x12\\x05\\x1a\\x03\\n\\x01\\x00\\n\\x14\\n\\x08feature3\\x12\\x08\\x12\\x06\\n\\x04M\\xcd\\x10>'>\n",
      "<tf.Tensor: shape=(), dtype=string, numpy=b'\\nU\\n\\x11\\n\\x08feature1\\x12\\x05\\x1a\\x03\\n\\x01\\x02\\n\\x17\\n\\x08feature2\\x12\\x0b\\n\\t\\n\\x07chicken\\n\\x14\\n\\x08feature3\\x12\\x08\\x12\\x06\\n\\x04\\xd5\\xc6*>\\n\\x11\\n\\x08feature0\\x12\\x05\\x1a\\x03\\n\\x01\\x01'>\n",
      "<tf.Tensor: shape=(), dtype=string, numpy=b'\\nS\\n\\x11\\n\\x08feature1\\x12\\x05\\x1a\\x03\\n\\x01\\x03\\n\\x11\\n\\x08feature0\\x12\\x05\\x1a\\x03\\n\\x01\\x00\\n\\x15\\n\\x08feature2\\x12\\t\\n\\x07\\n\\x05horse\\n\\x14\\n\\x08feature3\\x12\\x08\\x12\\x06\\n\\x041\\x8aY\\xbf'>\n"
     ]
    }
   ],
   "source": [
    "# filename refers to a saved tfrecord\n",
    "print(tfrecords_dir4)\n",
    "HR()\n",
    "filenames = glob.glob(tfrecords_dir4 + \"/*.tfrec\")\n",
    "print(f\"tfrecord: {filenames}\")\n",
    "HR()\n",
    "\n",
    "raw_dataset = tf.data.TFRecordDataset(filenames)\n",
    "for x in raw_dataset.take(3):\n",
    "    pp.pprint(x)"
   ]
  },
  {
   "cell_type": "markdown",
   "metadata": {
    "id": "6_EQ9i2E_-Fz"
   },
   "source": [
    "---\n",
    "\n",
    "At this point the dataset contains serialized `tf.train.Example` messages. When iterated over it returns these as scalar string tensors.\n",
    "\n",
    "Use the `.take` method to only show the first 10 records."
   ]
  },
  {
   "cell_type": "code",
   "execution_count": 31,
   "metadata": {
    "colab": {
     "base_uri": "https://localhost:8080/"
    },
    "id": "hxVXpLz_AJlm",
    "outputId": "2b00f843-b084-4efc-bca7-11555d0027ac"
   },
   "outputs": [
    {
     "name": "stdout",
     "output_type": "stream",
     "text": [
      "<tf.Tensor: shape=(), dtype=string, numpy=b'\\nU\\n\\x17\\n\\x08feature2\\x12\\x0b\\n\\t\\n\\x07chicken\\n\\x11\\n\\x08feature1\\x12\\x05\\x1a\\x03\\n\\x01\\x02\\n\\x11\\n\\x08feature0\\x12\\x05\\x1a\\x03\\n\\x01\\x00\\n\\x14\\n\\x08feature3\\x12\\x08\\x12\\x06\\n\\x04M\\xcd\\x10>'>\n",
      "<tf.Tensor: shape=(), dtype=string, numpy=b'\\nU\\n\\x11\\n\\x08feature1\\x12\\x05\\x1a\\x03\\n\\x01\\x02\\n\\x17\\n\\x08feature2\\x12\\x0b\\n\\t\\n\\x07chicken\\n\\x14\\n\\x08feature3\\x12\\x08\\x12\\x06\\n\\x04\\xd5\\xc6*>\\n\\x11\\n\\x08feature0\\x12\\x05\\x1a\\x03\\n\\x01\\x01'>\n",
      "<tf.Tensor: shape=(), dtype=string, numpy=b'\\nS\\n\\x11\\n\\x08feature1\\x12\\x05\\x1a\\x03\\n\\x01\\x03\\n\\x11\\n\\x08feature0\\x12\\x05\\x1a\\x03\\n\\x01\\x00\\n\\x15\\n\\x08feature2\\x12\\t\\n\\x07\\n\\x05horse\\n\\x14\\n\\x08feature3\\x12\\x08\\x12\\x06\\n\\x041\\x8aY\\xbf'>\n",
      "<tf.Tensor: shape=(), dtype=string, numpy=b'\\nU\\n\\x11\\n\\x08feature0\\x12\\x05\\x1a\\x03\\n\\x01\\x00\\n\\x11\\n\\x08feature1\\x12\\x05\\x1a\\x03\\n\\x01\\x02\\n\\x14\\n\\x08feature3\\x12\\x08\\x12\\x06\\n\\x04@\\x0b4?\\n\\x17\\n\\x08feature2\\x12\\x0b\\n\\t\\n\\x07chicken'>\n",
      "<tf.Tensor: shape=(), dtype=string, numpy=b'\\nR\\n\\x14\\n\\x08feature3\\x12\\x08\\x12\\x06\\n\\x04\\xfd\\xf9\\x8d\\xbe\\n\\x14\\n\\x08feature2\\x12\\x08\\n\\x06\\n\\x04goat\\n\\x11\\n\\x08feature1\\x12\\x05\\x1a\\x03\\n\\x01\\x04\\n\\x11\\n\\x08feature0\\x12\\x05\\x1a\\x03\\n\\x01\\x00'>\n",
      "<tf.Tensor: shape=(), dtype=string, numpy=b'\\nU\\n\\x11\\n\\x08feature0\\x12\\x05\\x1a\\x03\\n\\x01\\x01\\n\\x11\\n\\x08feature1\\x12\\x05\\x1a\\x03\\n\\x01\\x02\\n\\x14\\n\\x08feature3\\x12\\x08\\x12\\x06\\n\\x04\\x0cL\\x90?\\n\\x17\\n\\x08feature2\\x12\\x0b\\n\\t\\n\\x07chicken'>\n",
      "<tf.Tensor: shape=(), dtype=string, numpy=b'\\nR\\n\\x14\\n\\x08feature3\\x12\\x08\\x12\\x06\\n\\x04\\t\\xf4b\\xbd\\n\\x14\\n\\x08feature2\\x12\\x08\\n\\x06\\n\\x04goat\\n\\x11\\n\\x08feature0\\x12\\x05\\x1a\\x03\\n\\x01\\x00\\n\\x11\\n\\x08feature1\\x12\\x05\\x1a\\x03\\n\\x01\\x04'>\n",
      "<tf.Tensor: shape=(), dtype=string, numpy=b'\\nU\\n\\x11\\n\\x08feature0\\x12\\x05\\x1a\\x03\\n\\x01\\x00\\n\\x14\\n\\x08feature3\\x12\\x08\\x12\\x06\\n\\x04\\xd3_\\x13\\xbe\\n\\x17\\n\\x08feature2\\x12\\x0b\\n\\t\\n\\x07chicken\\n\\x11\\n\\x08feature1\\x12\\x05\\x1a\\x03\\n\\x01\\x02'>\n",
      "<tf.Tensor: shape=(), dtype=string, numpy=b'\\nR\\n\\x14\\n\\x08feature3\\x12\\x08\\x12\\x06\\n\\x047\\xf9o\\xbf\\n\\x14\\n\\x08feature2\\x12\\x08\\n\\x06\\n\\x04goat\\n\\x11\\n\\x08feature1\\x12\\x05\\x1a\\x03\\n\\x01\\x04\\n\\x11\\n\\x08feature0\\x12\\x05\\x1a\\x03\\n\\x01\\x00'>\n",
      "<tf.Tensor: shape=(), dtype=string, numpy=b'\\nU\\n\\x17\\n\\x08feature2\\x12\\x0b\\n\\t\\n\\x07chicken\\n\\x11\\n\\x08feature0\\x12\\x05\\x1a\\x03\\n\\x01\\x01\\n\\x14\\n\\x08feature3\\x12\\x08\\x12\\x06\\n\\x04\\x9e\\xeeS\\xbf\\n\\x11\\n\\x08feature1\\x12\\x05\\x1a\\x03\\n\\x01\\x02'>\n"
     ]
    }
   ],
   "source": [
    "for raw_record in raw_dataset.take(10):\n",
    "    print(repr(raw_record))"
   ]
  },
  {
   "cell_type": "markdown",
   "metadata": {
    "id": "W-6oNzM4luFQ"
   },
   "source": [
    "* These tensors can be parsed using the function below. \n",
    "\n",
    "* Note that the `feature_description` is necessary here because `tf.data.Dataset` use graph-execution, and need this description to build their shape and type signature.\n",
    "\n",
    "* If we only have a single example, we can use this api:\n",
    "\n",
    "```\n",
    "tf.io.parse_single_example(\n",
    "    serialized, \n",
    "    features, \n",
    "    example_names=None, \n",
    "    name=None\n",
    ")\n",
    "```"
   ]
  },
  {
   "cell_type": "code",
   "execution_count": 32,
   "metadata": {
    "id": "zQjbIR1nleiy"
   },
   "outputs": [],
   "source": [
    "# Create a description of the features.\n",
    "feature_description = {\n",
    "    'feature0': tf.io.FixedLenFeature([], tf.int64, default_value=0),\n",
    "    'feature1': tf.io.FixedLenFeature([], tf.int64, default_value=0),\n",
    "    'feature2': tf.io.FixedLenFeature([], tf.string, default_value=''),\n",
    "    'feature3': tf.io.FixedLenFeature([], tf.float32, default_value=0.0),\n",
    "}\n",
    "\n",
    "def _parse_function(example_proto):\n",
    "    # Parse the input `tf.train.Example` proto using the dictionary above.\n",
    "    # Parses a single Example proto.\n",
    "    return tf.io.parse_single_example(example_proto, feature_description)"
   ]
  },
  {
   "cell_type": "markdown",
   "metadata": {
    "id": "gWETjUqhEQZf"
   },
   "source": [
    "Alternatively, use `tf.parse example` to parse the whole batch at once. \n",
    "\n",
    "Apply this function to each item in the dataset using the `tf.data.Dataset.map` method:"
   ]
  },
  {
   "cell_type": "code",
   "execution_count": 33,
   "metadata": {
    "colab": {
     "base_uri": "https://localhost:8080/"
    },
    "id": "6Ob7D-zmBm1w",
    "outputId": "df28c140-642e-425b-8c27-f611351462b9"
   },
   "outputs": [
    {
     "data": {
      "text/plain": [
       "10000"
      ]
     },
     "execution_count": 33,
     "metadata": {},
     "output_type": "execute_result"
    }
   ],
   "source": [
    "parsed_dataset = raw_dataset.map(_parse_function)\n",
    "len(list(parsed_dataset))"
   ]
  },
  {
   "cell_type": "code",
   "execution_count": 34,
   "metadata": {},
   "outputs": [
    {
     "data": {
      "text/plain": [
       "10000"
      ]
     },
     "execution_count": 34,
     "metadata": {},
     "output_type": "execute_result"
    }
   ],
   "source": [
    "def _parse_function_multiple(example_proto):\n",
    "    # Parse the input `tf.train.Example` proto using the dictionary above.\n",
    "    # Parses a single Example proto.\n",
    "    return tf.io.parse(example_proto, feature_description)\n",
    "\n",
    "parsed_dataset_multiple = raw_dataset.map(_parse_function)\n",
    "\n",
    "len(list(parsed_dataset_multiple))"
   ]
  },
  {
   "cell_type": "markdown",
   "metadata": {
    "id": "sNV-XclGnOvn"
   },
   "source": [
    "Use eager execution to display the observations in the dataset. There are 10,000 observations in this dataset, but you will only display the first 10. The data is displayed as a dictionary of features. Each item is a `tf.Tensor`, and the `numpy` element of this tensor displays the value of the feature:"
   ]
  },
  {
   "cell_type": "code",
   "execution_count": 35,
   "metadata": {
    "colab": {
     "base_uri": "https://localhost:8080/"
    },
    "id": "x2LT2JCqhoD_",
    "outputId": "13881f14-0d1f-49a2-8131-86c8bdde9f57"
   },
   "outputs": [
    {
     "name": "stdout",
     "output_type": "stream",
     "text": [
      "Unpacked tensors:\n",
      "\n",
      "{'feature0': <tf.Tensor: shape=(), dtype=int64, numpy=0>, 'feature1': <tf.Tensor: shape=(), dtype=int64, numpy=2>, 'feature2': <tf.Tensor: shape=(), dtype=string, numpy=b'chicken'>, 'feature3': <tf.Tensor: shape=(), dtype=float32, numpy=0.14140816>}\n",
      "{'feature0': <tf.Tensor: shape=(), dtype=int64, numpy=1>, 'feature1': <tf.Tensor: shape=(), dtype=int64, numpy=2>, 'feature2': <tf.Tensor: shape=(), dtype=string, numpy=b'chicken'>, 'feature3': <tf.Tensor: shape=(), dtype=float32, numpy=0.16677411>}\n",
      "{'feature0': <tf.Tensor: shape=(), dtype=int64, numpy=0>, 'feature1': <tf.Tensor: shape=(), dtype=int64, numpy=3>, 'feature2': <tf.Tensor: shape=(), dtype=string, numpy=b'horse'>, 'feature3': <tf.Tensor: shape=(), dtype=float32, numpy=-0.8497649>}\n",
      "{'feature0': <tf.Tensor: shape=(), dtype=int64, numpy=0>, 'feature1': <tf.Tensor: shape=(), dtype=int64, numpy=2>, 'feature2': <tf.Tensor: shape=(), dtype=string, numpy=b'chicken'>, 'feature3': <tf.Tensor: shape=(), dtype=float32, numpy=0.70329666>}\n",
      "{'feature0': <tf.Tensor: shape=(), dtype=int64, numpy=0>, 'feature1': <tf.Tensor: shape=(), dtype=int64, numpy=4>, 'feature2': <tf.Tensor: shape=(), dtype=string, numpy=b'goat'>, 'feature3': <tf.Tensor: shape=(), dtype=float32, numpy=-0.27729788>}\n",
      "{'feature0': <tf.Tensor: shape=(), dtype=int64, numpy=1>, 'feature1': <tf.Tensor: shape=(), dtype=int64, numpy=2>, 'feature2': <tf.Tensor: shape=(), dtype=string, numpy=b'chicken'>, 'feature3': <tf.Tensor: shape=(), dtype=float32, numpy=1.1273208>}\n",
      "{'feature0': <tf.Tensor: shape=(), dtype=int64, numpy=0>, 'feature1': <tf.Tensor: shape=(), dtype=int64, numpy=4>, 'feature2': <tf.Tensor: shape=(), dtype=string, numpy=b'goat'>, 'feature3': <tf.Tensor: shape=(), dtype=float32, numpy=-0.05540851>}\n",
      "{'feature0': <tf.Tensor: shape=(), dtype=int64, numpy=0>, 'feature1': <tf.Tensor: shape=(), dtype=int64, numpy=2>, 'feature2': <tf.Tensor: shape=(), dtype=string, numpy=b'chicken'>, 'feature3': <tf.Tensor: shape=(), dtype=float32, numpy=-0.14392023>}\n",
      "{'feature0': <tf.Tensor: shape=(), dtype=int64, numpy=0>, 'feature1': <tf.Tensor: shape=(), dtype=int64, numpy=4>, 'feature2': <tf.Tensor: shape=(), dtype=string, numpy=b'goat'>, 'feature3': <tf.Tensor: shape=(), dtype=float32, numpy=-0.93739647>}\n",
      "{'feature0': <tf.Tensor: shape=(), dtype=int64, numpy=1>, 'feature1': <tf.Tensor: shape=(), dtype=int64, numpy=2>, 'feature2': <tf.Tensor: shape=(), dtype=string, numpy=b'chicken'>, 'feature3': <tf.Tensor: shape=(), dtype=float32, numpy=-0.82785976>}\n"
     ]
    }
   ],
   "source": [
    "print(\"Unpacked tensors:\\n\")\n",
    "for parsed_record in parsed_dataset.take(10):\n",
    "    print(repr(parsed_record))"
   ]
  },
  {
   "cell_type": "code",
   "execution_count": 36,
   "metadata": {},
   "outputs": [
    {
     "name": "stdout",
     "output_type": "stream",
     "text": [
      "Unpacked tensors:\n",
      "\n",
      "{'feature0': <tf.Tensor: shape=(), dtype=int64, numpy=0>, 'feature1': <tf.Tensor: shape=(), dtype=int64, numpy=2>, 'feature2': <tf.Tensor: shape=(), dtype=string, numpy=b'chicken'>, 'feature3': <tf.Tensor: shape=(), dtype=float32, numpy=0.14140816>}\n",
      "{'feature0': <tf.Tensor: shape=(), dtype=int64, numpy=1>, 'feature1': <tf.Tensor: shape=(), dtype=int64, numpy=2>, 'feature2': <tf.Tensor: shape=(), dtype=string, numpy=b'chicken'>, 'feature3': <tf.Tensor: shape=(), dtype=float32, numpy=0.16677411>}\n",
      "{'feature0': <tf.Tensor: shape=(), dtype=int64, numpy=0>, 'feature1': <tf.Tensor: shape=(), dtype=int64, numpy=3>, 'feature2': <tf.Tensor: shape=(), dtype=string, numpy=b'horse'>, 'feature3': <tf.Tensor: shape=(), dtype=float32, numpy=-0.8497649>}\n",
      "{'feature0': <tf.Tensor: shape=(), dtype=int64, numpy=0>, 'feature1': <tf.Tensor: shape=(), dtype=int64, numpy=2>, 'feature2': <tf.Tensor: shape=(), dtype=string, numpy=b'chicken'>, 'feature3': <tf.Tensor: shape=(), dtype=float32, numpy=0.70329666>}\n",
      "{'feature0': <tf.Tensor: shape=(), dtype=int64, numpy=0>, 'feature1': <tf.Tensor: shape=(), dtype=int64, numpy=4>, 'feature2': <tf.Tensor: shape=(), dtype=string, numpy=b'goat'>, 'feature3': <tf.Tensor: shape=(), dtype=float32, numpy=-0.27729788>}\n",
      "{'feature0': <tf.Tensor: shape=(), dtype=int64, numpy=1>, 'feature1': <tf.Tensor: shape=(), dtype=int64, numpy=2>, 'feature2': <tf.Tensor: shape=(), dtype=string, numpy=b'chicken'>, 'feature3': <tf.Tensor: shape=(), dtype=float32, numpy=1.1273208>}\n",
      "{'feature0': <tf.Tensor: shape=(), dtype=int64, numpy=0>, 'feature1': <tf.Tensor: shape=(), dtype=int64, numpy=4>, 'feature2': <tf.Tensor: shape=(), dtype=string, numpy=b'goat'>, 'feature3': <tf.Tensor: shape=(), dtype=float32, numpy=-0.05540851>}\n",
      "{'feature0': <tf.Tensor: shape=(), dtype=int64, numpy=0>, 'feature1': <tf.Tensor: shape=(), dtype=int64, numpy=2>, 'feature2': <tf.Tensor: shape=(), dtype=string, numpy=b'chicken'>, 'feature3': <tf.Tensor: shape=(), dtype=float32, numpy=-0.14392023>}\n",
      "{'feature0': <tf.Tensor: shape=(), dtype=int64, numpy=0>, 'feature1': <tf.Tensor: shape=(), dtype=int64, numpy=4>, 'feature2': <tf.Tensor: shape=(), dtype=string, numpy=b'goat'>, 'feature3': <tf.Tensor: shape=(), dtype=float32, numpy=-0.93739647>}\n",
      "{'feature0': <tf.Tensor: shape=(), dtype=int64, numpy=1>, 'feature1': <tf.Tensor: shape=(), dtype=int64, numpy=2>, 'feature2': <tf.Tensor: shape=(), dtype=string, numpy=b'chicken'>, 'feature3': <tf.Tensor: shape=(), dtype=float32, numpy=-0.82785976>}\n"
     ]
    }
   ],
   "source": [
    "print(\"Unpacked tensors:\\n\")\n",
    "for parsed_record in parsed_dataset_multiple.take(10):\n",
    "    print(repr(parsed_record))"
   ]
  },
  {
   "cell_type": "markdown",
   "metadata": {
    "id": "Cig9EodTlDmg"
   },
   "source": [
    "Here, the `tf.parse_example` function unpacks the `tf.train.Example` fields into standard tensors."
   ]
  },
  {
   "cell_type": "markdown",
   "metadata": {
    "id": "jyg1g3gU7DNn"
   },
   "source": [
    "---\n",
    "<a id=\"5.0\"></a><a name=\"5.0\"></a>\n",
    "# 5. TFRecord files in Python\n",
    "<a href=\"#top\">[back to top]</a>\n",
    "\n",
    "The `tf.io` module also contains pure-Python functions for reading and writing TFRecord files."
   ]
  },
  {
   "cell_type": "markdown",
   "metadata": {
    "id": "LNW_FA-GQWXs"
   },
   "source": [
    "<a id=\"5.1\"></a><a name=\"5.1\"></a>\n",
    "## 5.1 Writing a TFRecord file\n",
    "<a href=\"#top\">[back to top]</a>\n",
    "\n",
    "Next, write the 10,000 observations to the file `test.tfrecord`. Each observation is converted to a `tf.train.Example` message, then written to file. You can then verify that the file `test.tfrecord` has been created.\n",
    "\n",
    "**Note**:\n",
    "\n",
    "This section is largely a duplicate of the prior *[2.3 Operations on Examples: TFRecord saving, loading, reading](#2.3)*\n",
    "\n",
    "\n",
    "**Note:**\n",
    "\n",
    "`tf.data.experimental.TFRecordWriter` is now [deprecated](https://www.tensorflow.org/api_docs/python/tf/data/experimental/TFRecordWriter). We should now use `tf.io.TFRecordWriter`."
   ]
  },
  {
   "cell_type": "code",
   "execution_count": 63,
   "metadata": {
    "id": "MKPHzoGv7q44"
   },
   "outputs": [
    {
     "name": "stdout",
     "output_type": "stream",
     "text": [
      "range(0, 10000)\n",
      "tfrecords_dir5: data_tfrecords5\n",
      "example_path5: data_tfrecords5\n",
      "----------------------------------------\n"
     ]
    }
   ],
   "source": [
    "print(range(n_observations))\n",
    "\n",
    "tfrecords_dir5 = \"data_tfrecords5\"\n",
    "filename5 = 'test5.tfrecord'\n",
    "\n",
    "os.makedirs(tfrecords_dir5, exist_ok=True)  # creating TFRecords output folder\n",
    "print(f\"tfrecords_dir5: {tfrecords_dir5}\")\n",
    "\n",
    "example_path5 = os.path.join(tfrecords_dir5)\n",
    "print(f\"example_path5: {example_path5}\")\n",
    "HR()\n",
    "\n",
    "\n",
    "# Write the `tf.train.Example` observations to the single file.\n",
    "with tf.io.TFRecordWriter(\n",
    "    f\"{example_path5}/{filename5}\"\n",
    ") as file_writer:\n",
    "    for i in range(n_observations):\n",
    "        example = serialize_example(\n",
    "            feature0[i], \n",
    "            feature1[i], \n",
    "            feature2[i], \n",
    "            feature3[i]\n",
    "        )\n",
    "        \n",
    "        input_bytes = input_sanity_check(example)\n",
    "        file_writer.write(input_bytes)\n",
    "    \n",
    "# DeprecationWarning: In future, it will be an error for 'np.bool_' scalars to be interpreted as an index\n",
    "#   return tf.train.Feature(int64_list=tf.train.Int64List(value=[value]))"
   ]
  },
  {
   "cell_type": "code",
   "execution_count": 38,
   "metadata": {
    "colab": {
     "base_uri": "https://localhost:8080/"
    },
    "id": "EjdFHHJMpUUo",
    "outputId": "2028b4c8-1260-4e99-aa70-15ae8ae614ac"
   },
   "outputs": [
    {
     "name": "stdout",
     "output_type": "stream",
     "text": [
      "1.0M\tdata_tfrecords5/test5.tfrecord\n"
     ]
    }
   ],
   "source": [
    "!du -sh {tfrecords_dir5}/{filename5}"
   ]
  },
  {
   "cell_type": "markdown",
   "metadata": {
    "id": "2osVRnYNni-E"
   },
   "source": [
    "<a id=\"5.2\"></a><a name=\"5.2\"></a>\n",
    "## 5.2 Reading a TFRecord file\n",
    "<a href=\"#top\">[back to top]</a>\n",
    "\n",
    "These serialized tensors can be easily parsed using `tf.train.Example.ParseFromString`."
   ]
  },
  {
   "cell_type": "code",
   "execution_count": 39,
   "metadata": {},
   "outputs": [
    {
     "data": {
      "text/plain": [
       "'data_tfrecords5/test5.tfrecord'"
      ]
     },
     "execution_count": 39,
     "metadata": {},
     "output_type": "execute_result"
    }
   ],
   "source": [
    "f\"{example_path5}/{filename5}\""
   ]
  },
  {
   "cell_type": "code",
   "execution_count": 40,
   "metadata": {
    "colab": {
     "base_uri": "https://localhost:8080/"
    },
    "id": "U3tnd3LerOtV",
    "outputId": "efd1c6d6-ef65-467d-a646-4091b74f68c5"
   },
   "outputs": [
    {
     "data": {
      "text/plain": [
       "<TFRecordDatasetV2 element_spec=TensorSpec(shape=(), dtype=tf.string, name=None)>"
      ]
     },
     "execution_count": 40,
     "metadata": {},
     "output_type": "execute_result"
    }
   ],
   "source": [
    "# A Dataset comprising records from one or more TFRecord files.\n",
    "raw_dataset = tf.data.TFRecordDataset(f\"{example_path5}/{filename5}\")\n",
    "raw_dataset"
   ]
  },
  {
   "cell_type": "code",
   "execution_count": 41,
   "metadata": {
    "colab": {
     "base_uri": "https://localhost:8080/"
    },
    "id": "nsEAACHcnm3f",
    "outputId": "bf6039a3-483e-4285-ccdc-ad68018063b6"
   },
   "outputs": [
    {
     "name": "stdout",
     "output_type": "stream",
     "text": [
      "features {\n",
      "  feature {\n",
      "    key: \"feature0\"\n",
      "    value {\n",
      "      int64_list {\n",
      "        value: 0\n",
      "      }\n",
      "    }\n",
      "  }\n",
      "  feature {\n",
      "    key: \"feature1\"\n",
      "    value {\n",
      "      int64_list {\n",
      "        value: 2\n",
      "      }\n",
      "    }\n",
      "  }\n",
      "  feature {\n",
      "    key: \"feature2\"\n",
      "    value {\n",
      "      bytes_list {\n",
      "        value: \"chicken\"\n",
      "      }\n",
      "    }\n",
      "  }\n",
      "  feature {\n",
      "    key: \"feature3\"\n",
      "    value {\n",
      "      float_list {\n",
      "        value: 0.14140816032886505\n",
      "      }\n",
      "    }\n",
      "  }\n",
      "}\n",
      "\n"
     ]
    }
   ],
   "source": [
    "for raw_record in raw_dataset.take(1):\n",
    "    # An Example is a standard proto storing data for training and inference.\n",
    "    # Initialize it first\n",
    "    example = tf.train.Example()\n",
    "\n",
    "    # Then call ParseFromString() to parse a serialized message into the current message.\n",
    "    # Without this, it remains empty.\n",
    "    example.ParseFromString(raw_record.numpy())\n",
    "    \n",
    "    print(example)"
   ]
  },
  {
   "cell_type": "markdown",
   "metadata": {
    "id": "yhnZZmhm1miG"
   },
   "source": [
    "---\n",
    "That returns a `tf.train.Example` proto which is difficult to use as is, but it's fundamentally a representation of a:\n",
    "\n",
    "```\n",
    "Dict[str,\n",
    "     Union[List[float],\n",
    "           List[int],\n",
    "           List[str]]]\n",
    "```\n",
    "\n",
    "The following code manually converts the `Example` to a dictionary of NumPy arrays, without using TensorFlow Ops. Refer to [the PROTO file](https://github.com/tensorflow/tensorflow/blob/master/tensorflow/core/example/feature.proto) for details."
   ]
  },
  {
   "cell_type": "code",
   "execution_count": 42,
   "metadata": {
    "colab": {
     "base_uri": "https://localhost:8080/"
    },
    "id": "Ziv9tiNE1l6J",
    "outputId": "32472a56-9100-4a89-9e43-33eadb156313"
   },
   "outputs": [
    {
     "data": {
      "text/plain": [
       "{'feature1': array([2]),\n",
       " 'feature3': array([0.14140816]),\n",
       " 'feature2': array([b'chicken'], dtype='|S7'),\n",
       " 'feature0': array([0])}"
      ]
     },
     "execution_count": 42,
     "metadata": {},
     "output_type": "execute_result"
    }
   ],
   "source": [
    "result = {}\n",
    "\n",
    "# example.features.feature is the dictionary\n",
    "for key, feature in example.features.feature.items():\n",
    "    # The values are the Feature objects which contain a `kind` which contains:\n",
    "    # one of three fields: bytes_list, float_list, int64_list\n",
    "\n",
    "    kind = feature.WhichOneof('kind')\n",
    "    result[key] = np.array(getattr(feature, kind).value)\n",
    "\n",
    "result"
   ]
  },
  {
   "cell_type": "markdown",
   "metadata": {
    "id": "rjN2LFxFpcR9"
   },
   "source": [
    "---\n",
    "<a id=\"6.0\"></a><a name=\"6.0\"></a>\n",
    "# 6. Walkthrough: Reading and writing image data\n",
    "<a href=\"#top\">[back to top]</a>\n",
    "\n",
    "This is an end-to-end example of how to read and write image data using TFRecords. Using an image as input data, you will write the data as a TFRecord file, then read the file back and display the image.\n",
    "\n",
    "This can be useful if, for example, you want to use several models on the same input dataset. Instead of storing the image data raw, it can be preprocessed into the TFRecords format, and that can be used in all further processing and modelling.\n",
    "\n",
    "First, let's download [this image](https://commons.wikimedia.org/wiki/File:Felis_catus-cat_on_snow.jpg) of a cat in the snow and [this photo](https://upload.wikimedia.org/wikipedia/commons/f/fe/New_East_River_Bridge_from_Brooklyn_det.4a09796u.jpg) of the Williamsburg Bridge, NYC under construction."
   ]
  },
  {
   "cell_type": "markdown",
   "metadata": {
    "id": "5Lk2qrKvN0yu"
   },
   "source": [
    "<a id=\"6.1\"></a><a name=\"6.1\"></a>\n",
    "## 6.1. Fetch the images\n",
    "<a href=\"#top\">[back to top]</a>"
   ]
  },
  {
   "cell_type": "code",
   "execution_count": 43,
   "metadata": {
    "colab": {
     "base_uri": "https://localhost:8080/"
    },
    "id": "3a0fmwg8lHdF",
    "outputId": "f1e25ae6-34e1-45de-c514-1ebe01f2234f"
   },
   "outputs": [],
   "source": [
    "cat_in_snow  = tf.keras.utils.get_file(\n",
    "    '320px-Felis_catus-cat_on_snow.jpg',\n",
    "    'https://storage.googleapis.com/download.tensorflow.org/example_images/320px-Felis_catus-cat_on_snow.jpg'\n",
    ")\n",
    "\n",
    "williamsburg_bridge = tf.keras.utils.get_file(\n",
    "    '194px-New_East_River_Bridge_from_Brooklyn_det.4a09796u.jpg',\n",
    "    'https://storage.googleapis.com/download.tensorflow.org/example_images/194px-New_East_River_Bridge_from_Brooklyn_det.4a09796u.jpg'\n",
    ")"
   ]
  },
  {
   "cell_type": "code",
   "execution_count": 44,
   "metadata": {
    "colab": {
     "base_uri": "https://localhost:8080/",
     "height": 247
    },
    "id": "7aJJh7vENeE4",
    "outputId": "c13db2a1-3201-4e37-e564-5e7ad02975a6"
   },
   "outputs": [
    {
     "data": {
      "image/jpeg": "[encoded data removed]",
      "text/plain": [
       "<IPython.core.display.Image object>"
      ]
     },
     "metadata": {},
     "output_type": "display_data"
    },
    {
     "data": {
      "text/html": [
       "Image cc-by: <a \"href=https://commons.wikimedia.org/wiki/File:Felis_catus-cat_on_snow.jpg\">Von.grzanka</a>"
      ],
      "text/plain": [
       "<IPython.core.display.HTML object>"
      ]
     },
     "metadata": {},
     "output_type": "display_data"
    }
   ],
   "source": [
    "display.display(display.Image(filename=cat_in_snow))\n",
    "display.display(display.HTML('Image cc-by: <a \"href=https://commons.wikimedia.org/wiki/File:Felis_catus-cat_on_snow.jpg\">Von.grzanka</a>'))"
   ]
  },
  {
   "cell_type": "code",
   "execution_count": 45,
   "metadata": {
    "colab": {
     "base_uri": "https://localhost:8080/",
     "height": 273
    },
    "id": "KkW0uuhcXZqA",
    "outputId": "f75ee824-f45f-4b79-a3c1-ade9b1cb69e8"
   },
   "outputs": [
    {
     "data": {
      "image/jpeg": "[encoded data removed]",
      "text/plain": [
       "<IPython.core.display.Image object>"
      ]
     },
     "metadata": {},
     "output_type": "display_data"
    },
    {
     "data": {
      "text/html": [
       "<a \"href=https://commons.wikimedia.org/wiki/File:New_East_River_Bridge_from_Brooklyn_det.4a09796u.jpg\">From Wikimedia</a>"
      ],
      "text/plain": [
       "<IPython.core.display.HTML object>"
      ]
     },
     "metadata": {},
     "output_type": "display_data"
    }
   ],
   "source": [
    "display.display(display.Image(filename=williamsburg_bridge))\n",
    "display.display(display.HTML('<a \"href=https://commons.wikimedia.org/wiki/File:New_East_River_Bridge_from_Brooklyn_det.4a09796u.jpg\">From Wikimedia</a>'))"
   ]
  },
  {
   "cell_type": "markdown",
   "metadata": {
    "id": "Azx83ryQEU6T"
   },
   "source": [
    "<a id=\"6.2\"></a><a name=\"6.2\"></a>\n",
    "## 6.2. Write the TFRecord file\n",
    "<a href=\"#top\">[back to top]</a>\n",
    "\n",
    "As before, encode the features as types compatible with `tf.train.Example`. \n",
    "\n",
    "This stores the raw image string feature, as well as the height, width, depth, and arbitrary `label` feature. \n",
    "\n",
    "The `label` feature is used when you write the file to distinguish between the cat image and the bridge image. \n",
    "\n",
    "For this, use `0` for the cat image, and `1` for the bridge image:"
   ]
  },
  {
   "cell_type": "code",
   "execution_count": 46,
   "metadata": {
    "id": "kC4TS1ZEONHr"
   },
   "outputs": [],
   "source": [
    "image_labels = {\n",
    "    cat_in_snow : 0,\n",
    "    williamsburg_bridge : 1,\n",
    "}"
   ]
  },
  {
   "cell_type": "code",
   "execution_count": 47,
   "metadata": {
    "colab": {
     "base_uri": "https://localhost:8080/"
    },
    "id": "c5njMSYNEhNZ",
    "outputId": "1def0d57-8250-4375-d215-c71ee1f21442"
   },
   "outputs": [
    {
     "name": "stdout",
     "output_type": "stream",
     "text": [
      "label: 0, <class 'int'>\n",
      "image_string: <class 'bytes'>\n"
     ]
    }
   ],
   "source": [
    "# This is an example using the cat image.\n",
    "image_string = open(cat_in_snow, 'rb').read()\n",
    "\n",
    "label = image_labels[cat_in_snow]\n",
    "\n",
    "# Create a dictionary with features that may be relevant.\n",
    "def image_example(image_string, label):\n",
    "    image_shape = tf.io.decode_jpeg(image_string).shape\n",
    "\n",
    "    feature = {\n",
    "        'height': _int64_feature(image_shape[0]),\n",
    "        'width': _int64_feature(image_shape[1]),\n",
    "        'depth': _int64_feature(image_shape[2]),\n",
    "        'label': _int64_feature(label),\n",
    "        'image_raw': _bytes_feature(image_string),\n",
    "    }\n",
    "\n",
    "    return tf.train.Example(features=tf.train.Features(feature=feature))\n",
    "\n",
    "\n",
    "# for line in str(image_example(image_string, label)).split('\\n')[:15]:\n",
    "#     print(line)\n",
    "# print('...')\n",
    "\n",
    "print(f\"label: {label}, {type(label)}\")\n",
    "print(f\"image_string: {type(image_string)}\")"
   ]
  },
  {
   "cell_type": "markdown",
   "metadata": {
    "id": "2G_o3O9MN0Qx"
   },
   "source": [
    "---\n",
    "Notice that all of the features are now stored in the `tf.train.Example` message. \n",
    "\n",
    "Next, functionalize the code above and write the example messages to a file named `images.tfrecords`:"
   ]
  },
  {
   "cell_type": "code",
   "execution_count": 48,
   "metadata": {},
   "outputs": [
    {
     "name": "stdout",
     "output_type": "stream",
     "text": [
      "/Users/gb/.keras/datasets/320px-Felis_catus-cat_on_snow.jpg 0\n",
      "/Users/gb/.keras/datasets/194px-New_East_River_Bridge_from_Brooklyn_det.4a09796u.jpg 0\n"
     ]
    }
   ],
   "source": [
    "for filename, labels in image_labels.items():\n",
    "    print(filename, label)"
   ]
  },
  {
   "cell_type": "code",
   "execution_count": 64,
   "metadata": {
    "id": "qcw06lQCOCZU"
   },
   "outputs": [
    {
     "name": "stdout",
     "output_type": "stream",
     "text": [
      "tfrecords_dir6: data_tfrecords6\n",
      "example_path6: data_tfrecords6/example6.tfrecords\n",
      "----------------------------------------\n",
      "/Users/gb/.keras/datasets/320px-Felis_catus-cat_on_snow.jpg 0\n",
      "Writing to file: data_tfrecords6/example6.tfrecords\n",
      "----------------------------------------\n",
      "/Users/gb/.keras/datasets/194px-New_East_River_Bridge_from_Brooklyn_det.4a09796u.jpg 1\n",
      "Writing to file: data_tfrecords6/example6.tfrecords\n",
      "----------------------------------------\n",
      " 36K\tdata_tfrecords6/example6.tfrecords\n"
     ]
    }
   ],
   "source": [
    "tfrecords_dir6 = \"data_tfrecords6\"\n",
    "\n",
    "os.makedirs(tfrecords_dir6, exist_ok=True)  # creating TFRecords output folder\n",
    "print(f\"tfrecords_dir6: {tfrecords_dir6}\")\n",
    "\n",
    "example_path6 = os.path.join(tfrecords_dir6, \"example6.tfrecords\")\n",
    "print(f\"example_path6: {example_path6}\")\n",
    "HR()\n",
    "\n",
    "\n",
    "\n",
    "# Write the raw image files to `images.tfrecords`.\n",
    "# record_file = 'images.tfrecords'\n",
    "\n",
    "# Iterate through the 2 image files.\n",
    "\n",
    "with tf.io.TFRecordWriter(\n",
    "    example_path6 # pathway, including filename\n",
    ") as file_writer:\n",
    "    for filename, label in image_labels.items():\n",
    "        print(filename, label)\n",
    "        \n",
    "        image_string = open(filename, 'rb').read()\n",
    "        # print(type(image_string))\n",
    "\n",
    "        # Process the two images into `tf.train.Example` messages.\n",
    "        tf_example = image_example(image_string, label)\n",
    "        \n",
    "        # Write to a `.tfrecords` file.\n",
    "        print(\"Writing to file:\", example_path6)\n",
    "        HR()\n",
    "        # writer.write(tf_example.SerializeToString())\n",
    "        \n",
    "        input_bytes = input_sanity_check(tf_example.SerializeToString())\n",
    "        file_writer.write(input_bytes)    \n",
    "    \n",
    "        \n",
    "!du -sh {example_path6}"
   ]
  },
  {
   "cell_type": "markdown",
   "metadata": {
    "id": "jJSsCkZLPH6K"
   },
   "source": [
    "<a id=\"6.3\"></a><a name=\"6.3\"></a>\n",
    "## 6.3. Read the TFRecord file\n",
    "<a href=\"#top\">[back to top]</a>\n",
    "\n",
    "You now have the file `images.tfrecords` and can now iterate over the records within to read back the contents. \n",
    "\n",
    "Since in this example you  only reproduce the image, the only feature you will need is the raw image string. \n",
    "\n",
    "Extract it using the getters described above, namely `example.features.feature['image_raw'].bytes_list.value[0]`. \n",
    "\n",
    "You can also use the labels to determine which record is the cat and which one is the bridge:"
   ]
  },
  {
   "cell_type": "code",
   "execution_count": 50,
   "metadata": {
    "colab": {
     "base_uri": "https://localhost:8080/"
    },
    "id": "M6Cnfd3cTKHN",
    "outputId": "3bf6cbfd-36a0-45a5-e883-b7a1f0e23f4c"
   },
   "outputs": [
    {
     "name": "stdout",
     "output_type": "stream",
     "text": [
      "<MapDataset element_spec={'depth': TensorSpec(shape=(), dtype=tf.int64, name=None), 'height': TensorSpec(shape=(), dtype=tf.int64, name=None), 'image_raw': TensorSpec(shape=(), dtype=tf.string, name=None), 'label': TensorSpec(shape=(), dtype=tf.int64, name=None), 'width': TensorSpec(shape=(), dtype=tf.int64, name=None)}>\n",
      "----------------------------------------\n",
      "{'_graph_attr': <tensorflow.python.framework.ops.Graph object at 0x12c667640>,\n",
      " '_input_dataset': <TFRecordDatasetV2 element_spec=TensorSpec(shape=(), dtype=tf.string, name=None)>,\n",
      " '_map_func': <tensorflow.python.data.ops.structured_function.StructuredFunctionWrapper object at 0x12c6f2550>,\n",
      " '_metadata': ,\n",
      " '_options_attr': <tensorflow.python.data.ops.options.Options object at 0x12c72a310>,\n",
      " '_preserve_cardinality': True,\n",
      " '_use_inter_op_parallelism': True,\n",
      " '_variant_tensor_attr': <tf.Tensor: shape=(), dtype=variant, value=<MapDatasetOp::Dataset>>}\n"
     ]
    }
   ],
   "source": [
    "raw_image_dataset = tf.data.TFRecordDataset(example_path6)\n",
    "\n",
    "# Dict mapping feature keys to FixedLenFeature or VarLenFeature values. \n",
    "image_feature_description = {\n",
    "    'height': tf.io.FixedLenFeature([], tf.int64),\n",
    "    'width': tf.io.FixedLenFeature([], tf.int64),\n",
    "    'depth': tf.io.FixedLenFeature([], tf.int64),\n",
    "    'label': tf.io.FixedLenFeature([], tf.int64),\n",
    "    'image_raw': tf.io.FixedLenFeature([], tf.string),\n",
    "}\n",
    "\n",
    "def _parse_image_function(example_proto):\n",
    "  # Parse the input tf.train.Example proto using the dictionary above.\n",
    "  return tf.io.parse_single_example(\n",
    "      serialized = example_proto, # Scalar string Tensor, a single serialized Example. \n",
    "      features = image_feature_description # Dict mapping feature keys to FixedLenFeature or VarLenFeature values. \n",
    "  )\n",
    "\n",
    "parsed_image_dataset = raw_image_dataset.map(_parse_image_function)\n",
    "\n",
    "print(parsed_image_dataset)\n",
    "HR()\n",
    "\n",
    "pp.pprint(parsed_image_dataset.__dict__)"
   ]
  },
  {
   "cell_type": "markdown",
   "metadata": {
    "id": "0PEEFPk4NEg1"
   },
   "source": [
    "---\n",
    "Recover the images from the TFRecord file:"
   ]
  },
  {
   "cell_type": "code",
   "execution_count": 51,
   "metadata": {
    "colab": {
     "base_uri": "https://localhost:8080/",
     "height": 469
    },
    "id": "yZf8jOyEIjSF",
    "outputId": "25aa8a0d-171f-491f-e055-c468ab9f9093"
   },
   "outputs": [
    {
     "data": {
      "image/jpeg": "[encoded data removed]",
      "text/plain": [
       "<IPython.core.display.Image object>"
      ]
     },
     "metadata": {},
     "output_type": "display_data"
    },
    {
     "data": {
      "image/jpeg": "[encoded data removed]",
      "text/plain": [
       "<IPython.core.display.Image object>"
      ]
     },
     "metadata": {},
     "output_type": "display_data"
    }
   ],
   "source": [
    "# Variation using IPython.display, which can take raw data in binary form\n",
    "for image_features in parsed_image_dataset:\n",
    "    image_raw = image_features['image_raw'].numpy()\n",
    "                \n",
    "    # IPython.display: Create a PNG/JPEG/GIF image object given raw data.\n",
    "    display.display(display.Image(data=image_raw))"
   ]
  },
  {
   "cell_type": "code",
   "execution_count": 52,
   "metadata": {},
   "outputs": [
    {
     "name": "stdout",
     "output_type": "stream",
     "text": [
      "tf.Tensor(\n",
      "[[194 206 218]\n",
      " [194 206 218]\n",
      " [194 206 218]\n",
      " [194 206 218]\n",
      " [195 207 219]], shape=(5, 3), dtype=uint8)\n"
     ]
    },
    {
     "data": {
      "image/png": "[encoded data removed]",
      "text/plain": [
       "<Figure size 432x288 with 1 Axes>"
      ]
     },
     "metadata": {
      "needs_background": "light"
     },
     "output_type": "display_data"
    },
    {
     "name": "stdout",
     "output_type": "stream",
     "text": [
      "tf.Tensor(\n",
      "[[238 238 238]\n",
      " [237 237 237]\n",
      " [237 237 237]\n",
      " [237 237 237]\n",
      " [237 237 237]], shape=(5, 3), dtype=uint8)\n"
     ]
    },
    {
     "data": {
      "image/png": "[encoded data removed]",
      "text/plain": [
       "<Figure size 432x288 with 1 Axes>"
      ]
     },
     "metadata": {
      "needs_background": "light"
     },
     "output_type": "display_data"
    }
   ],
   "source": [
    "# Variation using matplotlib, which needs to be converted to int\n",
    "for image_features in parsed_image_dataset:\n",
    "    image_raw = image_features['image_raw'].numpy()\n",
    "    \n",
    "    # Returns a tensor with 3D or 4D shape\n",
    "    converted_image = tf.io.decode_image(image_raw, channels=3)\n",
    "    \n",
    "    for x in converted_image:\n",
    "        print(x[:5])\n",
    "        break\n",
    "    \n",
    "    plt.imshow(converted_image)\n",
    "    plt.show()"
   ]
  },
  {
   "cell_type": "code",
   "execution_count": 53,
   "metadata": {},
   "outputs": [
    {
     "name": "stdout",
     "output_type": "stream",
     "text": [
      "4.0K\t./data_tfrecords1\n",
      "8.0K\t./data_tfrecords2\n",
      "4.0K\t./data_tfrecords3\n",
      "1.0M\t./data_tfrecords4\n",
      "1.0M\t./data_tfrecords5\n",
      " 36K\t./data_tfrecords6\n"
     ]
    }
   ],
   "source": [
    "!du -hs ./data_tfrecords*"
   ]
  },
  {
   "cell_type": "code",
   "execution_count": 54,
   "metadata": {},
   "outputs": [],
   "source": [
    "# Clean up stored tf_record data\n",
    "!rm -rf ./data_tfrecords*"
   ]
  },
  {
   "cell_type": "markdown",
   "metadata": {},
   "source": [
    "---\n",
    "\n",
    "Portions of this page are modifications based on work created and shared by Google and used according to terms described in the Creative Commons 4.0 Attribution License. \n",
    "\n",
    "Original material: [TFRecord and tf.train.Example](https://www.tensorflow.org/tutorials/load_data/tfrecord#writing_a_tfrecord_file)"
   ]
  }
 ],
 "metadata": {
  "colab": {
   "collapsed_sections": [
    "pL--_KGdYoBz"
   ],
   "name": "gb_tfrecord.ipynb",
   "provenance": []
  },
  "kernelspec": {
   "display_name": "Python 3 (ipykernel)",
   "language": "python",
   "name": "python3"
  },
  "language_info": {
   "codemirror_mode": {
    "name": "ipython",
    "version": 3
   },
   "file_extension": ".py",
   "mimetype": "text/x-python",
   "name": "python",
   "nbconvert_exporter": "python",
   "pygments_lexer": "ipython3",
   "version": "3.8.12"
  }
 },
 "nbformat": 4,
 "nbformat_minor": 4
}
