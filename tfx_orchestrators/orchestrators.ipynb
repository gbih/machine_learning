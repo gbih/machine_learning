{
  "cells": [
    {
      "cell_type": "markdown",
      "source": [
        "# Importing TFX Orchestrators in tfx.v1 namespace"
      ],
      "metadata": {
        "id": "jGKZ4nRpEVvo"
      },
      "id": "jGKZ4nRpEVvo"
    },
    {
      "cell_type": "markdown",
      "source": [
        "<table align=\"left\">\n",
        "  <td>\n",
        "    <a \n",
        "    href=\"https://colab.research.google.com/github/gbih/machine_learning/blob/main/tfx-templates/template_orchestrator_beam.ipynb\" \n",
        "    target=\"_parent\"><img src=\"https://colab.research.google.com/assets/colab-badge.svg\" alt=\"Open In Colab\"/></a>\n",
        "  </td>\n",
        "</table>"
      ],
      "metadata": {
        "id": "02G4dcwBETm1"
      },
      "id": "02G4dcwBETm1"
    },
    {
      "cell_type": "markdown",
      "id": "e271949d-bb9e-40db-9ac0-23be08236cc0",
      "metadata": {
        "id": "e271949d-bb9e-40db-9ac0-23be08236cc0"
      },
      "source": [
        "\n",
        "TFX supports multiple orchestrators to run pipelines. However, there is a subtle change in what orchestrators we can import when we use `Module: tfx.v1` (public modules for TFX).\n",
        "\n",
        "Raised an issue on the TFX GitHub repo,  [tfx.v1 / AirflowDagRunner now inaccessible #5145](https://github.com/tensorflow/tfx/issues/5145)\n",
        "\n",
        "\n",
        "---\n",
        "\n",
        "Reference:\n",
        "* https://github.com/tensorflow/tfx/tree/master/tfx/v1\n",
        "* https://www.tensorflow.org/tfx/tutorials/tfx/penguin_simple\n",
        "* https://www.tensorflow.org/tfx/api_docs/python/tfx/v1/orchestration/LocalDagRunner"
      ]
    },
    {
      "cell_type": "code",
      "source": [
        "import sys\n",
        "\n",
        "# Need if running on Colab or Kaggle\n",
        "IS_COLAB = \"google.colab\" in sys.modules\n",
        "IS_KAGGLE = \"kaggle_secrets\" in sys.modules\n",
        "if IS_COLAB or IS_KAGGLE:\n",
        "    !pip install --upgrade tfx &> /dev/null\n",
        "    print()\n",
        "    print(\"Need to restart runtime on Colab\")"
      ],
      "metadata": {
        "id": "PKNsfXEMEFkd",
        "colab": {
          "base_uri": "https://localhost:8080/"
        },
        "outputId": "c2e5dfb7-234d-4c40-ef4c-39095947a465"
      },
      "id": "PKNsfXEMEFkd",
      "execution_count": 6,
      "outputs": [
        {
          "output_type": "stream",
          "name": "stdout",
          "text": [
            "\n",
            "Need to restart runtime on Colab\n"
          ]
        }
      ]
    },
    {
      "cell_type": "code",
      "execution_count": 1,
      "id": "6595f768-e7c7-4f62-96d1-5661dddc2d00",
      "metadata": {
        "id": "6595f768-e7c7-4f62-96d1-5661dddc2d00"
      },
      "outputs": [],
      "source": [
        "def HR():\n",
        "    print(\"-\"*40)\n",
        "    \n",
        "def dir_ex(obj):\n",
        "    result = [x for x in dir(obj) if not x.startswith('_')]\n",
        "    print(type(obj))\n",
        "    print()\n",
        "    for x in result:\n",
        "        print(f'{x:<40}', end=\"\")"
      ]
    },
    {
      "cell_type": "markdown",
      "id": "1136c438-92a1-4254-8f76-e217d7013f56",
      "metadata": {
        "id": "1136c438-92a1-4254-8f76-e217d7013f56"
      },
      "source": [
        "---\n"
      ]
    },
    {
      "cell_type": "code",
      "execution_count": 2,
      "id": "98351b72-33bc-4e31-9828-396adb511b33",
      "metadata": {
        "id": "98351b72-33bc-4e31-9828-396adb511b33",
        "outputId": "f67d3829-bf65-4364-e9e8-672c1c48a8d1",
        "colab": {
          "base_uri": "https://localhost:8080/"
        }
      },
      "outputs": [
        {
          "output_type": "stream",
          "name": "stdout",
          "text": [
            "TFX version: 1.9.1\n",
            "<class 'module'>\n",
            "\n",
            "components                              dsl                                     extensions                              orchestration                           proto                                   types                                   utils                                   "
          ]
        }
      ],
      "source": [
        "# Giving an alias to variable tfx\n",
        "from tfx import v1 as tfx\n",
        "print('TFX version: {}'.format(tfx.__version__))\n",
        "dir_ex(tfx)"
      ]
    },
    {
      "cell_type": "code",
      "execution_count": 18,
      "id": "8d4b97a3-1010-4a06-938f-b16caebfef37",
      "metadata": {
        "id": "8d4b97a3-1010-4a06-938f-b16caebfef37",
        "outputId": "408700e5-7aba-483a-fa31-759047a030e4",
        "colab": {
          "base_uri": "https://localhost:8080/"
        }
      },
      "outputs": [
        {
          "output_type": "stream",
          "name": "stdout",
          "text": [
            "<class 'tfx.orchestration.local.local_dag_runner.LocalDagRunner'>\n"
          ]
        }
      ],
      "source": [
        "print(tfx.orchestration.LocalDagRunner)"
      ]
    },
    {
      "cell_type": "code",
      "execution_count": 7,
      "id": "380ee7fe-619f-4c59-a48a-d636cb169d57",
      "metadata": {
        "id": "380ee7fe-619f-4c59-a48a-d636cb169d57",
        "outputId": "71d1ba45-021a-4c96-ee98-18a4c305253f",
        "colab": {
          "base_uri": "https://localhost:8080/"
        }
      },
      "outputs": [
        {
          "output_type": "execute_result",
          "data": {
            "text/plain": [
              "['/usr/local/lib/python3.7/dist-packages/tfx/v1']"
            ]
          },
          "metadata": {},
          "execution_count": 7
        }
      ],
      "source": [
        "tfx.__path__"
      ]
    },
    {
      "cell_type": "markdown",
      "id": "f6f4225d-abcf-4307-b5d9-91af49452e74",
      "metadata": {
        "id": "f6f4225d-abcf-4307-b5d9-91af49452e74"
      },
      "source": [
        "---\n",
        "Using `from tfx import v1 as tfx` essentially limits us to the recently defined Public modules for TFX."
      ]
    },
    {
      "cell_type": "code",
      "execution_count": 8,
      "id": "9da02396-b411-44a9-9cb1-de452953c3d9",
      "metadata": {
        "id": "9da02396-b411-44a9-9cb1-de452953c3d9",
        "outputId": "cfb81c4b-b2f6-4584-edd7-c0a0a8812e35",
        "colab": {
          "base_uri": "https://localhost:8080/"
        }
      },
      "outputs": [
        {
          "output_type": "stream",
          "name": "stdout",
          "text": [
            "<class 'module'>\n",
            "\n",
            "LocalDagRunner                          experimental                            metadata                                ----------------------------------------\n",
            "<module 'tfx.v1.orchestration' from '/usr/local/lib/python3.7/dist-packages/tfx/v1/orchestration/__init__.py'>\n"
          ]
        }
      ],
      "source": [
        "dir_ex(tfx.orchestration)\n",
        "HR()\n",
        "\n",
        "# Remember that this is actually `tfx.v1.orchestration`\n",
        "print(tfx.orchestration)\n",
        "\n",
        "# Added to later TFX version\n",
        "# print(tfx.orchestration.experimental.KubeflowDagRunner)\n",
        "# print(tfx.orchestration.experimental.KubeflowV2DagRunner)"
      ]
    },
    {
      "cell_type": "markdown",
      "id": "8e10a3fa-54bb-4d14-b430-b21b6684aa57",
      "metadata": {
        "id": "8e10a3fa-54bb-4d14-b430-b21b6684aa57"
      },
      "source": [
        "---\n",
        "The orchestration runners now available via this v1 alias are now \n",
        "organized in the tfx.orchestration module.\n",
        "The actual pathway is now `tfx.v1.orchestration`\n",
        "\n",
        "https://github.com/tensorflow/tfx/tree/master/tfx/v1/orchestration"
      ]
    },
    {
      "cell_type": "code",
      "execution_count": 19,
      "id": "c3a001dc-6f72-4cde-9cad-9790a6aa07d9",
      "metadata": {
        "id": "c3a001dc-6f72-4cde-9cad-9790a6aa07d9",
        "outputId": "72d0fc3b-0612-4e99-980a-83b06f44b5eb",
        "colab": {
          "base_uri": "https://localhost:8080/"
        }
      },
      "outputs": [
        {
          "output_type": "stream",
          "name": "stdout",
          "text": [
            "<class 'tfx.orchestration.local.local_dag_runner.LocalDagRunner'>\n"
          ]
        }
      ],
      "source": [
        "# LocalDagRunner\n",
        "# Declared in https://github.com/tensorflow/tfx/blob/master/tfx/v1/orchestration/__init__.py\n",
        "print((tfx.orchestration.LocalDagRunner))\n",
        "\n",
        "# Added to later TFX version\n",
        "\n",
        "# KubeflowDagRunner, added in TFX version: +1.9.2\n",
        "# Declared in https://github.com/tensorflow/tfx/blob/master/tfx/v1/orchestration/experimental/__init__.py\n",
        "# print(tfx.orchestration.experimental.KubeflowDagRunner)\n",
        "\n",
        "# KubeflowV2DagRunner, added in TFX version: +1.9.2\n",
        "# Declared in https://github.com/tensorflow/tfx/blob/master/tfx/v1/orchestration/experimental/__init__.py\n",
        "# print(tfx.orchestration.experimental.KubeflowV2DagRunner)"
      ]
    },
    {
      "cell_type": "code",
      "execution_count": 15,
      "id": "4049bc56-2af5-4942-b81a-ee268355a80c",
      "metadata": {
        "id": "4049bc56-2af5-4942-b81a-ee268355a80c",
        "outputId": "55d70e6a-33b0-4b67-8159-20caf09992eb",
        "colab": {
          "base_uri": "https://localhost:8080/"
        }
      },
      "outputs": [
        {
          "output_type": "stream",
          "name": "stdout",
          "text": [
            "Error1: module 'tfx.v1.orchestration' has no attribute 'beam'\n"
          ]
        }
      ],
      "source": [
        "# However, there are some orchestration runners not defined here anymore, \n",
        "# mainly BeamDagRunner\n",
        "\n",
        "try:\n",
        "    print(tfx.orchestration.beam.beam_dag_runner.BeamDagRunner)\n",
        "except Exception as e:\n",
        "    print(f\"Error1: {e}\")"
      ]
    },
    {
      "cell_type": "code",
      "execution_count": 16,
      "id": "0c02114a-a8cc-403f-9ec9-dbf90ece1a76",
      "metadata": {
        "id": "0c02114a-a8cc-403f-9ec9-dbf90ece1a76",
        "outputId": "100174ab-92ff-4cc0-f379-f0f647b53542",
        "colab": {
          "base_uri": "https://localhost:8080/"
        }
      },
      "outputs": [
        {
          "output_type": "stream",
          "name": "stdout",
          "text": [
            "<class 'tfx.orchestration.beam.beam_dag_runner.BeamDagRunner'>\n"
          ]
        }
      ],
      "source": [
        "# Because the directory setup, we can import BeamDagRunner\n",
        "from tfx.orchestration.beam.beam_dag_runner import BeamDagRunner\n",
        "print(BeamDagRunner)"
      ]
    },
    {
      "cell_type": "markdown",
      "id": "24d612cd-1899-4d60-b7d9-e6365cdf8f0d",
      "metadata": {
        "id": "24d612cd-1899-4d60-b7d9-e6365cdf8f0d"
      },
      "source": [
        "---\n",
        "We can check the other orchestration runners previously defined in\n",
        "https://github.com/tensorflow/tfx/tree/master/tfx/orchestration\n",
        "and make them still available by directly importing them.\n",
        "\n",
        "In this case, we see that AirflowDagRunner is still unavailable."
      ]
    },
    {
      "cell_type": "code",
      "execution_count": 17,
      "id": "a1579761-14b5-4658-a85c-a77b194b2b85",
      "metadata": {
        "id": "a1579761-14b5-4658-a85c-a77b194b2b85",
        "outputId": "16290101-03e1-4ef5-ae8e-0e160bacc338",
        "colab": {
          "base_uri": "https://localhost:8080/"
        }
      },
      "outputs": [
        {
          "output_type": "stream",
          "name": "stdout",
          "text": [
            "Error: No module named 'airflow'\n"
          ]
        }
      ],
      "source": [
        "# https://github.com/tensorflow/tfx/blob/master/tfx/examples/airflow_workshop/setup/dags/taxi_pipeline.py\n",
        "\n",
        "try:\n",
        "    from tfx.orchestration.airflow.airflow_dag_runner import AirflowDagRunner\n",
        "except Exception as e:\n",
        "    print(f\"Error: {e}\")\n",
        "    "
      ]
    },
    {
      "cell_type": "markdown",
      "source": [
        "# Note:\n",
        "\n",
        "`tfx.orchestration.experimental.KubeflowDagRunner` and `tfx.orchestration.experimental.KubeflowV2DagRunner` seem to be added during or after TFX 1.9.2, hence we cannot test in the Colab TFX version (1.9.1)\n",
        "\n"
      ],
      "metadata": {
        "id": "6F9j2l_uI9ex"
      },
      "id": "6F9j2l_uI9ex"
    },
    {
      "cell_type": "code",
      "source": [
        ""
      ],
      "metadata": {
        "id": "sxAVx4S9JxrZ"
      },
      "id": "sxAVx4S9JxrZ",
      "execution_count": null,
      "outputs": []
    }
  ],
  "metadata": {
    "kernelspec": {
      "display_name": "Python 3 (ipykernel)",
      "language": "python",
      "name": "python3"
    },
    "language_info": {
      "codemirror_mode": {
        "name": "ipython",
        "version": 3
      },
      "file_extension": ".py",
      "mimetype": "text/x-python",
      "name": "python",
      "nbconvert_exporter": "python",
      "pygments_lexer": "ipython3",
      "version": "3.8.12"
    },
    "colab": {
      "provenance": [],
      "name": "Copy of orchestrators.ipynb",
      "collapsed_sections": []
    }
  },
  "nbformat": 4,
  "nbformat_minor": 5
}