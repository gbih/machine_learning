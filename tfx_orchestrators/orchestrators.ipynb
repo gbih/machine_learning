{
 "cells": [
  {
   "cell_type": "markdown",
   "id": "e271949d-bb9e-40db-9ac0-23be08236cc0",
   "metadata": {},
   "source": [
    "# Importing TFX Orchestrators in tfx.v1 namespace\n",
    "\n",
    "TFX supports multiple orchestrators to run pipelines. However, there is a subtle change in what orchestrators we can import when we use `Module: tfx.v1` (public modules for TFX).\n",
    "\n",
    "Raised an issue on the TFX GitHub repo,  [tfx.v1 / AirflowDagRunner now inaccessible #5145](https://github.com/tensorflow/tfx/issues/5145)\n",
    "\n",
    "\n",
    "---\n",
    "\n",
    "Reference:\n",
    "* https://github.com/tensorflow/tfx/tree/master/tfx/v1\n",
    "* https://www.tensorflow.org/tfx/tutorials/tfx/penguin_simple\n",
    "* https://www.tensorflow.org/tfx/api_docs/python/tfx/v1/orchestration/LocalDagRunner"
   ]
  },
  {
   "cell_type": "code",
   "execution_count": 2,
   "id": "6595f768-e7c7-4f62-96d1-5661dddc2d00",
   "metadata": {},
   "outputs": [],
   "source": [
    "def HR():\n",
    "    print(\"-\"*40)\n",
    "    \n",
    "def dir_ex(obj):\n",
    "    result = [x for x in dir(obj) if not x.startswith('_')]\n",
    "    print(type(obj))\n",
    "    print()\n",
    "    for x in result:\n",
    "        print(f'{x:<40}', end=\"\")"
   ]
  },
  {
   "cell_type": "markdown",
   "id": "1136c438-92a1-4254-8f76-e217d7013f56",
   "metadata": {},
   "source": [
    "---\n"
   ]
  },
  {
   "cell_type": "code",
   "execution_count": 3,
   "id": "98351b72-33bc-4e31-9828-396adb511b33",
   "metadata": {},
   "outputs": [
    {
     "name": "stdout",
     "output_type": "stream",
     "text": [
      "TFX version: 1.8.0\n",
      "<class 'module'>\n",
      "\n",
      "components                              dsl                                     extensions                              orchestration                           proto                                   types                                   utils                                   "
     ]
    }
   ],
   "source": [
    "# Giving an alias to variable tfx\n",
    "from tfx import v1 as tfx\n",
    "print('TFX version: {}'.format(tfx.__version__))\n",
    "dir_ex(tfx)"
   ]
  },
  {
   "cell_type": "code",
   "execution_count": 4,
   "id": "8d4b97a3-1010-4a06-938f-b16caebfef37",
   "metadata": {},
   "outputs": [
    {
     "name": "stdout",
     "output_type": "stream",
     "text": [
      "<class 'tfx.orchestration.local.local_dag_runner.LocalDagRunner'>\n",
      "<class 'tfx.orchestration.kubeflow.kubeflow_dag_runner.KubeflowDagRunner'>\n",
      "<class 'tfx.orchestration.kubeflow.v2.kubeflow_v2_dag_runner.KubeflowV2DagRunner'>\n"
     ]
    }
   ],
   "source": [
    "print(tfx.orchestration.LocalDagRunner)\n",
    "print(tfx.orchestration.experimental.KubeflowDagRunner)\n",
    "print(tfx.orchestration.experimental.KubeflowV2DagRunner)"
   ]
  },
  {
   "cell_type": "code",
   "execution_count": 5,
   "id": "380ee7fe-619f-4c59-a48a-d636cb169d57",
   "metadata": {},
   "outputs": [
    {
     "data": {
      "text/plain": [
       "['/Users/gb/.pyenv/versions/3.8.12/lib/python3.8/site-packages/tfx/v1']"
      ]
     },
     "execution_count": 5,
     "metadata": {},
     "output_type": "execute_result"
    }
   ],
   "source": [
    "tfx.__path__"
   ]
  },
  {
   "cell_type": "markdown",
   "id": "f6f4225d-abcf-4307-b5d9-91af49452e74",
   "metadata": {},
   "source": [
    "---\n",
    "Using `from tfx import v1 as tfx` essentially limits us to the recently defined Public modules for TFX."
   ]
  },
  {
   "cell_type": "code",
   "execution_count": 9,
   "id": "9da02396-b411-44a9-9cb1-de452953c3d9",
   "metadata": {},
   "outputs": [
    {
     "name": "stdout",
     "output_type": "stream",
     "text": [
      "<class 'module'>\n",
      "\n",
      "LocalDagRunner                          experimental                            metadata                                ----------------------------------------\n",
      "<module 'tfx.v1.orchestration' from '/Users/gb/.pyenv/versions/3.8.12/lib/python3.8/site-packages/tfx/v1/orchestration/__init__.py'>\n"
     ]
    }
   ],
   "source": [
    "dir_ex(tfx.orchestration)\n",
    "HR()\n",
    "\n",
    "# Remember that this is actually `tfx.v1.orchestration`\n",
    "print(tfx.orchestration)"
   ]
  },
  {
   "cell_type": "markdown",
   "id": "8e10a3fa-54bb-4d14-b430-b21b6684aa57",
   "metadata": {},
   "source": [
    "---\n",
    "The orchestration runners now available via this v1 alias are now \n",
    "organized in the tfx.orchestration module.\n",
    "The actual pathway is now `tfx.v1.orchestration`\n",
    "\n",
    "https://github.com/tensorflow/tfx/tree/master/tfx/v1/orchestration"
   ]
  },
  {
   "cell_type": "code",
   "execution_count": 10,
   "id": "c3a001dc-6f72-4cde-9cad-9790a6aa07d9",
   "metadata": {},
   "outputs": [
    {
     "name": "stdout",
     "output_type": "stream",
     "text": [
      "<class 'tfx.orchestration.local.local_dag_runner.LocalDagRunner'>\n",
      "<class 'tfx.orchestration.kubeflow.kubeflow_dag_runner.KubeflowDagRunner'>\n",
      "<class 'tfx.orchestration.kubeflow.v2.kubeflow_v2_dag_runner.KubeflowV2DagRunner'>\n"
     ]
    }
   ],
   "source": [
    "# LocalDagRunner\n",
    "# Declared in https://github.com/tensorflow/tfx/blob/master/tfx/v1/orchestration/__init__.py\n",
    "print((tfx.orchestration.LocalDagRunner))\n",
    "\n",
    "# KubeflowDagRunner\n",
    "# Declared in https://github.com/tensorflow/tfx/blob/master/tfx/v1/orchestration/experimental/__init__.py\n",
    "print(tfx.orchestration.experimental.KubeflowDagRunner)\n",
    "\n",
    "# KubeflowV2DagRunner\n",
    "# Declared in https://github.com/tensorflow/tfx/blob/master/tfx/v1/orchestration/experimental/__init__.py\n",
    "print(tfx.orchestration.experimental.KubeflowV2DagRunner)"
   ]
  },
  {
   "cell_type": "code",
   "execution_count": 11,
   "id": "4049bc56-2af5-4942-b81a-ee268355a80c",
   "metadata": {},
   "outputs": [
    {
     "name": "stdout",
     "output_type": "stream",
     "text": [
      "Error1: module 'tfx.v1.orchestration' has no attribute 'beam'\n"
     ]
    }
   ],
   "source": [
    "# However, there are some orchestration runners not defined here anymore, \n",
    "# mainly BeamDagRunner\n",
    "\n",
    "try:\n",
    "    print(tfx.orchestration.beam.beam_dag_runner.BeamDagRunner)\n",
    "except Exception as e:\n",
    "    print(f\"Error1: {e}\")"
   ]
  },
  {
   "cell_type": "code",
   "execution_count": 14,
   "id": "0c02114a-a8cc-403f-9ec9-dbf90ece1a76",
   "metadata": {},
   "outputs": [
    {
     "name": "stdout",
     "output_type": "stream",
     "text": [
      "<class 'tfx.orchestration.beam.beam_dag_runner.BeamDagRunner'>\n"
     ]
    }
   ],
   "source": [
    "# Because the directory setup, we can import BeamDagRunner\n",
    "from tfx.orchestration.beam.beam_dag_runner import BeamDagRunner\n",
    "print(BeamDagRunner)"
   ]
  },
  {
   "cell_type": "markdown",
   "id": "24d612cd-1899-4d60-b7d9-e6365cdf8f0d",
   "metadata": {},
   "source": [
    "---\n",
    "We can check the other orchestration runners previously defined in\n",
    "https://github.com/tensorflow/tfx/tree/master/tfx/orchestration\n",
    "and make them still available by directly importing them.\n",
    "\n",
    "In this case, we see that AirflowDagRunner is still unavailable."
   ]
  },
  {
   "cell_type": "code",
   "execution_count": 16,
   "id": "a1579761-14b5-4658-a85c-a77b194b2b85",
   "metadata": {},
   "outputs": [
    {
     "name": "stdout",
     "output_type": "stream",
     "text": [
      "Error: No module named 'airflow'\n"
     ]
    }
   ],
   "source": [
    "# https://github.com/tensorflow/tfx/blob/master/tfx/examples/airflow_workshop/setup/dags/taxi_pipeline.py\n",
    "\n",
    "try:\n",
    "    from tfx.orchestration.airflow.airflow_dag_runner import AirflowDagRunner\n",
    "except Exception as e:\n",
    "    print(f\"Error: {e}\")\n",
    "    "
   ]
  }
 ],
 "metadata": {
  "kernelspec": {
   "display_name": "Python 3 (ipykernel)",
   "language": "python",
   "name": "python3"
  },
  "language_info": {
   "codemirror_mode": {
    "name": "ipython",
    "version": 3
   },
   "file_extension": ".py",
   "mimetype": "text/x-python",
   "name": "python",
   "nbconvert_exporter": "python",
   "pygments_lexer": "ipython3",
   "version": "3.8.12"
  }
 },
 "nbformat": 4,
 "nbformat_minor": 5
}
