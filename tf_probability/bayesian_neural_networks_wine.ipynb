{
 "cells": [
  {
   "cell_type": "markdown",
   "metadata": {},
   "source": [
    "# Probabilistic Bayesian Neural Networks"
   ]
  },
  {
   "cell_type": "markdown",
   "metadata": {},
   "source": [
    "<table align=\"left\">\n",
    "  <td>\n",
    "    <a \n",
    "    href=\"https://colab.research.google.com/github/gbih/machine_learning/blob/main/tf_probability/bayesian_neural_networks_wine.ipynb\" \n",
    "    target=\"_parent\"><img src=\"https://colab.research.google.com/assets/colab-badge.svg\" alt=\"Open In Colab\"/></a>\n",
    "  </td>\n",
    "</table>"
   ]
  },
  {
   "cell_type": "markdown",
   "metadata": {
    "id": "s5VmWp64TMnB"
   },
   "source": [
    "**Annotation Notes (2022/08/23 George Baptista george@omame.com)**\n",
    "\n",
    "This is an excellent notebook by Khalid Salama that compares the standard non-probabilistic NN model with a simple Bayesian NN, and ultimately a probabilistic Bayesian NN model.\n",
    "\n",
    "* Experiment 1: standard neural network\n",
    "* Experiment 2: Bayesian neural network (BNN)\n",
    "* Experiment 3: probabilistic Bayesian neural network\n",
    "\n",
    "The output of Experiment 1 (standard model) and Experiment 2 (BNN) are deterministic. This produces a point estimate as a prediction for a given example. \n",
    "\n",
    "The output of Experiment 3 is a probabilistic NN where the model outputs a probability distribution. Here, the model captures the aleatoric uncertainty as well, which is due to the irreducible noise in the data, or to the stochastic nature of the process generating the data.\n",
    "\n",
    "In Experiment 3, we model the output as an IndependentNormal distribution, with learnable mean and variance parameters. \n",
    "\n",
    "If the task was classification, we would use IndependentBernoulli with binary classes, and OneHotCategorical with multiple classes to model distribution of the model output.\n",
    "\n",
    "---\n",
    "\n",
    "**Author:** [Khalid Salama](https://www.linkedin.com/in/khalid-salama-24403144/)<br>\n",
    "**Date created:** 2021/01/15<br>\n",
    "**Last modified:** 2021/01/15<br>\n",
    "**Description:** Building probabilistic Bayesian neural network models with TensorFlow Probability."
   ]
  },
  {
   "cell_type": "markdown",
   "metadata": {
    "id": "hYXZr7isTMnD"
   },
   "source": [
    "## Introduction\n",
    "\n",
    "Taking a probabilistic approach to deep learning allows to account for *uncertainty*,\n",
    "so that models can assign less levels of confidence to incorrect predictions.\n",
    "Sources of uncertainty can be found in the data, due to measurement error or\n",
    "noise in the labels, or the model, due to insufficient data availability for\n",
    "the model to learn effectively.\n",
    "\n",
    "\n",
    "This example demonstrates how to build basic probabilistic Bayesian neural networks\n",
    "to account for these two types of uncertainty.\n",
    "We use [TensorFlow Probability](https://www.tensorflow.org/probability) library,\n",
    "which is compatible with Keras API.\n",
    "\n",
    "This example requires TensorFlow 2.3 or higher."
   ]
  },
  {
   "cell_type": "markdown",
   "metadata": {
    "id": "IoWFm5SsTMnF"
   },
   "source": [
    "## The dataset\n",
    "\n",
    "We use the [Wine Quality](https://archive.ics.uci.edu/ml/datasets/wine+quality)\n",
    "dataset, which is available in the [TensorFlow Datasets](https://www.tensorflow.org/datasets/catalog/wine_quality).\n",
    "We use the red wine subset, which contains 4,898 examples.\n",
    "The dataset has 11 numerical physicochemical features of the wine, and the task\n",
    "is to predict the wine quality, which is a score between 0 and 10.\n",
    "In this example, we treat this as a regression task."
   ]
  },
  {
   "cell_type": "markdown",
   "metadata": {
    "id": "VASx56HqTMnH"
   },
   "source": [
    "## Setup"
   ]
  },
  {
   "cell_type": "code",
   "execution_count": 1,
   "metadata": {
    "colab": {
     "base_uri": "https://localhost:8080/"
    },
    "id": "BFvowIvDri9r",
    "outputId": "fa10bff9-7d67-468b-e859-21d225d0160f"
   },
   "outputs": [
    {
     "name": "stdout",
     "output_type": "stream",
     "text": [
      "Running on Colab. Installing tensorflow-datasets and tensorflow_probability.\n"
     ]
    }
   ],
   "source": [
    "import sys\n",
    "\n",
    "IN_COLAB = 'google.colab' in sys.modules\n",
    "if IN_COLAB:\n",
    "    print(\"Running on Colab. Installing tensorflow-datasets and tensorflow_probability.\")\n",
    "    !pip install tensorflow-probability &> /dev/null\n",
    "    !pip tensorflow-datasets &> /dev/null\n",
    "else:\n",
    "    print(\"Running locally.\")"
   ]
  },
  {
   "cell_type": "code",
   "execution_count": 2,
   "metadata": {
    "id": "h2EuBHqTTMnI"
   },
   "outputs": [],
   "source": [
    "import numpy as np\n",
    "import tensorflow as tf\n",
    "from tensorflow import keras\n",
    "from tensorflow.keras import layers\n",
    "import tensorflow_datasets as tfds\n",
    "import tensorflow_probability as tfp"
   ]
  },
  {
   "cell_type": "code",
   "execution_count": 3,
   "metadata": {
    "id": "Hj-0a0nztXlM"
   },
   "outputs": [],
   "source": [
    "def HR():\n",
    "    print(\"-\"*50)"
   ]
  },
  {
   "cell_type": "markdown",
   "metadata": {
    "id": "H4D7h6amTMnJ"
   },
   "source": [
    "## Create training and evaluation datasets\n",
    "\n",
    "Here, we load the `wine_quality` dataset using `tfds.load()`, and we convert\n",
    "the target feature to float. Then, we shuffle the dataset and split it into\n",
    "training and test sets. We take the first `train_size` examples as the train\n",
    "split, and the rest as the test split."
   ]
  },
  {
   "cell_type": "code",
   "execution_count": 4,
   "metadata": {
    "id": "gzeAcxKCTMnR"
   },
   "outputs": [],
   "source": [
    "def get_train_and_test_splits(train_size, batch_size=1):\n",
    "    # We prefetch with a buffer the same size as the dataset because th dataset\n",
    "    # is very small and fits into memory.\n",
    "    dataset = (\n",
    "        tfds.load(name=\"wine_quality\", as_supervised=True, split=\"train\")\n",
    "        .map(lambda x, y: (x, tf.cast(y, tf.float32)))\n",
    "        .prefetch(buffer_size=dataset_size)\n",
    "        .cache()\n",
    "    )\n",
    "    # We shuffle with a buffer the same size as the dataset.\n",
    "    train_dataset = (\n",
    "        dataset.take(train_size).shuffle(buffer_size=train_size).batch(batch_size)\n",
    "    )\n",
    "    test_dataset = dataset.skip(train_size).batch(batch_size)\n",
    "\n",
    "    return train_dataset, test_dataset\n"
   ]
  },
  {
   "cell_type": "markdown",
   "metadata": {
    "id": "enL9xJ4vTMnS"
   },
   "source": [
    "## Compile, train, and evaluate the model"
   ]
  },
  {
   "cell_type": "code",
   "execution_count": 5,
   "metadata": {
    "id": "d6Z-6seSTMnT"
   },
   "outputs": [],
   "source": [
    "hidden_units = [8, 8]\n",
    "learning_rate = 0.001\n",
    "\n",
    "def run_experiment(model, loss, train_dataset, test_dataset):\n",
    "\n",
    "    model.compile(\n",
    "        optimizer=keras.optimizers.RMSprop(learning_rate=learning_rate),\n",
    "        loss=loss,\n",
    "        metrics=[keras.metrics.RootMeanSquaredError()],\n",
    "    )\n",
    "\n",
    "    print(\"Start training the model...\")\n",
    "    model.fit(\n",
    "        train_dataset, \n",
    "        epochs=num_epochs, \n",
    "        validation_data=test_dataset,\n",
    "        verbose=0, # turn on if need to debug\n",
    "    )\n",
    "    HR()\n",
    "    print(\"Model training finished.\")\n",
    "    _, rmse = model.evaluate(train_dataset, verbose=0)\n",
    "    print(f\"Train RMSE: {round(rmse, 3)}\")\n",
    "\n",
    "    print(\"Evaluating model performance...\")\n",
    "    _, rmse = model.evaluate(test_dataset, verbose=0)\n",
    "    print(f\"Test RMSE: {round(rmse, 3)}\")"
   ]
  },
  {
   "cell_type": "markdown",
   "metadata": {
    "id": "8nqRrg2bTMnU"
   },
   "source": [
    "## Create model inputs"
   ]
  },
  {
   "cell_type": "code",
   "execution_count": 6,
   "metadata": {
    "id": "zupqvkffTMnV"
   },
   "outputs": [],
   "source": [
    "FEATURE_NAMES = [\n",
    "    \"fixed acidity\",\n",
    "    \"volatile acidity\",\n",
    "    \"citric acid\",\n",
    "    \"residual sugar\",\n",
    "    \"chlorides\",\n",
    "    \"free sulfur dioxide\",\n",
    "    \"total sulfur dioxide\",\n",
    "    \"density\",\n",
    "    \"pH\",\n",
    "    \"sulphates\",\n",
    "    \"alcohol\",\n",
    "]\n",
    "\n",
    "def create_model_inputs():\n",
    "    inputs = {}\n",
    "    for feature_name in FEATURE_NAMES:\n",
    "        inputs[feature_name] = layers.Input(\n",
    "            name=feature_name, shape=(1,), dtype=tf.float32\n",
    "        )\n",
    "    return inputs"
   ]
  },
  {
   "cell_type": "markdown",
   "metadata": {
    "id": "eaQlUWhvTMnW"
   },
   "source": [
    "---\n",
    "## Experiment 1: standard neural network\n",
    "\n",
    "We create a standard deterministic neural network model as a baseline."
   ]
  },
  {
   "cell_type": "code",
   "execution_count": 7,
   "metadata": {
    "id": "Hwr7OZZlTMnW"
   },
   "outputs": [],
   "source": [
    "def create_baseline_model():\n",
    "    inputs = create_model_inputs()\n",
    "    input_values = [value for _, value in sorted(inputs.items())]\n",
    "    features = keras.layers.concatenate(input_values)\n",
    "    features = layers.BatchNormalization()(features)\n",
    "\n",
    "    # Create hidden layers with deterministic weights using the Dense layer.\n",
    "    for units in hidden_units:\n",
    "        features = layers.Dense(units, activation=\"sigmoid\")(features)\n",
    "    # The output is deterministic: a single point estimate.\n",
    "    outputs = layers.Dense(units=1)(features)\n",
    "\n",
    "    model = keras.Model(inputs=inputs, outputs=outputs)\n",
    "    return model"
   ]
  },
  {
   "cell_type": "markdown",
   "metadata": {
    "id": "inD02DZvTMnX"
   },
   "source": [
    "Let's split the wine dataset into training and test sets, with 85% and 15% of\n",
    "the examples, respectively."
   ]
  },
  {
   "cell_type": "code",
   "execution_count": 8,
   "metadata": {
    "id": "39SehgcMTMnX"
   },
   "outputs": [],
   "source": [
    "dataset_size = 4898\n",
    "batch_size = 256\n",
    "train_size = int(dataset_size * 0.85)\n",
    "train_dataset, test_dataset = get_train_and_test_splits(train_size, batch_size)"
   ]
  },
  {
   "cell_type": "markdown",
   "metadata": {
    "id": "zdv5v8zHTMnY"
   },
   "source": [
    "Now let's train the baseline model. We use the `MeanSquaredError`\n",
    "as the loss function."
   ]
  },
  {
   "cell_type": "code",
   "execution_count": 9,
   "metadata": {
    "colab": {
     "base_uri": "https://localhost:8080/"
    },
    "id": "JDwnHaAfTMnZ",
    "outputId": "e369ad96-187a-4425-8a63-e5c1a70ae416"
   },
   "outputs": [
    {
     "name": "stdout",
     "output_type": "stream",
     "text": [
      "Start training the model...\n",
      "--------------------------------------------------\n",
      "Model training finished.\n",
      "Train RMSE: 0.752\n",
      "Evaluating model performance...\n",
      "Test RMSE: 0.746\n"
     ]
    }
   ],
   "source": [
    "num_epochs = 100\n",
    "mse_loss = keras.losses.MeanSquaredError()\n",
    "baseline_model = create_baseline_model()\n",
    "run_experiment(baseline_model, mse_loss, train_dataset, test_dataset)"
   ]
  },
  {
   "cell_type": "markdown",
   "metadata": {
    "id": "o370JyhsTMnb"
   },
   "source": [
    "We take a sample from the test set use the model to obtain predictions for them.\n",
    "Note that since the baseline model is deterministic, we get a single a\n",
    "*point estimate* prediction for each test example, with no information about the\n",
    "uncertainty of the model nor the prediction."
   ]
  },
  {
   "cell_type": "code",
   "execution_count": 10,
   "metadata": {
    "colab": {
     "base_uri": "https://localhost:8080/"
    },
    "id": "7T-OV4s-TMnb",
    "outputId": "c19aabd9-0d35-4ebd-96b1-977238630f43"
   },
   "outputs": [
    {
     "name": "stdout",
     "output_type": "stream",
     "text": [
      "Predicted: 6.4 - Actual: 6.0\n",
      "Predicted: 6.2 - Actual: 7.0\n",
      "Predicted: 5.7 - Actual: 5.0\n",
      "Predicted: 6.4 - Actual: 7.0\n",
      "Predicted: 6.5 - Actual: 7.0\n",
      "Predicted: 5.8 - Actual: 5.0\n",
      "Predicted: 6.0 - Actual: 6.0\n",
      "Predicted: 6.6 - Actual: 7.0\n",
      "Predicted: 6.3 - Actual: 4.0\n",
      "Predicted: 5.5 - Actual: 6.0\n"
     ]
    }
   ],
   "source": [
    "sample = 10\n",
    "examples, targets = list(test_dataset.unbatch().shuffle(batch_size * 10).batch(sample))[\n",
    "    0\n",
    "]\n",
    "\n",
    "predicted = baseline_model(examples).numpy()\n",
    "for idx in range(sample):\n",
    "    print(f\"Predicted: {round(float(predicted[idx][0]), 1)} - Actual: {targets[idx]}\")"
   ]
  },
  {
   "cell_type": "markdown",
   "metadata": {
    "id": "zZPJJZCoTMnb"
   },
   "source": [
    "---\n",
    "## Experiment 2: Bayesian neural network (BNN)\n",
    "\n",
    "The object of the Bayesian approach for modeling neural networks is to capture\n",
    "the **epistemic uncertainty**, which is uncertainty about the model fitness,\n",
    "due to limited training data.\n",
    "\n",
    "The idea is that, instead of learning specific weight (and bias) *values* in the\n",
    "neural network, the Bayesian approach learns **weight distributions**, from which we can sample to produce an output for a given input,\n",
    "to encode weight uncertainty.\n",
    "\n",
    "Thus, we need to define **prior** and the **posterior distributions** of these weights,\n",
    "and the training process is to learn the parameters of these distributions."
   ]
  },
  {
   "cell_type": "code",
   "execution_count": 11,
   "metadata": {
    "id": "NG8AbCjsTMnb"
   },
   "outputs": [],
   "source": [
    "# Define the prior weight distribution as Normal of mean=0 and stddev=1.\n",
    "# Note that, in this example, the we prior distribution is not trainable,\n",
    "# as we fix its parameters.\n",
    "def prior(kernel_size, bias_size, dtype=None):\n",
    "    n = kernel_size + bias_size\n",
    "    prior_model = keras.Sequential(\n",
    "        [\n",
    "            tfp.layers.DistributionLambda(\n",
    "                lambda t: tfp.distributions.MultivariateNormalDiag(\n",
    "                    loc=tf.zeros(n), scale_diag=tf.ones(n)\n",
    "                )\n",
    "            )\n",
    "        ]\n",
    "    )\n",
    "    return prior_model\n",
    "\n",
    "# Define variational posterior weight distribution as multivariate Gaussian.\n",
    "# Note that the learnable parameters for this distribution are the means,\n",
    "# variances, and covariances.\n",
    "def posterior(kernel_size, bias_size, dtype=None):\n",
    "    n = kernel_size + bias_size\n",
    "    posterior_model = keras.Sequential(\n",
    "        [\n",
    "            tfp.layers.VariableLayer(\n",
    "                tfp.layers.MultivariateNormalTriL.params_size(n), dtype=dtype\n",
    "            ),\n",
    "            tfp.layers.MultivariateNormalTriL(n),\n",
    "        ]\n",
    "    )\n",
    "    return posterior_model"
   ]
  },
  {
   "cell_type": "markdown",
   "metadata": {
    "id": "8vyYH6NaTMnb"
   },
   "source": [
    "We use the `tfp.layers.DenseVariational` layer instead of the standard\n",
    "`keras.layers.Dense` layer in the neural network model."
   ]
  },
  {
   "cell_type": "code",
   "execution_count": 12,
   "metadata": {
    "id": "QD6zBm-LTMnc"
   },
   "outputs": [],
   "source": [
    "def create_bnn_model(train_size):\n",
    "    inputs = create_model_inputs()\n",
    "    features = keras.layers.concatenate(list(inputs.values()))\n",
    "    features = layers.BatchNormalization()(features)\n",
    "\n",
    "    # Create hidden layers with weight uncertainty using the DenseVariational layer.\n",
    "    for units in hidden_units:\n",
    "        features = tfp.layers.DenseVariational(\n",
    "            units=units,\n",
    "            make_prior_fn=prior,\n",
    "            make_posterior_fn=posterior,\n",
    "            kl_weight=1 / train_size,\n",
    "            activation=\"sigmoid\",\n",
    "        )(features)\n",
    "\n",
    "    # The output is deterministic: a single point estimate.\n",
    "    outputs = layers.Dense(units=1)(features)\n",
    "    model = keras.Model(inputs=inputs, outputs=outputs)\n",
    "    return model"
   ]
  },
  {
   "cell_type": "markdown",
   "metadata": {
    "id": "LxZAsCjMTMnd"
   },
   "source": [
    "The epistemic uncertainty can be reduced as we increase the size of the\n",
    "training data. That is, the more data the BNN model sees, the more it is certain\n",
    "about its estimates for the weights (distribution parameters).\n",
    "Let's test this behaviour by training the BNN model on a small subset of\n",
    "the training set, and then on the full training set, to compare the output variances."
   ]
  },
  {
   "cell_type": "markdown",
   "metadata": {
    "id": "aXajKqAATMnd"
   },
   "source": [
    "### Train BNN  with a small training subset."
   ]
  },
  {
   "cell_type": "code",
   "execution_count": 13,
   "metadata": {
    "colab": {
     "base_uri": "https://localhost:8080/"
    },
    "id": "-o4OCep2TMnd",
    "outputId": "b38b7f41-cdd0-42cb-ef8f-9aafb0eba620"
   },
   "outputs": [
    {
     "name": "stdout",
     "output_type": "stream",
     "text": [
      "Start training the model...\n",
      "--------------------------------------------------\n",
      "Model training finished.\n",
      "Train RMSE: 0.839\n",
      "Evaluating model performance...\n",
      "Test RMSE: 0.79\n"
     ]
    }
   ],
   "source": [
    "num_epochs = 500\n",
    "train_sample_size = int(train_size * 0.3)\n",
    "small_train_dataset = train_dataset.unbatch().take(train_sample_size).batch(batch_size)\n",
    "\n",
    "bnn_model_small = create_bnn_model(train_sample_size)\n",
    "run_experiment(bnn_model_small, mse_loss, small_train_dataset, test_dataset)"
   ]
  },
  {
   "cell_type": "markdown",
   "metadata": {
    "id": "Cp0h_88GTMne"
   },
   "source": [
    "Since we have trained a BNN model, the model produces a different output each time\n",
    "we call it with the same input, since each time a new set of weights are sampled\n",
    "from the distributions to construct the network and produce an output.\n",
    "\n",
    "The less certain the mode weights are, the more variability (wider range) we will\n",
    "see in the outputs of the same inputs."
   ]
  },
  {
   "cell_type": "code",
   "execution_count": 14,
   "metadata": {
    "colab": {
     "base_uri": "https://localhost:8080/"
    },
    "id": "i2Bhni6uTMne",
    "outputId": "daa4b529-980b-482e-ec5f-47fc040f3882"
   },
   "outputs": [
    {
     "name": "stdout",
     "output_type": "stream",
     "text": [
      "Predictions mean: 6.3, min: 6.06, max: 6.44, range: 0.39 - Actual: 6.0\n",
      "Predictions mean: 6.22, min: 5.72, max: 6.46, range: 0.74 - Actual: 7.0\n",
      "Predictions mean: 5.73, min: 5.07, max: 6.13, range: 1.05 - Actual: 5.0\n",
      "Predictions mean: 6.23, min: 5.78, max: 6.44, range: 0.65 - Actual: 7.0\n",
      "Predictions mean: 6.35, min: 5.97, max: 6.48, range: 0.5 - Actual: 7.0\n",
      "Predictions mean: 5.98, min: 5.26, max: 6.37, range: 1.11 - Actual: 5.0\n",
      "Predictions mean: 5.95, min: 5.31, max: 6.29, range: 0.98 - Actual: 6.0\n",
      "Predictions mean: 6.39, min: 6.13, max: 6.48, range: 0.36 - Actual: 7.0\n",
      "Predictions mean: 6.29, min: 5.88, max: 6.44, range: 0.57 - Actual: 4.0\n",
      "Predictions mean: 5.59, min: 4.88, max: 6.13, range: 1.25 - Actual: 6.0\n"
     ]
    }
   ],
   "source": [
    "def compute_predictions(model, iterations=100):\n",
    "    predicted = []\n",
    "    for _ in range(iterations):\n",
    "        predicted.append(model(examples).numpy())\n",
    "    predicted = np.concatenate(predicted, axis=1)\n",
    "\n",
    "    prediction_mean = np.mean(predicted, axis=1).tolist()\n",
    "    prediction_min = np.min(predicted, axis=1).tolist()\n",
    "    prediction_max = np.max(predicted, axis=1).tolist()\n",
    "    prediction_range = (np.max(predicted, axis=1) - np.min(predicted, axis=1)).tolist()\n",
    "\n",
    "    for idx in range(sample):\n",
    "        print(\n",
    "            f\"Predictions mean: {round(prediction_mean[idx], 2)}, \"\n",
    "            f\"min: {round(prediction_min[idx], 2)}, \"\n",
    "            f\"max: {round(prediction_max[idx], 2)}, \"\n",
    "            f\"range: {round(prediction_range[idx], 2)} - \"\n",
    "            f\"Actual: {targets[idx]}\"\n",
    "        )\n",
    "\n",
    "compute_predictions(bnn_model_small)"
   ]
  },
  {
   "cell_type": "markdown",
   "metadata": {
    "id": "65LOUzrnTMne"
   },
   "source": [
    "### Train BNN  with the whole training set."
   ]
  },
  {
   "cell_type": "code",
   "execution_count": 15,
   "metadata": {
    "colab": {
     "base_uri": "https://localhost:8080/"
    },
    "id": "04ZEa7dBTMnf",
    "outputId": "7c47d0bd-7547-4ee2-ed0e-96ff50787621"
   },
   "outputs": [
    {
     "name": "stdout",
     "output_type": "stream",
     "text": [
      "Start training the model...\n",
      "--------------------------------------------------\n",
      "Model training finished.\n",
      "Train RMSE: 0.765\n",
      "Evaluating model performance...\n",
      "Test RMSE: 0.777\n",
      "Predictions mean: 6.4, min: 6.15, max: 6.56, range: 0.41 - Actual: 6.0\n",
      "Predictions mean: 6.23, min: 5.84, max: 6.48, range: 0.64 - Actual: 7.0\n",
      "Predictions mean: 5.71, min: 5.31, max: 6.1, range: 0.78 - Actual: 5.0\n",
      "Predictions mean: 6.34, min: 6.01, max: 6.54, range: 0.53 - Actual: 7.0\n",
      "Predictions mean: 6.55, min: 6.36, max: 6.65, range: 0.29 - Actual: 7.0\n",
      "Predictions mean: 5.93, min: 5.5, max: 6.3, range: 0.8 - Actual: 5.0\n",
      "Predictions mean: 5.96, min: 5.58, max: 6.38, range: 0.81 - Actual: 6.0\n",
      "Predictions mean: 6.61, min: 6.43, max: 6.69, range: 0.26 - Actual: 7.0\n",
      "Predictions mean: 6.45, min: 6.18, max: 6.61, range: 0.43 - Actual: 4.0\n",
      "Predictions mean: 5.52, min: 5.19, max: 5.94, range: 0.75 - Actual: 6.0\n"
     ]
    }
   ],
   "source": [
    "num_epochs = 500\n",
    "bnn_model_full = create_bnn_model(train_size)\n",
    "run_experiment(bnn_model_full, mse_loss, train_dataset, test_dataset)\n",
    "\n",
    "compute_predictions(bnn_model_full)"
   ]
  },
  {
   "cell_type": "markdown",
   "metadata": {
    "id": "CGwbbXIoTMnf"
   },
   "source": [
    "Notice that the model trained with the full training dataset shows smaller range\n",
    "(uncertainty) in the prediction values for the same inputs, compared to the model\n",
    "trained with a subset of the training dataset."
   ]
  },
  {
   "cell_type": "markdown",
   "metadata": {
    "id": "oFxA6WqtTMnf"
   },
   "source": [
    "---\n",
    "## Experiment 3: probabilistic Bayesian neural network\n",
    "\n",
    "So far, the output of the standard and the Bayesian NN models that we built is\n",
    "**deterministic**, that is, produces a point estimate as a prediction for a given example.\n",
    "\n",
    "We can create a probabilistic NN by letting the model output a distribution.\n",
    "In this case, the model captures the **aleatoric uncertainty** as well,\n",
    "which is due to irreducible noise in the data, or to the stochastic nature of the\n",
    "process generating the data.\n",
    "\n",
    "In this example, we model the output as a `IndependentNormal` distribution,\n",
    "with learnable mean and variance parameters. \n",
    "\n",
    "If the task was classification,\n",
    "we would have used `IndependentBernoulli` with binary classes, and `OneHotCategorical`\n",
    "with multiple classes, to model distribution of the model output."
   ]
  },
  {
   "cell_type": "code",
   "execution_count": 16,
   "metadata": {
    "id": "hJXo1FiFTMng"
   },
   "outputs": [],
   "source": [
    "def create_probablistic_bnn_model(train_size):\n",
    "    inputs = create_model_inputs()\n",
    "    features = keras.layers.concatenate(list(inputs.values()))\n",
    "    features = layers.BatchNormalization()(features)\n",
    "\n",
    "    # Create hidden layers with weight uncertainty using the DenseVariational layer.\n",
    "    for units in hidden_units:\n",
    "        features = tfp.layers.DenseVariational(\n",
    "            units=units,\n",
    "            make_prior_fn=prior,\n",
    "            make_posterior_fn=posterior,\n",
    "            kl_weight=1 / train_size,\n",
    "            activation=\"sigmoid\",\n",
    "        )(features)\n",
    "\n",
    "    # Create a probabilisticå output (Normal distribution), and use the `Dense` layer\n",
    "    # to produce the parameters of the distribution.\n",
    "    # We set units=2 to learn both the mean and the variance of the Normal distribution.\n",
    "    distribution_params = layers.Dense(units=2)(features)\n",
    "    outputs = tfp.layers.IndependentNormal(1)(distribution_params)\n",
    "\n",
    "    model = keras.Model(inputs=inputs, outputs=outputs)\n",
    "    return model"
   ]
  },
  {
   "cell_type": "markdown",
   "metadata": {
    "id": "V-raVloNTMng"
   },
   "source": [
    "Since the output of the model is a distribution, rather than a point estimate,\n",
    "we use the [negative loglikelihood](https://en.wikipedia.org/wiki/Likelihood_function)\n",
    "as our loss function to compute how likely to see the true data (targets) from the\n",
    "estimated distribution produced by the model."
   ]
  },
  {
   "cell_type": "code",
   "execution_count": 17,
   "metadata": {
    "colab": {
     "base_uri": "https://localhost:8080/"
    },
    "id": "3PolIXJcTMnh",
    "outputId": "4afb7957-0d03-4780-eb74-181244467a68"
   },
   "outputs": [
    {
     "name": "stdout",
     "output_type": "stream",
     "text": [
      "Start training the model...\n",
      "--------------------------------------------------\n",
      "Model training finished.\n",
      "Train RMSE: 1.06\n",
      "Evaluating model performance...\n",
      "Test RMSE: 1.055\n"
     ]
    }
   ],
   "source": [
    "def negative_loglikelihood(targets, estimated_distribution):\n",
    "    return -estimated_distribution.log_prob(targets)\n",
    "\n",
    "num_epochs = 1000\n",
    "prob_bnn_model = create_probablistic_bnn_model(train_size)\n",
    "run_experiment(prob_bnn_model, negative_loglikelihood, train_dataset, test_dataset)"
   ]
  },
  {
   "cell_type": "markdown",
   "metadata": {
    "id": "eVK6HuPpTMnh"
   },
   "source": [
    "Now let's produce an output from the model given the test examples.\n",
    "The output is now a distribution, and we can use its mean and variance\n",
    "to compute the confidence intervals (CI) of the prediction."
   ]
  },
  {
   "cell_type": "code",
   "execution_count": 18,
   "metadata": {
    "colab": {
     "base_uri": "https://localhost:8080/"
    },
    "id": "0iuGh5c1TMni",
    "outputId": "0e40ca9e-b197-4080-9803-e08f2cced203"
   },
   "outputs": [
    {
     "name": "stdout",
     "output_type": "stream",
     "text": [
      "Prediction mean: 6.47, stddev: 0.85, 95% CI: [8.13 - 4.8] - Actual: 6.0\n",
      "Prediction mean: 6.25, stddev: 0.83, 95% CI: [7.88 - 4.63] - Actual: 7.0\n",
      "Prediction mean: 5.9, stddev: 0.72, 95% CI: [7.31 - 4.49] - Actual: 5.0\n",
      "Prediction mean: 6.44, stddev: 0.84, 95% CI: [8.08 - 4.79] - Actual: 7.0\n",
      "Prediction mean: 6.6, stddev: 0.84, 95% CI: [8.24 - 4.95] - Actual: 7.0\n",
      "Prediction mean: 6.27, stddev: 0.8, 95% CI: [7.83 - 4.7] - Actual: 5.0\n",
      "Prediction mean: 6.17, stddev: 0.77, 95% CI: [7.67 - 4.66] - Actual: 6.0\n",
      "Prediction mean: 6.65, stddev: 0.84, 95% CI: [8.29 - 5.01] - Actual: 7.0\n",
      "Prediction mean: 6.45, stddev: 0.83, 95% CI: [8.09 - 4.82] - Actual: 4.0\n",
      "Prediction mean: 5.59, stddev: 0.69, 95% CI: [6.93 - 4.24] - Actual: 6.0\n"
     ]
    }
   ],
   "source": [
    "prediction_distribution = prob_bnn_model(examples)\n",
    "prediction_mean = prediction_distribution.mean().numpy().tolist()\n",
    "prediction_stdv = prediction_distribution.stddev().numpy()\n",
    "\n",
    "# The 95% CI is computed as mean ± (1.96 * stdv)\n",
    "upper = (prediction_mean + (1.96 * prediction_stdv)).tolist()\n",
    "lower = (prediction_mean - (1.96 * prediction_stdv)).tolist()\n",
    "prediction_stdv = prediction_stdv.tolist()\n",
    "\n",
    "for idx in range(sample):\n",
    "    print(\n",
    "        f\"Prediction mean: {round(prediction_mean[idx][0], 2)}, \"\n",
    "        f\"stddev: {round(prediction_stdv[idx][0], 2)}, \"\n",
    "        f\"95% CI: [{round(upper[idx][0], 2)} - {round(lower[idx][0], 2)}]\"\n",
    "        f\" - Actual: {targets[idx]}\"\n",
    "    )"
   ]
  }
 ],
 "metadata": {
  "colab": {
   "collapsed_sections": [],
   "name": "bayesian_neural_networks_wine.ipynb",
   "provenance": []
  },
  "kernelspec": {
   "display_name": "Python 3 (ipykernel)",
   "language": "python",
   "name": "python3"
  },
  "language_info": {
   "codemirror_mode": {
    "name": "ipython",
    "version": 3
   },
   "file_extension": ".py",
   "mimetype": "text/x-python",
   "name": "python",
   "nbconvert_exporter": "python",
   "pygments_lexer": "ipython3",
   "version": "3.8.12"
  }
 },
 "nbformat": 4,
 "nbformat_minor": 4
}
